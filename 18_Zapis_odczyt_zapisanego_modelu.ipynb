{
  "nbformat": 4,
  "nbformat_minor": 0,
  "metadata": {
    "colab": {
      "provenance": [],
      "authorship_tag": "ABX9TyNDrw/FBuGcKsK2GqsBp4Ur",
      "include_colab_link": true
    },
    "kernelspec": {
      "name": "python3",
      "display_name": "Python 3"
    },
    "language_info": {
      "name": "python"
    }
  },
  "cells": [
    {
      "cell_type": "markdown",
      "metadata": {
        "id": "view-in-github",
        "colab_type": "text"
      },
      "source": [
        "<a href=\"https://colab.research.google.com/github/kjedrzejczak/Wprowadzenie_do_sieci_neuronowych-Tensorflow_2.0-Keras/blob/main/18_Zapis_odczyt_zapisanego_modelu.ipynb\" target=\"_parent\"><img src=\"https://colab.research.google.com/assets/colab-badge.svg\" alt=\"Open In Colab\"/></a>"
      ]
    },
    {
      "cell_type": "code",
      "execution_count": null,
      "metadata": {
        "id": "Vnjn6mL0zz19"
      },
      "outputs": [],
      "source": [
        "import os\n",
        "import matplotlib.pyplot as plt\n",
        "import seaborn as sns\n",
        "\n",
        "import tensorflow as tf\n",
        "from tensorflow.keras.datasets import mnist\n",
        "from tensorflow.keras.models import Sequential\n",
        "from tensorflow.keras.layers import Dense, Dropout\n",
        "\n",
        "sns.set()"
      ]
    },
    {
      "cell_type": "code",
      "source": [
        "(train_images, train_labels), (test_images, test_labels) = mnist.load_data()"
      ],
      "metadata": {
        "id": "u6IEs-BP0NS8"
      },
      "execution_count": null,
      "outputs": []
    },
    {
      "cell_type": "code",
      "source": [
        "train_images.shape"
      ],
      "metadata": {
        "colab": {
          "base_uri": "https://localhost:8080/"
        },
        "id": "V2wSWa8Y0PMi",
        "outputId": "90902698-c6f3-4d82-bb85-d2313bf2fe84"
      },
      "execution_count": null,
      "outputs": [
        {
          "output_type": "execute_result",
          "data": {
            "text/plain": [
              "(60000, 28, 28)"
            ]
          },
          "metadata": {},
          "execution_count": 3
        }
      ]
    },
    {
      "cell_type": "code",
      "source": [
        "plt.imshow(train_images[0], cmap='gray_r')\n",
        "plt.grid(False)\n",
        "plt.axis(False)"
      ],
      "metadata": {
        "colab": {
          "base_uri": "https://localhost:8080/",
          "height": 423
        },
        "id": "eycP98Go0RCC",
        "outputId": "2c13776b-8205-40bb-901a-3a1087bf968a"
      },
      "execution_count": null,
      "outputs": [
        {
          "output_type": "execute_result",
          "data": {
            "text/plain": [
              "(-0.5, 27.5, 27.5, -0.5)"
            ]
          },
          "metadata": {},
          "execution_count": 4
        },
        {
          "output_type": "display_data",
          "data": {
            "text/plain": [
              "<Figure size 640x480 with 1 Axes>"
            ],
            "image/png": "[encoded data removed]"
          },
          "metadata": {}
        }
      ]
    },
    {
      "cell_type": "code",
      "source": [
        "train_labels[:10]"
      ],
      "metadata": {
        "colab": {
          "base_uri": "https://localhost:8080/"
        },
        "id": "9I7gX8wv0TPB",
        "outputId": "24e89b60-5596-440b-b23e-e1b76b0f9296"
      },
      "execution_count": null,
      "outputs": [
        {
          "output_type": "execute_result",
          "data": {
            "text/plain": [
              "array([5, 0, 4, 1, 9, 2, 1, 3, 1, 4], dtype=uint8)"
            ]
          },
          "metadata": {},
          "execution_count": 5
        }
      ]
    },
    {
      "cell_type": "code",
      "source": [
        "train_images = train_images[:1000].reshape(-1, 28 * 28) / 255.   # Reczne wypłaszczenie\n",
        "test_images = test_images[:1000].reshape(-1, 28 * 28) / 255.\n",
        "\n",
        "train_labels = train_labels[:1000]\n",
        "test_labels = test_labels[:1000]\n"
      ],
      "metadata": {
        "id": "6s2Y4RQ50Vbg"
      },
      "execution_count": null,
      "outputs": []
    },
    {
      "cell_type": "markdown",
      "source": [
        "# Model"
      ],
      "metadata": {
        "id": "Reucxy2o0WH6"
      }
    },
    {
      "cell_type": "code",
      "source": [
        "def create_model():\n",
        "    model = Sequential()\n",
        "    model.add(Dense(512, activation='relu', input_shape=(784,)))  # brak flaten poniewarz ręczne wypłaszczenie\n",
        "    model.add(Dropout(0.2))\n",
        "    model.add(Dense(10, activation='softmax'))\n",
        "\n",
        "    model.compile(optimizer='adam',\n",
        "                  loss='sparse_categorical_crossentropy',\n",
        "                  metrics=['accuracy'])\n",
        "    return model\n",
        "\n",
        "model = create_model()\n",
        "model.summary()"
      ],
      "metadata": {
        "colab": {
          "base_uri": "https://localhost:8080/"
        },
        "id": "tkd62BAx0Xsv",
        "outputId": "1306ef18-cf8f-4317-d0c3-581761aebcf2"
      },
      "execution_count": null,
      "outputs": [
        {
          "output_type": "stream",
          "name": "stdout",
          "text": [
            "Model: \"sequential\"\n",
            "_________________________________________________________________\n",
            " Layer (type)                Output Shape              Param #   \n",
            "=================================================================\n",
            " dense (Dense)               (None, 512)               401920    \n",
            "                                                                 \n",
            " dropout (Dropout)           (None, 512)               0         \n",
            "                                                                 \n",
            " dense_1 (Dense)             (None, 10)                5130      \n",
            "                                                                 \n",
            "=================================================================\n",
            "Total params: 407050 (1.55 MB)\n",
            "Trainable params: 407050 (1.55 MB)\n",
            "Non-trainable params: 0 (0.00 Byte)\n",
            "_________________________________________________________________\n"
          ]
        }
      ]
    },
    {
      "cell_type": "markdown",
      "source": [
        "# Zapisywanie"
      ],
      "metadata": {
        "id": "vcmJkKXQ0d65"
      }
    },
    {
      "cell_type": "code",
      "source": [],
      "metadata": {
        "id": "O-i_2oR82Ijy"
      },
      "execution_count": null,
      "outputs": []
    },
    {
      "cell_type": "code",
      "source": [
        "checkpoint_path = 'training/cp.ckpt'\n",
        "checkpoint_dir = os.path.dirname(checkpoint_path)"
      ],
      "metadata": {
        "id": "3l0mJsTq0heN"
      },
      "execution_count": null,
      "outputs": []
    },
    {
      "cell_type": "code",
      "source": [
        "from tensorflow.keras.callbacks import ModelCheckpoint\n",
        "\n",
        "cp_callback = ModelCheckpoint(filepath=checkpoint_path,\n",
        "                              save_weights_only=True,\n",
        "                              verbose=1)\n",
        "\n",
        "model.fit(train_images, train_labels, epochs=10, validation_data=(test_images, test_labels), callbacks=[cp_callback])"
      ],
      "metadata": {
        "colab": {
          "base_uri": "https://localhost:8080/"
        },
        "id": "RMEK9_SI0kSV",
        "outputId": "5c5556f8-a6a8-431c-f629-f06975cac842"
      },
      "execution_count": null,
      "outputs": [
        {
          "output_type": "stream",
          "name": "stdout",
          "text": [
            "Epoch 1/10\n",
            "31/32 [============================>.] - ETA: 0s - loss: 1.1378 - accuracy: 0.6683\n",
            "Epoch 1: saving model to training/cp.ckpt\n",
            "32/32 [==============================] - 4s 66ms/step - loss: 1.1330 - accuracy: 0.6690 - val_loss: 0.7369 - val_accuracy: 0.7530\n",
            "Epoch 2/10\n",
            "31/32 [============================>.] - ETA: 0s - loss: 0.4311 - accuracy: 0.8750\n",
            "Epoch 2: saving model to training/cp.ckpt\n",
            "32/32 [==============================] - 1s 26ms/step - loss: 0.4361 - accuracy: 0.8750 - val_loss: 0.5382 - val_accuracy: 0.8310\n",
            "Epoch 3/10\n",
            "32/32 [==============================] - ETA: 0s - loss: 0.2814 - accuracy: 0.9260\n",
            "Epoch 3: saving model to training/cp.ckpt\n",
            "32/32 [==============================] - 1s 28ms/step - loss: 0.2814 - accuracy: 0.9260 - val_loss: 0.4782 - val_accuracy: 0.8500\n",
            "Epoch 4/10\n",
            "28/32 [=========================>....] - ETA: 0s - loss: 0.1928 - accuracy: 0.9554\n",
            "Epoch 4: saving model to training/cp.ckpt\n",
            "32/32 [==============================] - 1s 21ms/step - loss: 0.2004 - accuracy: 0.9550 - val_loss: 0.4586 - val_accuracy: 0.8490\n",
            "Epoch 5/10\n",
            "32/32 [==============================] - ETA: 0s - loss: 0.1514 - accuracy: 0.9670\n",
            "Epoch 5: saving model to training/cp.ckpt\n",
            "32/32 [==============================] - 1s 29ms/step - loss: 0.1514 - accuracy: 0.9670 - val_loss: 0.4149 - val_accuracy: 0.8710\n",
            "Epoch 6/10\n",
            "30/32 [===========================>..] - ETA: 0s - loss: 0.1125 - accuracy: 0.9760\n",
            "Epoch 6: saving model to training/cp.ckpt\n",
            "32/32 [==============================] - 1s 20ms/step - loss: 0.1111 - accuracy: 0.9770 - val_loss: 0.4179 - val_accuracy: 0.8600\n",
            "Epoch 7/10\n",
            "28/32 [=========================>....] - ETA: 0s - loss: 0.0798 - accuracy: 0.9888\n",
            "Epoch 7: saving model to training/cp.ckpt\n",
            "32/32 [==============================] - 0s 11ms/step - loss: 0.0832 - accuracy: 0.9860 - val_loss: 0.4357 - val_accuracy: 0.8580\n",
            "Epoch 8/10\n",
            "25/32 [======================>.......] - ETA: 0s - loss: 0.0621 - accuracy: 0.9950\n",
            "Epoch 8: saving model to training/cp.ckpt\n",
            "32/32 [==============================] - 0s 10ms/step - loss: 0.0655 - accuracy: 0.9910 - val_loss: 0.4198 - val_accuracy: 0.8610\n",
            "Epoch 9/10\n",
            "30/32 [===========================>..] - ETA: 0s - loss: 0.0590 - accuracy: 0.9958\n",
            "Epoch 9: saving model to training/cp.ckpt\n",
            "32/32 [==============================] - 0s 11ms/step - loss: 0.0602 - accuracy: 0.9950 - val_loss: 0.3969 - val_accuracy: 0.8670\n",
            "Epoch 10/10\n",
            "28/32 [=========================>....] - ETA: 0s - loss: 0.0429 - accuracy: 0.9978\n",
            "Epoch 10: saving model to training/cp.ckpt\n",
            "32/32 [==============================] - 0s 10ms/step - loss: 0.0407 - accuracy: 0.9980 - val_loss: 0.4163 - val_accuracy: 0.8660\n"
          ]
        },
        {
          "output_type": "execute_result",
          "data": {
            "text/plain": [
              "<keras.src.callbacks.History at 0x7e21bdcc7f40>"
            ]
          },
          "metadata": {},
          "execution_count": 9
        }
      ]
    },
    {
      "cell_type": "code",
      "source": [
        "ls -l {checkpoint_dir}"
      ],
      "metadata": {
        "colab": {
          "base_uri": "https://localhost:8080/"
        },
        "id": "H2LsHrxY0maL",
        "outputId": "c72118b2-ba65-4e5b-9f5c-13a723910ab0"
      },
      "execution_count": null,
      "outputs": [
        {
          "output_type": "stream",
          "name": "stdout",
          "text": [
            "total 4780\n",
            "-rw-r--r-- 1 root root      71 Jun 24 15:26 checkpoint\n",
            "-rw-r--r-- 1 root root 4886436 Jun 24 15:26 cp.ckpt.data-00000-of-00001\n",
            "-rw-r--r-- 1 root root     978 Jun 24 15:26 cp.ckpt.index\n"
          ]
        }
      ]
    },
    {
      "cell_type": "markdown",
      "source": [
        "Odczyt - ładowanie modelu"
      ],
      "metadata": {
        "id": "at3C1CY40pG7"
      }
    },
    {
      "cell_type": "code",
      "source": [
        "model = create_model()\n",
        "\n",
        "loss, acc = model.evaluate(test_images, test_labels, verbose=2)\n",
        "print(acc)"
      ],
      "metadata": {
        "colab": {
          "base_uri": "https://localhost:8080/"
        },
        "id": "0yuRgCZF0s8M",
        "outputId": "b0a63df5-9058-4993-93ff-6044231ae01f"
      },
      "execution_count": null,
      "outputs": [
        {
          "output_type": "stream",
          "name": "stdout",
          "text": [
            "32/32 - 0s - loss: 2.3811 - accuracy: 0.0630 - 310ms/epoch - 10ms/step\n",
            "0.06300000101327896\n"
          ]
        }
      ]
    },
    {
      "cell_type": "code",
      "source": [
        "\n",
        "model.load_weights(checkpoint_path)\n",
        "\n",
        "loss, acc = model.evaluate(test_images, test_labels, verbose=2)\n",
        "print(acc)"
      ],
      "metadata": {
        "colab": {
          "base_uri": "https://localhost:8080/"
        },
        "id": "6-8rXidN0v4r",
        "outputId": "006fa079-d225-493f-f82d-759f44d3dc4c"
      },
      "execution_count": null,
      "outputs": [
        {
          "output_type": "stream",
          "name": "stdout",
          "text": [
            "32/32 - 0s - loss: 0.4163 - accuracy: 0.8660 - 79ms/epoch - 2ms/step\n",
            "0.8659999966621399\n"
          ]
        }
      ]
    },
    {
      "cell_type": "markdown",
      "source": [
        "# Dodatkowe opcje"
      ],
      "metadata": {
        "id": "9jp4dCLU0yt1"
      }
    },
    {
      "cell_type": "code",
      "source": [
        "!rm -rf ./training"
      ],
      "metadata": {
        "id": "zEsEtVyQ02gT"
      },
      "execution_count": null,
      "outputs": []
    },
    {
      "cell_type": "code",
      "source": [
        "checkpoint_path = 'training/cp-{epoch:04d}.ckpt'\n",
        "checkpoint_dir = os.path.dirname(checkpoint_path)\n",
        "\n",
        "cp_callback = ModelCheckpoint(filepath=checkpoint_path,\n",
        "                              save_weights_only=True,\n",
        "                              period=5,\n",
        "                              verbose=1)\n",
        "\n",
        "model = create_model()\n",
        "model.save_weights(checkpoint_path.format(epoch=0))\n",
        "\n",
        "model.fit(train_images, train_labels, epochs=50, validation_data=(test_images, test_labels), callbacks=[cp_callback], verbose=0)"
      ],
      "metadata": {
        "colab": {
          "base_uri": "https://localhost:8080/"
        },
        "id": "Ji9lwHdZ06Eb",
        "outputId": "e13d1b1a-f288-492f-c187-19af4e427c54"
      },
      "execution_count": null,
      "outputs": [
        {
          "output_type": "stream",
          "name": "stderr",
          "text": [
            "WARNING:tensorflow:`period` argument is deprecated. Please use `save_freq` to specify the frequency in number of batches seen.\n"
          ]
        },
        {
          "output_type": "stream",
          "name": "stdout",
          "text": [
            "\n",
            "Epoch 5: saving model to training/cp-0005.ckpt\n",
            "\n",
            "Epoch 10: saving model to training/cp-0010.ckpt\n",
            "\n",
            "Epoch 15: saving model to training/cp-0015.ckpt\n",
            "\n",
            "Epoch 20: saving model to training/cp-0020.ckpt\n",
            "\n",
            "Epoch 25: saving model to training/cp-0025.ckpt\n",
            "\n",
            "Epoch 30: saving model to training/cp-0030.ckpt\n",
            "\n",
            "Epoch 35: saving model to training/cp-0035.ckpt\n",
            "\n",
            "Epoch 40: saving model to training/cp-0040.ckpt\n",
            "\n",
            "Epoch 45: saving model to training/cp-0045.ckpt\n",
            "\n",
            "Epoch 50: saving model to training/cp-0050.ckpt\n"
          ]
        },
        {
          "output_type": "execute_result",
          "data": {
            "text/plain": [
              "<keras.src.callbacks.History at 0x7e21bda63160>"
            ]
          },
          "metadata": {},
          "execution_count": 14
        }
      ]
    },
    {
      "cell_type": "code",
      "source": [
        "!ls -l ./training"
      ],
      "metadata": {
        "colab": {
          "base_uri": "https://localhost:8080/"
        },
        "id": "QzsCOJVG08cI",
        "outputId": "ee58329b-c51c-4305-ee93-37b4380a7db6"
      },
      "execution_count": null,
      "outputs": [
        {
          "output_type": "stream",
          "name": "stdout",
          "text": [
            "total 49360\n",
            "-rw-r--r-- 1 root root      81 Jun 24 15:26 checkpoint\n",
            "-rw-r--r-- 1 root root 1629023 Jun 24 15:26 cp-0000.ckpt.data-00000-of-00001\n",
            "-rw-r--r-- 1 root root     526 Jun 24 15:26 cp-0000.ckpt.index\n",
            "-rw-r--r-- 1 root root 4886448 Jun 24 15:26 cp-0005.ckpt.data-00000-of-00001\n",
            "-rw-r--r-- 1 root root     978 Jun 24 15:26 cp-0005.ckpt.index\n",
            "-rw-r--r-- 1 root root 4886448 Jun 24 15:26 cp-0010.ckpt.data-00000-of-00001\n",
            "-rw-r--r-- 1 root root     978 Jun 24 15:26 cp-0010.ckpt.index\n",
            "-rw-r--r-- 1 root root 4886448 Jun 24 15:26 cp-0015.ckpt.data-00000-of-00001\n",
            "-rw-r--r-- 1 root root     978 Jun 24 15:26 cp-0015.ckpt.index\n",
            "-rw-r--r-- 1 root root 4886448 Jun 24 15:26 cp-0020.ckpt.data-00000-of-00001\n",
            "-rw-r--r-- 1 root root     978 Jun 24 15:26 cp-0020.ckpt.index\n",
            "-rw-r--r-- 1 root root 4886448 Jun 24 15:26 cp-0025.ckpt.data-00000-of-00001\n",
            "-rw-r--r-- 1 root root     978 Jun 24 15:26 cp-0025.ckpt.index\n",
            "-rw-r--r-- 1 root root 4886448 Jun 24 15:26 cp-0030.ckpt.data-00000-of-00001\n",
            "-rw-r--r-- 1 root root     978 Jun 24 15:26 cp-0030.ckpt.index\n",
            "-rw-r--r-- 1 root root 4886448 Jun 24 15:26 cp-0035.ckpt.data-00000-of-00001\n",
            "-rw-r--r-- 1 root root     978 Jun 24 15:26 cp-0035.ckpt.index\n",
            "-rw-r--r-- 1 root root 4886448 Jun 24 15:26 cp-0040.ckpt.data-00000-of-00001\n",
            "-rw-r--r-- 1 root root     978 Jun 24 15:26 cp-0040.ckpt.index\n",
            "-rw-r--r-- 1 root root 4886448 Jun 24 15:26 cp-0045.ckpt.data-00000-of-00001\n",
            "-rw-r--r-- 1 root root     978 Jun 24 15:26 cp-0045.ckpt.index\n",
            "-rw-r--r-- 1 root root 4886448 Jun 24 15:26 cp-0050.ckpt.data-00000-of-00001\n",
            "-rw-r--r-- 1 root root     978 Jun 24 15:26 cp-0050.ckpt.index\n"
          ]
        }
      ]
    },
    {
      "cell_type": "code",
      "source": [
        "import tensorflow as tf\n",
        "\n",
        "latest = tf.train.latest_checkpoint(checkpoint_dir)\n",
        "latest"
      ],
      "metadata": {
        "colab": {
          "base_uri": "https://localhost:8080/",
          "height": 35
        },
        "id": "mafNBMpn0_X_",
        "outputId": "321bdb80-f1a0-4571-df51-7a3ae1a996f5"
      },
      "execution_count": null,
      "outputs": [
        {
          "output_type": "execute_result",
          "data": {
            "text/plain": [
              "'training/cp-0050.ckpt'"
            ],
            "application/vnd.google.colaboratory.intrinsic+json": {
              "type": "string"
            }
          },
          "metadata": {},
          "execution_count": 16
        }
      ]
    },
    {
      "cell_type": "code",
      "source": [
        "model = create_model()\n",
        "model.load_weights(latest)\n",
        "\n",
        "loss, acc = model.evaluate(test_images, test_labels, verbose=2)\n",
        "print(acc)"
      ],
      "metadata": {
        "colab": {
          "base_uri": "https://localhost:8080/"
        },
        "id": "gqxs0rpR1BJm",
        "outputId": "f60cf9c6-ce47-4c82-d0c3-7beadb4970fa"
      },
      "execution_count": null,
      "outputs": [
        {
          "output_type": "stream",
          "name": "stdout",
          "text": [
            "32/32 - 0s - loss: 0.4932 - accuracy: 0.8720 - 278ms/epoch - 9ms/step\n",
            "0.871999979019165\n"
          ]
        }
      ]
    },
    {
      "cell_type": "markdown",
      "source": [
        "# Ręczny zapis wag"
      ],
      "metadata": {
        "id": "hQuYlrZ41CkP"
      }
    },
    {
      "cell_type": "code",
      "source": [
        "model.save_weights('./checkpoints/my_checkpoint')\n",
        "\n",
        "model = create_model()\n",
        "\n",
        "model.load_weights('./checkpoints/my_checkpoint')\n",
        "\n",
        "loss, acc = model.evaluate(test_images, test_labels, verbose=2)\n",
        "print(acc)"
      ],
      "metadata": {
        "colab": {
          "base_uri": "https://localhost:8080/"
        },
        "id": "Pbje763A1FEN",
        "outputId": "7190e439-d257-4690-91e4-0780a6473c52"
      },
      "execution_count": null,
      "outputs": [
        {
          "output_type": "stream",
          "name": "stdout",
          "text": [
            "32/32 - 0s - loss: 0.4932 - accuracy: 0.8720 - 406ms/epoch - 13ms/step\n",
            "0.871999979019165\n"
          ]
        }
      ]
    },
    {
      "cell_type": "code",
      "source": [
        "!ls -l checkpoints/"
      ],
      "metadata": {
        "colab": {
          "base_uri": "https://localhost:8080/"
        },
        "id": "IYHoQnRV1KYV",
        "outputId": "15e06ebf-ff24-4752-de97-5b33530612c8"
      },
      "execution_count": null,
      "outputs": [
        {
          "output_type": "stream",
          "name": "stdout",
          "text": [
            "total 1600\n",
            "-rw-r--r-- 1 root root      83 Jun 24 15:26 checkpoint\n",
            "-rw-r--r-- 1 root root 1629047 Jun 24 15:26 my_checkpoint.data-00000-of-00001\n",
            "-rw-r--r-- 1 root root     526 Jun 24 15:26 my_checkpoint.index\n"
          ]
        }
      ]
    },
    {
      "cell_type": "markdown",
      "source": [
        "# Zapisywanie całego modelu  👈👈👈👈👈👈👈👈👈👈\n",
        "\n",
        "*   Element listy\n",
        "*   Element listy\n",
        "\n"
      ],
      "metadata": {
        "id": "Shvum91z1OOe"
      }
    },
    {
      "cell_type": "code",
      "source": [
        "model = create_model()\n",
        "model.fit(train_images, train_labels, epochs=5)\n",
        "model.save('my_model.h5')  # 👈👈👈👈👈👈"
      ],
      "metadata": {
        "colab": {
          "base_uri": "https://localhost:8080/"
        },
        "id": "MW-NAPTW1QVR",
        "outputId": "dd28698f-83a8-4c7f-96e0-0e7fb39822cb"
      },
      "execution_count": null,
      "outputs": [
        {
          "output_type": "stream",
          "name": "stdout",
          "text": [
            "Epoch 1/5\n",
            "32/32 [==============================] - 1s 10ms/step - loss: 1.1436 - accuracy: 0.6790\n",
            "Epoch 2/5\n",
            "32/32 [==============================] - 0s 11ms/step - loss: 0.4070 - accuracy: 0.8870\n",
            "Epoch 3/5\n",
            "32/32 [==============================] - 0s 10ms/step - loss: 0.2908 - accuracy: 0.9130\n",
            "Epoch 4/5\n",
            "32/32 [==============================] - 0s 12ms/step - loss: 0.2005 - accuracy: 0.9560\n",
            "Epoch 5/5\n",
            "32/32 [==============================] - 0s 8ms/step - loss: 0.1464 - accuracy: 0.9630\n"
          ]
        },
        {
          "output_type": "stream",
          "name": "stderr",
          "text": [
            "/usr/local/lib/python3.10/dist-packages/keras/src/engine/training.py:3103: UserWarning: You are saving your model as an HDF5 file via `model.save()`. This file format is considered legacy. We recommend using instead the native Keras format, e.g. `model.save('my_model.keras')`.\n",
            "  saving_api.save_model(\n"
          ]
        }
      ]
    },
    {
      "cell_type": "code",
      "source": [
        "from tensorflow.keras.models import load_model\n",
        "\n",
        "new_model = load_model('my_model.h5') # 👈👈👈👈👈👈\n",
        "new_model.summary()"
      ],
      "metadata": {
        "colab": {
          "base_uri": "https://localhost:8080/"
        },
        "id": "zKy7ko611SWS",
        "outputId": "8aa1bbc9-b86e-48eb-a7f0-72ea9206ab8a"
      },
      "execution_count": null,
      "outputs": [
        {
          "output_type": "stream",
          "name": "stdout",
          "text": [
            "Model: \"sequential_5\"\n",
            "_________________________________________________________________\n",
            " Layer (type)                Output Shape              Param #   \n",
            "=================================================================\n",
            " dense_10 (Dense)            (None, 512)               401920    \n",
            "                                                                 \n",
            " dropout_5 (Dropout)         (None, 512)               0         \n",
            "                                                                 \n",
            " dense_11 (Dense)            (None, 10)                5130      \n",
            "                                                                 \n",
            "=================================================================\n",
            "Total params: 407050 (1.55 MB)\n",
            "Trainable params: 407050 (1.55 MB)\n",
            "Non-trainable params: 0 (0.00 Byte)\n",
            "_________________________________________________________________\n"
          ]
        }
      ]
    },
    {
      "cell_type": "code",
      "source": [
        "loss, acc = new_model.evaluate(test_images, test_labels, verbose=2)\n",
        "print(acc)"
      ],
      "metadata": {
        "colab": {
          "base_uri": "https://localhost:8080/"
        },
        "id": "JQEzC_4F1VE5",
        "outputId": "ebc506ec-a3e8-4163-bdcb-ce4c27dcee92"
      },
      "execution_count": null,
      "outputs": [
        {
          "output_type": "stream",
          "name": "stdout",
          "text": [
            "32/32 - 0s - loss: 0.4117 - accuracy: 0.8630 - 199ms/epoch - 6ms/step\n",
            "0.8629999756813049\n"
          ]
        }
      ]
    }
  ]
}