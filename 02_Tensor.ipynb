{
  "nbformat": 4,
  "nbformat_minor": 0,
  "metadata": {
    "colab": {
      "provenance": [],
      "authorship_tag": "ABX9TyMuMESUFt7LLP7bGjcwiul2",
      "include_colab_link": true
    },
    "kernelspec": {
      "name": "python3",
      "display_name": "Python 3"
    },
    "language_info": {
      "name": "python"
    }
  },
  "cells": [
    {
      "cell_type": "markdown",
      "metadata": {
        "id": "view-in-github",
        "colab_type": "text"
      },
      "source": [
        "<a href=\"https://colab.research.google.com/github/kjedrzejczak/Wprowadzenie_do_sieci_neuronowych-Tensorflow_2.0-Keras/blob/main/02_Tensor.ipynb\" target=\"_parent\"><img src=\"https://colab.research.google.com/assets/colab-badge.svg\" alt=\"Open In Colab\"/></a>"
      ]
    },
    {
      "cell_type": "markdown",
      "source": [
        "Skalar"
      ],
      "metadata": {
        "id": "TC-1qQzaHWlU"
      }
    },
    {
      "cell_type": "code",
      "execution_count": null,
      "metadata": {
        "id": "GdwqmgHxCTrY",
        "colab": {
          "base_uri": "https://localhost:8080/"
        },
        "outputId": "50e73b62-8bbe-4f2e-8a5e-ec39661c5ec4"
      },
      "outputs": [
        {
          "output_type": "stream",
          "name": "stdout",
          "text": [
            "3\n",
            "<class 'int'>\n"
          ]
        }
      ],
      "source": [
        "scalar = 3\n",
        "print(scalar)\n",
        "print(type(scalar))"
      ]
    },
    {
      "cell_type": "code",
      "source": [
        "scalar = 3.\n",
        "print(scalar)\n",
        "print(type(scalar))"
      ],
      "metadata": {
        "colab": {
          "base_uri": "https://localhost:8080/"
        },
        "id": "zxdeNRjdHhZm",
        "outputId": "df46eb2b-02da-4e4b-c267-5c3af105cc5e"
      },
      "execution_count": null,
      "outputs": [
        {
          "output_type": "stream",
          "name": "stdout",
          "text": [
            "3.0\n",
            "<class 'float'>\n"
          ]
        }
      ]
    },
    {
      "cell_type": "markdown",
      "source": [
        "Wektor"
      ],
      "metadata": {
        "id": "Ajx9EIQlHpSQ"
      }
    },
    {
      "cell_type": "code",
      "source": [
        "import numpy as np\n",
        "\n",
        "vector = np.array([2, 4, -6, 5])\n",
        "print(vector)\n",
        "print(type(vector))\n",
        "print(vector.shape)\n",
        "print(vector.dtype)\n",
        "print(vector.ndim)\n",
        "print(len(vector))"
      ],
      "metadata": {
        "colab": {
          "base_uri": "https://localhost:8080/"
        },
        "id": "8bM4fwc1HoUo",
        "outputId": "cf81672f-bec7-4794-f01d-fcbe1794b0bb"
      },
      "execution_count": null,
      "outputs": [
        {
          "output_type": "stream",
          "name": "stdout",
          "text": [
            "[ 2  4 -6  5]\n",
            "<class 'numpy.ndarray'>\n",
            "(4,)\n",
            "int64\n",
            "1\n",
            "4\n"
          ]
        }
      ]
    },
    {
      "cell_type": "code",
      "source": [
        "vector = np.array([[2, 4, -6, 5], dtype='float')\n",
        "print(vector)\n",
        "print(type(vector))\n",
        "print(vector.shape)\n",
        "print(vector.dtype)\n",
        "print(vector.ndim)\n",
        "print(len(vector))"
      ],
      "metadata": {
        "colab": {
          "base_uri": "https://localhost:8080/"
        },
        "id": "hHuECxrnIV0I",
        "outputId": "0fca7424-ee4d-40d4-b88b-85ecb783f31e"
      },
      "execution_count": null,
      "outputs": [
        {
          "output_type": "stream",
          "name": "stdout",
          "text": [
            "[ 2.  4. -6.  5.]\n",
            "<class 'numpy.ndarray'>\n",
            "(4,)\n",
            "float64\n",
            "1\n"
          ]
        }
      ]
    },
    {
      "cell_type": "code",
      "source": [
        "vector = np.array([[2, 4, -6, 5], [1, 2, 3, 4]], dtype='float')\n",
        "print(vector)\n",
        "print(type(vector))\n",
        "print(vector.shape)\n",
        "print(vector.dtype)\n",
        "print(vector.ndim)\n",
        "print(len(vector))"
      ],
      "metadata": {
        "colab": {
          "base_uri": "https://localhost:8080/"
        },
        "id": "L2ieJGr_Iu6s",
        "outputId": "11817979-72f2-4690-80ec-2172106d87b0"
      },
      "execution_count": null,
      "outputs": [
        {
          "output_type": "stream",
          "name": "stdout",
          "text": [
            "[[ 2.  4. -6.  5.]\n",
            " [ 1.  2.  3.  4.]]\n",
            "<class 'numpy.ndarray'>\n",
            "(2, 4)\n",
            "float64\n",
            "2\n",
            "2\n"
          ]
        }
      ]
    },
    {
      "cell_type": "markdown",
      "source": [
        "Tensor"
      ],
      "metadata": {
        "id": "3VnFr6HCJCZ2"
      }
    },
    {
      "cell_type": "code",
      "source": [
        "tensor = np.array([[[2, 4, -6, 5],\n",
        "                    [1, 2, 3, 4]],\n",
        "                  [[2, 4, -6, 5],\n",
        "                   [1, 2, 3, 4]]], dtype='float')\n",
        "print(tensor)\n",
        "print(type(tensor))\n",
        "print(tensor.shape)\n",
        "print(tensor.dtype)\n",
        "print(tensor.ndim)\n",
        "print(len(tensor))"
      ],
      "metadata": {
        "colab": {
          "base_uri": "https://localhost:8080/"
        },
        "id": "93TH0_eaJECu",
        "outputId": "bd0503f0-2762-4c58-bbed-4317d4f9960e"
      },
      "execution_count": null,
      "outputs": [
        {
          "output_type": "stream",
          "name": "stdout",
          "text": [
            "[[[ 2.  4. -6.  5.]\n",
            "  [ 1.  2.  3.  4.]]\n",
            "\n",
            " [[ 2.  4. -6.  5.]\n",
            "  [ 1.  2.  3.  4.]]]\n",
            "<class 'numpy.ndarray'>\n",
            "(2, 2, 4)\n",
            "float64\n",
            "3\n",
            "2\n"
          ]
        }
      ]
    },
    {
      "cell_type": "code",
      "source": [
        "tensor = np.array([[[2, 4, -6, 5],\n",
        "                    [1, 2, 3, 4]],\n",
        "                   [[2, 4, -6, 5],\n",
        "                   [1, 2, 3, 4]],\n",
        "                   [[2, 4, -6, 5],\n",
        "                    [1, 2, 3, 4]]], dtype='float')\n",
        "print(tensor)\n",
        "print(type(tensor))\n",
        "print(tensor.shape)\n",
        "print(tensor.dtype)\n",
        "print(tensor.ndim)\n",
        "print(len(tensor))"
      ],
      "metadata": {
        "colab": {
          "base_uri": "https://localhost:8080/"
        },
        "id": "Gl2XLq4EKBDT",
        "outputId": "fd9f212b-88ed-484d-df3d-63602a35586e"
      },
      "execution_count": null,
      "outputs": [
        {
          "output_type": "stream",
          "name": "stdout",
          "text": [
            "[[[ 2.  4. -6.  5.]\n",
            "  [ 1.  2.  3.  4.]]\n",
            "\n",
            " [[ 2.  4. -6.  5.]\n",
            "  [ 1.  2.  3.  4.]]\n",
            "\n",
            " [[ 2.  4. -6.  5.]\n",
            "  [ 1.  2.  3.  4.]]]\n",
            "<class 'numpy.ndarray'>\n",
            "(3, 2, 4)\n",
            "float64\n",
            "3\n",
            "3\n"
          ]
        }
      ]
    },
    {
      "cell_type": "code",
      "source": [
        "tensor[0]"
      ],
      "metadata": {
        "colab": {
          "base_uri": "https://localhost:8080/"
        },
        "id": "KTM6do7eLHXF",
        "outputId": "8fecd090-71d9-4142-943c-7dba8d17a587"
      },
      "execution_count": null,
      "outputs": [
        {
          "output_type": "execute_result",
          "data": {
            "text/plain": [
              "array([[ 2.,  4., -6.,  5.],\n",
              "       [ 1.,  2.,  3.,  4.]])"
            ]
          },
          "metadata": {},
          "execution_count": 15
        }
      ]
    }
  ]
}