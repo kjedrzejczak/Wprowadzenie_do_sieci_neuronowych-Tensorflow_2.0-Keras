{
  "nbformat": 4,
  "nbformat_minor": 0,
  "metadata": {
    "colab": {
      "provenance": [],
      "authorship_tag": "ABX9TyN94qwKrRm8MSI+riJnN4bI",
      "include_colab_link": true
    },
    "kernelspec": {
      "name": "python3",
      "display_name": "Python 3"
    },
    "language_info": {
      "name": "python"
    }
  },
  "cells": [
    {
      "cell_type": "markdown",
      "metadata": {
        "id": "view-in-github",
        "colab_type": "text"
      },
      "source": [
        "<a href=\"https://colab.research.google.com/github/kjedrzejczak/Wprowadzenie_do_sieci_neuronowych-Tensorflow_2.0-Keras/blob/main/Przeuczenie_niedouczenia_metody_regularyzacji_II_15.ipynb\" target=\"_parent\"><img src=\"https://colab.research.google.com/assets/colab-badge.svg\" alt=\"Open In Colab\"/></a>"
      ]
    },
    {
      "cell_type": "code",
      "execution_count": 1,
      "metadata": {
        "id": "0wbwqnXH-M9B"
      },
      "outputs": [],
      "source": [
        "import numpy as np\n",
        "import pandas as pd\n",
        "import matplotlib.pyplot as plt\n",
        "import seaborn as sns\n",
        "import pickle\n",
        "\n",
        "\n",
        "import tensorflow as tf\n",
        "from tensorflow.keras.datasets import imdb\n",
        "from tensorflow.keras.datasets.imdb import get_word_index\n",
        "from tensorflow.keras.utils import get_file\n",
        "from tensorflow.keras.models import Sequential\n",
        "from tensorflow.keras.layers import Dense\n",
        "\n",
        "\n",
        "sns.set()"
      ]
    },
    {
      "cell_type": "code",
      "source": [
        "NUM_WORDS = 10000   # 10000 najszęstrzych słów\n",
        "INDEX_FROM = 3\n",
        "\n",
        "(train_data, train_lables), (test_data, test_lables) = imdb.load_data(num_words=NUM_WORDS, index_from=INDEX_FROM)"
      ],
      "metadata": {
        "id": "w2XeX0D-_UvR"
      },
      "execution_count": 20,
      "outputs": []
    },
    {
      "cell_type": "code",
      "source": [
        "print(train_data.shape)\n",
        "print(train_lables.shape)\n",
        "print(test_data.shape)\n",
        "print(test_lables.shape)"
      ],
      "metadata": {
        "colab": {
          "base_uri": "https://localhost:8080/"
        },
        "id": "pIhEKnpfAFQ8",
        "outputId": "ba4c3f59-3bb0-4277-e66f-8690c0cf2a44"
      },
      "execution_count": 3,
      "outputs": [
        {
          "output_type": "stream",
          "name": "stdout",
          "text": [
            "(25000,)\n",
            "(25000,)\n",
            "(25000,)\n",
            "(25000,)\n"
          ]
        }
      ]
    },
    {
      "cell_type": "code",
      "source": [
        "train_lables[0]"
      ],
      "metadata": {
        "colab": {
          "base_uri": "https://localhost:8080/"
        },
        "id": "XxqMDSNcAbI5",
        "outputId": "0fba08b9-bc15-444f-d4f0-bdd2be9b46f9"
      },
      "execution_count": 4,
      "outputs": [
        {
          "output_type": "execute_result",
          "data": {
            "text/plain": [
              "1"
            ]
          },
          "metadata": {},
          "execution_count": 4
        }
      ]
    },
    {
      "cell_type": "code",
      "source": [
        "print(train_data[0])  # częstośc występowania słowa w recenzjach np. 14 - słowo wystąpiło na  14 miejscu w recenzjach"
      ],
      "metadata": {
        "colab": {
          "base_uri": "https://localhost:8080/"
        },
        "id": "eNedqFKVAsJB",
        "outputId": "694de9fe-b0f4-4e4a-daff-d43e412878b5"
      },
      "execution_count": 5,
      "outputs": [
        {
          "output_type": "stream",
          "name": "stdout",
          "text": [
            "[1, 14, 22, 16, 43, 530, 973, 1622, 1385, 65, 458, 4468, 66, 3941, 4, 173, 36, 256, 5, 25, 100, 43, 838, 112, 50, 670, 2, 9, 35, 480, 284, 5, 150, 4, 172, 112, 167, 2, 336, 385, 39, 4, 172, 4536, 1111, 17, 546, 38, 13, 447, 4, 192, 50, 16, 6, 147, 2025, 19, 14, 22, 4, 1920, 4613, 469, 4, 22, 71, 87, 12, 16, 43, 530, 38, 76, 15, 13, 1247, 4, 22, 17, 515, 17, 12, 16, 626, 18, 2, 5, 62, 386, 12, 8, 316, 8, 106, 5, 4, 2223, 5244, 16, 480, 66, 3785, 33, 4, 130, 12, 16, 38, 619, 5, 25, 124, 51, 36, 135, 48, 25, 1415, 33, 6, 22, 12, 215, 28, 77, 52, 5, 14, 407, 16, 82, 2, 8, 4, 107, 117, 5952, 15, 256, 4, 2, 7, 3766, 5, 723, 36, 71, 43, 530, 476, 26, 400, 317, 46, 7, 4, 2, 1029, 13, 104, 88, 4, 381, 15, 297, 98, 32, 2071, 56, 26, 141, 6, 194, 7486, 18, 4, 226, 22, 21, 134, 476, 26, 480, 5, 144, 30, 5535, 18, 51, 36, 28, 224, 92, 25, 104, 4, 226, 65, 16, 38, 1334, 88, 12, 16, 283, 5, 16, 4472, 113, 103, 32, 15, 16, 5345, 19, 178, 32]\n"
          ]
        }
      ]
    },
    {
      "cell_type": "code",
      "source": [
        "np.unique(train_lables)"
      ],
      "metadata": {
        "colab": {
          "base_uri": "https://localhost:8080/"
        },
        "id": "qzZd-923AjPL",
        "outputId": "3790403d-4162-4845-be04-ed8d7a18a593"
      },
      "execution_count": 6,
      "outputs": [
        {
          "output_type": "execute_result",
          "data": {
            "text/plain": [
              "array([0, 1])"
            ]
          },
          "metadata": {},
          "execution_count": 6
        }
      ]
    },
    {
      "cell_type": "code",
      "source": [
        "# tłumaczenie słów na tekst przy pomocy funkcji get_word_index()\n",
        "word_to_idx = get_word_index()\n",
        "word_to_idx = {k:(v + INDEX_FROM) for k, v in word_to_idx.items()}\n",
        "word_to_idx['<PAD>'] = 0\n",
        "word_to_idx['<start>'] = 1\n",
        "word_to_idx['<UKN>'] = 2\n",
        "word_to_idx['<UNUSED'] = 3\n",
        "idx_to_word = {v: k for k, v in word_to_idx.items()}\n",
        "list(idx_to_word.items())[:10]\n",
        "print(' '.join(idx_to_word[idx] for idx in train_data[0]))"
      ],
      "metadata": {
        "colab": {
          "base_uri": "https://localhost:8080/"
        },
        "id": "xH1rb-EpBJVJ",
        "outputId": "63fc6c53-7890-460e-8ee1-20f92a8ff0b1"
      },
      "execution_count": 21,
      "outputs": [
        {
          "output_type": "stream",
          "name": "stdout",
          "text": [
            "<start> this film was just brilliant casting location scenery story direction everyone's really suited the part they played and you could just imagine being there robert <UKN> is an amazing actor and now the same being director <UKN> father came from the same scottish island as myself so i loved the fact there was a real connection with this film the witty remarks throughout the film were great it was just brilliant so much that i bought the film as soon as it was released for <UKN> and would recommend it to everyone to watch and the fly fishing was amazing really cried at the end it was so sad and you know what they say if you cry at a film it must have been good and this definitely was also <UKN> to the two little boy's that played the <UKN> of norman and paul they were just brilliant children are often left out of the <UKN> list i think because the stars that play them all grown up are such a big profile for the whole film but these children are amazing and should be praised for what they have done don't you think the whole story was so lovely because it was true and was someone's life after all that was shared with us all\n"
          ]
        }
      ]
    },
    {
      "cell_type": "code",
      "source": [
        "train_lables[:10]"
      ],
      "metadata": {
        "colab": {
          "base_uri": "https://localhost:8080/"
        },
        "id": "bfdBD31nBofV",
        "outputId": "15de7b61-a754-4a06-84c3-95e533abf4b3"
      },
      "execution_count": 8,
      "outputs": [
        {
          "output_type": "execute_result",
          "data": {
            "text/plain": [
              "array([1, 0, 0, 1, 0, 0, 1, 0, 1, 0])"
            ]
          },
          "metadata": {},
          "execution_count": 8
        }
      ]
    },
    {
      "cell_type": "code",
      "source": [
        "def multi_hot_sequences(sequences, dimension):\n",
        "    results = np.zeros((len(sequences), dimension))\n",
        "    for i, word_indices in enumerate(sequences):\n",
        "        results[i, word_indices] = 1.0\n",
        "    return results\n",
        "\n",
        "train_data = multi_hot_sequences(train_data, dimension=NUM_WORDS)\n",
        "test_data = multi_hot_sequences(test_data, dimension=NUM_WORDS)\n",
        "train_data.shape"
      ],
      "metadata": {
        "colab": {
          "base_uri": "https://localhost:8080/"
        },
        "id": "F_VhDQW4CDyp",
        "outputId": "34aba2a2-65ba-4f34-bec6-ea4ea280bd87"
      },
      "execution_count": 22,
      "outputs": [
        {
          "output_type": "execute_result",
          "data": {
            "text/plain": [
              "(25000, 10000)"
            ]
          },
          "metadata": {},
          "execution_count": 22
        }
      ]
    },
    {
      "cell_type": "code",
      "source": [
        "test_data.shape"
      ],
      "metadata": {
        "colab": {
          "base_uri": "https://localhost:8080/"
        },
        "id": "y1tjLG7zCozp",
        "outputId": "192c8e77-aab9-4cf3-cc7e-395ce8c2eb9b"
      },
      "execution_count": 10,
      "outputs": [
        {
          "output_type": "execute_result",
          "data": {
            "text/plain": [
              "(25000, 10000)"
            ]
          },
          "metadata": {},
          "execution_count": 10
        }
      ]
    },
    {
      "cell_type": "markdown",
      "source": [
        "# Budowanie modelu"
      ],
      "metadata": {
        "id": "1TCQymOPCsu_"
      }
    },
    {
      "cell_type": "code",
      "source": [
        "baseline_model = Sequential()\n",
        "baseline_model.add(Dense(units=16, activation='relu', input_shape=(NUM_WORDS,)))   # NUM_WORDS = 10_000\n",
        "baseline_model.add(Dense(units=16, activation='relu'))\n",
        "baseline_model.add(Dense(units=1, activation='sigmoid'))  # blasifikacja binarna\n",
        "\n",
        "baseline_model.compile(optimizer='adam',\n",
        "                       loss='binary_crossentropy',\n",
        "                       metrics=['accuracy', 'binary_crossentropy'])\n",
        "\n",
        "baseline_model.summary()"
      ],
      "metadata": {
        "colab": {
          "base_uri": "https://localhost:8080/"
        },
        "id": "jIVpYWjECvKr",
        "outputId": "ee0ef3a9-fecb-4fbe-802c-b013ed92c585"
      },
      "execution_count": 13,
      "outputs": [
        {
          "output_type": "stream",
          "name": "stdout",
          "text": [
            "Model: \"sequential_1\"\n",
            "_________________________________________________________________\n",
            " Layer (type)                Output Shape              Param #   \n",
            "=================================================================\n",
            " dense_3 (Dense)             (None, 16)                160016    \n",
            "                                                                 \n",
            " dense_4 (Dense)             (None, 16)                272       \n",
            "                                                                 \n",
            " dense_5 (Dense)             (None, 1)                 17        \n",
            "                                                                 \n",
            "=================================================================\n",
            "Total params: 160305 (626.19 KB)\n",
            "Trainable params: 160305 (626.19 KB)\n",
            "Non-trainable params: 0 (0.00 Byte)\n",
            "_________________________________________________________________\n"
          ]
        }
      ]
    },
    {
      "cell_type": "code",
      "source": [
        "baseline_history = baseline_model.fit(train_data, train_lables, epochs=20, batch_size=512, validation_data=(test_data, test_lables), verbose=2)"
      ],
      "metadata": {
        "colab": {
          "base_uri": "https://localhost:8080/"
        },
        "id": "BhXyHXSh_ac7",
        "outputId": "3f4408a9-dfef-4db2-81da-199d80fec2af"
      },
      "execution_count": 14,
      "outputs": [
        {
          "output_type": "stream",
          "name": "stdout",
          "text": [
            "Epoch 1/20\n",
            "49/49 - 5s - loss: 0.4872 - accuracy: 0.8099 - binary_crossentropy: 0.4872 - val_loss: 0.3409 - val_accuracy: 0.8755 - val_binary_crossentropy: 0.3409 - 5s/epoch - 96ms/step\n",
            "Epoch 2/20\n",
            "49/49 - 2s - loss: 0.2514 - accuracy: 0.9104 - binary_crossentropy: 0.2514 - val_loss: 0.2829 - val_accuracy: 0.8886 - val_binary_crossentropy: 0.2829 - 2s/epoch - 36ms/step\n",
            "Epoch 3/20\n",
            "49/49 - 2s - loss: 0.1838 - accuracy: 0.9339 - binary_crossentropy: 0.1838 - val_loss: 0.2927 - val_accuracy: 0.8846 - val_binary_crossentropy: 0.2927 - 2s/epoch - 50ms/step\n",
            "Epoch 4/20\n",
            "49/49 - 2s - loss: 0.1463 - accuracy: 0.9507 - binary_crossentropy: 0.1463 - val_loss: 0.3107 - val_accuracy: 0.8800 - val_binary_crossentropy: 0.3107 - 2s/epoch - 47ms/step\n",
            "Epoch 5/20\n",
            "49/49 - 2s - loss: 0.1189 - accuracy: 0.9613 - binary_crossentropy: 0.1189 - val_loss: 0.3386 - val_accuracy: 0.8752 - val_binary_crossentropy: 0.3386 - 2s/epoch - 35ms/step\n",
            "Epoch 6/20\n",
            "49/49 - 2s - loss: 0.0973 - accuracy: 0.9700 - binary_crossentropy: 0.0973 - val_loss: 0.3750 - val_accuracy: 0.8709 - val_binary_crossentropy: 0.3750 - 2s/epoch - 35ms/step\n",
            "Epoch 7/20\n",
            "49/49 - 2s - loss: 0.0781 - accuracy: 0.9778 - binary_crossentropy: 0.0781 - val_loss: 0.4141 - val_accuracy: 0.8678 - val_binary_crossentropy: 0.4141 - 2s/epoch - 35ms/step\n",
            "Epoch 8/20\n",
            "49/49 - 2s - loss: 0.0621 - accuracy: 0.9844 - binary_crossentropy: 0.0621 - val_loss: 0.4534 - val_accuracy: 0.8632 - val_binary_crossentropy: 0.4534 - 2s/epoch - 36ms/step\n",
            "Epoch 9/20\n",
            "49/49 - 2s - loss: 0.0483 - accuracy: 0.9892 - binary_crossentropy: 0.0483 - val_loss: 0.4957 - val_accuracy: 0.8611 - val_binary_crossentropy: 0.4957 - 2s/epoch - 35ms/step\n",
            "Epoch 10/20\n",
            "49/49 - 2s - loss: 0.0373 - accuracy: 0.9931 - binary_crossentropy: 0.0373 - val_loss: 0.5385 - val_accuracy: 0.8590 - val_binary_crossentropy: 0.5385 - 2s/epoch - 49ms/step\n",
            "Epoch 11/20\n",
            "49/49 - 2s - loss: 0.0278 - accuracy: 0.9961 - binary_crossentropy: 0.0278 - val_loss: 0.5870 - val_accuracy: 0.8564 - val_binary_crossentropy: 0.5870 - 2s/epoch - 51ms/step\n",
            "Epoch 12/20\n",
            "49/49 - 2s - loss: 0.0207 - accuracy: 0.9975 - binary_crossentropy: 0.0207 - val_loss: 0.6350 - val_accuracy: 0.8575 - val_binary_crossentropy: 0.6350 - 2s/epoch - 36ms/step\n",
            "Epoch 13/20\n",
            "49/49 - 2s - loss: 0.0150 - accuracy: 0.9984 - binary_crossentropy: 0.0150 - val_loss: 0.6810 - val_accuracy: 0.8568 - val_binary_crossentropy: 0.6810 - 2s/epoch - 36ms/step\n",
            "Epoch 14/20\n",
            "49/49 - 2s - loss: 0.0109 - accuracy: 0.9992 - binary_crossentropy: 0.0109 - val_loss: 0.7229 - val_accuracy: 0.8549 - val_binary_crossentropy: 0.7229 - 2s/epoch - 36ms/step\n",
            "Epoch 15/20\n",
            "49/49 - 2s - loss: 0.0080 - accuracy: 0.9994 - binary_crossentropy: 0.0080 - val_loss: 0.7661 - val_accuracy: 0.8550 - val_binary_crossentropy: 0.7661 - 2s/epoch - 36ms/step\n",
            "Epoch 16/20\n",
            "49/49 - 2s - loss: 0.0059 - accuracy: 0.9996 - binary_crossentropy: 0.0059 - val_loss: 0.8072 - val_accuracy: 0.8539 - val_binary_crossentropy: 0.8072 - 2s/epoch - 49ms/step\n",
            "Epoch 17/20\n",
            "49/49 - 2s - loss: 0.0044 - accuracy: 0.9997 - binary_crossentropy: 0.0044 - val_loss: 0.8502 - val_accuracy: 0.8544 - val_binary_crossentropy: 0.8502 - 2s/epoch - 50ms/step\n",
            "Epoch 18/20\n",
            "49/49 - 3s - loss: 0.0034 - accuracy: 0.9998 - binary_crossentropy: 0.0034 - val_loss: 0.8841 - val_accuracy: 0.8533 - val_binary_crossentropy: 0.8841 - 3s/epoch - 59ms/step\n",
            "Epoch 19/20\n",
            "49/49 - 2s - loss: 0.0026 - accuracy: 0.9998 - binary_crossentropy: 0.0026 - val_loss: 0.9167 - val_accuracy: 0.8528 - val_binary_crossentropy: 0.9167 - 2s/epoch - 35ms/step\n",
            "Epoch 20/20\n",
            "49/49 - 2s - loss: 0.0021 - accuracy: 0.9999 - binary_crossentropy: 0.0021 - val_loss: 0.9470 - val_accuracy: 0.8528 - val_binary_crossentropy: 0.9470 - 2s/epoch - 34ms/step\n"
          ]
        }
      ]
    },
    {
      "cell_type": "markdown",
      "source": [
        "# Budowa mniejszego modelu"
      ],
      "metadata": {
        "id": "Wh5J8JQ7Ajkh"
      }
    },
    {
      "cell_type": "code",
      "source": [
        "smaller_model = Sequential()\n",
        "smaller_model.add(Dense(units=4, activation='relu', input_shape=(NUM_WORDS,)))   # NUM_WORDS = 10_000\n",
        "smaller_model.add(Dense(units=4, activation='relu'))\n",
        "smaller_model.add(Dense(units=1, activation='sigmoid'))\n",
        "\n",
        "smaller_model.compile(optimizer='adam',\n",
        "                       loss='binary_crossentropy',\n",
        "                       metrics=['accuracy', 'binary_crossentropy'])\n",
        "\n",
        "smaller_model.summary()"
      ],
      "metadata": {
        "colab": {
          "base_uri": "https://localhost:8080/"
        },
        "id": "qw32mvLI_M2F",
        "outputId": "29cb16c6-a4f3-4554-f01c-50e68fa8e6e6"
      },
      "execution_count": 13,
      "outputs": [
        {
          "output_type": "stream",
          "name": "stdout",
          "text": [
            "Model: \"sequential_1\"\n",
            "_________________________________________________________________\n",
            " Layer (type)                Output Shape              Param #   \n",
            "=================================================================\n",
            " dense_3 (Dense)             (None, 4)                 40004     \n",
            "                                                                 \n",
            " dense_4 (Dense)             (None, 4)                 20        \n",
            "                                                                 \n",
            " dense_5 (Dense)             (None, 1)                 5         \n",
            "                                                                 \n",
            "=================================================================\n",
            "Total params: 40029 (156.36 KB)\n",
            "Trainable params: 40029 (156.36 KB)\n",
            "Non-trainable params: 0 (0.00 Byte)\n",
            "_________________________________________________________________\n"
          ]
        }
      ]
    },
    {
      "cell_type": "code",
      "source": [
        "smaller_history = smaller_model.fit(train_data, train_lables, epochs=20, batch_size=512, validation_data=(test_data, test_lables), verbose=2)"
      ],
      "metadata": {
        "colab": {
          "base_uri": "https://localhost:8080/"
        },
        "id": "Ft-bEsN-EFvu",
        "outputId": "6aba84df-b921-4d74-e17d-ead23e72c8fe"
      },
      "execution_count": 14,
      "outputs": [
        {
          "output_type": "stream",
          "name": "stdout",
          "text": [
            "Epoch 1/20\n",
            "49/49 - 6s - loss: 0.6385 - accuracy: 0.6252 - binary_crossentropy: 0.6385 - val_loss: 0.5896 - val_accuracy: 0.7154 - val_binary_crossentropy: 0.5896 - 6s/epoch - 132ms/step\n",
            "Epoch 2/20\n",
            "49/49 - 2s - loss: 0.5454 - accuracy: 0.7842 - binary_crossentropy: 0.5454 - val_loss: 0.5321 - val_accuracy: 0.7841 - val_binary_crossentropy: 0.5321 - 2s/epoch - 35ms/step\n",
            "Epoch 3/20\n",
            "49/49 - 2s - loss: 0.4904 - accuracy: 0.8474 - binary_crossentropy: 0.4904 - val_loss: 0.4961 - val_accuracy: 0.8195 - val_binary_crossentropy: 0.4961 - 2s/epoch - 34ms/step\n",
            "Epoch 4/20\n",
            "49/49 - 2s - loss: 0.4513 - accuracy: 0.8794 - binary_crossentropy: 0.4513 - val_loss: 0.4695 - val_accuracy: 0.8525 - val_binary_crossentropy: 0.4695 - 2s/epoch - 33ms/step\n",
            "Epoch 5/20\n",
            "49/49 - 2s - loss: 0.4208 - accuracy: 0.9010 - binary_crossentropy: 0.4208 - val_loss: 0.4510 - val_accuracy: 0.8597 - val_binary_crossentropy: 0.4510 - 2s/epoch - 34ms/step\n",
            "Epoch 6/20\n",
            "49/49 - 3s - loss: 0.3952 - accuracy: 0.9148 - binary_crossentropy: 0.3952 - val_loss: 0.4386 - val_accuracy: 0.8610 - val_binary_crossentropy: 0.4386 - 3s/epoch - 57ms/step\n",
            "Epoch 7/20\n",
            "49/49 - 2s - loss: 0.3736 - accuracy: 0.9270 - binary_crossentropy: 0.3736 - val_loss: 0.4288 - val_accuracy: 0.8638 - val_binary_crossentropy: 0.4288 - 2s/epoch - 36ms/step\n",
            "Epoch 8/20\n",
            "49/49 - 2s - loss: 0.3540 - accuracy: 0.9359 - binary_crossentropy: 0.3540 - val_loss: 0.4224 - val_accuracy: 0.8626 - val_binary_crossentropy: 0.4224 - 2s/epoch - 34ms/step\n",
            "Epoch 9/20\n",
            "49/49 - 2s - loss: 0.3361 - accuracy: 0.9422 - binary_crossentropy: 0.3361 - val_loss: 0.4094 - val_accuracy: 0.8740 - val_binary_crossentropy: 0.4094 - 2s/epoch - 34ms/step\n",
            "Epoch 10/20\n",
            "49/49 - 2s - loss: 0.3202 - accuracy: 0.9493 - binary_crossentropy: 0.3202 - val_loss: 0.4078 - val_accuracy: 0.8702 - val_binary_crossentropy: 0.4078 - 2s/epoch - 33ms/step\n",
            "Epoch 11/20\n",
            "49/49 - 2s - loss: 0.3050 - accuracy: 0.9539 - binary_crossentropy: 0.3050 - val_loss: 0.4018 - val_accuracy: 0.8737 - val_binary_crossentropy: 0.4018 - 2s/epoch - 35ms/step\n",
            "Epoch 12/20\n",
            "49/49 - 2s - loss: 0.2912 - accuracy: 0.9586 - binary_crossentropy: 0.2912 - val_loss: 0.4006 - val_accuracy: 0.8732 - val_binary_crossentropy: 0.4006 - 2s/epoch - 34ms/step\n",
            "Epoch 13/20\n",
            "49/49 - 2s - loss: 0.2761 - accuracy: 0.9627 - binary_crossentropy: 0.2761 - val_loss: 0.4039 - val_accuracy: 0.8720 - val_binary_crossentropy: 0.4039 - 2s/epoch - 46ms/step\n",
            "Epoch 14/20\n",
            "49/49 - 3s - loss: 0.2606 - accuracy: 0.9660 - binary_crossentropy: 0.2606 - val_loss: 0.4211 - val_accuracy: 0.8675 - val_binary_crossentropy: 0.4211 - 3s/epoch - 56ms/step\n",
            "Epoch 15/20\n",
            "49/49 - 2s - loss: 0.2465 - accuracy: 0.9700 - binary_crossentropy: 0.2465 - val_loss: 0.4281 - val_accuracy: 0.8672 - val_binary_crossentropy: 0.4281 - 2s/epoch - 32ms/step\n",
            "Epoch 16/20\n",
            "49/49 - 2s - loss: 0.2338 - accuracy: 0.9740 - binary_crossentropy: 0.2338 - val_loss: 0.4275 - val_accuracy: 0.8680 - val_binary_crossentropy: 0.4275 - 2s/epoch - 31ms/step\n",
            "Epoch 17/20\n",
            "49/49 - 2s - loss: 0.2218 - accuracy: 0.9770 - binary_crossentropy: 0.2218 - val_loss: 0.4370 - val_accuracy: 0.8660 - val_binary_crossentropy: 0.4370 - 2s/epoch - 32ms/step\n",
            "Epoch 18/20\n",
            "49/49 - 2s - loss: 0.2112 - accuracy: 0.9797 - binary_crossentropy: 0.2112 - val_loss: 0.4442 - val_accuracy: 0.8664 - val_binary_crossentropy: 0.4442 - 2s/epoch - 32ms/step\n",
            "Epoch 19/20\n",
            "49/49 - 2s - loss: 0.2010 - accuracy: 0.9829 - binary_crossentropy: 0.2010 - val_loss: 0.4573 - val_accuracy: 0.8643 - val_binary_crossentropy: 0.4573 - 2s/epoch - 33ms/step\n",
            "Epoch 20/20\n",
            "49/49 - 2s - loss: 0.1915 - accuracy: 0.9842 - binary_crossentropy: 0.1915 - val_loss: 0.4656 - val_accuracy: 0.8640 - val_binary_crossentropy: 0.4656 - 2s/epoch - 45ms/step\n"
          ]
        }
      ]
    },
    {
      "cell_type": "markdown",
      "source": [
        "# Budowa większego modelu"
      ],
      "metadata": {
        "id": "TEt-NAMNEzeJ"
      }
    },
    {
      "cell_type": "code",
      "source": [
        "bigger_model = Sequential()\n",
        "bigger_model.add(Dense(units=256, activation='relu', input_shape=(NUM_WORDS,)))   # NUM_WORDS = 10_000\n",
        "bigger_model.add(Dense(units=256, activation='relu'))\n",
        "bigger_model.add(Dense(units=1, activation='sigmoid'))\n",
        "\n",
        "bigger_model.compile(optimizer='adam',\n",
        "                       loss='binary_crossentropy',\n",
        "                       metrics=['accuracy', 'binary_crossentropy'])\n",
        "\n",
        "bigger_model.summary()"
      ],
      "metadata": {
        "colab": {
          "base_uri": "https://localhost:8080/"
        },
        "id": "QtB1W79jE-Nz",
        "outputId": "86d7e110-3de4-4caa-e76d-729c78b111bb"
      },
      "execution_count": 15,
      "outputs": [
        {
          "output_type": "stream",
          "name": "stdout",
          "text": [
            "Model: \"sequential_2\"\n",
            "_________________________________________________________________\n",
            " Layer (type)                Output Shape              Param #   \n",
            "=================================================================\n",
            " dense_6 (Dense)             (None, 256)               2560256   \n",
            "                                                                 \n",
            " dense_7 (Dense)             (None, 256)               65792     \n",
            "                                                                 \n",
            " dense_8 (Dense)             (None, 1)                 257       \n",
            "                                                                 \n",
            "=================================================================\n",
            "Total params: 2626305 (10.02 MB)\n",
            "Trainable params: 2626305 (10.02 MB)\n",
            "Non-trainable params: 0 (0.00 Byte)\n",
            "_________________________________________________________________\n"
          ]
        }
      ]
    },
    {
      "cell_type": "code",
      "source": [
        "bigger_history = bigger_model.fit(train_data, train_lables, epochs=20, batch_size=512, validation_data=(test_data, test_lables), verbose=2)"
      ],
      "metadata": {
        "id": "w4x_EaxjFK1D",
        "colab": {
          "base_uri": "https://localhost:8080/"
        },
        "outputId": "9633432e-89d9-4a70-ccbd-fcddca1cc93b"
      },
      "execution_count": 16,
      "outputs": [
        {
          "output_type": "stream",
          "name": "stdout",
          "text": [
            "Epoch 1/20\n",
            "49/49 - 16s - loss: 0.3573 - accuracy: 0.8500 - binary_crossentropy: 0.3573 - val_loss: 0.2961 - val_accuracy: 0.8781 - val_binary_crossentropy: 0.2961 - 16s/epoch - 337ms/step\n",
            "Epoch 2/20\n",
            "49/49 - 11s - loss: 0.1664 - accuracy: 0.9378 - binary_crossentropy: 0.1664 - val_loss: 0.3291 - val_accuracy: 0.8724 - val_binary_crossentropy: 0.3291 - 11s/epoch - 231ms/step\n",
            "Epoch 3/20\n",
            "49/49 - 9s - loss: 0.0897 - accuracy: 0.9700 - binary_crossentropy: 0.0897 - val_loss: 0.3968 - val_accuracy: 0.8657 - val_binary_crossentropy: 0.3968 - 9s/epoch - 179ms/step\n",
            "Epoch 4/20\n",
            "49/49 - 12s - loss: 0.0302 - accuracy: 0.9924 - binary_crossentropy: 0.0302 - val_loss: 0.5135 - val_accuracy: 0.8663 - val_binary_crossentropy: 0.5135 - 12s/epoch - 255ms/step\n",
            "Epoch 5/20\n",
            "49/49 - 13s - loss: 0.0067 - accuracy: 0.9993 - binary_crossentropy: 0.0067 - val_loss: 0.6323 - val_accuracy: 0.8646 - val_binary_crossentropy: 0.6323 - 13s/epoch - 257ms/step\n",
            "Epoch 6/20\n",
            "49/49 - 13s - loss: 0.0012 - accuracy: 1.0000 - binary_crossentropy: 0.0012 - val_loss: 0.7151 - val_accuracy: 0.8659 - val_binary_crossentropy: 0.7151 - 13s/epoch - 257ms/step\n",
            "Epoch 7/20\n",
            "49/49 - 10s - loss: 4.5033e-04 - accuracy: 1.0000 - binary_crossentropy: 4.5033e-04 - val_loss: 0.7680 - val_accuracy: 0.8663 - val_binary_crossentropy: 0.7680 - 10s/epoch - 208ms/step\n",
            "Epoch 8/20\n",
            "49/49 - 11s - loss: 2.6686e-04 - accuracy: 1.0000 - binary_crossentropy: 2.6686e-04 - val_loss: 0.7987 - val_accuracy: 0.8667 - val_binary_crossentropy: 0.7987 - 11s/epoch - 226ms/step\n",
            "Epoch 9/20\n",
            "49/49 - 9s - loss: 1.8575e-04 - accuracy: 1.0000 - binary_crossentropy: 1.8575e-04 - val_loss: 0.8278 - val_accuracy: 0.8667 - val_binary_crossentropy: 0.8278 - 9s/epoch - 175ms/step\n",
            "Epoch 10/20\n",
            "49/49 - 10s - loss: 1.3729e-04 - accuracy: 1.0000 - binary_crossentropy: 1.3729e-04 - val_loss: 0.8520 - val_accuracy: 0.8670 - val_binary_crossentropy: 0.8520 - 10s/epoch - 207ms/step\n",
            "Epoch 11/20\n",
            "49/49 - 12s - loss: 1.0543e-04 - accuracy: 1.0000 - binary_crossentropy: 1.0543e-04 - val_loss: 0.8752 - val_accuracy: 0.8668 - val_binary_crossentropy: 0.8752 - 12s/epoch - 251ms/step\n",
            "Epoch 12/20\n",
            "49/49 - 10s - loss: 8.3011e-05 - accuracy: 1.0000 - binary_crossentropy: 8.3011e-05 - val_loss: 0.8947 - val_accuracy: 0.8668 - val_binary_crossentropy: 0.8947 - 10s/epoch - 208ms/step\n",
            "Epoch 13/20\n",
            "49/49 - 11s - loss: 6.7012e-05 - accuracy: 1.0000 - binary_crossentropy: 6.7012e-05 - val_loss: 0.9135 - val_accuracy: 0.8669 - val_binary_crossentropy: 0.9135 - 11s/epoch - 227ms/step\n",
            "Epoch 14/20\n",
            "49/49 - 11s - loss: 5.4926e-05 - accuracy: 1.0000 - binary_crossentropy: 5.4926e-05 - val_loss: 0.9315 - val_accuracy: 0.8670 - val_binary_crossentropy: 0.9315 - 11s/epoch - 227ms/step\n",
            "Epoch 15/20\n",
            "49/49 - 11s - loss: 4.5720e-05 - accuracy: 1.0000 - binary_crossentropy: 4.5720e-05 - val_loss: 0.9478 - val_accuracy: 0.8671 - val_binary_crossentropy: 0.9478 - 11s/epoch - 225ms/step\n",
            "Epoch 16/20\n",
            "49/49 - 11s - loss: 3.8507e-05 - accuracy: 1.0000 - binary_crossentropy: 3.8507e-05 - val_loss: 0.9642 - val_accuracy: 0.8672 - val_binary_crossentropy: 0.9642 - 11s/epoch - 228ms/step\n",
            "Epoch 17/20\n",
            "49/49 - 9s - loss: 3.2711e-05 - accuracy: 1.0000 - binary_crossentropy: 3.2711e-05 - val_loss: 0.9786 - val_accuracy: 0.8670 - val_binary_crossentropy: 0.9786 - 9s/epoch - 191ms/step\n",
            "Epoch 18/20\n",
            "49/49 - 13s - loss: 2.8062e-05 - accuracy: 1.0000 - binary_crossentropy: 2.8062e-05 - val_loss: 0.9929 - val_accuracy: 0.8671 - val_binary_crossentropy: 0.9929 - 13s/epoch - 257ms/step\n",
            "Epoch 19/20\n",
            "49/49 - 10s - loss: 2.4260e-05 - accuracy: 1.0000 - binary_crossentropy: 2.4260e-05 - val_loss: 1.0065 - val_accuracy: 0.8673 - val_binary_crossentropy: 1.0065 - 10s/epoch - 209ms/step\n",
            "Epoch 20/20\n",
            "49/49 - 10s - loss: 2.1142e-05 - accuracy: 1.0000 - binary_crossentropy: 2.1142e-05 - val_loss: 1.0192 - val_accuracy: 0.8671 - val_binary_crossentropy: 1.0192 - 10s/epoch - 200ms/step\n"
          ]
        }
      ]
    },
    {
      "cell_type": "code",
      "source": [
        "hist = pd.DataFrame(baseline_history.history)\n",
        "hist['epoch'] = baseline_history.epoch\n",
        "hist.head()"
      ],
      "metadata": {
        "id": "7rF_viNiFkeZ",
        "colab": {
          "base_uri": "https://localhost:8080/",
          "height": 206
        },
        "outputId": "d9090bfd-e97b-4b06-b425-2db12f3cff16"
      },
      "execution_count": 17,
      "outputs": [
        {
          "output_type": "execute_result",
          "data": {
            "text/plain": [
              "       loss  accuracy  binary_crossentropy  val_loss  val_accuracy  \\\n",
              "0  0.496844   0.80304             0.496844  0.344877       0.87544   \n",
              "1  0.254715   0.90960             0.254715  0.284661       0.88836   \n",
              "2  0.185512   0.93476             0.185512  0.286574       0.88748   \n",
              "3  0.148109   0.94972             0.148109  0.304881       0.88220   \n",
              "4  0.120629   0.96076             0.120629  0.333205       0.87752   \n",
              "\n",
              "   val_binary_crossentropy  epoch  \n",
              "0                 0.344877      0  \n",
              "1                 0.284661      1  \n",
              "2                 0.286574      2  \n",
              "3                 0.304881      3  \n",
              "4                 0.333205      4  "
            ],
            "text/html": [
              "\n",
              "  <div id=\"df-4da2d09f-b861-464b-8212-8b0aa3209696\" class=\"colab-df-container\">\n",
              "    <div>\n",
              "<style scoped>\n",
              "    .dataframe tbody tr th:only-of-type {\n",
              "        vertical-align: middle;\n",
              "    }\n",
              "\n",
              "    .dataframe tbody tr th {\n",
              "        vertical-align: top;\n",
              "    }\n",
              "\n",
              "    .dataframe thead th {\n",
              "        text-align: right;\n",
              "    }\n",
              "</style>\n",
              "<table border=\"1\" class=\"dataframe\">\n",
              "  <thead>\n",
              "    <tr style=\"text-align: right;\">\n",
              "      <th></th>\n",
              "      <th>loss</th>\n",
              "      <th>accuracy</th>\n",
              "      <th>binary_crossentropy</th>\n",
              "      <th>val_loss</th>\n",
              "      <th>val_accuracy</th>\n",
              "      <th>val_binary_crossentropy</th>\n",
              "      <th>epoch</th>\n",
              "    </tr>\n",
              "  </thead>\n",
              "  <tbody>\n",
              "    <tr>\n",
              "      <th>0</th>\n",
              "      <td>0.496844</td>\n",
              "      <td>0.80304</td>\n",
              "      <td>0.496844</td>\n",
              "      <td>0.344877</td>\n",
              "      <td>0.87544</td>\n",
              "      <td>0.344877</td>\n",
              "      <td>0</td>\n",
              "    </tr>\n",
              "    <tr>\n",
              "      <th>1</th>\n",
              "      <td>0.254715</td>\n",
              "      <td>0.90960</td>\n",
              "      <td>0.254715</td>\n",
              "      <td>0.284661</td>\n",
              "      <td>0.88836</td>\n",
              "      <td>0.284661</td>\n",
              "      <td>1</td>\n",
              "    </tr>\n",
              "    <tr>\n",
              "      <th>2</th>\n",
              "      <td>0.185512</td>\n",
              "      <td>0.93476</td>\n",
              "      <td>0.185512</td>\n",
              "      <td>0.286574</td>\n",
              "      <td>0.88748</td>\n",
              "      <td>0.286574</td>\n",
              "      <td>2</td>\n",
              "    </tr>\n",
              "    <tr>\n",
              "      <th>3</th>\n",
              "      <td>0.148109</td>\n",
              "      <td>0.94972</td>\n",
              "      <td>0.148109</td>\n",
              "      <td>0.304881</td>\n",
              "      <td>0.88220</td>\n",
              "      <td>0.304881</td>\n",
              "      <td>3</td>\n",
              "    </tr>\n",
              "    <tr>\n",
              "      <th>4</th>\n",
              "      <td>0.120629</td>\n",
              "      <td>0.96076</td>\n",
              "      <td>0.120629</td>\n",
              "      <td>0.333205</td>\n",
              "      <td>0.87752</td>\n",
              "      <td>0.333205</td>\n",
              "      <td>4</td>\n",
              "    </tr>\n",
              "  </tbody>\n",
              "</table>\n",
              "</div>\n",
              "    <div class=\"colab-df-buttons\">\n",
              "\n",
              "  <div class=\"colab-df-container\">\n",
              "    <button class=\"colab-df-convert\" onclick=\"convertToInteractive('df-4da2d09f-b861-464b-8212-8b0aa3209696')\"\n",
              "            title=\"Convert this dataframe to an interactive table.\"\n",
              "            style=\"display:none;\">\n",
              "\n",
              "  <svg xmlns=\"http://www.w3.org/2000/svg\" height=\"24px\" viewBox=\"0 -960 960 960\">\n",
              "    <path d=\"M120-120v-720h720v720H120Zm60-500h600v-160H180v160Zm220 220h160v-160H400v160Zm0 220h160v-160H400v160ZM180-400h160v-160H180v160Zm440 0h160v-160H620v160ZM180-180h160v-160H180v160Zm440 0h160v-160H620v160Z\"/>\n",
              "  </svg>\n",
              "    </button>\n",
              "\n",
              "  <style>\n",
              "    .colab-df-container {\n",
              "      display:flex;\n",
              "      gap: 12px;\n",
              "    }\n",
              "\n",
              "    .colab-df-convert {\n",
              "      background-color: #E8F0FE;\n",
              "      border: none;\n",
              "      border-radius: 50%;\n",
              "      cursor: pointer;\n",
              "      display: none;\n",
              "      fill: #1967D2;\n",
              "      height: 32px;\n",
              "      padding: 0 0 0 0;\n",
              "      width: 32px;\n",
              "    }\n",
              "\n",
              "    .colab-df-convert:hover {\n",
              "      background-color: #E2EBFA;\n",
              "      box-shadow: 0px 1px 2px rgba(60, 64, 67, 0.3), 0px 1px 3px 1px rgba(60, 64, 67, 0.15);\n",
              "      fill: #174EA6;\n",
              "    }\n",
              "\n",
              "    .colab-df-buttons div {\n",
              "      margin-bottom: 4px;\n",
              "    }\n",
              "\n",
              "    [theme=dark] .colab-df-convert {\n",
              "      background-color: #3B4455;\n",
              "      fill: #D2E3FC;\n",
              "    }\n",
              "\n",
              "    [theme=dark] .colab-df-convert:hover {\n",
              "      background-color: #434B5C;\n",
              "      box-shadow: 0px 1px 3px 1px rgba(0, 0, 0, 0.15);\n",
              "      filter: drop-shadow(0px 1px 2px rgba(0, 0, 0, 0.3));\n",
              "      fill: #FFFFFF;\n",
              "    }\n",
              "  </style>\n",
              "\n",
              "    <script>\n",
              "      const buttonEl =\n",
              "        document.querySelector('#df-4da2d09f-b861-464b-8212-8b0aa3209696 button.colab-df-convert');\n",
              "      buttonEl.style.display =\n",
              "        google.colab.kernel.accessAllowed ? 'block' : 'none';\n",
              "\n",
              "      async function convertToInteractive(key) {\n",
              "        const element = document.querySelector('#df-4da2d09f-b861-464b-8212-8b0aa3209696');\n",
              "        const dataTable =\n",
              "          await google.colab.kernel.invokeFunction('convertToInteractive',\n",
              "                                                    [key], {});\n",
              "        if (!dataTable) return;\n",
              "\n",
              "        const docLinkHtml = 'Like what you see? Visit the ' +\n",
              "          '<a target=\"_blank\" href=https://colab.research.google.com/notebooks/data_table.ipynb>data table notebook</a>'\n",
              "          + ' to learn more about interactive tables.';\n",
              "        element.innerHTML = '';\n",
              "        dataTable['output_type'] = 'display_data';\n",
              "        await google.colab.output.renderOutput(dataTable, element);\n",
              "        const docLink = document.createElement('div');\n",
              "        docLink.innerHTML = docLinkHtml;\n",
              "        element.appendChild(docLink);\n",
              "      }\n",
              "    </script>\n",
              "  </div>\n",
              "\n",
              "\n",
              "<div id=\"df-2b29b9dd-d9a8-401a-b3fe-2f48ff1bf65b\">\n",
              "  <button class=\"colab-df-quickchart\" onclick=\"quickchart('df-2b29b9dd-d9a8-401a-b3fe-2f48ff1bf65b')\"\n",
              "            title=\"Suggest charts\"\n",
              "            style=\"display:none;\">\n",
              "\n",
              "<svg xmlns=\"http://www.w3.org/2000/svg\" height=\"24px\"viewBox=\"0 0 24 24\"\n",
              "     width=\"24px\">\n",
              "    <g>\n",
              "        <path d=\"M19 3H5c-1.1 0-2 .9-2 2v14c0 1.1.9 2 2 2h14c1.1 0 2-.9 2-2V5c0-1.1-.9-2-2-2zM9 17H7v-7h2v7zm4 0h-2V7h2v10zm4 0h-2v-4h2v4z\"/>\n",
              "    </g>\n",
              "</svg>\n",
              "  </button>\n",
              "\n",
              "<style>\n",
              "  .colab-df-quickchart {\n",
              "      --bg-color: #E8F0FE;\n",
              "      --fill-color: #1967D2;\n",
              "      --hover-bg-color: #E2EBFA;\n",
              "      --hover-fill-color: #174EA6;\n",
              "      --disabled-fill-color: #AAA;\n",
              "      --disabled-bg-color: #DDD;\n",
              "  }\n",
              "\n",
              "  [theme=dark] .colab-df-quickchart {\n",
              "      --bg-color: #3B4455;\n",
              "      --fill-color: #D2E3FC;\n",
              "      --hover-bg-color: #434B5C;\n",
              "      --hover-fill-color: #FFFFFF;\n",
              "      --disabled-bg-color: #3B4455;\n",
              "      --disabled-fill-color: #666;\n",
              "  }\n",
              "\n",
              "  .colab-df-quickchart {\n",
              "    background-color: var(--bg-color);\n",
              "    border: none;\n",
              "    border-radius: 50%;\n",
              "    cursor: pointer;\n",
              "    display: none;\n",
              "    fill: var(--fill-color);\n",
              "    height: 32px;\n",
              "    padding: 0;\n",
              "    width: 32px;\n",
              "  }\n",
              "\n",
              "  .colab-df-quickchart:hover {\n",
              "    background-color: var(--hover-bg-color);\n",
              "    box-shadow: 0 1px 2px rgba(60, 64, 67, 0.3), 0 1px 3px 1px rgba(60, 64, 67, 0.15);\n",
              "    fill: var(--button-hover-fill-color);\n",
              "  }\n",
              "\n",
              "  .colab-df-quickchart-complete:disabled,\n",
              "  .colab-df-quickchart-complete:disabled:hover {\n",
              "    background-color: var(--disabled-bg-color);\n",
              "    fill: var(--disabled-fill-color);\n",
              "    box-shadow: none;\n",
              "  }\n",
              "\n",
              "  .colab-df-spinner {\n",
              "    border: 2px solid var(--fill-color);\n",
              "    border-color: transparent;\n",
              "    border-bottom-color: var(--fill-color);\n",
              "    animation:\n",
              "      spin 1s steps(1) infinite;\n",
              "  }\n",
              "\n",
              "  @keyframes spin {\n",
              "    0% {\n",
              "      border-color: transparent;\n",
              "      border-bottom-color: var(--fill-color);\n",
              "      border-left-color: var(--fill-color);\n",
              "    }\n",
              "    20% {\n",
              "      border-color: transparent;\n",
              "      border-left-color: var(--fill-color);\n",
              "      border-top-color: var(--fill-color);\n",
              "    }\n",
              "    30% {\n",
              "      border-color: transparent;\n",
              "      border-left-color: var(--fill-color);\n",
              "      border-top-color: var(--fill-color);\n",
              "      border-right-color: var(--fill-color);\n",
              "    }\n",
              "    40% {\n",
              "      border-color: transparent;\n",
              "      border-right-color: var(--fill-color);\n",
              "      border-top-color: var(--fill-color);\n",
              "    }\n",
              "    60% {\n",
              "      border-color: transparent;\n",
              "      border-right-color: var(--fill-color);\n",
              "    }\n",
              "    80% {\n",
              "      border-color: transparent;\n",
              "      border-right-color: var(--fill-color);\n",
              "      border-bottom-color: var(--fill-color);\n",
              "    }\n",
              "    90% {\n",
              "      border-color: transparent;\n",
              "      border-bottom-color: var(--fill-color);\n",
              "    }\n",
              "  }\n",
              "</style>\n",
              "\n",
              "  <script>\n",
              "    async function quickchart(key) {\n",
              "      const quickchartButtonEl =\n",
              "        document.querySelector('#' + key + ' button');\n",
              "      quickchartButtonEl.disabled = true;  // To prevent multiple clicks.\n",
              "      quickchartButtonEl.classList.add('colab-df-spinner');\n",
              "      try {\n",
              "        const charts = await google.colab.kernel.invokeFunction(\n",
              "            'suggestCharts', [key], {});\n",
              "      } catch (error) {\n",
              "        console.error('Error during call to suggestCharts:', error);\n",
              "      }\n",
              "      quickchartButtonEl.classList.remove('colab-df-spinner');\n",
              "      quickchartButtonEl.classList.add('colab-df-quickchart-complete');\n",
              "    }\n",
              "    (() => {\n",
              "      let quickchartButtonEl =\n",
              "        document.querySelector('#df-2b29b9dd-d9a8-401a-b3fe-2f48ff1bf65b button');\n",
              "      quickchartButtonEl.style.display =\n",
              "        google.colab.kernel.accessAllowed ? 'block' : 'none';\n",
              "    })();\n",
              "  </script>\n",
              "</div>\n",
              "\n",
              "    </div>\n",
              "  </div>\n"
            ],
            "application/vnd.google.colaboratory.intrinsic+json": {
              "type": "dataframe",
              "variable_name": "hist",
              "summary": "{\n  \"name\": \"hist\",\n  \"rows\": 20,\n  \"fields\": [\n    {\n      \"column\": \"loss\",\n      \"properties\": {\n        \"dtype\": \"number\",\n        \"std\": 0.12022757923807555,\n        \"min\": 0.0028663480188697577,\n        \"max\": 0.49684372544288635,\n        \"num_unique_values\": 20,\n        \"samples\": [\n          0.49684372544288635,\n          0.004078682046383619,\n          0.006180922035127878\n        ],\n        \"semantic_type\": \"\",\n        \"description\": \"\"\n      }\n    },\n    {\n      \"column\": \"accuracy\",\n      \"properties\": {\n        \"dtype\": \"number\",\n        \"std\": 0.047472390272294836,\n        \"min\": 0.8030400276184082,\n        \"max\": 0.9999600052833557,\n        \"num_unique_values\": 17,\n        \"samples\": [\n          0.8030400276184082,\n          0.909600019454956,\n          0.9689599871635437\n        ],\n        \"semantic_type\": \"\",\n        \"description\": \"\"\n      }\n    },\n    {\n      \"column\": \"binary_crossentropy\",\n      \"properties\": {\n        \"dtype\": \"number\",\n        \"std\": 0.12022757923807555,\n        \"min\": 0.0028663480188697577,\n        \"max\": 0.49684372544288635,\n        \"num_unique_values\": 20,\n        \"samples\": [\n          0.49684372544288635,\n          0.004078682046383619,\n          0.006180922035127878\n        ],\n        \"semantic_type\": \"\",\n        \"description\": \"\"\n      }\n    },\n    {\n      \"column\": \"val_loss\",\n      \"properties\": {\n        \"dtype\": \"number\",\n        \"std\": 0.1845276595914321,\n        \"min\": 0.2846614122390747,\n        \"max\": 0.8130357265472412,\n        \"num_unique_values\": 20,\n        \"samples\": [\n          0.3448774218559265,\n          0.7709153890609741,\n          0.720919132232666\n        ],\n        \"semantic_type\": \"\",\n        \"description\": \"\"\n      }\n    },\n    {\n      \"column\": \"val_accuracy\",\n      \"properties\": {\n        \"dtype\": \"number\",\n        \"std\": 0.011763028583699289,\n        \"min\": 0.8534799814224243,\n        \"max\": 0.8883600234985352,\n        \"num_unique_values\": 20,\n        \"samples\": [\n          0.8754400014877319,\n          0.8550400137901306,\n          0.8550800085067749\n        ],\n        \"semantic_type\": \"\",\n        \"description\": \"\"\n      }\n    },\n    {\n      \"column\": \"val_binary_crossentropy\",\n      \"properties\": {\n        \"dtype\": \"number\",\n        \"std\": 0.1845276595914321,\n        \"min\": 0.2846614122390747,\n        \"max\": 0.8130357265472412,\n        \"num_unique_values\": 20,\n        \"samples\": [\n          0.3448774218559265,\n          0.7709153890609741,\n          0.720919132232666\n        ],\n        \"semantic_type\": \"\",\n        \"description\": \"\"\n      }\n    },\n    {\n      \"column\": \"epoch\",\n      \"properties\": {\n        \"dtype\": \"number\",\n        \"std\": 5,\n        \"min\": 0,\n        \"max\": 19,\n        \"num_unique_values\": 20,\n        \"samples\": [\n          0,\n          17,\n          15\n        ],\n        \"semantic_type\": \"\",\n        \"description\": \"\"\n      }\n    }\n  ]\n}"
            }
          },
          "metadata": {},
          "execution_count": 17
        }
      ]
    },
    {
      "cell_type": "code",
      "source": [
        "import plotly.graph_objects as go\n",
        "\n",
        "fig = go.Figure()\n",
        "for name, history in zip(['smaller', 'baseline', 'bigger'], [smaller_history, baseline_history, bigger_history]):\n",
        "    hist = pd.DataFrame(history.history)\n",
        "    hist['epoch'] = history.epoch\n",
        "    fig.add_trace(go.Scatter(x=hist['epoch'], y=hist['binary_crossentropy'], name=name + '_binary_crossentropy', mode='lines+markers'))\n",
        "    fig.add_trace(go.Scatter(x=hist['epoch'], y=hist['val_binary_crossentropy'], name=name + '_val_binary_crossentropy', mode='lines+markers'))\n",
        "    fig.update_layout(xaxis_title='Epoki', yaxis_title='binary_crossentropy')\n",
        "fig.show()"
      ],
      "metadata": {
        "id": "6caOUh1lNtgG",
        "colab": {
          "base_uri": "https://localhost:8080/",
          "height": 542
        },
        "outputId": "eb2113cb-33fc-4243-eb2f-3aab6391d3d8"
      },
      "execution_count": 18,
      "outputs": [
        {
          "output_type": "display_data",
          "data": {
            "text/html": [
              "<html>\n",
              "<head><meta charset=\"utf-8\" /></head>\n",
              "<body>\n",
              "    <div>            <script src=\"https://cdnjs.cloudflare.com/ajax/libs/mathjax/2.7.5/MathJax.js?config=TeX-AMS-MML_SVG\"></script><script type=\"text/javascript\">if (window.MathJax && window.MathJax.Hub && window.MathJax.Hub.Config) {window.MathJax.Hub.Config({SVG: {font: \"STIX-Web\"}});}</script>                <script type=\"text/javascript\">window.PlotlyConfig = {MathJaxConfig: 'local'};</script>\n",
              "        <script charset=\"utf-8\" src=\"https://cdn.plot.ly/plotly-2.24.1.min.js\"></script>                <div id=\"80260b61-2edc-4aad-9425-25540e1e3a14\" class=\"plotly-graph-div\" style=\"height:525px; width:100%;\"></div>            <script type=\"text/javascript\">                                    window.PLOTLYENV=window.PLOTLYENV || {};                                    if (document.getElementById(\"80260b61-2edc-4aad-9425-25540e1e3a14\")) {                    Plotly.newPlot(                        \"80260b61-2edc-4aad-9425-25540e1e3a14\",                        [{\"mode\":\"lines+markers\",\"name\":\"smaller_binary_crossentropy\",\"x\":[0,1,2,3,4,5,6,7,8,9,10,11,12,13,14,15,16,17,18,19],\"y\":[0.6384641528129578,0.5453796982765198,0.4904254376888275,0.45132866501808167,0.4208035171031952,0.39519062638282776,0.37355920672416687,0.3540096879005432,0.33614471554756165,0.32019415497779846,0.30495139956474304,0.2911672294139862,0.2761291265487671,0.2605896592140198,0.24652217328548431,0.2337699830532074,0.22176527976989746,0.21123988926410675,0.20103266835212708,0.19148269295692444],\"type\":\"scatter\"},{\"mode\":\"lines+markers\",\"name\":\"smaller_val_binary_crossentropy\",\"x\":[0,1,2,3,4,5,6,7,8,9,10,11,12,13,14,15,16,17,18,19],\"y\":[0.5895582437515259,0.5321102142333984,0.4960663914680481,0.4694601893424988,0.4509572684764862,0.4386085867881775,0.42883816361427307,0.42240792512893677,0.4093995690345764,0.407833993434906,0.40178245306015015,0.4006361663341522,0.4039146602153778,0.42108967900276184,0.42809292674064636,0.4275103807449341,0.4369879364967346,0.44418027997016907,0.4572737514972687,0.46562233567237854],\"type\":\"scatter\"},{\"mode\":\"lines+markers\",\"name\":\"baseline_binary_crossentropy\",\"x\":[0,1,2,3,4,5,6,7,8,9,10,11,12,13,14,15,16,17,18,19],\"y\":[0.49684372544288635,0.2547145187854767,0.18551243841648102,0.1481090784072876,0.12062937766313553,0.09993507713079453,0.07938205450773239,0.061783529818058014,0.04785434901714325,0.0369744636118412,0.027273891493678093,0.019887056201696396,0.014356718398630619,0.010526576079428196,0.008027048781514168,0.006180922035127878,0.004948900546878576,0.004078682046383619,0.0033922919537872076,0.0028663480188697577],\"type\":\"scatter\"},{\"mode\":\"lines+markers\",\"name\":\"baseline_val_binary_crossentropy\",\"x\":[0,1,2,3,4,5,6,7,8,9,10,11,12,13,14,15,16,17,18,19],\"y\":[0.3448774218559265,0.2846614122390747,0.28657400608062744,0.3048805892467499,0.3332050144672394,0.3708661198616028,0.39890387654304504,0.43743258714675903,0.4764289855957031,0.5157129168510437,0.557295024394989,0.5929148197174072,0.6284496188163757,0.6626700758934021,0.6963350176811218,0.720919132232666,0.7472151517868042,0.7709153890609741,0.7929903864860535,0.8130357265472412],\"type\":\"scatter\"},{\"mode\":\"lines+markers\",\"name\":\"bigger_binary_crossentropy\",\"x\":[0,1,2,3,4,5,6,7,8,9,10,11,12,13,14,15,16,17,18,19],\"y\":[0.35732465982437134,0.166376993060112,0.08972284942865372,0.03021593578159809,0.006727635394781828,0.001225647865794599,0.0004503290983848274,0.0002668584929779172,0.00018575103604234755,0.00013728660997003317,0.00010543081589275971,8.3011036622338e-05,6.701192614855245e-05,5.4926138545852154e-05,4.57203495898284e-05,3.8507474528159946e-05,3.2711101084714755e-05,2.8061689590686e-05,2.4259705242002383e-05,2.114228300342802e-05],\"type\":\"scatter\"},{\"mode\":\"lines+markers\",\"name\":\"bigger_val_binary_crossentropy\",\"x\":[0,1,2,3,4,5,6,7,8,9,10,11,12,13,14,15,16,17,18,19],\"y\":[0.29611170291900635,0.32907411456108093,0.3968226909637451,0.5135464668273926,0.6322553753852844,0.7150932550430298,0.7679975032806396,0.7987321019172668,0.8278474807739258,0.8519756197929382,0.8752272129058838,0.8947086930274963,0.9134933352470398,0.9314811825752258,0.947820782661438,0.964168906211853,0.9786086082458496,0.9929136633872986,1.006455898284912,1.0192439556121826],\"type\":\"scatter\"}],                        {\"template\":{\"data\":{\"histogram2dcontour\":[{\"type\":\"histogram2dcontour\",\"colorbar\":{\"outlinewidth\":0,\"ticks\":\"\"},\"colorscale\":[[0.0,\"#0d0887\"],[0.1111111111111111,\"#46039f\"],[0.2222222222222222,\"#7201a8\"],[0.3333333333333333,\"#9c179e\"],[0.4444444444444444,\"#bd3786\"],[0.5555555555555556,\"#d8576b\"],[0.6666666666666666,\"#ed7953\"],[0.7777777777777778,\"#fb9f3a\"],[0.8888888888888888,\"#fdca26\"],[1.0,\"#f0f921\"]]}],\"choropleth\":[{\"type\":\"choropleth\",\"colorbar\":{\"outlinewidth\":0,\"ticks\":\"\"}}],\"histogram2d\":[{\"type\":\"histogram2d\",\"colorbar\":{\"outlinewidth\":0,\"ticks\":\"\"},\"colorscale\":[[0.0,\"#0d0887\"],[0.1111111111111111,\"#46039f\"],[0.2222222222222222,\"#7201a8\"],[0.3333333333333333,\"#9c179e\"],[0.4444444444444444,\"#bd3786\"],[0.5555555555555556,\"#d8576b\"],[0.6666666666666666,\"#ed7953\"],[0.7777777777777778,\"#fb9f3a\"],[0.8888888888888888,\"#fdca26\"],[1.0,\"#f0f921\"]]}],\"heatmap\":[{\"type\":\"heatmap\",\"colorbar\":{\"outlinewidth\":0,\"ticks\":\"\"},\"colorscale\":[[0.0,\"#0d0887\"],[0.1111111111111111,\"#46039f\"],[0.2222222222222222,\"#7201a8\"],[0.3333333333333333,\"#9c179e\"],[0.4444444444444444,\"#bd3786\"],[0.5555555555555556,\"#d8576b\"],[0.6666666666666666,\"#ed7953\"],[0.7777777777777778,\"#fb9f3a\"],[0.8888888888888888,\"#fdca26\"],[1.0,\"#f0f921\"]]}],\"heatmapgl\":[{\"type\":\"heatmapgl\",\"colorbar\":{\"outlinewidth\":0,\"ticks\":\"\"},\"colorscale\":[[0.0,\"#0d0887\"],[0.1111111111111111,\"#46039f\"],[0.2222222222222222,\"#7201a8\"],[0.3333333333333333,\"#9c179e\"],[0.4444444444444444,\"#bd3786\"],[0.5555555555555556,\"#d8576b\"],[0.6666666666666666,\"#ed7953\"],[0.7777777777777778,\"#fb9f3a\"],[0.8888888888888888,\"#fdca26\"],[1.0,\"#f0f921\"]]}],\"contourcarpet\":[{\"type\":\"contourcarpet\",\"colorbar\":{\"outlinewidth\":0,\"ticks\":\"\"}}],\"contour\":[{\"type\":\"contour\",\"colorbar\":{\"outlinewidth\":0,\"ticks\":\"\"},\"colorscale\":[[0.0,\"#0d0887\"],[0.1111111111111111,\"#46039f\"],[0.2222222222222222,\"#7201a8\"],[0.3333333333333333,\"#9c179e\"],[0.4444444444444444,\"#bd3786\"],[0.5555555555555556,\"#d8576b\"],[0.6666666666666666,\"#ed7953\"],[0.7777777777777778,\"#fb9f3a\"],[0.8888888888888888,\"#fdca26\"],[1.0,\"#f0f921\"]]}],\"surface\":[{\"type\":\"surface\",\"colorbar\":{\"outlinewidth\":0,\"ticks\":\"\"},\"colorscale\":[[0.0,\"#0d0887\"],[0.1111111111111111,\"#46039f\"],[0.2222222222222222,\"#7201a8\"],[0.3333333333333333,\"#9c179e\"],[0.4444444444444444,\"#bd3786\"],[0.5555555555555556,\"#d8576b\"],[0.6666666666666666,\"#ed7953\"],[0.7777777777777778,\"#fb9f3a\"],[0.8888888888888888,\"#fdca26\"],[1.0,\"#f0f921\"]]}],\"mesh3d\":[{\"type\":\"mesh3d\",\"colorbar\":{\"outlinewidth\":0,\"ticks\":\"\"}}],\"scatter\":[{\"fillpattern\":{\"fillmode\":\"overlay\",\"size\":10,\"solidity\":0.2},\"type\":\"scatter\"}],\"parcoords\":[{\"type\":\"parcoords\",\"line\":{\"colorbar\":{\"outlinewidth\":0,\"ticks\":\"\"}}}],\"scatterpolargl\":[{\"type\":\"scatterpolargl\",\"marker\":{\"colorbar\":{\"outlinewidth\":0,\"ticks\":\"\"}}}],\"bar\":[{\"error_x\":{\"color\":\"#2a3f5f\"},\"error_y\":{\"color\":\"#2a3f5f\"},\"marker\":{\"line\":{\"color\":\"#E5ECF6\",\"width\":0.5},\"pattern\":{\"fillmode\":\"overlay\",\"size\":10,\"solidity\":0.2}},\"type\":\"bar\"}],\"scattergeo\":[{\"type\":\"scattergeo\",\"marker\":{\"colorbar\":{\"outlinewidth\":0,\"ticks\":\"\"}}}],\"scatterpolar\":[{\"type\":\"scatterpolar\",\"marker\":{\"colorbar\":{\"outlinewidth\":0,\"ticks\":\"\"}}}],\"histogram\":[{\"marker\":{\"pattern\":{\"fillmode\":\"overlay\",\"size\":10,\"solidity\":0.2}},\"type\":\"histogram\"}],\"scattergl\":[{\"type\":\"scattergl\",\"marker\":{\"colorbar\":{\"outlinewidth\":0,\"ticks\":\"\"}}}],\"scatter3d\":[{\"type\":\"scatter3d\",\"line\":{\"colorbar\":{\"outlinewidth\":0,\"ticks\":\"\"}},\"marker\":{\"colorbar\":{\"outlinewidth\":0,\"ticks\":\"\"}}}],\"scattermapbox\":[{\"type\":\"scattermapbox\",\"marker\":{\"colorbar\":{\"outlinewidth\":0,\"ticks\":\"\"}}}],\"scatterternary\":[{\"type\":\"scatterternary\",\"marker\":{\"colorbar\":{\"outlinewidth\":0,\"ticks\":\"\"}}}],\"scattercarpet\":[{\"type\":\"scattercarpet\",\"marker\":{\"colorbar\":{\"outlinewidth\":0,\"ticks\":\"\"}}}],\"carpet\":[{\"aaxis\":{\"endlinecolor\":\"#2a3f5f\",\"gridcolor\":\"white\",\"linecolor\":\"white\",\"minorgridcolor\":\"white\",\"startlinecolor\":\"#2a3f5f\"},\"baxis\":{\"endlinecolor\":\"#2a3f5f\",\"gridcolor\":\"white\",\"linecolor\":\"white\",\"minorgridcolor\":\"white\",\"startlinecolor\":\"#2a3f5f\"},\"type\":\"carpet\"}],\"table\":[{\"cells\":{\"fill\":{\"color\":\"#EBF0F8\"},\"line\":{\"color\":\"white\"}},\"header\":{\"fill\":{\"color\":\"#C8D4E3\"},\"line\":{\"color\":\"white\"}},\"type\":\"table\"}],\"barpolar\":[{\"marker\":{\"line\":{\"color\":\"#E5ECF6\",\"width\":0.5},\"pattern\":{\"fillmode\":\"overlay\",\"size\":10,\"solidity\":0.2}},\"type\":\"barpolar\"}],\"pie\":[{\"automargin\":true,\"type\":\"pie\"}]},\"layout\":{\"autotypenumbers\":\"strict\",\"colorway\":[\"#636efa\",\"#EF553B\",\"#00cc96\",\"#ab63fa\",\"#FFA15A\",\"#19d3f3\",\"#FF6692\",\"#B6E880\",\"#FF97FF\",\"#FECB52\"],\"font\":{\"color\":\"#2a3f5f\"},\"hovermode\":\"closest\",\"hoverlabel\":{\"align\":\"left\"},\"paper_bgcolor\":\"white\",\"plot_bgcolor\":\"#E5ECF6\",\"polar\":{\"bgcolor\":\"#E5ECF6\",\"angularaxis\":{\"gridcolor\":\"white\",\"linecolor\":\"white\",\"ticks\":\"\"},\"radialaxis\":{\"gridcolor\":\"white\",\"linecolor\":\"white\",\"ticks\":\"\"}},\"ternary\":{\"bgcolor\":\"#E5ECF6\",\"aaxis\":{\"gridcolor\":\"white\",\"linecolor\":\"white\",\"ticks\":\"\"},\"baxis\":{\"gridcolor\":\"white\",\"linecolor\":\"white\",\"ticks\":\"\"},\"caxis\":{\"gridcolor\":\"white\",\"linecolor\":\"white\",\"ticks\":\"\"}},\"coloraxis\":{\"colorbar\":{\"outlinewidth\":0,\"ticks\":\"\"}},\"colorscale\":{\"sequential\":[[0.0,\"#0d0887\"],[0.1111111111111111,\"#46039f\"],[0.2222222222222222,\"#7201a8\"],[0.3333333333333333,\"#9c179e\"],[0.4444444444444444,\"#bd3786\"],[0.5555555555555556,\"#d8576b\"],[0.6666666666666666,\"#ed7953\"],[0.7777777777777778,\"#fb9f3a\"],[0.8888888888888888,\"#fdca26\"],[1.0,\"#f0f921\"]],\"sequentialminus\":[[0.0,\"#0d0887\"],[0.1111111111111111,\"#46039f\"],[0.2222222222222222,\"#7201a8\"],[0.3333333333333333,\"#9c179e\"],[0.4444444444444444,\"#bd3786\"],[0.5555555555555556,\"#d8576b\"],[0.6666666666666666,\"#ed7953\"],[0.7777777777777778,\"#fb9f3a\"],[0.8888888888888888,\"#fdca26\"],[1.0,\"#f0f921\"]],\"diverging\":[[0,\"#8e0152\"],[0.1,\"#c51b7d\"],[0.2,\"#de77ae\"],[0.3,\"#f1b6da\"],[0.4,\"#fde0ef\"],[0.5,\"#f7f7f7\"],[0.6,\"#e6f5d0\"],[0.7,\"#b8e186\"],[0.8,\"#7fbc41\"],[0.9,\"#4d9221\"],[1,\"#276419\"]]},\"xaxis\":{\"gridcolor\":\"white\",\"linecolor\":\"white\",\"ticks\":\"\",\"title\":{\"standoff\":15},\"zerolinecolor\":\"white\",\"automargin\":true,\"zerolinewidth\":2},\"yaxis\":{\"gridcolor\":\"white\",\"linecolor\":\"white\",\"ticks\":\"\",\"title\":{\"standoff\":15},\"zerolinecolor\":\"white\",\"automargin\":true,\"zerolinewidth\":2},\"scene\":{\"xaxis\":{\"backgroundcolor\":\"#E5ECF6\",\"gridcolor\":\"white\",\"linecolor\":\"white\",\"showbackground\":true,\"ticks\":\"\",\"zerolinecolor\":\"white\",\"gridwidth\":2},\"yaxis\":{\"backgroundcolor\":\"#E5ECF6\",\"gridcolor\":\"white\",\"linecolor\":\"white\",\"showbackground\":true,\"ticks\":\"\",\"zerolinecolor\":\"white\",\"gridwidth\":2},\"zaxis\":{\"backgroundcolor\":\"#E5ECF6\",\"gridcolor\":\"white\",\"linecolor\":\"white\",\"showbackground\":true,\"ticks\":\"\",\"zerolinecolor\":\"white\",\"gridwidth\":2}},\"shapedefaults\":{\"line\":{\"color\":\"#2a3f5f\"}},\"annotationdefaults\":{\"arrowcolor\":\"#2a3f5f\",\"arrowhead\":0,\"arrowwidth\":1},\"geo\":{\"bgcolor\":\"white\",\"landcolor\":\"#E5ECF6\",\"subunitcolor\":\"white\",\"showland\":true,\"showlakes\":true,\"lakecolor\":\"white\"},\"title\":{\"x\":0.05},\"mapbox\":{\"style\":\"light\"}}},\"xaxis\":{\"title\":{\"text\":\"Epoki\"}},\"yaxis\":{\"title\":{\"text\":\"binary_crossentropy\"}}},                        {\"responsive\": true}                    ).then(function(){\n",
              "                            \n",
              "var gd = document.getElementById('80260b61-2edc-4aad-9425-25540e1e3a14');\n",
              "var x = new MutationObserver(function (mutations, observer) {{\n",
              "        var display = window.getComputedStyle(gd).display;\n",
              "        if (!display || display === 'none') {{\n",
              "            console.log([gd, 'removed!']);\n",
              "            Plotly.purge(gd);\n",
              "            observer.disconnect();\n",
              "        }}\n",
              "}});\n",
              "\n",
              "// Listen for the removal of the full notebook cells\n",
              "var notebookContainer = gd.closest('#notebook-container');\n",
              "if (notebookContainer) {{\n",
              "    x.observe(notebookContainer, {childList: true});\n",
              "}}\n",
              "\n",
              "// Listen for the clearing of the current output cell\n",
              "var outputEl = gd.closest('.output');\n",
              "if (outputEl) {{\n",
              "    x.observe(outputEl, {childList: true});\n",
              "}}\n",
              "\n",
              "                        })                };                            </script>        </div>\n",
              "</body>\n",
              "</html>"
            ]
          },
          "metadata": {}
        }
      ]
    },
    {
      "cell_type": "markdown",
      "source": [
        "## val_binary_crossentropy - najważniejszy - trzeba znaleśc minimum\n",
        "Najlepszy jest model najmniejszy i należy go ograniczyć do tylko 5 epok !!!!"
      ],
      "metadata": {
        "id": "lq3WL_psO1GQ"
      }
    },
    {
      "cell_type": "markdown",
      "source": [
        "# Metody regularyzacji"
      ],
      "metadata": {
        "id": "qUhZyHmlRQEI"
      }
    },
    {
      "cell_type": "code",
      "source": [
        "from tensorflow.keras.regularizers import l2  # 👈👈👈👈👈👈👈\n",
        "\n",
        "l2_model = Sequential()\n",
        "l2_model.add(Dense(units=16, kernel_regularizer=l2(0.001), activation='relu', input_shape=(NUM_WORDS,)))   # NUM_WORDS = 10_000\n",
        "l2_model.add(Dense(units=16, kernel_regularizer=l2(0.01), activation='relu'))\n",
        "l2_model.add(Dense(units=1, activation='sigmoid'))\n",
        "\n",
        "l2_model.compile(optimizer='adam',\n",
        "                       loss='binary_crossentropy',\n",
        "                       metrics=['accuracy', 'binary_crossentropy'])\n",
        "\n",
        "l2_model.summary()"
      ],
      "metadata": {
        "id": "ZmiLfuvtPRQv",
        "colab": {
          "base_uri": "https://localhost:8080/"
        },
        "outputId": "e822f97e-b859-47d9-c89b-da7464923f12"
      },
      "execution_count": 11,
      "outputs": [
        {
          "output_type": "stream",
          "name": "stdout",
          "text": [
            "Model: \"sequential\"\n",
            "_________________________________________________________________\n",
            " Layer (type)                Output Shape              Param #   \n",
            "=================================================================\n",
            " dense (Dense)               (None, 16)                160016    \n",
            "                                                                 \n",
            " dense_1 (Dense)             (None, 16)                272       \n",
            "                                                                 \n",
            " dense_2 (Dense)             (None, 1)                 17        \n",
            "                                                                 \n",
            "=================================================================\n",
            "Total params: 160305 (626.19 KB)\n",
            "Trainable params: 160305 (626.19 KB)\n",
            "Non-trainable params: 0 (0.00 Byte)\n",
            "_________________________________________________________________\n"
          ]
        }
      ]
    },
    {
      "cell_type": "code",
      "source": [
        "l2_history = l2_model.fit(train_data, train_lables, epochs=20, batch_size=512, validation_data=(test_data, test_lables), verbose=2)"
      ],
      "metadata": {
        "id": "o-o1JKQnSJrr",
        "colab": {
          "base_uri": "https://localhost:8080/"
        },
        "outputId": "88b4bb45-6cd8-46aa-b5f0-8e8b95196470"
      },
      "execution_count": 12,
      "outputs": [
        {
          "output_type": "stream",
          "name": "stdout",
          "text": [
            "Epoch 1/20\n",
            "49/49 - 6s - loss: 0.6671 - accuracy: 0.8034 - binary_crossentropy: 0.5115 - val_loss: 0.5168 - val_accuracy: 0.8697 - val_binary_crossentropy: 0.3698 - 6s/epoch - 115ms/step\n",
            "Epoch 2/20\n",
            "49/49 - 2s - loss: 0.4323 - accuracy: 0.8992 - binary_crossentropy: 0.2873 - val_loss: 0.4455 - val_accuracy: 0.8816 - val_binary_crossentropy: 0.3049 - 2s/epoch - 37ms/step\n",
            "Epoch 3/20\n",
            "49/49 - 2s - loss: 0.3679 - accuracy: 0.9167 - binary_crossentropy: 0.2315 - val_loss: 0.4221 - val_accuracy: 0.8836 - val_binary_crossentropy: 0.2907 - 2s/epoch - 50ms/step\n",
            "Epoch 4/20\n",
            "49/49 - 3s - loss: 0.3324 - accuracy: 0.9292 - binary_crossentropy: 0.2047 - val_loss: 0.4096 - val_accuracy: 0.8841 - val_binary_crossentropy: 0.2863 - 3s/epoch - 59ms/step\n",
            "Epoch 5/20\n",
            "49/49 - 2s - loss: 0.3078 - accuracy: 0.9366 - binary_crossentropy: 0.1874 - val_loss: 0.4027 - val_accuracy: 0.8839 - val_binary_crossentropy: 0.2862 - 2s/epoch - 36ms/step\n",
            "Epoch 6/20\n",
            "49/49 - 2s - loss: 0.2911 - accuracy: 0.9408 - binary_crossentropy: 0.1768 - val_loss: 0.3996 - val_accuracy: 0.8828 - val_binary_crossentropy: 0.2886 - 2s/epoch - 36ms/step\n",
            "Epoch 7/20\n",
            "49/49 - 2s - loss: 0.2781 - accuracy: 0.9438 - binary_crossentropy: 0.1690 - val_loss: 0.3999 - val_accuracy: 0.8816 - val_binary_crossentropy: 0.2931 - 2s/epoch - 36ms/step\n",
            "Epoch 8/20\n",
            "49/49 - 2s - loss: 0.2683 - accuracy: 0.9452 - binary_crossentropy: 0.1626 - val_loss: 0.4037 - val_accuracy: 0.8791 - val_binary_crossentropy: 0.3000 - 2s/epoch - 36ms/step\n",
            "Epoch 9/20\n",
            "49/49 - 2s - loss: 0.2590 - accuracy: 0.9492 - binary_crossentropy: 0.1566 - val_loss: 0.4020 - val_accuracy: 0.8778 - val_binary_crossentropy: 0.3012 - 2s/epoch - 36ms/step\n",
            "Epoch 10/20\n",
            "49/49 - 3s - loss: 0.2520 - accuracy: 0.9502 - binary_crossentropy: 0.1518 - val_loss: 0.4040 - val_accuracy: 0.8778 - val_binary_crossentropy: 0.3054 - 3s/epoch - 52ms/step\n",
            "Epoch 11/20\n",
            "49/49 - 2s - loss: 0.2460 - accuracy: 0.9512 - binary_crossentropy: 0.1479 - val_loss: 0.4053 - val_accuracy: 0.8769 - val_binary_crossentropy: 0.3083 - 2s/epoch - 50ms/step\n",
            "Epoch 12/20\n",
            "49/49 - 2s - loss: 0.2401 - accuracy: 0.9546 - binary_crossentropy: 0.1437 - val_loss: 0.4061 - val_accuracy: 0.8754 - val_binary_crossentropy: 0.3108 - 2s/epoch - 36ms/step\n",
            "Epoch 13/20\n",
            "49/49 - 2s - loss: 0.2358 - accuracy: 0.9538 - binary_crossentropy: 0.1409 - val_loss: 0.4093 - val_accuracy: 0.8757 - val_binary_crossentropy: 0.3151 - 2s/epoch - 37ms/step\n",
            "Epoch 14/20\n",
            "49/49 - 2s - loss: 0.2319 - accuracy: 0.9556 - binary_crossentropy: 0.1381 - val_loss: 0.4152 - val_accuracy: 0.8730 - val_binary_crossentropy: 0.3220 - 2s/epoch - 36ms/step\n",
            "Epoch 15/20\n",
            "49/49 - 2s - loss: 0.2294 - accuracy: 0.9535 - binary_crossentropy: 0.1360 - val_loss: 0.4147 - val_accuracy: 0.8729 - val_binary_crossentropy: 0.3220 - 2s/epoch - 36ms/step\n",
            "Epoch 16/20\n",
            "49/49 - 3s - loss: 0.2230 - accuracy: 0.9579 - binary_crossentropy: 0.1305 - val_loss: 0.4184 - val_accuracy: 0.8726 - val_binary_crossentropy: 0.3268 - 3s/epoch - 55ms/step\n",
            "Epoch 17/20\n",
            "49/49 - 3s - loss: 0.2202 - accuracy: 0.9583 - binary_crossentropy: 0.1284 - val_loss: 0.4224 - val_accuracy: 0.8711 - val_binary_crossentropy: 0.3311 - 3s/epoch - 70ms/step\n",
            "Epoch 18/20\n",
            "49/49 - 2s - loss: 0.2175 - accuracy: 0.9590 - binary_crossentropy: 0.1261 - val_loss: 0.4281 - val_accuracy: 0.8704 - val_binary_crossentropy: 0.3375 - 2s/epoch - 36ms/step\n",
            "Epoch 19/20\n",
            "49/49 - 2s - loss: 0.2145 - accuracy: 0.9597 - binary_crossentropy: 0.1238 - val_loss: 0.4280 - val_accuracy: 0.8704 - val_binary_crossentropy: 0.3379 - 2s/epoch - 37ms/step\n",
            "Epoch 20/20\n",
            "49/49 - 2s - loss: 0.2163 - accuracy: 0.9570 - binary_crossentropy: 0.1263 - val_loss: 0.4304 - val_accuracy: 0.8675 - val_binary_crossentropy: 0.3407 - 2s/epoch - 36ms/step\n"
          ]
        }
      ]
    },
    {
      "cell_type": "code",
      "source": [
        "import plotly.graph_objects as go\n",
        "\n",
        "fig = go.Figure()\n",
        "for name, history in zip(['baseline', 'l2'], [baseline_history, l2_history]):\n",
        "    hist = pd.DataFrame(history.history)\n",
        "    hist['epoch'] = history.epoch\n",
        "    fig.add_trace(go.Scatter(x=hist['epoch'], y=hist['binary_crossentropy'], name=name + '_binary_crossentropy', mode='lines+markers'))\n",
        "    fig.add_trace(go.Scatter(x=hist['epoch'], y=hist['val_binary_crossentropy'], name=name + '_val_binary_crossentropy', mode='lines+markers'))\n",
        "    fig.update_layout(xaxis_title='Epoki', yaxis_title='binary_crossentropy')\n",
        "fig.show()"
      ],
      "metadata": {
        "id": "3TxHqZ7BSlkE",
        "colab": {
          "base_uri": "https://localhost:8080/",
          "height": 542
        },
        "outputId": "24a119e5-7c4e-4137-f28b-55c96f2dbae1"
      },
      "execution_count": 17,
      "outputs": [
        {
          "output_type": "display_data",
          "data": {
            "text/html": [
              "<html>\n",
              "<head><meta charset=\"utf-8\" /></head>\n",
              "<body>\n",
              "    <div>            <script src=\"https://cdnjs.cloudflare.com/ajax/libs/mathjax/2.7.5/MathJax.js?config=TeX-AMS-MML_SVG\"></script><script type=\"text/javascript\">if (window.MathJax && window.MathJax.Hub && window.MathJax.Hub.Config) {window.MathJax.Hub.Config({SVG: {font: \"STIX-Web\"}});}</script>                <script type=\"text/javascript\">window.PlotlyConfig = {MathJaxConfig: 'local'};</script>\n",
              "        <script charset=\"utf-8\" src=\"https://cdn.plot.ly/plotly-2.24.1.min.js\"></script>                <div id=\"3202559c-acc8-41fd-8907-0e9bd7b83490\" class=\"plotly-graph-div\" style=\"height:525px; width:100%;\"></div>            <script type=\"text/javascript\">                                    window.PLOTLYENV=window.PLOTLYENV || {};                                    if (document.getElementById(\"3202559c-acc8-41fd-8907-0e9bd7b83490\")) {                    Plotly.newPlot(                        \"3202559c-acc8-41fd-8907-0e9bd7b83490\",                        [{\"mode\":\"lines+markers\",\"name\":\"baseline_binary_crossentropy\",\"x\":[0,1,2,3,4,5,6,7,8,9,10,11,12,13,14,15,16,17,18,19],\"y\":[0.4872067868709564,0.25137224793434143,0.18378117680549622,0.14628519117832184,0.11888281255960464,0.09729380160570145,0.07809799164533615,0.06205492839217186,0.04832656309008598,0.037281591445207596,0.027842827141284943,0.020688649266958237,0.014987298287451267,0.010892653837800026,0.008047287352383137,0.0058723334223032,0.004422546364367008,0.003367908298969269,0.002617812715470791,0.0020968515891581774],\"type\":\"scatter\"},{\"mode\":\"lines+markers\",\"name\":\"baseline_val_binary_crossentropy\",\"x\":[0,1,2,3,4,5,6,7,8,9,10,11,12,13,14,15,16,17,18,19],\"y\":[0.34094053506851196,0.28294292092323303,0.2927062213420868,0.31074094772338867,0.3386290967464447,0.37499645352363586,0.4141252338886261,0.45344725251197815,0.49570053815841675,0.5385110974311829,0.5870307087898254,0.635018527507782,0.6809937357902527,0.7229342460632324,0.7660919427871704,0.8072093725204468,0.8501882553100586,0.8840836882591248,0.916738748550415,0.9470071196556091],\"type\":\"scatter\"},{\"mode\":\"lines+markers\",\"name\":\"l2_binary_crossentropy\",\"x\":[0,1,2,3,4,5,6,7,8,9,10,11,12,13,14,15,16,17,18,19],\"y\":[0.5115121603012085,0.2872597575187683,0.2314806431531906,0.20469677448272705,0.18743813037872314,0.17680451273918152,0.16900452971458435,0.16259558498859406,0.15662696957588196,0.1518288254737854,0.1479293406009674,0.14371898770332336,0.14091072976589203,0.1380629539489746,0.13599981367588043,0.13053826987743378,0.12842294573783875,0.12607282400131226,0.12384894490242004,0.12633080780506134],\"type\":\"scatter\"},{\"mode\":\"lines+markers\",\"name\":\"l2_val_binary_crossentropy\",\"x\":[0,1,2,3,4,5,6,7,8,9,10,11,12,13,14,15,16,17,18,19],\"y\":[0.36975234746932983,0.30486932396888733,0.290701687335968,0.2863478660583496,0.28618237376213074,0.28855836391448975,0.2930721640586853,0.3000018894672394,0.3011661469936371,0.30540531873703003,0.3082791864871979,0.3107636272907257,0.31511422991752625,0.32197511196136475,0.32195600867271423,0.32678258419036865,0.3310682475566864,0.3374658226966858,0.3379322290420532,0.34071651101112366],\"type\":\"scatter\"}],                        {\"template\":{\"data\":{\"histogram2dcontour\":[{\"type\":\"histogram2dcontour\",\"colorbar\":{\"outlinewidth\":0,\"ticks\":\"\"},\"colorscale\":[[0.0,\"#0d0887\"],[0.1111111111111111,\"#46039f\"],[0.2222222222222222,\"#7201a8\"],[0.3333333333333333,\"#9c179e\"],[0.4444444444444444,\"#bd3786\"],[0.5555555555555556,\"#d8576b\"],[0.6666666666666666,\"#ed7953\"],[0.7777777777777778,\"#fb9f3a\"],[0.8888888888888888,\"#fdca26\"],[1.0,\"#f0f921\"]]}],\"choropleth\":[{\"type\":\"choropleth\",\"colorbar\":{\"outlinewidth\":0,\"ticks\":\"\"}}],\"histogram2d\":[{\"type\":\"histogram2d\",\"colorbar\":{\"outlinewidth\":0,\"ticks\":\"\"},\"colorscale\":[[0.0,\"#0d0887\"],[0.1111111111111111,\"#46039f\"],[0.2222222222222222,\"#7201a8\"],[0.3333333333333333,\"#9c179e\"],[0.4444444444444444,\"#bd3786\"],[0.5555555555555556,\"#d8576b\"],[0.6666666666666666,\"#ed7953\"],[0.7777777777777778,\"#fb9f3a\"],[0.8888888888888888,\"#fdca26\"],[1.0,\"#f0f921\"]]}],\"heatmap\":[{\"type\":\"heatmap\",\"colorbar\":{\"outlinewidth\":0,\"ticks\":\"\"},\"colorscale\":[[0.0,\"#0d0887\"],[0.1111111111111111,\"#46039f\"],[0.2222222222222222,\"#7201a8\"],[0.3333333333333333,\"#9c179e\"],[0.4444444444444444,\"#bd3786\"],[0.5555555555555556,\"#d8576b\"],[0.6666666666666666,\"#ed7953\"],[0.7777777777777778,\"#fb9f3a\"],[0.8888888888888888,\"#fdca26\"],[1.0,\"#f0f921\"]]}],\"heatmapgl\":[{\"type\":\"heatmapgl\",\"colorbar\":{\"outlinewidth\":0,\"ticks\":\"\"},\"colorscale\":[[0.0,\"#0d0887\"],[0.1111111111111111,\"#46039f\"],[0.2222222222222222,\"#7201a8\"],[0.3333333333333333,\"#9c179e\"],[0.4444444444444444,\"#bd3786\"],[0.5555555555555556,\"#d8576b\"],[0.6666666666666666,\"#ed7953\"],[0.7777777777777778,\"#fb9f3a\"],[0.8888888888888888,\"#fdca26\"],[1.0,\"#f0f921\"]]}],\"contourcarpet\":[{\"type\":\"contourcarpet\",\"colorbar\":{\"outlinewidth\":0,\"ticks\":\"\"}}],\"contour\":[{\"type\":\"contour\",\"colorbar\":{\"outlinewidth\":0,\"ticks\":\"\"},\"colorscale\":[[0.0,\"#0d0887\"],[0.1111111111111111,\"#46039f\"],[0.2222222222222222,\"#7201a8\"],[0.3333333333333333,\"#9c179e\"],[0.4444444444444444,\"#bd3786\"],[0.5555555555555556,\"#d8576b\"],[0.6666666666666666,\"#ed7953\"],[0.7777777777777778,\"#fb9f3a\"],[0.8888888888888888,\"#fdca26\"],[1.0,\"#f0f921\"]]}],\"surface\":[{\"type\":\"surface\",\"colorbar\":{\"outlinewidth\":0,\"ticks\":\"\"},\"colorscale\":[[0.0,\"#0d0887\"],[0.1111111111111111,\"#46039f\"],[0.2222222222222222,\"#7201a8\"],[0.3333333333333333,\"#9c179e\"],[0.4444444444444444,\"#bd3786\"],[0.5555555555555556,\"#d8576b\"],[0.6666666666666666,\"#ed7953\"],[0.7777777777777778,\"#fb9f3a\"],[0.8888888888888888,\"#fdca26\"],[1.0,\"#f0f921\"]]}],\"mesh3d\":[{\"type\":\"mesh3d\",\"colorbar\":{\"outlinewidth\":0,\"ticks\":\"\"}}],\"scatter\":[{\"fillpattern\":{\"fillmode\":\"overlay\",\"size\":10,\"solidity\":0.2},\"type\":\"scatter\"}],\"parcoords\":[{\"type\":\"parcoords\",\"line\":{\"colorbar\":{\"outlinewidth\":0,\"ticks\":\"\"}}}],\"scatterpolargl\":[{\"type\":\"scatterpolargl\",\"marker\":{\"colorbar\":{\"outlinewidth\":0,\"ticks\":\"\"}}}],\"bar\":[{\"error_x\":{\"color\":\"#2a3f5f\"},\"error_y\":{\"color\":\"#2a3f5f\"},\"marker\":{\"line\":{\"color\":\"#E5ECF6\",\"width\":0.5},\"pattern\":{\"fillmode\":\"overlay\",\"size\":10,\"solidity\":0.2}},\"type\":\"bar\"}],\"scattergeo\":[{\"type\":\"scattergeo\",\"marker\":{\"colorbar\":{\"outlinewidth\":0,\"ticks\":\"\"}}}],\"scatterpolar\":[{\"type\":\"scatterpolar\",\"marker\":{\"colorbar\":{\"outlinewidth\":0,\"ticks\":\"\"}}}],\"histogram\":[{\"marker\":{\"pattern\":{\"fillmode\":\"overlay\",\"size\":10,\"solidity\":0.2}},\"type\":\"histogram\"}],\"scattergl\":[{\"type\":\"scattergl\",\"marker\":{\"colorbar\":{\"outlinewidth\":0,\"ticks\":\"\"}}}],\"scatter3d\":[{\"type\":\"scatter3d\",\"line\":{\"colorbar\":{\"outlinewidth\":0,\"ticks\":\"\"}},\"marker\":{\"colorbar\":{\"outlinewidth\":0,\"ticks\":\"\"}}}],\"scattermapbox\":[{\"type\":\"scattermapbox\",\"marker\":{\"colorbar\":{\"outlinewidth\":0,\"ticks\":\"\"}}}],\"scatterternary\":[{\"type\":\"scatterternary\",\"marker\":{\"colorbar\":{\"outlinewidth\":0,\"ticks\":\"\"}}}],\"scattercarpet\":[{\"type\":\"scattercarpet\",\"marker\":{\"colorbar\":{\"outlinewidth\":0,\"ticks\":\"\"}}}],\"carpet\":[{\"aaxis\":{\"endlinecolor\":\"#2a3f5f\",\"gridcolor\":\"white\",\"linecolor\":\"white\",\"minorgridcolor\":\"white\",\"startlinecolor\":\"#2a3f5f\"},\"baxis\":{\"endlinecolor\":\"#2a3f5f\",\"gridcolor\":\"white\",\"linecolor\":\"white\",\"minorgridcolor\":\"white\",\"startlinecolor\":\"#2a3f5f\"},\"type\":\"carpet\"}],\"table\":[{\"cells\":{\"fill\":{\"color\":\"#EBF0F8\"},\"line\":{\"color\":\"white\"}},\"header\":{\"fill\":{\"color\":\"#C8D4E3\"},\"line\":{\"color\":\"white\"}},\"type\":\"table\"}],\"barpolar\":[{\"marker\":{\"line\":{\"color\":\"#E5ECF6\",\"width\":0.5},\"pattern\":{\"fillmode\":\"overlay\",\"size\":10,\"solidity\":0.2}},\"type\":\"barpolar\"}],\"pie\":[{\"automargin\":true,\"type\":\"pie\"}]},\"layout\":{\"autotypenumbers\":\"strict\",\"colorway\":[\"#636efa\",\"#EF553B\",\"#00cc96\",\"#ab63fa\",\"#FFA15A\",\"#19d3f3\",\"#FF6692\",\"#B6E880\",\"#FF97FF\",\"#FECB52\"],\"font\":{\"color\":\"#2a3f5f\"},\"hovermode\":\"closest\",\"hoverlabel\":{\"align\":\"left\"},\"paper_bgcolor\":\"white\",\"plot_bgcolor\":\"#E5ECF6\",\"polar\":{\"bgcolor\":\"#E5ECF6\",\"angularaxis\":{\"gridcolor\":\"white\",\"linecolor\":\"white\",\"ticks\":\"\"},\"radialaxis\":{\"gridcolor\":\"white\",\"linecolor\":\"white\",\"ticks\":\"\"}},\"ternary\":{\"bgcolor\":\"#E5ECF6\",\"aaxis\":{\"gridcolor\":\"white\",\"linecolor\":\"white\",\"ticks\":\"\"},\"baxis\":{\"gridcolor\":\"white\",\"linecolor\":\"white\",\"ticks\":\"\"},\"caxis\":{\"gridcolor\":\"white\",\"linecolor\":\"white\",\"ticks\":\"\"}},\"coloraxis\":{\"colorbar\":{\"outlinewidth\":0,\"ticks\":\"\"}},\"colorscale\":{\"sequential\":[[0.0,\"#0d0887\"],[0.1111111111111111,\"#46039f\"],[0.2222222222222222,\"#7201a8\"],[0.3333333333333333,\"#9c179e\"],[0.4444444444444444,\"#bd3786\"],[0.5555555555555556,\"#d8576b\"],[0.6666666666666666,\"#ed7953\"],[0.7777777777777778,\"#fb9f3a\"],[0.8888888888888888,\"#fdca26\"],[1.0,\"#f0f921\"]],\"sequentialminus\":[[0.0,\"#0d0887\"],[0.1111111111111111,\"#46039f\"],[0.2222222222222222,\"#7201a8\"],[0.3333333333333333,\"#9c179e\"],[0.4444444444444444,\"#bd3786\"],[0.5555555555555556,\"#d8576b\"],[0.6666666666666666,\"#ed7953\"],[0.7777777777777778,\"#fb9f3a\"],[0.8888888888888888,\"#fdca26\"],[1.0,\"#f0f921\"]],\"diverging\":[[0,\"#8e0152\"],[0.1,\"#c51b7d\"],[0.2,\"#de77ae\"],[0.3,\"#f1b6da\"],[0.4,\"#fde0ef\"],[0.5,\"#f7f7f7\"],[0.6,\"#e6f5d0\"],[0.7,\"#b8e186\"],[0.8,\"#7fbc41\"],[0.9,\"#4d9221\"],[1,\"#276419\"]]},\"xaxis\":{\"gridcolor\":\"white\",\"linecolor\":\"white\",\"ticks\":\"\",\"title\":{\"standoff\":15},\"zerolinecolor\":\"white\",\"automargin\":true,\"zerolinewidth\":2},\"yaxis\":{\"gridcolor\":\"white\",\"linecolor\":\"white\",\"ticks\":\"\",\"title\":{\"standoff\":15},\"zerolinecolor\":\"white\",\"automargin\":true,\"zerolinewidth\":2},\"scene\":{\"xaxis\":{\"backgroundcolor\":\"#E5ECF6\",\"gridcolor\":\"white\",\"linecolor\":\"white\",\"showbackground\":true,\"ticks\":\"\",\"zerolinecolor\":\"white\",\"gridwidth\":2},\"yaxis\":{\"backgroundcolor\":\"#E5ECF6\",\"gridcolor\":\"white\",\"linecolor\":\"white\",\"showbackground\":true,\"ticks\":\"\",\"zerolinecolor\":\"white\",\"gridwidth\":2},\"zaxis\":{\"backgroundcolor\":\"#E5ECF6\",\"gridcolor\":\"white\",\"linecolor\":\"white\",\"showbackground\":true,\"ticks\":\"\",\"zerolinecolor\":\"white\",\"gridwidth\":2}},\"shapedefaults\":{\"line\":{\"color\":\"#2a3f5f\"}},\"annotationdefaults\":{\"arrowcolor\":\"#2a3f5f\",\"arrowhead\":0,\"arrowwidth\":1},\"geo\":{\"bgcolor\":\"white\",\"landcolor\":\"#E5ECF6\",\"subunitcolor\":\"white\",\"showland\":true,\"showlakes\":true,\"lakecolor\":\"white\"},\"title\":{\"x\":0.05},\"mapbox\":{\"style\":\"light\"}}},\"xaxis\":{\"title\":{\"text\":\"Epoki\"}},\"yaxis\":{\"title\":{\"text\":\"binary_crossentropy\"}}},                        {\"responsive\": true}                    ).then(function(){\n",
              "                            \n",
              "var gd = document.getElementById('3202559c-acc8-41fd-8907-0e9bd7b83490');\n",
              "var x = new MutationObserver(function (mutations, observer) {{\n",
              "        var display = window.getComputedStyle(gd).display;\n",
              "        if (!display || display === 'none') {{\n",
              "            console.log([gd, 'removed!']);\n",
              "            Plotly.purge(gd);\n",
              "            observer.disconnect();\n",
              "        }}\n",
              "}});\n",
              "\n",
              "// Listen for the removal of the full notebook cells\n",
              "var notebookContainer = gd.closest('#notebook-container');\n",
              "if (notebookContainer) {{\n",
              "    x.observe(notebookContainer, {childList: true});\n",
              "}}\n",
              "\n",
              "// Listen for the clearing of the current output cell\n",
              "var outputEl = gd.closest('.output');\n",
              "if (outputEl) {{\n",
              "    x.observe(outputEl, {childList: true});\n",
              "}}\n",
              "\n",
              "                        })                };                            </script>        </div>\n",
              "</body>\n",
              "</html>"
            ]
          },
          "metadata": {}
        }
      ]
    },
    {
      "cell_type": "code",
      "source": [
        "\n",
        "from tensorflow.keras.layers import Dropout  # porzucz częśc neuronów w trenowaniu modelu  # 👈👈👈👈👈👈👈\n",
        "\n",
        "dropout_model = Sequential()\n",
        "dropout_model.add(Dense(16, activation='relu', input_shape=(NUM_WORDS,)))\n",
        "dropout_model.add(Dropout(0.5))\n",
        "dropout_model.add(Dense(16, activation='relu'))\n",
        "dropout_model.add(Dropout(0.5))\n",
        "dropout_model.add(Dense(1, activation='sigmoid'))\n",
        "\n",
        "dropout_model.compile(optimizer='adam',\n",
        "                 loss='binary_crossentropy',\n",
        "                 metrics=['accuracy', 'binary_crossentropy'])\n",
        "\n",
        "dropout_model.summary()"
      ],
      "metadata": {
        "id": "cOQAv0IoSsXf",
        "colab": {
          "base_uri": "https://localhost:8080/"
        },
        "outputId": "d9d2020b-350c-4796-b43b-4046db41df85"
      },
      "execution_count": 18,
      "outputs": [
        {
          "output_type": "stream",
          "name": "stdout",
          "text": [
            "Model: \"sequential_2\"\n",
            "_________________________________________________________________\n",
            " Layer (type)                Output Shape              Param #   \n",
            "=================================================================\n",
            " dense_6 (Dense)             (None, 16)                160016    \n",
            "                                                                 \n",
            " dropout (Dropout)           (None, 16)                0         \n",
            "                                                                 \n",
            " dense_7 (Dense)             (None, 16)                272       \n",
            "                                                                 \n",
            " dropout_1 (Dropout)         (None, 16)                0         \n",
            "                                                                 \n",
            " dense_8 (Dense)             (None, 1)                 17        \n",
            "                                                                 \n",
            "=================================================================\n",
            "Total params: 160305 (626.19 KB)\n",
            "Trainable params: 160305 (626.19 KB)\n",
            "Non-trainable params: 0 (0.00 Byte)\n",
            "_________________________________________________________________\n"
          ]
        }
      ]
    },
    {
      "cell_type": "code",
      "source": [
        "dropout_history = dropout_model.fit(train_data, train_lables, epochs=20, batch_size=512, validation_data=(test_data, test_lables))"
      ],
      "metadata": {
        "id": "VjLDqo12SvCW",
        "colab": {
          "base_uri": "https://localhost:8080/"
        },
        "outputId": "85d481ce-5fc1-4380-ea6b-a1c66eb446f4"
      },
      "execution_count": 25,
      "outputs": [
        {
          "output_type": "stream",
          "name": "stdout",
          "text": [
            "Epoch 1/20\n",
            "49/49 [==============================] - 6s 102ms/step - loss: 0.6589 - accuracy: 0.5954 - binary_crossentropy: 0.6589 - val_loss: 0.5770 - val_accuracy: 0.8148 - val_binary_crossentropy: 0.5770\n",
            "Epoch 2/20\n",
            "49/49 [==============================] - 2s 41ms/step - loss: 0.5340 - accuracy: 0.7845 - binary_crossentropy: 0.5340 - val_loss: 0.4384 - val_accuracy: 0.8635 - val_binary_crossentropy: 0.4384\n",
            "Epoch 3/20\n",
            "49/49 [==============================] - 2s 39ms/step - loss: 0.4346 - accuracy: 0.8456 - binary_crossentropy: 0.4346 - val_loss: 0.3597 - val_accuracy: 0.8851 - val_binary_crossentropy: 0.3597\n",
            "Epoch 4/20\n",
            "49/49 [==============================] - 2s 40ms/step - loss: 0.3653 - accuracy: 0.8774 - binary_crossentropy: 0.3653 - val_loss: 0.3183 - val_accuracy: 0.8881 - val_binary_crossentropy: 0.3183\n",
            "Epoch 5/20\n",
            "49/49 [==============================] - 2s 42ms/step - loss: 0.3197 - accuracy: 0.8978 - binary_crossentropy: 0.3197 - val_loss: 0.2960 - val_accuracy: 0.8891 - val_binary_crossentropy: 0.2960\n",
            "Epoch 6/20\n",
            "49/49 [==============================] - 3s 55ms/step - loss: 0.2847 - accuracy: 0.9115 - binary_crossentropy: 0.2847 - val_loss: 0.2954 - val_accuracy: 0.8875 - val_binary_crossentropy: 0.2954\n",
            "Epoch 7/20\n",
            "49/49 [==============================] - 3s 52ms/step - loss: 0.2568 - accuracy: 0.9195 - binary_crossentropy: 0.2568 - val_loss: 0.2987 - val_accuracy: 0.8866 - val_binary_crossentropy: 0.2987\n",
            "Epoch 8/20\n",
            "49/49 [==============================] - 2s 40ms/step - loss: 0.2300 - accuracy: 0.9298 - binary_crossentropy: 0.2300 - val_loss: 0.3107 - val_accuracy: 0.8832 - val_binary_crossentropy: 0.3107\n",
            "Epoch 9/20\n",
            "49/49 [==============================] - 2s 38ms/step - loss: 0.2140 - accuracy: 0.9350 - binary_crossentropy: 0.2140 - val_loss: 0.3215 - val_accuracy: 0.8814 - val_binary_crossentropy: 0.3215\n",
            "Epoch 10/20\n",
            "49/49 [==============================] - 2s 40ms/step - loss: 0.1939 - accuracy: 0.9421 - binary_crossentropy: 0.1939 - val_loss: 0.3351 - val_accuracy: 0.8801 - val_binary_crossentropy: 0.3351\n",
            "Epoch 11/20\n",
            "49/49 [==============================] - 2s 41ms/step - loss: 0.1808 - accuracy: 0.9453 - binary_crossentropy: 0.1808 - val_loss: 0.3632 - val_accuracy: 0.8800 - val_binary_crossentropy: 0.3632\n",
            "Epoch 12/20\n",
            "49/49 [==============================] - 3s 55ms/step - loss: 0.1691 - accuracy: 0.9474 - binary_crossentropy: 0.1691 - val_loss: 0.3737 - val_accuracy: 0.8788 - val_binary_crossentropy: 0.3737\n",
            "Epoch 13/20\n",
            "49/49 [==============================] - 3s 67ms/step - loss: 0.1555 - accuracy: 0.9551 - binary_crossentropy: 0.1555 - val_loss: 0.3856 - val_accuracy: 0.8774 - val_binary_crossentropy: 0.3856\n",
            "Epoch 14/20\n",
            "49/49 [==============================] - 2s 39ms/step - loss: 0.1471 - accuracy: 0.9574 - binary_crossentropy: 0.1471 - val_loss: 0.4140 - val_accuracy: 0.8749 - val_binary_crossentropy: 0.4140\n",
            "Epoch 15/20\n",
            "49/49 [==============================] - 2s 39ms/step - loss: 0.1403 - accuracy: 0.9599 - binary_crossentropy: 0.1403 - val_loss: 0.4402 - val_accuracy: 0.8768 - val_binary_crossentropy: 0.4402\n",
            "Epoch 16/20\n",
            "49/49 [==============================] - 2s 39ms/step - loss: 0.1347 - accuracy: 0.9601 - binary_crossentropy: 0.1347 - val_loss: 0.4497 - val_accuracy: 0.8763 - val_binary_crossentropy: 0.4497\n",
            "Epoch 17/20\n",
            "49/49 [==============================] - 2s 38ms/step - loss: 0.1312 - accuracy: 0.9622 - binary_crossentropy: 0.1312 - val_loss: 0.4914 - val_accuracy: 0.8746 - val_binary_crossentropy: 0.4914\n",
            "Epoch 18/20\n",
            "49/49 [==============================] - 2s 50ms/step - loss: 0.1238 - accuracy: 0.9663 - binary_crossentropy: 0.1238 - val_loss: 0.4828 - val_accuracy: 0.8751 - val_binary_crossentropy: 0.4828\n",
            "Epoch 19/20\n",
            "49/49 [==============================] - 3s 61ms/step - loss: 0.1180 - accuracy: 0.9672 - binary_crossentropy: 0.1180 - val_loss: 0.5103 - val_accuracy: 0.8747 - val_binary_crossentropy: 0.5103\n",
            "Epoch 20/20\n",
            "49/49 [==============================] - 2s 41ms/step - loss: 0.1144 - accuracy: 0.9685 - binary_crossentropy: 0.1144 - val_loss: 0.5506 - val_accuracy: 0.8746 - val_binary_crossentropy: 0.5506\n"
          ]
        }
      ]
    },
    {
      "cell_type": "code",
      "source": [
        "\n",
        "fig = go.Figure()\n",
        "for name, history in zip(['baseline', 'dropout'], [baseline_history, dropout_history]):\n",
        "    hist = pd.DataFrame(history.history)\n",
        "    hist['epoch'] = history.epoch\n",
        "    fig.add_trace(go.Scatter(x=hist['epoch'], y=hist['binary_crossentropy'], name=name + '_binary_crossentropy', mode='lines+markers'))\n",
        "    fig.add_trace(go.Scatter(x=hist['epoch'], y=hist['val_binary_crossentropy'], name=name + '_val_binary_crossentropy', mode='lines+markers'))\n",
        "    fig.update_layout(xaxis_title='Epoki', yaxis_title='binary_crossentropy')\n",
        "fig.show()"
      ],
      "metadata": {
        "id": "rR5Y7mM0SxvW",
        "colab": {
          "base_uri": "https://localhost:8080/",
          "height": 542
        },
        "outputId": "c2f9d013-ff19-4adf-f970-9ae1aa12542d"
      },
      "execution_count": 26,
      "outputs": [
        {
          "output_type": "display_data",
          "data": {
            "text/html": [
              "<html>\n",
              "<head><meta charset=\"utf-8\" /></head>\n",
              "<body>\n",
              "    <div>            <script src=\"https://cdnjs.cloudflare.com/ajax/libs/mathjax/2.7.5/MathJax.js?config=TeX-AMS-MML_SVG\"></script><script type=\"text/javascript\">if (window.MathJax && window.MathJax.Hub && window.MathJax.Hub.Config) {window.MathJax.Hub.Config({SVG: {font: \"STIX-Web\"}});}</script>                <script type=\"text/javascript\">window.PlotlyConfig = {MathJaxConfig: 'local'};</script>\n",
              "        <script charset=\"utf-8\" src=\"https://cdn.plot.ly/plotly-2.24.1.min.js\"></script>                <div id=\"4872d578-80f2-4b3a-8c97-b8a74f583d3a\" class=\"plotly-graph-div\" style=\"height:525px; width:100%;\"></div>            <script type=\"text/javascript\">                                    window.PLOTLYENV=window.PLOTLYENV || {};                                    if (document.getElementById(\"4872d578-80f2-4b3a-8c97-b8a74f583d3a\")) {                    Plotly.newPlot(                        \"4872d578-80f2-4b3a-8c97-b8a74f583d3a\",                        [{\"mode\":\"lines+markers\",\"name\":\"baseline_binary_crossentropy\",\"x\":[0,1,2,3,4,5,6,7,8,9,10,11,12,13,14,15,16,17,18,19],\"y\":[0.4872067868709564,0.25137224793434143,0.18378117680549622,0.14628519117832184,0.11888281255960464,0.09729380160570145,0.07809799164533615,0.06205492839217186,0.04832656309008598,0.037281591445207596,0.027842827141284943,0.020688649266958237,0.014987298287451267,0.010892653837800026,0.008047287352383137,0.0058723334223032,0.004422546364367008,0.003367908298969269,0.002617812715470791,0.0020968515891581774],\"type\":\"scatter\"},{\"mode\":\"lines+markers\",\"name\":\"baseline_val_binary_crossentropy\",\"x\":[0,1,2,3,4,5,6,7,8,9,10,11,12,13,14,15,16,17,18,19],\"y\":[0.34094053506851196,0.28294292092323303,0.2927062213420868,0.31074094772338867,0.3386290967464447,0.37499645352363586,0.4141252338886261,0.45344725251197815,0.49570053815841675,0.5385110974311829,0.5870307087898254,0.635018527507782,0.6809937357902527,0.7229342460632324,0.7660919427871704,0.8072093725204468,0.8501882553100586,0.8840836882591248,0.916738748550415,0.9470071196556091],\"type\":\"scatter\"},{\"mode\":\"lines+markers\",\"name\":\"dropout_binary_crossentropy\",\"x\":[0,1,2,3,4,5,6,7,8,9,10,11,12,13,14,15,16,17,18,19],\"y\":[0.6589111089706421,0.533993661403656,0.4345989525318146,0.36526015400886536,0.319674551486969,0.284694105386734,0.2567579746246338,0.23002836108207703,0.21398170292377472,0.1938740462064743,0.18079161643981934,0.16906730830669403,0.15548831224441528,0.1471177041530609,0.14027860760688782,0.13467897474765778,0.13119888305664062,0.12380430847406387,0.11802397668361664,0.11442772299051285],\"type\":\"scatter\"},{\"mode\":\"lines+markers\",\"name\":\"dropout_val_binary_crossentropy\",\"x\":[0,1,2,3,4,5,6,7,8,9,10,11,12,13,14,15,16,17,18,19],\"y\":[0.5770269632339478,0.43839702010154724,0.35966289043426514,0.31827670335769653,0.2960243225097656,0.2953871488571167,0.2987484037876129,0.3107234239578247,0.3215060234069824,0.3351418375968933,0.3632243275642395,0.3736598491668701,0.38561341166496277,0.4139857888221741,0.44016408920288086,0.449678897857666,0.49140506982803345,0.48282819986343384,0.5102851986885071,0.5506230592727661],\"type\":\"scatter\"}],                        {\"template\":{\"data\":{\"histogram2dcontour\":[{\"type\":\"histogram2dcontour\",\"colorbar\":{\"outlinewidth\":0,\"ticks\":\"\"},\"colorscale\":[[0.0,\"#0d0887\"],[0.1111111111111111,\"#46039f\"],[0.2222222222222222,\"#7201a8\"],[0.3333333333333333,\"#9c179e\"],[0.4444444444444444,\"#bd3786\"],[0.5555555555555556,\"#d8576b\"],[0.6666666666666666,\"#ed7953\"],[0.7777777777777778,\"#fb9f3a\"],[0.8888888888888888,\"#fdca26\"],[1.0,\"#f0f921\"]]}],\"choropleth\":[{\"type\":\"choropleth\",\"colorbar\":{\"outlinewidth\":0,\"ticks\":\"\"}}],\"histogram2d\":[{\"type\":\"histogram2d\",\"colorbar\":{\"outlinewidth\":0,\"ticks\":\"\"},\"colorscale\":[[0.0,\"#0d0887\"],[0.1111111111111111,\"#46039f\"],[0.2222222222222222,\"#7201a8\"],[0.3333333333333333,\"#9c179e\"],[0.4444444444444444,\"#bd3786\"],[0.5555555555555556,\"#d8576b\"],[0.6666666666666666,\"#ed7953\"],[0.7777777777777778,\"#fb9f3a\"],[0.8888888888888888,\"#fdca26\"],[1.0,\"#f0f921\"]]}],\"heatmap\":[{\"type\":\"heatmap\",\"colorbar\":{\"outlinewidth\":0,\"ticks\":\"\"},\"colorscale\":[[0.0,\"#0d0887\"],[0.1111111111111111,\"#46039f\"],[0.2222222222222222,\"#7201a8\"],[0.3333333333333333,\"#9c179e\"],[0.4444444444444444,\"#bd3786\"],[0.5555555555555556,\"#d8576b\"],[0.6666666666666666,\"#ed7953\"],[0.7777777777777778,\"#fb9f3a\"],[0.8888888888888888,\"#fdca26\"],[1.0,\"#f0f921\"]]}],\"heatmapgl\":[{\"type\":\"heatmapgl\",\"colorbar\":{\"outlinewidth\":0,\"ticks\":\"\"},\"colorscale\":[[0.0,\"#0d0887\"],[0.1111111111111111,\"#46039f\"],[0.2222222222222222,\"#7201a8\"],[0.3333333333333333,\"#9c179e\"],[0.4444444444444444,\"#bd3786\"],[0.5555555555555556,\"#d8576b\"],[0.6666666666666666,\"#ed7953\"],[0.7777777777777778,\"#fb9f3a\"],[0.8888888888888888,\"#fdca26\"],[1.0,\"#f0f921\"]]}],\"contourcarpet\":[{\"type\":\"contourcarpet\",\"colorbar\":{\"outlinewidth\":0,\"ticks\":\"\"}}],\"contour\":[{\"type\":\"contour\",\"colorbar\":{\"outlinewidth\":0,\"ticks\":\"\"},\"colorscale\":[[0.0,\"#0d0887\"],[0.1111111111111111,\"#46039f\"],[0.2222222222222222,\"#7201a8\"],[0.3333333333333333,\"#9c179e\"],[0.4444444444444444,\"#bd3786\"],[0.5555555555555556,\"#d8576b\"],[0.6666666666666666,\"#ed7953\"],[0.7777777777777778,\"#fb9f3a\"],[0.8888888888888888,\"#fdca26\"],[1.0,\"#f0f921\"]]}],\"surface\":[{\"type\":\"surface\",\"colorbar\":{\"outlinewidth\":0,\"ticks\":\"\"},\"colorscale\":[[0.0,\"#0d0887\"],[0.1111111111111111,\"#46039f\"],[0.2222222222222222,\"#7201a8\"],[0.3333333333333333,\"#9c179e\"],[0.4444444444444444,\"#bd3786\"],[0.5555555555555556,\"#d8576b\"],[0.6666666666666666,\"#ed7953\"],[0.7777777777777778,\"#fb9f3a\"],[0.8888888888888888,\"#fdca26\"],[1.0,\"#f0f921\"]]}],\"mesh3d\":[{\"type\":\"mesh3d\",\"colorbar\":{\"outlinewidth\":0,\"ticks\":\"\"}}],\"scatter\":[{\"fillpattern\":{\"fillmode\":\"overlay\",\"size\":10,\"solidity\":0.2},\"type\":\"scatter\"}],\"parcoords\":[{\"type\":\"parcoords\",\"line\":{\"colorbar\":{\"outlinewidth\":0,\"ticks\":\"\"}}}],\"scatterpolargl\":[{\"type\":\"scatterpolargl\",\"marker\":{\"colorbar\":{\"outlinewidth\":0,\"ticks\":\"\"}}}],\"bar\":[{\"error_x\":{\"color\":\"#2a3f5f\"},\"error_y\":{\"color\":\"#2a3f5f\"},\"marker\":{\"line\":{\"color\":\"#E5ECF6\",\"width\":0.5},\"pattern\":{\"fillmode\":\"overlay\",\"size\":10,\"solidity\":0.2}},\"type\":\"bar\"}],\"scattergeo\":[{\"type\":\"scattergeo\",\"marker\":{\"colorbar\":{\"outlinewidth\":0,\"ticks\":\"\"}}}],\"scatterpolar\":[{\"type\":\"scatterpolar\",\"marker\":{\"colorbar\":{\"outlinewidth\":0,\"ticks\":\"\"}}}],\"histogram\":[{\"marker\":{\"pattern\":{\"fillmode\":\"overlay\",\"size\":10,\"solidity\":0.2}},\"type\":\"histogram\"}],\"scattergl\":[{\"type\":\"scattergl\",\"marker\":{\"colorbar\":{\"outlinewidth\":0,\"ticks\":\"\"}}}],\"scatter3d\":[{\"type\":\"scatter3d\",\"line\":{\"colorbar\":{\"outlinewidth\":0,\"ticks\":\"\"}},\"marker\":{\"colorbar\":{\"outlinewidth\":0,\"ticks\":\"\"}}}],\"scattermapbox\":[{\"type\":\"scattermapbox\",\"marker\":{\"colorbar\":{\"outlinewidth\":0,\"ticks\":\"\"}}}],\"scatterternary\":[{\"type\":\"scatterternary\",\"marker\":{\"colorbar\":{\"outlinewidth\":0,\"ticks\":\"\"}}}],\"scattercarpet\":[{\"type\":\"scattercarpet\",\"marker\":{\"colorbar\":{\"outlinewidth\":0,\"ticks\":\"\"}}}],\"carpet\":[{\"aaxis\":{\"endlinecolor\":\"#2a3f5f\",\"gridcolor\":\"white\",\"linecolor\":\"white\",\"minorgridcolor\":\"white\",\"startlinecolor\":\"#2a3f5f\"},\"baxis\":{\"endlinecolor\":\"#2a3f5f\",\"gridcolor\":\"white\",\"linecolor\":\"white\",\"minorgridcolor\":\"white\",\"startlinecolor\":\"#2a3f5f\"},\"type\":\"carpet\"}],\"table\":[{\"cells\":{\"fill\":{\"color\":\"#EBF0F8\"},\"line\":{\"color\":\"white\"}},\"header\":{\"fill\":{\"color\":\"#C8D4E3\"},\"line\":{\"color\":\"white\"}},\"type\":\"table\"}],\"barpolar\":[{\"marker\":{\"line\":{\"color\":\"#E5ECF6\",\"width\":0.5},\"pattern\":{\"fillmode\":\"overlay\",\"size\":10,\"solidity\":0.2}},\"type\":\"barpolar\"}],\"pie\":[{\"automargin\":true,\"type\":\"pie\"}]},\"layout\":{\"autotypenumbers\":\"strict\",\"colorway\":[\"#636efa\",\"#EF553B\",\"#00cc96\",\"#ab63fa\",\"#FFA15A\",\"#19d3f3\",\"#FF6692\",\"#B6E880\",\"#FF97FF\",\"#FECB52\"],\"font\":{\"color\":\"#2a3f5f\"},\"hovermode\":\"closest\",\"hoverlabel\":{\"align\":\"left\"},\"paper_bgcolor\":\"white\",\"plot_bgcolor\":\"#E5ECF6\",\"polar\":{\"bgcolor\":\"#E5ECF6\",\"angularaxis\":{\"gridcolor\":\"white\",\"linecolor\":\"white\",\"ticks\":\"\"},\"radialaxis\":{\"gridcolor\":\"white\",\"linecolor\":\"white\",\"ticks\":\"\"}},\"ternary\":{\"bgcolor\":\"#E5ECF6\",\"aaxis\":{\"gridcolor\":\"white\",\"linecolor\":\"white\",\"ticks\":\"\"},\"baxis\":{\"gridcolor\":\"white\",\"linecolor\":\"white\",\"ticks\":\"\"},\"caxis\":{\"gridcolor\":\"white\",\"linecolor\":\"white\",\"ticks\":\"\"}},\"coloraxis\":{\"colorbar\":{\"outlinewidth\":0,\"ticks\":\"\"}},\"colorscale\":{\"sequential\":[[0.0,\"#0d0887\"],[0.1111111111111111,\"#46039f\"],[0.2222222222222222,\"#7201a8\"],[0.3333333333333333,\"#9c179e\"],[0.4444444444444444,\"#bd3786\"],[0.5555555555555556,\"#d8576b\"],[0.6666666666666666,\"#ed7953\"],[0.7777777777777778,\"#fb9f3a\"],[0.8888888888888888,\"#fdca26\"],[1.0,\"#f0f921\"]],\"sequentialminus\":[[0.0,\"#0d0887\"],[0.1111111111111111,\"#46039f\"],[0.2222222222222222,\"#7201a8\"],[0.3333333333333333,\"#9c179e\"],[0.4444444444444444,\"#bd3786\"],[0.5555555555555556,\"#d8576b\"],[0.6666666666666666,\"#ed7953\"],[0.7777777777777778,\"#fb9f3a\"],[0.8888888888888888,\"#fdca26\"],[1.0,\"#f0f921\"]],\"diverging\":[[0,\"#8e0152\"],[0.1,\"#c51b7d\"],[0.2,\"#de77ae\"],[0.3,\"#f1b6da\"],[0.4,\"#fde0ef\"],[0.5,\"#f7f7f7\"],[0.6,\"#e6f5d0\"],[0.7,\"#b8e186\"],[0.8,\"#7fbc41\"],[0.9,\"#4d9221\"],[1,\"#276419\"]]},\"xaxis\":{\"gridcolor\":\"white\",\"linecolor\":\"white\",\"ticks\":\"\",\"title\":{\"standoff\":15},\"zerolinecolor\":\"white\",\"automargin\":true,\"zerolinewidth\":2},\"yaxis\":{\"gridcolor\":\"white\",\"linecolor\":\"white\",\"ticks\":\"\",\"title\":{\"standoff\":15},\"zerolinecolor\":\"white\",\"automargin\":true,\"zerolinewidth\":2},\"scene\":{\"xaxis\":{\"backgroundcolor\":\"#E5ECF6\",\"gridcolor\":\"white\",\"linecolor\":\"white\",\"showbackground\":true,\"ticks\":\"\",\"zerolinecolor\":\"white\",\"gridwidth\":2},\"yaxis\":{\"backgroundcolor\":\"#E5ECF6\",\"gridcolor\":\"white\",\"linecolor\":\"white\",\"showbackground\":true,\"ticks\":\"\",\"zerolinecolor\":\"white\",\"gridwidth\":2},\"zaxis\":{\"backgroundcolor\":\"#E5ECF6\",\"gridcolor\":\"white\",\"linecolor\":\"white\",\"showbackground\":true,\"ticks\":\"\",\"zerolinecolor\":\"white\",\"gridwidth\":2}},\"shapedefaults\":{\"line\":{\"color\":\"#2a3f5f\"}},\"annotationdefaults\":{\"arrowcolor\":\"#2a3f5f\",\"arrowhead\":0,\"arrowwidth\":1},\"geo\":{\"bgcolor\":\"white\",\"landcolor\":\"#E5ECF6\",\"subunitcolor\":\"white\",\"showland\":true,\"showlakes\":true,\"lakecolor\":\"white\"},\"title\":{\"x\":0.05},\"mapbox\":{\"style\":\"light\"}}},\"xaxis\":{\"title\":{\"text\":\"Epoki\"}},\"yaxis\":{\"title\":{\"text\":\"binary_crossentropy\"}}},                        {\"responsive\": true}                    ).then(function(){\n",
              "                            \n",
              "var gd = document.getElementById('4872d578-80f2-4b3a-8c97-b8a74f583d3a');\n",
              "var x = new MutationObserver(function (mutations, observer) {{\n",
              "        var display = window.getComputedStyle(gd).display;\n",
              "        if (!display || display === 'none') {{\n",
              "            console.log([gd, 'removed!']);\n",
              "            Plotly.purge(gd);\n",
              "            observer.disconnect();\n",
              "        }}\n",
              "}});\n",
              "\n",
              "// Listen for the removal of the full notebook cells\n",
              "var notebookContainer = gd.closest('#notebook-container');\n",
              "if (notebookContainer) {{\n",
              "    x.observe(notebookContainer, {childList: true});\n",
              "}}\n",
              "\n",
              "// Listen for the clearing of the current output cell\n",
              "var outputEl = gd.closest('.output');\n",
              "if (outputEl) {{\n",
              "    x.observe(outputEl, {childList: true});\n",
              "}}\n",
              "\n",
              "                        })                };                            </script>        </div>\n",
              "</body>\n",
              "</html>"
            ]
          },
          "metadata": {}
        }
      ]
    }
  ]
}