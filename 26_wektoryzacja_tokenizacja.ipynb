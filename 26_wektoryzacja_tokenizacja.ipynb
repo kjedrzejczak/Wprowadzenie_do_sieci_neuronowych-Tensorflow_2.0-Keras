{
  "nbformat": 4,
  "nbformat_minor": 0,
  "metadata": {
    "colab": {
      "provenance": [],
      "gpuType": "T4",
      "authorship_tag": "ABX9TyNZ+Yfx0fYdcYf3Sx8pipJK",
      "include_colab_link": true
    },
    "kernelspec": {
      "name": "python3",
      "display_name": "Python 3"
    },
    "language_info": {
      "name": "python"
    },
    "accelerator": "GPU"
  },
  "cells": [
    {
      "cell_type": "markdown",
      "metadata": {
        "id": "view-in-github",
        "colab_type": "text"
      },
      "source": [
        "<a href=\"https://colab.research.google.com/github/kjedrzejczak/Wprowadzenie_do_sieci_neuronowych-Tensorflow_2.0-Keras/blob/main/26_wektoryzacja_tokenizacja.ipynb\" target=\"_parent\"><img src=\"https://colab.research.google.com/assets/colab-badge.svg\" alt=\"Open In Colab\"/></a>"
      ]
    },
    {
      "cell_type": "code",
      "execution_count": 13,
      "metadata": {
        "colab": {
          "base_uri": "https://localhost:8080/"
        },
        "id": "bwaiUJTQBGu2",
        "outputId": "071c37c8-2f2d-4cb8-843d-a016ef6fe3c7"
      },
      "outputs": [
        {
          "output_type": "execute_result",
          "data": {
            "text/plain": [
              "['przed',\n",
              " 'nami',\n",
              " 'posiedzenie',\n",
              " 'rpp',\n",
              " 'i',\n",
              " 'decyzja',\n",
              " 'w',\n",
              " 'sprawie',\n",
              " 'stóp',\n",
              " 'procentowych',\n",
              " 'wszystkie',\n",
              " 'znaki',\n",
              " 'na',\n",
              " 'niebie',\n",
              " 'i',\n",
              " 'ziemi',\n",
              " 'wskazują',\n",
              " 'jednak',\n",
              " 'że',\n",
              " 'i',\n",
              " 'tym',\n",
              " 'razem',\n",
              " 'stopy',\n",
              " 'pozostaną',\n",
              " 'bez',\n",
              " 'zmian',\n",
              " 'ekonomiści',\n",
              " 'spierają',\n",
              " 'się',\n",
              " 'kiedy',\n",
              " 'ruszy',\n",
              " 'fala',\n",
              " 'ich',\n",
              " 'obniżek',\n",
              " 'ale',\n",
              " 'zgodni',\n",
              " 'są',\n",
              " 'w',\n",
              " 'jednym',\n",
              " 'nie',\n",
              " 'nastąpi',\n",
              " 'to',\n",
              " 'szybko']"
            ]
          },
          "metadata": {},
          "execution_count": 13
        }
      ],
      "source": [
        "from tensorflow.keras.preprocessing.text import text_to_word_sequence\n",
        "\n",
        "\n",
        "# text source https://www.bankier.pl/wiadomosc/Czy-kredytobiorcy-w-koncu-odetchna-Ekonomisci-spieraja-sie-kiedy-RPP-obnizy-stopy-procentowe-8775580.html\n",
        "t = \"Przed nami posiedzenie RPP i decyzja w sprawie stóp procentowych. Wszystkie znaki na niebie i ziemi wskazują jednak, że i tym razem stopy pozostaną bez zmian. Ekonomiści spierają się, kiedy ruszy fala ich obniżek, ale zgodni są w jednym - nie nastąpi to szybko\"\n",
        "text = t.replace('.', '').replace(',', '').replace('-', '').lower()\n",
        "\n",
        "\n",
        "tokens = text_to_word_sequence(text)\n",
        "tokens"
      ]
    },
    {
      "cell_type": "markdown",
      "source": [
        "# one_hot(text, n)    text - tekst, n - rozmiar słownika (najlepiej jak jest większy o jakieś 25% niż długośc tekstu)"
      ],
      "metadata": {
        "id": "DexEErQ6Cs3g"
      }
    },
    {
      "cell_type": "code",
      "source": [
        "hash('sieć')"
      ],
      "metadata": {
        "colab": {
          "base_uri": "https://localhost:8080/"
        },
        "id": "dlkvNlZGB5ke",
        "outputId": "8fdb55ee-117c-48b2-f568-4a98ad31fa3d"
      },
      "execution_count": 10,
      "outputs": [
        {
          "output_type": "execute_result",
          "data": {
            "text/plain": [
              "2791968835251816305"
            ]
          },
          "metadata": {},
          "execution_count": 10
        }
      ]
    },
    {
      "cell_type": "code",
      "source": [
        "hash('sieć') % 100"
      ],
      "metadata": {
        "colab": {
          "base_uri": "https://localhost:8080/"
        },
        "id": "86m4AwQfDs6y",
        "outputId": "493605a7-7fbb-4da4-98d3-f864fba85a97"
      },
      "execution_count": 11,
      "outputs": [
        {
          "output_type": "execute_result",
          "data": {
            "text/plain": [
              "5"
            ]
          },
          "metadata": {},
          "execution_count": 11
        }
      ]
    },
    {
      "cell_type": "code",
      "source": [
        "hash('neuronowa')"
      ],
      "metadata": {
        "colab": {
          "base_uri": "https://localhost:8080/"
        },
        "id": "IjelTu76DxXG",
        "outputId": "4acfc364-2675-4386-aaf8-63cf901c2980"
      },
      "execution_count": 12,
      "outputs": [
        {
          "output_type": "execute_result",
          "data": {
            "text/plain": [
              "-8552458354171257704"
            ]
          },
          "metadata": {},
          "execution_count": 12
        }
      ]
    },
    {
      "cell_type": "code",
      "source": [
        "from tensorflow.keras.preprocessing.text import one_hot\n",
        "\n",
        "words = set(tokens) # unikalne wartości\n",
        "one_hot_tokens = one_hot(text, round(len(words) * 1.3))\n",
        "one_hot_tokens"
      ],
      "metadata": {
        "colab": {
          "base_uri": "https://localhost:8080/"
        },
        "id": "VqxxF1-2EmZ2",
        "outputId": "5514252f-3644-429a-a8d1-183600c68882"
      },
      "execution_count": 15,
      "outputs": [
        {
          "output_type": "execute_result",
          "data": {
            "text/plain": [
              "[49,\n",
              " 50,\n",
              " 28,\n",
              " 31,\n",
              " 14,\n",
              " 33,\n",
              " 46,\n",
              " 43,\n",
              " 46,\n",
              " 50,\n",
              " 17,\n",
              " 47,\n",
              " 39,\n",
              " 1,\n",
              " 14,\n",
              " 7,\n",
              " 34,\n",
              " 9,\n",
              " 3,\n",
              " 14,\n",
              " 15,\n",
              " 21,\n",
              " 3,\n",
              " 4,\n",
              " 29,\n",
              " 24,\n",
              " 19,\n",
              " 6,\n",
              " 4,\n",
              " 35,\n",
              " 24,\n",
              " 21,\n",
              " 24,\n",
              " 11,\n",
              " 23,\n",
              " 26,\n",
              " 1,\n",
              " 46,\n",
              " 42,\n",
              " 42,\n",
              " 41,\n",
              " 37,\n",
              " 14]"
            ]
          },
          "metadata": {},
          "execution_count": 15
        }
      ]
    },
    {
      "cell_type": "markdown",
      "source": [
        "# hashing_trick()"
      ],
      "metadata": {
        "id": "-5njWNqhFgoD"
      }
    },
    {
      "cell_type": "code",
      "source": [
        "from tensorflow.keras.preprocessing.text import hashing_trick\n",
        "\n",
        "hashing_trick(text, round(len(words)), hash_function='md5')"
      ],
      "metadata": {
        "colab": {
          "base_uri": "https://localhost:8080/"
        },
        "id": "YTni5zqGFpLj",
        "outputId": "5b26fc75-ce11-45c0-9cad-1a2e5a1c7574"
      },
      "execution_count": 16,
      "outputs": [
        {
          "output_type": "execute_result",
          "data": {
            "text/plain": [
              "[18,\n",
              " 35,\n",
              " 22,\n",
              " 28,\n",
              " 29,\n",
              " 1,\n",
              " 8,\n",
              " 3,\n",
              " 38,\n",
              " 37,\n",
              " 13,\n",
              " 25,\n",
              " 16,\n",
              " 5,\n",
              " 29,\n",
              " 2,\n",
              " 24,\n",
              " 14,\n",
              " 2,\n",
              " 29,\n",
              " 36,\n",
              " 20,\n",
              " 1,\n",
              " 21,\n",
              " 2,\n",
              " 34,\n",
              " 24,\n",
              " 22,\n",
              " 39,\n",
              " 27,\n",
              " 18,\n",
              " 10,\n",
              " 8,\n",
              " 1,\n",
              " 23,\n",
              " 23,\n",
              " 35,\n",
              " 8,\n",
              " 13,\n",
              " 10,\n",
              " 4,\n",
              " 26,\n",
              " 4]"
            ]
          },
          "metadata": {},
          "execution_count": 16
        }
      ]
    },
    {
      "cell_type": "markdown",
      "source": [
        "# Tokenizer"
      ],
      "metadata": {
        "id": "BqWlD1IKGI_O"
      }
    },
    {
      "cell_type": "code",
      "source": [
        "from tensorflow.keras.preprocessing.text import Tokenizer\n",
        "\n",
        "#num_words = zachowana liczba słów ze względu na częstośc występowania\n",
        "\n",
        "tokenizer = Tokenizer()"
      ],
      "metadata": {
        "id": "5hAcayFBGHAF"
      },
      "execution_count": 17,
      "outputs": []
    },
    {
      "cell_type": "code",
      "source": [
        "samples = ['Great picture!', 'Nice view', 'Good to see you :)', 'Good picture!', 'Good']\n",
        "\n",
        "tokenizer.fit_on_texts(samples)\n",
        "\n",
        "tokenizer.index_word"
      ],
      "metadata": {
        "colab": {
          "base_uri": "https://localhost:8080/"
        },
        "id": "Xh1H2GDfG907",
        "outputId": "5d4dd1e3-7204-4232-88f1-b7fd9582ff06"
      },
      "execution_count": 18,
      "outputs": [
        {
          "output_type": "execute_result",
          "data": {
            "text/plain": [
              "{1: 'good',\n",
              " 2: 'picture',\n",
              " 3: 'great',\n",
              " 4: 'nice',\n",
              " 5: 'view',\n",
              " 6: 'to',\n",
              " 7: 'see',\n",
              " 8: 'you'}"
            ]
          },
          "metadata": {},
          "execution_count": 18
        }
      ]
    },
    {
      "cell_type": "code",
      "source": [
        "tokenizer.word_counts"
      ],
      "metadata": {
        "colab": {
          "base_uri": "https://localhost:8080/"
        },
        "id": "2OxLHGPYHI5d",
        "outputId": "a2427776-7a72-46fb-fe45-b111d320064d"
      },
      "execution_count": 19,
      "outputs": [
        {
          "output_type": "execute_result",
          "data": {
            "text/plain": [
              "OrderedDict([('great', 1),\n",
              "             ('picture', 2),\n",
              "             ('nice', 1),\n",
              "             ('view', 1),\n",
              "             ('good', 3),\n",
              "             ('to', 1),\n",
              "             ('see', 1),\n",
              "             ('you', 1)])"
            ]
          },
          "metadata": {},
          "execution_count": 19
        }
      ]
    },
    {
      "cell_type": "code",
      "source": [
        "tokenizer.document_count"
      ],
      "metadata": {
        "colab": {
          "base_uri": "https://localhost:8080/"
        },
        "id": "gWtIekceHMCE",
        "outputId": "cd19b71d-5705-4cbb-8357-e62a692e6b70"
      },
      "execution_count": 20,
      "outputs": [
        {
          "output_type": "execute_result",
          "data": {
            "text/plain": [
              "5"
            ]
          },
          "metadata": {},
          "execution_count": 20
        }
      ]
    },
    {
      "cell_type": "code",
      "source": [
        "print(tokenizer.index_word)"
      ],
      "metadata": {
        "colab": {
          "base_uri": "https://localhost:8080/"
        },
        "id": "VBCkWRp2HW9a",
        "outputId": "7d399379-d5f5-4e7c-dbce-5848697a43f9"
      },
      "execution_count": 21,
      "outputs": [
        {
          "output_type": "stream",
          "name": "stdout",
          "text": [
            "{1: 'good', 2: 'picture', 3: 'great', 4: 'nice', 5: 'view', 6: 'to', 7: 'see', 8: 'you'}\n"
          ]
        }
      ]
    },
    {
      "cell_type": "markdown",
      "source": [
        "text_tom_matrix"
      ],
      "metadata": {
        "id": "kA5-ksJBHitY"
      }
    },
    {
      "cell_type": "code",
      "source": [
        "tokenizer.texts_to_matrix(samples)"
      ],
      "metadata": {
        "colab": {
          "base_uri": "https://localhost:8080/"
        },
        "id": "lzDYO9UeHapx",
        "outputId": "cdafa87b-65f8-4a8c-9057-1238b97454e6"
      },
      "execution_count": 22,
      "outputs": [
        {
          "output_type": "execute_result",
          "data": {
            "text/plain": [
              "array([[0., 0., 1., 1., 0., 0., 0., 0., 0.],\n",
              "       [0., 0., 0., 0., 1., 1., 0., 0., 0.],\n",
              "       [0., 1., 0., 0., 0., 0., 1., 1., 1.],\n",
              "       [0., 1., 1., 0., 0., 0., 0., 0., 0.],\n",
              "       [0., 1., 0., 0., 0., 0., 0., 0., 0.]])"
            ]
          },
          "metadata": {},
          "execution_count": 22
        }
      ]
    }
  ]
}