{
  "nbformat": 4,
  "nbformat_minor": 0,
  "metadata": {
    "colab": {
      "provenance": [],
      "authorship_tag": "ABX9TyO3IKpgnc9raA3EGwUMlgdt",
      "include_colab_link": true
    },
    "kernelspec": {
      "name": "python3",
      "display_name": "Python 3"
    },
    "language_info": {
      "name": "python"
    }
  },
  "cells": [
    {
      "cell_type": "markdown",
      "metadata": {
        "id": "view-in-github",
        "colab_type": "text"
      },
      "source": [
        "<a href=\"https://colab.research.google.com/github/kjedrzejczak/Wprowadzenie_do_sieci_neuronowych-Tensorflow_2.0-Keras/blob/main/Przeuczenie_niedouczenia_I_15.ipynb\" target=\"_parent\"><img src=\"https://colab.research.google.com/assets/colab-badge.svg\" alt=\"Open In Colab\"/></a>"
      ]
    },
    {
      "cell_type": "code",
      "execution_count": 1,
      "metadata": {
        "id": "0wbwqnXH-M9B"
      },
      "outputs": [],
      "source": [
        "import numpy as np\n",
        "import pandas as pd\n",
        "import matplotlib.pyplot as plt\n",
        "import seaborn as sns\n",
        "import pickle\n",
        "\n",
        "\n",
        "import tensorflow as tf\n",
        "from tensorflow.keras.datasets import imdb\n",
        "from tensorflow.keras.datasets.imdb import get_word_index\n",
        "from tensorflow.keras.utils import get_file\n",
        "from tensorflow.keras.models import Sequential\n",
        "from tensorflow.keras.layers import Dense\n",
        "\n",
        "\n",
        "sns.set()"
      ]
    },
    {
      "cell_type": "code",
      "source": [
        "NUM_WORDS = 10000   # 10000 najszęstrzych słów\n",
        "INDEX_FROM = 3\n",
        "\n",
        "(train_data, train_lables), (test_data, test_lables) = imdb.load_data(num_words=NUM_WORDS, index_from=INDEX_FROM)"
      ],
      "metadata": {
        "id": "w2XeX0D-_UvR"
      },
      "execution_count": 2,
      "outputs": []
    },
    {
      "cell_type": "code",
      "source": [
        "print(train_data.shape)\n",
        "print(train_lables.shape)\n",
        "print(test_data.shape)\n",
        "print(test_lables.shape)"
      ],
      "metadata": {
        "colab": {
          "base_uri": "https://localhost:8080/"
        },
        "id": "pIhEKnpfAFQ8",
        "outputId": "180fa96a-1ebb-4f9e-9080-225ae92ccf92"
      },
      "execution_count": 3,
      "outputs": [
        {
          "output_type": "stream",
          "name": "stdout",
          "text": [
            "(25000,)\n",
            "(25000,)\n",
            "(25000,)\n",
            "(25000,)\n"
          ]
        }
      ]
    },
    {
      "cell_type": "code",
      "source": [
        "train_lables[0]"
      ],
      "metadata": {
        "colab": {
          "base_uri": "https://localhost:8080/"
        },
        "id": "XxqMDSNcAbI5",
        "outputId": "57cf9e5d-0db7-4eb4-99da-e843148b6f05"
      },
      "execution_count": 4,
      "outputs": [
        {
          "output_type": "execute_result",
          "data": {
            "text/plain": [
              "1"
            ]
          },
          "metadata": {},
          "execution_count": 4
        }
      ]
    },
    {
      "cell_type": "code",
      "source": [
        "print(train_data[0])  # częstośc występowania słowa w recenzjach np. 14 - słowo wystąpiło na  14 miejscu w recenzjach"
      ],
      "metadata": {
        "colab": {
          "base_uri": "https://localhost:8080/"
        },
        "id": "eNedqFKVAsJB",
        "outputId": "f132867f-6329-46e6-ecc3-1436bacea8dd"
      },
      "execution_count": 5,
      "outputs": [
        {
          "output_type": "stream",
          "name": "stdout",
          "text": [
            "[1, 14, 22, 16, 43, 530, 973, 1622, 1385, 65, 458, 4468, 66, 3941, 4, 173, 36, 256, 5, 25, 100, 43, 838, 112, 50, 670, 2, 9, 35, 480, 284, 5, 150, 4, 172, 112, 167, 2, 336, 385, 39, 4, 172, 4536, 1111, 17, 546, 38, 13, 447, 4, 192, 50, 16, 6, 147, 2025, 19, 14, 22, 4, 1920, 4613, 469, 4, 22, 71, 87, 12, 16, 43, 530, 38, 76, 15, 13, 1247, 4, 22, 17, 515, 17, 12, 16, 626, 18, 2, 5, 62, 386, 12, 8, 316, 8, 106, 5, 4, 2223, 5244, 16, 480, 66, 3785, 33, 4, 130, 12, 16, 38, 619, 5, 25, 124, 51, 36, 135, 48, 25, 1415, 33, 6, 22, 12, 215, 28, 77, 52, 5, 14, 407, 16, 82, 2, 8, 4, 107, 117, 5952, 15, 256, 4, 2, 7, 3766, 5, 723, 36, 71, 43, 530, 476, 26, 400, 317, 46, 7, 4, 2, 1029, 13, 104, 88, 4, 381, 15, 297, 98, 32, 2071, 56, 26, 141, 6, 194, 7486, 18, 4, 226, 22, 21, 134, 476, 26, 480, 5, 144, 30, 5535, 18, 51, 36, 28, 224, 92, 25, 104, 4, 226, 65, 16, 38, 1334, 88, 12, 16, 283, 5, 16, 4472, 113, 103, 32, 15, 16, 5345, 19, 178, 32]\n"
          ]
        }
      ]
    },
    {
      "cell_type": "code",
      "source": [
        "np.unique(train_lables)"
      ],
      "metadata": {
        "colab": {
          "base_uri": "https://localhost:8080/"
        },
        "id": "qzZd-923AjPL",
        "outputId": "b6d90f57-88a2-4e8a-d845-27f813d7af77"
      },
      "execution_count": 6,
      "outputs": [
        {
          "output_type": "execute_result",
          "data": {
            "text/plain": [
              "array([0, 1])"
            ]
          },
          "metadata": {},
          "execution_count": 6
        }
      ]
    },
    {
      "cell_type": "code",
      "source": [
        "# tłumaczenie słów na tekst przy pomocy funkcji get_word_index()\n",
        "word_to_idx = get_word_index()\n",
        "word_to_idx = {k:(v + INDEX_FROM) for k, v in word_to_idx.items()}\n",
        "word_to_idx['<PAD>'] = 0\n",
        "word_to_idx['<start>'] = 1\n",
        "word_to_idx['<UKN>'] = 2\n",
        "word_to_idx['<UNUSED'] = 3\n",
        "idx_to_word = {v: k for k, v in word_to_idx.items()}\n",
        "list(idx_to_word.items())[:10]\n",
        "print(' '.join(idx_to_word[idx] for idx in train_data[0]))"
      ],
      "metadata": {
        "colab": {
          "base_uri": "https://localhost:8080/"
        },
        "id": "xH1rb-EpBJVJ",
        "outputId": "dd929d1f-6877-4646-922b-ccfabbf9e5df"
      },
      "execution_count": 7,
      "outputs": [
        {
          "output_type": "stream",
          "name": "stdout",
          "text": [
            "<start> this film was just brilliant casting location scenery story direction everyone's really suited the part they played and you could just imagine being there robert <UKN> is an amazing actor and now the same being director <UKN> father came from the same scottish island as myself so i loved the fact there was a real connection with this film the witty remarks throughout the film were great it was just brilliant so much that i bought the film as soon as it was released for <UKN> and would recommend it to everyone to watch and the fly fishing was amazing really cried at the end it was so sad and you know what they say if you cry at a film it must have been good and this definitely was also <UKN> to the two little boy's that played the <UKN> of norman and paul they were just brilliant children are often left out of the <UKN> list i think because the stars that play them all grown up are such a big profile for the whole film but these children are amazing and should be praised for what they have done don't you think the whole story was so lovely because it was true and was someone's life after all that was shared with us all\n"
          ]
        }
      ]
    },
    {
      "cell_type": "code",
      "source": [
        "train_lables[:10]"
      ],
      "metadata": {
        "colab": {
          "base_uri": "https://localhost:8080/"
        },
        "id": "bfdBD31nBofV",
        "outputId": "c1fd2bf5-74b1-473d-d80f-df050858abfb"
      },
      "execution_count": 8,
      "outputs": [
        {
          "output_type": "execute_result",
          "data": {
            "text/plain": [
              "array([1, 0, 0, 1, 0, 0, 1, 0, 1, 0])"
            ]
          },
          "metadata": {},
          "execution_count": 8
        }
      ]
    },
    {
      "cell_type": "code",
      "source": [
        "def multi_hot_sequences(sequences, dimension):\n",
        "    results = np.zeros((len(sequences), dimension))\n",
        "    for i, word_indices in enumerate(sequences):\n",
        "        results[i, word_indices] = 1.0\n",
        "    return results\n",
        "\n",
        "train_data = multi_hot_sequences(train_data, dimension=NUM_WORDS)\n",
        "test_data = multi_hot_sequences(test_data, dimension=NUM_WORDS)\n",
        "train_data.shape"
      ],
      "metadata": {
        "colab": {
          "base_uri": "https://localhost:8080/"
        },
        "id": "F_VhDQW4CDyp",
        "outputId": "830c83b8-47f8-4a54-de00-b61f2d19709f"
      },
      "execution_count": 9,
      "outputs": [
        {
          "output_type": "execute_result",
          "data": {
            "text/plain": [
              "(25000, 10000)"
            ]
          },
          "metadata": {},
          "execution_count": 9
        }
      ]
    },
    {
      "cell_type": "code",
      "source": [
        "test_data.shape"
      ],
      "metadata": {
        "colab": {
          "base_uri": "https://localhost:8080/"
        },
        "id": "y1tjLG7zCozp",
        "outputId": "10b73ac6-d67b-4f97-8b92-ab3d46643ad4"
      },
      "execution_count": 10,
      "outputs": [
        {
          "output_type": "execute_result",
          "data": {
            "text/plain": [
              "(25000, 10000)"
            ]
          },
          "metadata": {},
          "execution_count": 10
        }
      ]
    },
    {
      "cell_type": "markdown",
      "source": [
        "# Budowanie modelu"
      ],
      "metadata": {
        "id": "1TCQymOPCsu_"
      }
    },
    {
      "cell_type": "code",
      "source": [
        "baseline_model = Sequential()\n",
        "baseline_model.add(Dense(units=16, activation='relu', input_shape=(NUM_WORDS,)))   # NUM_WORDS = 10_000\n",
        "baseline_model.add(Dense(units=16, activation='relu'))\n",
        "baseline_model.add(Dense(units=1, activation='sigmoid'))  # blasifikacja binarna\n",
        "\n",
        "baseline_model.compile(optimizer='adam',\n",
        "                       loss='binary_crossentropy',\n",
        "                       metrics=['accuracy', 'binary_crossentropy'])\n",
        "\n",
        "baseline_model.summary()"
      ],
      "metadata": {
        "colab": {
          "base_uri": "https://localhost:8080/"
        },
        "id": "jIVpYWjECvKr",
        "outputId": "b14f10e6-ceb7-440a-b8e0-e4e763c5fd47"
      },
      "execution_count": 11,
      "outputs": [
        {
          "output_type": "stream",
          "name": "stdout",
          "text": [
            "Model: \"sequential\"\n",
            "_________________________________________________________________\n",
            " Layer (type)                Output Shape              Param #   \n",
            "=================================================================\n",
            " dense (Dense)               (None, 16)                160016    \n",
            "                                                                 \n",
            " dense_1 (Dense)             (None, 16)                272       \n",
            "                                                                 \n",
            " dense_2 (Dense)             (None, 1)                 17        \n",
            "                                                                 \n",
            "=================================================================\n",
            "Total params: 160305 (626.19 KB)\n",
            "Trainable params: 160305 (626.19 KB)\n",
            "Non-trainable params: 0 (0.00 Byte)\n",
            "_________________________________________________________________\n"
          ]
        }
      ]
    },
    {
      "cell_type": "code",
      "source": [
        "baseline_history = baseline_model.fit(train_data, train_lables, epochs=20, batch_size=512, validation_data=(test_data, test_lables), verbose=2)"
      ],
      "metadata": {
        "colab": {
          "base_uri": "https://localhost:8080/"
        },
        "id": "BhXyHXSh_ac7",
        "outputId": "596483b7-b95d-48ee-d7fd-5eacf6893791"
      },
      "execution_count": 12,
      "outputs": [
        {
          "output_type": "stream",
          "name": "stdout",
          "text": [
            "Epoch 1/20\n",
            "49/49 - 6s - loss: 0.4753 - accuracy: 0.8150 - binary_crossentropy: 0.4753 - val_loss: 0.3286 - val_accuracy: 0.8764 - val_binary_crossentropy: 0.3286 - 6s/epoch - 130ms/step\n",
            "Epoch 2/20\n",
            "49/49 - 3s - loss: 0.2427 - accuracy: 0.9120 - binary_crossentropy: 0.2427 - val_loss: 0.2845 - val_accuracy: 0.8862 - val_binary_crossentropy: 0.2845 - 3s/epoch - 57ms/step\n",
            "Epoch 3/20\n",
            "49/49 - 2s - loss: 0.1755 - accuracy: 0.9380 - binary_crossentropy: 0.1755 - val_loss: 0.2949 - val_accuracy: 0.8837 - val_binary_crossentropy: 0.2949 - 2s/epoch - 43ms/step\n",
            "Epoch 4/20\n",
            "49/49 - 2s - loss: 0.1381 - accuracy: 0.9534 - binary_crossentropy: 0.1381 - val_loss: 0.3220 - val_accuracy: 0.8782 - val_binary_crossentropy: 0.3220 - 2s/epoch - 50ms/step\n",
            "Epoch 5/20\n",
            "49/49 - 3s - loss: 0.1131 - accuracy: 0.9625 - binary_crossentropy: 0.1131 - val_loss: 0.3605 - val_accuracy: 0.8718 - val_binary_crossentropy: 0.3605 - 3s/epoch - 52ms/step\n",
            "Epoch 6/20\n",
            "49/49 - 3s - loss: 0.0932 - accuracy: 0.9691 - binary_crossentropy: 0.0932 - val_loss: 0.3952 - val_accuracy: 0.8680 - val_binary_crossentropy: 0.3952 - 3s/epoch - 61ms/step\n",
            "Epoch 7/20\n",
            "49/49 - 2s - loss: 0.0766 - accuracy: 0.9762 - binary_crossentropy: 0.0766 - val_loss: 0.4414 - val_accuracy: 0.8644 - val_binary_crossentropy: 0.4414 - 2s/epoch - 46ms/step\n",
            "Epoch 8/20\n",
            "49/49 - 2s - loss: 0.0635 - accuracy: 0.9824 - binary_crossentropy: 0.0635 - val_loss: 0.4893 - val_accuracy: 0.8606 - val_binary_crossentropy: 0.4893 - 2s/epoch - 43ms/step\n",
            "Epoch 9/20\n",
            "49/49 - 2s - loss: 0.0520 - accuracy: 0.9876 - binary_crossentropy: 0.0520 - val_loss: 0.5388 - val_accuracy: 0.8578 - val_binary_crossentropy: 0.5388 - 2s/epoch - 50ms/step\n",
            "Epoch 10/20\n",
            "49/49 - 2s - loss: 0.0436 - accuracy: 0.9897 - binary_crossentropy: 0.0436 - val_loss: 0.5910 - val_accuracy: 0.8562 - val_binary_crossentropy: 0.5910 - 2s/epoch - 40ms/step\n",
            "Epoch 11/20\n",
            "49/49 - 5s - loss: 0.0348 - accuracy: 0.9928 - binary_crossentropy: 0.0348 - val_loss: 0.6436 - val_accuracy: 0.8523 - val_binary_crossentropy: 0.6436 - 5s/epoch - 107ms/step\n",
            "Epoch 12/20\n",
            "49/49 - 3s - loss: 0.0266 - accuracy: 0.9955 - binary_crossentropy: 0.0266 - val_loss: 0.6969 - val_accuracy: 0.8514 - val_binary_crossentropy: 0.6969 - 3s/epoch - 65ms/step\n",
            "Epoch 13/20\n",
            "49/49 - 3s - loss: 0.0212 - accuracy: 0.9966 - binary_crossentropy: 0.0212 - val_loss: 0.7469 - val_accuracy: 0.8501 - val_binary_crossentropy: 0.7469 - 3s/epoch - 56ms/step\n",
            "Epoch 14/20\n",
            "49/49 - 3s - loss: 0.0161 - accuracy: 0.9982 - binary_crossentropy: 0.0161 - val_loss: 0.7994 - val_accuracy: 0.8490 - val_binary_crossentropy: 0.7994 - 3s/epoch - 62ms/step\n",
            "Epoch 15/20\n",
            "49/49 - 3s - loss: 0.0126 - accuracy: 0.9991 - binary_crossentropy: 0.0126 - val_loss: 0.8490 - val_accuracy: 0.8490 - val_binary_crossentropy: 0.8490 - 3s/epoch - 58ms/step\n",
            "Epoch 16/20\n",
            "49/49 - 3s - loss: 0.0096 - accuracy: 0.9997 - binary_crossentropy: 0.0096 - val_loss: 0.8960 - val_accuracy: 0.8478 - val_binary_crossentropy: 0.8960 - 3s/epoch - 64ms/step\n",
            "Epoch 17/20\n",
            "49/49 - 3s - loss: 0.0074 - accuracy: 0.9998 - binary_crossentropy: 0.0074 - val_loss: 0.9365 - val_accuracy: 0.8470 - val_binary_crossentropy: 0.9365 - 3s/epoch - 68ms/step\n",
            "Epoch 18/20\n",
            "49/49 - 2s - loss: 0.0058 - accuracy: 0.9999 - binary_crossentropy: 0.0058 - val_loss: 0.9741 - val_accuracy: 0.8470 - val_binary_crossentropy: 0.9741 - 2s/epoch - 37ms/step\n",
            "Epoch 19/20\n",
            "49/49 - 2s - loss: 0.0047 - accuracy: 0.9999 - binary_crossentropy: 0.0047 - val_loss: 1.0067 - val_accuracy: 0.8472 - val_binary_crossentropy: 1.0067 - 2s/epoch - 49ms/step\n",
            "Epoch 20/20\n",
            "49/49 - 2s - loss: 0.0039 - accuracy: 1.0000 - binary_crossentropy: 0.0039 - val_loss: 1.0409 - val_accuracy: 0.8465 - val_binary_crossentropy: 1.0409 - 2s/epoch - 42ms/step\n"
          ]
        }
      ]
    },
    {
      "cell_type": "markdown",
      "source": [
        "# Budowa mniejszego modelu"
      ],
      "metadata": {
        "id": "Wh5J8JQ7Ajkh"
      }
    },
    {
      "cell_type": "code",
      "source": [
        "smaller_model = Sequential()\n",
        "smaller_model.add(Dense(units=4, activation='relu', input_shape=(NUM_WORDS,)))   # NUM_WORDS = 10_000\n",
        "smaller_model.add(Dense(units=4, activation='relu'))\n",
        "smaller_model.add(Dense(units=1, activation='sigmoid'))\n",
        "\n",
        "smaller_model.compile(optimizer='adam',\n",
        "                       loss='binary_crossentropy',\n",
        "                       metrics=['accuracy', 'binary_crossentropy'])\n",
        "\n",
        "smaller_model.summary()"
      ],
      "metadata": {
        "colab": {
          "base_uri": "https://localhost:8080/"
        },
        "id": "qw32mvLI_M2F",
        "outputId": "0d92fb73-c853-4887-8d14-333cd3f86786"
      },
      "execution_count": 13,
      "outputs": [
        {
          "output_type": "stream",
          "name": "stdout",
          "text": [
            "Model: \"sequential_1\"\n",
            "_________________________________________________________________\n",
            " Layer (type)                Output Shape              Param #   \n",
            "=================================================================\n",
            " dense_3 (Dense)             (None, 4)                 40004     \n",
            "                                                                 \n",
            " dense_4 (Dense)             (None, 4)                 20        \n",
            "                                                                 \n",
            " dense_5 (Dense)             (None, 1)                 5         \n",
            "                                                                 \n",
            "=================================================================\n",
            "Total params: 40029 (156.36 KB)\n",
            "Trainable params: 40029 (156.36 KB)\n",
            "Non-trainable params: 0 (0.00 Byte)\n",
            "_________________________________________________________________\n"
          ]
        }
      ]
    },
    {
      "cell_type": "code",
      "source": [
        "smaller_history = smaller_model.fit(train_data, train_lables, epochs=20, batch_size=512, validation_data=(test_data, test_lables), verbose=2)"
      ],
      "metadata": {
        "colab": {
          "base_uri": "https://localhost:8080/"
        },
        "id": "Ft-bEsN-EFvu",
        "outputId": "61b36abc-6060-4708-bce1-8ecc0b458fd9"
      },
      "execution_count": 14,
      "outputs": [
        {
          "output_type": "stream",
          "name": "stdout",
          "text": [
            "Epoch 1/20\n",
            "49/49 - 6s - loss: 0.6170 - accuracy: 0.6516 - binary_crossentropy: 0.6170 - val_loss: 0.5502 - val_accuracy: 0.7864 - val_binary_crossentropy: 0.5502 - 6s/epoch - 127ms/step\n",
            "Epoch 2/20\n",
            "49/49 - 2s - loss: 0.4905 - accuracy: 0.8474 - binary_crossentropy: 0.4905 - val_loss: 0.4761 - val_accuracy: 0.8722 - val_binary_crossentropy: 0.4761 - 2s/epoch - 42ms/step\n",
            "Epoch 3/20\n",
            "49/49 - 2s - loss: 0.4133 - accuracy: 0.9007 - binary_crossentropy: 0.4133 - val_loss: 0.4230 - val_accuracy: 0.8806 - val_binary_crossentropy: 0.4230 - 2s/epoch - 36ms/step\n",
            "Epoch 4/20\n",
            "49/49 - 3s - loss: 0.3489 - accuracy: 0.9264 - binary_crossentropy: 0.3489 - val_loss: 0.3830 - val_accuracy: 0.8804 - val_binary_crossentropy: 0.3830 - 3s/epoch - 58ms/step\n",
            "Epoch 5/20\n",
            "49/49 - 3s - loss: 0.2781 - accuracy: 0.9411 - binary_crossentropy: 0.2781 - val_loss: 0.3184 - val_accuracy: 0.8839 - val_binary_crossentropy: 0.3184 - 3s/epoch - 60ms/step\n",
            "Epoch 6/20\n",
            "49/49 - 3s - loss: 0.1863 - accuracy: 0.9505 - binary_crossentropy: 0.1863 - val_loss: 0.2938 - val_accuracy: 0.8822 - val_binary_crossentropy: 0.2938 - 3s/epoch - 55ms/step\n",
            "Epoch 7/20\n",
            "49/49 - 2s - loss: 0.1456 - accuracy: 0.9592 - binary_crossentropy: 0.1456 - val_loss: 0.3038 - val_accuracy: 0.8807 - val_binary_crossentropy: 0.3038 - 2s/epoch - 37ms/step\n",
            "Epoch 8/20\n",
            "49/49 - 2s - loss: 0.1228 - accuracy: 0.9643 - binary_crossentropy: 0.1228 - val_loss: 0.3223 - val_accuracy: 0.8771 - val_binary_crossentropy: 0.3223 - 2s/epoch - 36ms/step\n",
            "Epoch 9/20\n",
            "49/49 - 2s - loss: 0.1053 - accuracy: 0.9703 - binary_crossentropy: 0.1053 - val_loss: 0.3343 - val_accuracy: 0.8746 - val_binary_crossentropy: 0.3343 - 2s/epoch - 35ms/step\n",
            "Epoch 10/20\n",
            "49/49 - 2s - loss: 0.0907 - accuracy: 0.9760 - binary_crossentropy: 0.0907 - val_loss: 0.3549 - val_accuracy: 0.8723 - val_binary_crossentropy: 0.3549 - 2s/epoch - 46ms/step\n",
            "Epoch 11/20\n",
            "49/49 - 3s - loss: 0.0788 - accuracy: 0.9804 - binary_crossentropy: 0.0788 - val_loss: 0.3751 - val_accuracy: 0.8690 - val_binary_crossentropy: 0.3751 - 3s/epoch - 57ms/step\n",
            "Epoch 12/20\n",
            "49/49 - 2s - loss: 0.0687 - accuracy: 0.9834 - binary_crossentropy: 0.0687 - val_loss: 0.3941 - val_accuracy: 0.8674 - val_binary_crossentropy: 0.3941 - 2s/epoch - 34ms/step\n",
            "Epoch 13/20\n",
            "49/49 - 2s - loss: 0.0594 - accuracy: 0.9876 - binary_crossentropy: 0.0594 - val_loss: 0.4135 - val_accuracy: 0.8672 - val_binary_crossentropy: 0.4135 - 2s/epoch - 34ms/step\n",
            "Epoch 14/20\n",
            "49/49 - 2s - loss: 0.0516 - accuracy: 0.9902 - binary_crossentropy: 0.0516 - val_loss: 0.4370 - val_accuracy: 0.8639 - val_binary_crossentropy: 0.4370 - 2s/epoch - 34ms/step\n",
            "Epoch 15/20\n",
            "49/49 - 2s - loss: 0.0451 - accuracy: 0.9918 - binary_crossentropy: 0.0451 - val_loss: 0.4537 - val_accuracy: 0.8633 - val_binary_crossentropy: 0.4537 - 2s/epoch - 50ms/step\n",
            "Epoch 16/20\n",
            "49/49 - 2s - loss: 0.0391 - accuracy: 0.9938 - binary_crossentropy: 0.0391 - val_loss: 0.4797 - val_accuracy: 0.8614 - val_binary_crossentropy: 0.4797 - 2s/epoch - 37ms/step\n",
            "Epoch 17/20\n",
            "49/49 - 3s - loss: 0.0338 - accuracy: 0.9948 - binary_crossentropy: 0.0338 - val_loss: 0.5011 - val_accuracy: 0.8609 - val_binary_crossentropy: 0.5011 - 3s/epoch - 64ms/step\n",
            "Epoch 18/20\n",
            "49/49 - 2s - loss: 0.0295 - accuracy: 0.9959 - binary_crossentropy: 0.0295 - val_loss: 0.5231 - val_accuracy: 0.8593 - val_binary_crossentropy: 0.5231 - 2s/epoch - 43ms/step\n",
            "Epoch 19/20\n",
            "49/49 - 2s - loss: 0.0256 - accuracy: 0.9965 - binary_crossentropy: 0.0256 - val_loss: 0.5440 - val_accuracy: 0.8589 - val_binary_crossentropy: 0.5440 - 2s/epoch - 40ms/step\n",
            "Epoch 20/20\n",
            "49/49 - 2s - loss: 0.0221 - accuracy: 0.9974 - binary_crossentropy: 0.0221 - val_loss: 0.5670 - val_accuracy: 0.8584 - val_binary_crossentropy: 0.5670 - 2s/epoch - 35ms/step\n"
          ]
        }
      ]
    },
    {
      "cell_type": "markdown",
      "source": [
        "# Budowa większego modelu"
      ],
      "metadata": {
        "id": "TEt-NAMNEzeJ"
      }
    },
    {
      "cell_type": "code",
      "source": [
        "bigger_model = Sequential()\n",
        "bigger_model.add(Dense(units=256, activation='relu', input_shape=(NUM_WORDS,)))   # NUM_WORDS = 10_000\n",
        "bigger_model.add(Dense(units=256, activation='relu'))\n",
        "bigger_model.add(Dense(units=1, activation='sigmoid'))\n",
        "\n",
        "bigger_model.compile(optimizer='adam',\n",
        "                       loss='binary_crossentropy',\n",
        "                       metrics=['accuracy', 'binary_crossentropy'])\n",
        "\n",
        "bigger_model.summary()"
      ],
      "metadata": {
        "colab": {
          "base_uri": "https://localhost:8080/"
        },
        "id": "QtB1W79jE-Nz",
        "outputId": "a55c72ce-5e1f-456b-a0c2-01b66463eaaf"
      },
      "execution_count": 15,
      "outputs": [
        {
          "output_type": "stream",
          "name": "stdout",
          "text": [
            "Model: \"sequential_2\"\n",
            "_________________________________________________________________\n",
            " Layer (type)                Output Shape              Param #   \n",
            "=================================================================\n",
            " dense_6 (Dense)             (None, 256)               2560256   \n",
            "                                                                 \n",
            " dense_7 (Dense)             (None, 256)               65792     \n",
            "                                                                 \n",
            " dense_8 (Dense)             (None, 1)                 257       \n",
            "                                                                 \n",
            "=================================================================\n",
            "Total params: 2626305 (10.02 MB)\n",
            "Trainable params: 2626305 (10.02 MB)\n",
            "Non-trainable params: 0 (0.00 Byte)\n",
            "_________________________________________________________________\n"
          ]
        }
      ]
    },
    {
      "cell_type": "code",
      "source": [
        "bigger_history = bigger_model.fit(train_data, train_lables, epochs=20, batch_size=512, validation_data=(test_data, test_lables), verbose=2)"
      ],
      "metadata": {
        "colab": {
          "base_uri": "https://localhost:8080/"
        },
        "id": "w4x_EaxjFK1D",
        "outputId": "3a2aa099-c1a2-4276-ae66-679f6b8561eb"
      },
      "execution_count": 16,
      "outputs": [
        {
          "output_type": "stream",
          "name": "stdout",
          "text": [
            "Epoch 1/20\n",
            "49/49 - 14s - loss: 0.3574 - accuracy: 0.8458 - binary_crossentropy: 0.3574 - val_loss: 0.2931 - val_accuracy: 0.8801 - val_binary_crossentropy: 0.2931 - 14s/epoch - 285ms/step\n",
            "Epoch 2/20\n",
            "49/49 - 16s - loss: 0.1633 - accuracy: 0.9417 - binary_crossentropy: 0.1633 - val_loss: 0.3212 - val_accuracy: 0.8740 - val_binary_crossentropy: 0.3212 - 16s/epoch - 332ms/step\n",
            "Epoch 3/20\n",
            "49/49 - 10s - loss: 0.0832 - accuracy: 0.9733 - binary_crossentropy: 0.0832 - val_loss: 0.3950 - val_accuracy: 0.8717 - val_binary_crossentropy: 0.3950 - 10s/epoch - 208ms/step\n",
            "Epoch 4/20\n",
            "49/49 - 10s - loss: 0.0243 - accuracy: 0.9947 - binary_crossentropy: 0.0243 - val_loss: 0.5109 - val_accuracy: 0.8641 - val_binary_crossentropy: 0.5109 - 10s/epoch - 210ms/step\n",
            "Epoch 5/20\n",
            "49/49 - 12s - loss: 0.0043 - accuracy: 0.9998 - binary_crossentropy: 0.0043 - val_loss: 0.6135 - val_accuracy: 0.8644 - val_binary_crossentropy: 0.6135 - 12s/epoch - 237ms/step\n",
            "Epoch 6/20\n",
            "49/49 - 9s - loss: 8.6135e-04 - accuracy: 1.0000 - binary_crossentropy: 8.6135e-04 - val_loss: 0.6806 - val_accuracy: 0.8658 - val_binary_crossentropy: 0.6806 - 9s/epoch - 182ms/step\n",
            "Epoch 7/20\n",
            "49/49 - 13s - loss: 3.9139e-04 - accuracy: 1.0000 - binary_crossentropy: 3.9139e-04 - val_loss: 0.7215 - val_accuracy: 0.8674 - val_binary_crossentropy: 0.7215 - 13s/epoch - 261ms/step\n",
            "Epoch 8/20\n",
            "49/49 - 13s - loss: 2.5166e-04 - accuracy: 1.0000 - binary_crossentropy: 2.5166e-04 - val_loss: 0.7484 - val_accuracy: 0.8666 - val_binary_crossentropy: 0.7484 - 13s/epoch - 264ms/step\n",
            "Epoch 9/20\n",
            "49/49 - 13s - loss: 1.8488e-04 - accuracy: 1.0000 - binary_crossentropy: 1.8488e-04 - val_loss: 0.7685 - val_accuracy: 0.8673 - val_binary_crossentropy: 0.7685 - 13s/epoch - 261ms/step\n",
            "Epoch 10/20\n",
            "49/49 - 13s - loss: 1.4235e-04 - accuracy: 1.0000 - binary_crossentropy: 1.4235e-04 - val_loss: 0.7868 - val_accuracy: 0.8672 - val_binary_crossentropy: 0.7868 - 13s/epoch - 257ms/step\n",
            "Epoch 11/20\n",
            "49/49 - 12s - loss: 1.1334e-04 - accuracy: 1.0000 - binary_crossentropy: 1.1334e-04 - val_loss: 0.8032 - val_accuracy: 0.8672 - val_binary_crossentropy: 0.8032 - 12s/epoch - 235ms/step\n",
            "Epoch 12/20\n",
            "49/49 - 11s - loss: 9.2821e-05 - accuracy: 1.0000 - binary_crossentropy: 9.2821e-05 - val_loss: 0.8171 - val_accuracy: 0.8675 - val_binary_crossentropy: 0.8171 - 11s/epoch - 231ms/step\n",
            "Epoch 13/20\n",
            "49/49 - 9s - loss: 7.7029e-05 - accuracy: 1.0000 - binary_crossentropy: 7.7029e-05 - val_loss: 0.8305 - val_accuracy: 0.8672 - val_binary_crossentropy: 0.8305 - 9s/epoch - 193ms/step\n",
            "Epoch 14/20\n",
            "49/49 - 11s - loss: 6.4999e-05 - accuracy: 1.0000 - binary_crossentropy: 6.4999e-05 - val_loss: 0.8424 - val_accuracy: 0.8674 - val_binary_crossentropy: 0.8424 - 11s/epoch - 220ms/step\n",
            "Epoch 15/20\n",
            "49/49 - 13s - loss: 5.5569e-05 - accuracy: 1.0000 - binary_crossentropy: 5.5569e-05 - val_loss: 0.8537 - val_accuracy: 0.8675 - val_binary_crossentropy: 0.8537 - 13s/epoch - 273ms/step\n",
            "Epoch 16/20\n",
            "49/49 - 11s - loss: 4.8092e-05 - accuracy: 1.0000 - binary_crossentropy: 4.8092e-05 - val_loss: 0.8649 - val_accuracy: 0.8674 - val_binary_crossentropy: 0.8649 - 11s/epoch - 217ms/step\n",
            "Epoch 17/20\n",
            "49/49 - 11s - loss: 4.1916e-05 - accuracy: 1.0000 - binary_crossentropy: 4.1916e-05 - val_loss: 0.8742 - val_accuracy: 0.8678 - val_binary_crossentropy: 0.8742 - 11s/epoch - 227ms/step\n",
            "Epoch 18/20\n",
            "49/49 - 9s - loss: 3.6915e-05 - accuracy: 1.0000 - binary_crossentropy: 3.6915e-05 - val_loss: 0.8845 - val_accuracy: 0.8676 - val_binary_crossentropy: 0.8845 - 9s/epoch - 183ms/step\n",
            "Epoch 19/20\n",
            "49/49 - 13s - loss: 3.2681e-05 - accuracy: 1.0000 - binary_crossentropy: 3.2681e-05 - val_loss: 0.8937 - val_accuracy: 0.8676 - val_binary_crossentropy: 0.8937 - 13s/epoch - 262ms/step\n",
            "Epoch 20/20\n",
            "49/49 - 13s - loss: 2.9126e-05 - accuracy: 1.0000 - binary_crossentropy: 2.9126e-05 - val_loss: 0.9017 - val_accuracy: 0.8680 - val_binary_crossentropy: 0.9017 - 13s/epoch - 270ms/step\n"
          ]
        }
      ]
    },
    {
      "cell_type": "code",
      "source": [
        "hist = pd.DataFrame(baseline_history.history)\n",
        "hist['epoch'] = baseline_history.epoch\n",
        "hist.head()"
      ],
      "metadata": {
        "id": "7rF_viNiFkeZ",
        "colab": {
          "base_uri": "https://localhost:8080/",
          "height": 206
        },
        "outputId": "ee483572-a74b-48e7-c9a0-452730426648"
      },
      "execution_count": 17,
      "outputs": [
        {
          "output_type": "execute_result",
          "data": {
            "text/plain": [
              "       loss  accuracy  binary_crossentropy  val_loss  val_accuracy  \\\n",
              "0  0.475250   0.81500             0.475250  0.328570       0.87644   \n",
              "1  0.242729   0.91204             0.242729  0.284450       0.88616   \n",
              "2  0.175484   0.93800             0.175484  0.294915       0.88368   \n",
              "3  0.138140   0.95340             0.138140  0.322016       0.87820   \n",
              "4  0.113062   0.96248             0.113062  0.360460       0.87184   \n",
              "\n",
              "   val_binary_crossentropy  epoch  \n",
              "0                 0.328570      0  \n",
              "1                 0.284450      1  \n",
              "2                 0.294915      2  \n",
              "3                 0.322016      3  \n",
              "4                 0.360460      4  "
            ],
            "text/html": [
              "\n",
              "  <div id=\"df-6f7529bf-0b77-4e52-8808-cd70015f4f6e\" class=\"colab-df-container\">\n",
              "    <div>\n",
              "<style scoped>\n",
              "    .dataframe tbody tr th:only-of-type {\n",
              "        vertical-align: middle;\n",
              "    }\n",
              "\n",
              "    .dataframe tbody tr th {\n",
              "        vertical-align: top;\n",
              "    }\n",
              "\n",
              "    .dataframe thead th {\n",
              "        text-align: right;\n",
              "    }\n",
              "</style>\n",
              "<table border=\"1\" class=\"dataframe\">\n",
              "  <thead>\n",
              "    <tr style=\"text-align: right;\">\n",
              "      <th></th>\n",
              "      <th>loss</th>\n",
              "      <th>accuracy</th>\n",
              "      <th>binary_crossentropy</th>\n",
              "      <th>val_loss</th>\n",
              "      <th>val_accuracy</th>\n",
              "      <th>val_binary_crossentropy</th>\n",
              "      <th>epoch</th>\n",
              "    </tr>\n",
              "  </thead>\n",
              "  <tbody>\n",
              "    <tr>\n",
              "      <th>0</th>\n",
              "      <td>0.475250</td>\n",
              "      <td>0.81500</td>\n",
              "      <td>0.475250</td>\n",
              "      <td>0.328570</td>\n",
              "      <td>0.87644</td>\n",
              "      <td>0.328570</td>\n",
              "      <td>0</td>\n",
              "    </tr>\n",
              "    <tr>\n",
              "      <th>1</th>\n",
              "      <td>0.242729</td>\n",
              "      <td>0.91204</td>\n",
              "      <td>0.242729</td>\n",
              "      <td>0.284450</td>\n",
              "      <td>0.88616</td>\n",
              "      <td>0.284450</td>\n",
              "      <td>1</td>\n",
              "    </tr>\n",
              "    <tr>\n",
              "      <th>2</th>\n",
              "      <td>0.175484</td>\n",
              "      <td>0.93800</td>\n",
              "      <td>0.175484</td>\n",
              "      <td>0.294915</td>\n",
              "      <td>0.88368</td>\n",
              "      <td>0.294915</td>\n",
              "      <td>2</td>\n",
              "    </tr>\n",
              "    <tr>\n",
              "      <th>3</th>\n",
              "      <td>0.138140</td>\n",
              "      <td>0.95340</td>\n",
              "      <td>0.138140</td>\n",
              "      <td>0.322016</td>\n",
              "      <td>0.87820</td>\n",
              "      <td>0.322016</td>\n",
              "      <td>3</td>\n",
              "    </tr>\n",
              "    <tr>\n",
              "      <th>4</th>\n",
              "      <td>0.113062</td>\n",
              "      <td>0.96248</td>\n",
              "      <td>0.113062</td>\n",
              "      <td>0.360460</td>\n",
              "      <td>0.87184</td>\n",
              "      <td>0.360460</td>\n",
              "      <td>4</td>\n",
              "    </tr>\n",
              "  </tbody>\n",
              "</table>\n",
              "</div>\n",
              "    <div class=\"colab-df-buttons\">\n",
              "\n",
              "  <div class=\"colab-df-container\">\n",
              "    <button class=\"colab-df-convert\" onclick=\"convertToInteractive('df-6f7529bf-0b77-4e52-8808-cd70015f4f6e')\"\n",
              "            title=\"Convert this dataframe to an interactive table.\"\n",
              "            style=\"display:none;\">\n",
              "\n",
              "  <svg xmlns=\"http://www.w3.org/2000/svg\" height=\"24px\" viewBox=\"0 -960 960 960\">\n",
              "    <path d=\"M120-120v-720h720v720H120Zm60-500h600v-160H180v160Zm220 220h160v-160H400v160Zm0 220h160v-160H400v160ZM180-400h160v-160H180v160Zm440 0h160v-160H620v160ZM180-180h160v-160H180v160Zm440 0h160v-160H620v160Z\"/>\n",
              "  </svg>\n",
              "    </button>\n",
              "\n",
              "  <style>\n",
              "    .colab-df-container {\n",
              "      display:flex;\n",
              "      gap: 12px;\n",
              "    }\n",
              "\n",
              "    .colab-df-convert {\n",
              "      background-color: #E8F0FE;\n",
              "      border: none;\n",
              "      border-radius: 50%;\n",
              "      cursor: pointer;\n",
              "      display: none;\n",
              "      fill: #1967D2;\n",
              "      height: 32px;\n",
              "      padding: 0 0 0 0;\n",
              "      width: 32px;\n",
              "    }\n",
              "\n",
              "    .colab-df-convert:hover {\n",
              "      background-color: #E2EBFA;\n",
              "      box-shadow: 0px 1px 2px rgba(60, 64, 67, 0.3), 0px 1px 3px 1px rgba(60, 64, 67, 0.15);\n",
              "      fill: #174EA6;\n",
              "    }\n",
              "\n",
              "    .colab-df-buttons div {\n",
              "      margin-bottom: 4px;\n",
              "    }\n",
              "\n",
              "    [theme=dark] .colab-df-convert {\n",
              "      background-color: #3B4455;\n",
              "      fill: #D2E3FC;\n",
              "    }\n",
              "\n",
              "    [theme=dark] .colab-df-convert:hover {\n",
              "      background-color: #434B5C;\n",
              "      box-shadow: 0px 1px 3px 1px rgba(0, 0, 0, 0.15);\n",
              "      filter: drop-shadow(0px 1px 2px rgba(0, 0, 0, 0.3));\n",
              "      fill: #FFFFFF;\n",
              "    }\n",
              "  </style>\n",
              "\n",
              "    <script>\n",
              "      const buttonEl =\n",
              "        document.querySelector('#df-6f7529bf-0b77-4e52-8808-cd70015f4f6e button.colab-df-convert');\n",
              "      buttonEl.style.display =\n",
              "        google.colab.kernel.accessAllowed ? 'block' : 'none';\n",
              "\n",
              "      async function convertToInteractive(key) {\n",
              "        const element = document.querySelector('#df-6f7529bf-0b77-4e52-8808-cd70015f4f6e');\n",
              "        const dataTable =\n",
              "          await google.colab.kernel.invokeFunction('convertToInteractive',\n",
              "                                                    [key], {});\n",
              "        if (!dataTable) return;\n",
              "\n",
              "        const docLinkHtml = 'Like what you see? Visit the ' +\n",
              "          '<a target=\"_blank\" href=https://colab.research.google.com/notebooks/data_table.ipynb>data table notebook</a>'\n",
              "          + ' to learn more about interactive tables.';\n",
              "        element.innerHTML = '';\n",
              "        dataTable['output_type'] = 'display_data';\n",
              "        await google.colab.output.renderOutput(dataTable, element);\n",
              "        const docLink = document.createElement('div');\n",
              "        docLink.innerHTML = docLinkHtml;\n",
              "        element.appendChild(docLink);\n",
              "      }\n",
              "    </script>\n",
              "  </div>\n",
              "\n",
              "\n",
              "<div id=\"df-48a56f77-f7c6-403c-8f62-a364cf3c410f\">\n",
              "  <button class=\"colab-df-quickchart\" onclick=\"quickchart('df-48a56f77-f7c6-403c-8f62-a364cf3c410f')\"\n",
              "            title=\"Suggest charts\"\n",
              "            style=\"display:none;\">\n",
              "\n",
              "<svg xmlns=\"http://www.w3.org/2000/svg\" height=\"24px\"viewBox=\"0 0 24 24\"\n",
              "     width=\"24px\">\n",
              "    <g>\n",
              "        <path d=\"M19 3H5c-1.1 0-2 .9-2 2v14c0 1.1.9 2 2 2h14c1.1 0 2-.9 2-2V5c0-1.1-.9-2-2-2zM9 17H7v-7h2v7zm4 0h-2V7h2v10zm4 0h-2v-4h2v4z\"/>\n",
              "    </g>\n",
              "</svg>\n",
              "  </button>\n",
              "\n",
              "<style>\n",
              "  .colab-df-quickchart {\n",
              "      --bg-color: #E8F0FE;\n",
              "      --fill-color: #1967D2;\n",
              "      --hover-bg-color: #E2EBFA;\n",
              "      --hover-fill-color: #174EA6;\n",
              "      --disabled-fill-color: #AAA;\n",
              "      --disabled-bg-color: #DDD;\n",
              "  }\n",
              "\n",
              "  [theme=dark] .colab-df-quickchart {\n",
              "      --bg-color: #3B4455;\n",
              "      --fill-color: #D2E3FC;\n",
              "      --hover-bg-color: #434B5C;\n",
              "      --hover-fill-color: #FFFFFF;\n",
              "      --disabled-bg-color: #3B4455;\n",
              "      --disabled-fill-color: #666;\n",
              "  }\n",
              "\n",
              "  .colab-df-quickchart {\n",
              "    background-color: var(--bg-color);\n",
              "    border: none;\n",
              "    border-radius: 50%;\n",
              "    cursor: pointer;\n",
              "    display: none;\n",
              "    fill: var(--fill-color);\n",
              "    height: 32px;\n",
              "    padding: 0;\n",
              "    width: 32px;\n",
              "  }\n",
              "\n",
              "  .colab-df-quickchart:hover {\n",
              "    background-color: var(--hover-bg-color);\n",
              "    box-shadow: 0 1px 2px rgba(60, 64, 67, 0.3), 0 1px 3px 1px rgba(60, 64, 67, 0.15);\n",
              "    fill: var(--button-hover-fill-color);\n",
              "  }\n",
              "\n",
              "  .colab-df-quickchart-complete:disabled,\n",
              "  .colab-df-quickchart-complete:disabled:hover {\n",
              "    background-color: var(--disabled-bg-color);\n",
              "    fill: var(--disabled-fill-color);\n",
              "    box-shadow: none;\n",
              "  }\n",
              "\n",
              "  .colab-df-spinner {\n",
              "    border: 2px solid var(--fill-color);\n",
              "    border-color: transparent;\n",
              "    border-bottom-color: var(--fill-color);\n",
              "    animation:\n",
              "      spin 1s steps(1) infinite;\n",
              "  }\n",
              "\n",
              "  @keyframes spin {\n",
              "    0% {\n",
              "      border-color: transparent;\n",
              "      border-bottom-color: var(--fill-color);\n",
              "      border-left-color: var(--fill-color);\n",
              "    }\n",
              "    20% {\n",
              "      border-color: transparent;\n",
              "      border-left-color: var(--fill-color);\n",
              "      border-top-color: var(--fill-color);\n",
              "    }\n",
              "    30% {\n",
              "      border-color: transparent;\n",
              "      border-left-color: var(--fill-color);\n",
              "      border-top-color: var(--fill-color);\n",
              "      border-right-color: var(--fill-color);\n",
              "    }\n",
              "    40% {\n",
              "      border-color: transparent;\n",
              "      border-right-color: var(--fill-color);\n",
              "      border-top-color: var(--fill-color);\n",
              "    }\n",
              "    60% {\n",
              "      border-color: transparent;\n",
              "      border-right-color: var(--fill-color);\n",
              "    }\n",
              "    80% {\n",
              "      border-color: transparent;\n",
              "      border-right-color: var(--fill-color);\n",
              "      border-bottom-color: var(--fill-color);\n",
              "    }\n",
              "    90% {\n",
              "      border-color: transparent;\n",
              "      border-bottom-color: var(--fill-color);\n",
              "    }\n",
              "  }\n",
              "</style>\n",
              "\n",
              "  <script>\n",
              "    async function quickchart(key) {\n",
              "      const quickchartButtonEl =\n",
              "        document.querySelector('#' + key + ' button');\n",
              "      quickchartButtonEl.disabled = true;  // To prevent multiple clicks.\n",
              "      quickchartButtonEl.classList.add('colab-df-spinner');\n",
              "      try {\n",
              "        const charts = await google.colab.kernel.invokeFunction(\n",
              "            'suggestCharts', [key], {});\n",
              "      } catch (error) {\n",
              "        console.error('Error during call to suggestCharts:', error);\n",
              "      }\n",
              "      quickchartButtonEl.classList.remove('colab-df-spinner');\n",
              "      quickchartButtonEl.classList.add('colab-df-quickchart-complete');\n",
              "    }\n",
              "    (() => {\n",
              "      let quickchartButtonEl =\n",
              "        document.querySelector('#df-48a56f77-f7c6-403c-8f62-a364cf3c410f button');\n",
              "      quickchartButtonEl.style.display =\n",
              "        google.colab.kernel.accessAllowed ? 'block' : 'none';\n",
              "    })();\n",
              "  </script>\n",
              "</div>\n",
              "\n",
              "    </div>\n",
              "  </div>\n"
            ],
            "application/vnd.google.colaboratory.intrinsic+json": {
              "type": "dataframe",
              "variable_name": "hist",
              "summary": "{\n  \"name\": \"hist\",\n  \"rows\": 20,\n  \"fields\": [\n    {\n      \"column\": \"loss\",\n      \"properties\": {\n        \"dtype\": \"number\",\n        \"std\": 0.11309482376850007,\n        \"min\": 0.0038913351017981768,\n        \"max\": 0.47525012493133545,\n        \"num_unique_values\": 20,\n        \"samples\": [\n          0.47525012493133545,\n          0.005807765293866396,\n          0.00964957382529974\n        ],\n        \"semantic_type\": \"\",\n        \"description\": \"\"\n      }\n    },\n    {\n      \"column\": \"accuracy\",\n      \"properties\": {\n        \"dtype\": \"number\",\n        \"std\": 0.044359090299450545,\n        \"min\": 0.8149999976158142,\n        \"max\": 1.0,\n        \"num_unique_values\": 19,\n        \"samples\": [\n          0.8149999976158142,\n          0.9691200256347656,\n          0.9955199956893921\n        ],\n        \"semantic_type\": \"\",\n        \"description\": \"\"\n      }\n    },\n    {\n      \"column\": \"binary_crossentropy\",\n      \"properties\": {\n        \"dtype\": \"number\",\n        \"std\": 0.11309482376850007,\n        \"min\": 0.0038913351017981768,\n        \"max\": 0.47525012493133545,\n        \"num_unique_values\": 20,\n        \"samples\": [\n          0.47525012493133545,\n          0.005807765293866396,\n          0.00964957382529974\n        ],\n        \"semantic_type\": \"\",\n        \"description\": \"\"\n      }\n    },\n    {\n      \"column\": \"val_loss\",\n      \"properties\": {\n        \"dtype\": \"number\",\n        \"std\": 0.2614803682343606,\n        \"min\": 0.28445038199424744,\n        \"max\": 1.0408915281295776,\n        \"num_unique_values\": 20,\n        \"samples\": [\n          0.32857000827789307,\n          0.9740517735481262,\n          0.8959981203079224\n        ],\n        \"semantic_type\": \"\",\n        \"description\": \"\"\n      }\n    },\n    {\n      \"column\": \"val_accuracy\",\n      \"properties\": {\n        \"dtype\": \"number\",\n        \"std\": 0.013361989186138465,\n        \"min\": 0.8464800119400024,\n        \"max\": 0.8861600160598755,\n        \"num_unique_values\": 20,\n        \"samples\": [\n          0.8764399886131287,\n          0.8470399975776672,\n          0.8478400111198425\n        ],\n        \"semantic_type\": \"\",\n        \"description\": \"\"\n      }\n    },\n    {\n      \"column\": \"val_binary_crossentropy\",\n      \"properties\": {\n        \"dtype\": \"number\",\n        \"std\": 0.2614803682343606,\n        \"min\": 0.28445038199424744,\n        \"max\": 1.0408915281295776,\n        \"num_unique_values\": 20,\n        \"samples\": [\n          0.32857000827789307,\n          0.9740517735481262,\n          0.8959981203079224\n        ],\n        \"semantic_type\": \"\",\n        \"description\": \"\"\n      }\n    },\n    {\n      \"column\": \"epoch\",\n      \"properties\": {\n        \"dtype\": \"number\",\n        \"std\": 5,\n        \"min\": 0,\n        \"max\": 19,\n        \"num_unique_values\": 20,\n        \"samples\": [\n          0,\n          17,\n          15\n        ],\n        \"semantic_type\": \"\",\n        \"description\": \"\"\n      }\n    }\n  ]\n}"
            }
          },
          "metadata": {},
          "execution_count": 17
        }
      ]
    },
    {
      "cell_type": "code",
      "source": [
        "import plotly.graph_objects as go\n",
        "\n",
        "fig = go.Figure()\n",
        "for name, history in zip(['smaller', 'baseline', 'bigger'], [smaller_history, baseline_history, bigger_history]):\n",
        "    hist = pd.DataFrame(history.history)\n",
        "    hist['epoch'] = history.epoch\n",
        "    fig.add_trace(go.Scatter(x=hist['epoch'], y=hist['binary_crossentropy'], name=name + '_binary_crossentropy', mode='lines+markers'))\n",
        "    fig.add_trace(go.Scatter(x=hist['epoch'], y=hist['val_binary_crossentropy'], name=name + '_val_binary_crossentropy', mode='lines+markers'))\n",
        "    fig.update_layout(xaxis_title='Epoki', yaxis_title='binary_crossentropy')\n",
        "fig.show()"
      ],
      "metadata": {
        "colab": {
          "base_uri": "https://localhost:8080/",
          "height": 542
        },
        "id": "6caOUh1lNtgG",
        "outputId": "1aecbfbc-4261-479b-9916-ffbbfe9c6bd2"
      },
      "execution_count": 18,
      "outputs": [
        {
          "output_type": "display_data",
          "data": {
            "text/html": [
              "<html>\n",
              "<head><meta charset=\"utf-8\" /></head>\n",
              "<body>\n",
              "    <div>            <script src=\"https://cdnjs.cloudflare.com/ajax/libs/mathjax/2.7.5/MathJax.js?config=TeX-AMS-MML_SVG\"></script><script type=\"text/javascript\">if (window.MathJax && window.MathJax.Hub && window.MathJax.Hub.Config) {window.MathJax.Hub.Config({SVG: {font: \"STIX-Web\"}});}</script>                <script type=\"text/javascript\">window.PlotlyConfig = {MathJaxConfig: 'local'};</script>\n",
              "        <script charset=\"utf-8\" src=\"https://cdn.plot.ly/plotly-2.24.1.min.js\"></script>                <div id=\"745579b0-bcef-4088-a4a5-e328713ac051\" class=\"plotly-graph-div\" style=\"height:525px; width:100%;\"></div>            <script type=\"text/javascript\">                                    window.PLOTLYENV=window.PLOTLYENV || {};                                    if (document.getElementById(\"745579b0-bcef-4088-a4a5-e328713ac051\")) {                    Plotly.newPlot(                        \"745579b0-bcef-4088-a4a5-e328713ac051\",                        [{\"mode\":\"lines+markers\",\"name\":\"smaller_binary_crossentropy\",\"x\":[0,1,2,3,4,5,6,7,8,9,10,11,12,13,14,15,16,17,18,19],\"y\":[0.6170473694801331,0.49045366048812866,0.4133487045764923,0.34887465834617615,0.27813389897346497,0.186279296875,0.14556244015693665,0.12280137836933136,0.1052989661693573,0.09067139774560928,0.07878243923187256,0.06868862360715866,0.059431158006191254,0.05160251632332802,0.045106302946805954,0.03908766806125641,0.03377567231655121,0.029452156275510788,0.02563168667256832,0.022128483280539513],\"type\":\"scatter\"},{\"mode\":\"lines+markers\",\"name\":\"smaller_val_binary_crossentropy\",\"x\":[0,1,2,3,4,5,6,7,8,9,10,11,12,13,14,15,16,17,18,19],\"y\":[0.5502107739448547,0.4761476516723633,0.4230426847934723,0.38304322957992554,0.31844595074653625,0.2937972843647003,0.30377840995788574,0.3223413825035095,0.33431240916252136,0.35485008358955383,0.37513989210128784,0.39409342408180237,0.4134862422943115,0.4370461702346802,0.4536929726600647,0.47968003153800964,0.5010563731193542,0.5231199860572815,0.544017493724823,0.5670074224472046],\"type\":\"scatter\"},{\"mode\":\"lines+markers\",\"name\":\"baseline_binary_crossentropy\",\"x\":[0,1,2,3,4,5,6,7,8,9,10,11,12,13,14,15,16,17,18,19],\"y\":[0.47525012493133545,0.2427292764186859,0.17548374831676483,0.13814017176628113,0.11306186765432358,0.09324628114700317,0.07663516700267792,0.06353304535150528,0.051952265202999115,0.043561581522226334,0.03483162820339203,0.026617512106895447,0.0211882796138525,0.01613575965166092,0.012565592303872108,0.00964957382529974,0.007377005647867918,0.005807765293866396,0.004698474891483784,0.0038913351017981768],\"type\":\"scatter\"},{\"mode\":\"lines+markers\",\"name\":\"baseline_val_binary_crossentropy\",\"x\":[0,1,2,3,4,5,6,7,8,9,10,11,12,13,14,15,16,17,18,19],\"y\":[0.32857000827789307,0.28445038199424744,0.2949145436286926,0.3220159113407135,0.3604595363140106,0.3951948881149292,0.4413517117500305,0.48932725191116333,0.5387836694717407,0.5910351276397705,0.6435711979866028,0.6968628764152527,0.7469410300254822,0.7993807196617126,0.8489846587181091,0.8959981203079224,0.9364610910415649,0.9740517735481262,1.006668210029602,1.0408915281295776],\"type\":\"scatter\"},{\"mode\":\"lines+markers\",\"name\":\"bigger_binary_crossentropy\",\"x\":[0,1,2,3,4,5,6,7,8,9,10,11,12,13,14,15,16,17,18,19],\"y\":[0.35743921995162964,0.16329920291900635,0.08323850482702255,0.024291101843118668,0.00434957817196846,0.0008613489335402846,0.00039138912688940763,0.00025165799888782203,0.00018488269415684044,0.00014235236449167132,0.00011333871952956542,9.282116661779583e-05,7.702851871727034e-05,6.499926530523226e-05,5.556877295020968e-05,4.8091653297888115e-05,4.191572224954143e-05,3.6914792872266844e-05,3.2680865842849016e-05,2.9126147637725808e-05],\"type\":\"scatter\"},{\"mode\":\"lines+markers\",\"name\":\"bigger_val_binary_crossentropy\",\"x\":[0,1,2,3,4,5,6,7,8,9,10,11,12,13,14,15,16,17,18,19],\"y\":[0.29308074712753296,0.3212486505508423,0.3949570059776306,0.5109390020370483,0.613548994064331,0.6806062459945679,0.7214913368225098,0.7484272122383118,0.7685283422470093,0.7868235111236572,0.8031537532806396,0.8171477913856506,0.8305086493492126,0.8424407243728638,0.8537243604660034,0.8649333715438843,0.8741871118545532,0.8844591975212097,0.8937068581581116,0.9017134308815002],\"type\":\"scatter\"}],                        {\"template\":{\"data\":{\"histogram2dcontour\":[{\"type\":\"histogram2dcontour\",\"colorbar\":{\"outlinewidth\":0,\"ticks\":\"\"},\"colorscale\":[[0.0,\"#0d0887\"],[0.1111111111111111,\"#46039f\"],[0.2222222222222222,\"#7201a8\"],[0.3333333333333333,\"#9c179e\"],[0.4444444444444444,\"#bd3786\"],[0.5555555555555556,\"#d8576b\"],[0.6666666666666666,\"#ed7953\"],[0.7777777777777778,\"#fb9f3a\"],[0.8888888888888888,\"#fdca26\"],[1.0,\"#f0f921\"]]}],\"choropleth\":[{\"type\":\"choropleth\",\"colorbar\":{\"outlinewidth\":0,\"ticks\":\"\"}}],\"histogram2d\":[{\"type\":\"histogram2d\",\"colorbar\":{\"outlinewidth\":0,\"ticks\":\"\"},\"colorscale\":[[0.0,\"#0d0887\"],[0.1111111111111111,\"#46039f\"],[0.2222222222222222,\"#7201a8\"],[0.3333333333333333,\"#9c179e\"],[0.4444444444444444,\"#bd3786\"],[0.5555555555555556,\"#d8576b\"],[0.6666666666666666,\"#ed7953\"],[0.7777777777777778,\"#fb9f3a\"],[0.8888888888888888,\"#fdca26\"],[1.0,\"#f0f921\"]]}],\"heatmap\":[{\"type\":\"heatmap\",\"colorbar\":{\"outlinewidth\":0,\"ticks\":\"\"},\"colorscale\":[[0.0,\"#0d0887\"],[0.1111111111111111,\"#46039f\"],[0.2222222222222222,\"#7201a8\"],[0.3333333333333333,\"#9c179e\"],[0.4444444444444444,\"#bd3786\"],[0.5555555555555556,\"#d8576b\"],[0.6666666666666666,\"#ed7953\"],[0.7777777777777778,\"#fb9f3a\"],[0.8888888888888888,\"#fdca26\"],[1.0,\"#f0f921\"]]}],\"heatmapgl\":[{\"type\":\"heatmapgl\",\"colorbar\":{\"outlinewidth\":0,\"ticks\":\"\"},\"colorscale\":[[0.0,\"#0d0887\"],[0.1111111111111111,\"#46039f\"],[0.2222222222222222,\"#7201a8\"],[0.3333333333333333,\"#9c179e\"],[0.4444444444444444,\"#bd3786\"],[0.5555555555555556,\"#d8576b\"],[0.6666666666666666,\"#ed7953\"],[0.7777777777777778,\"#fb9f3a\"],[0.8888888888888888,\"#fdca26\"],[1.0,\"#f0f921\"]]}],\"contourcarpet\":[{\"type\":\"contourcarpet\",\"colorbar\":{\"outlinewidth\":0,\"ticks\":\"\"}}],\"contour\":[{\"type\":\"contour\",\"colorbar\":{\"outlinewidth\":0,\"ticks\":\"\"},\"colorscale\":[[0.0,\"#0d0887\"],[0.1111111111111111,\"#46039f\"],[0.2222222222222222,\"#7201a8\"],[0.3333333333333333,\"#9c179e\"],[0.4444444444444444,\"#bd3786\"],[0.5555555555555556,\"#d8576b\"],[0.6666666666666666,\"#ed7953\"],[0.7777777777777778,\"#fb9f3a\"],[0.8888888888888888,\"#fdca26\"],[1.0,\"#f0f921\"]]}],\"surface\":[{\"type\":\"surface\",\"colorbar\":{\"outlinewidth\":0,\"ticks\":\"\"},\"colorscale\":[[0.0,\"#0d0887\"],[0.1111111111111111,\"#46039f\"],[0.2222222222222222,\"#7201a8\"],[0.3333333333333333,\"#9c179e\"],[0.4444444444444444,\"#bd3786\"],[0.5555555555555556,\"#d8576b\"],[0.6666666666666666,\"#ed7953\"],[0.7777777777777778,\"#fb9f3a\"],[0.8888888888888888,\"#fdca26\"],[1.0,\"#f0f921\"]]}],\"mesh3d\":[{\"type\":\"mesh3d\",\"colorbar\":{\"outlinewidth\":0,\"ticks\":\"\"}}],\"scatter\":[{\"fillpattern\":{\"fillmode\":\"overlay\",\"size\":10,\"solidity\":0.2},\"type\":\"scatter\"}],\"parcoords\":[{\"type\":\"parcoords\",\"line\":{\"colorbar\":{\"outlinewidth\":0,\"ticks\":\"\"}}}],\"scatterpolargl\":[{\"type\":\"scatterpolargl\",\"marker\":{\"colorbar\":{\"outlinewidth\":0,\"ticks\":\"\"}}}],\"bar\":[{\"error_x\":{\"color\":\"#2a3f5f\"},\"error_y\":{\"color\":\"#2a3f5f\"},\"marker\":{\"line\":{\"color\":\"#E5ECF6\",\"width\":0.5},\"pattern\":{\"fillmode\":\"overlay\",\"size\":10,\"solidity\":0.2}},\"type\":\"bar\"}],\"scattergeo\":[{\"type\":\"scattergeo\",\"marker\":{\"colorbar\":{\"outlinewidth\":0,\"ticks\":\"\"}}}],\"scatterpolar\":[{\"type\":\"scatterpolar\",\"marker\":{\"colorbar\":{\"outlinewidth\":0,\"ticks\":\"\"}}}],\"histogram\":[{\"marker\":{\"pattern\":{\"fillmode\":\"overlay\",\"size\":10,\"solidity\":0.2}},\"type\":\"histogram\"}],\"scattergl\":[{\"type\":\"scattergl\",\"marker\":{\"colorbar\":{\"outlinewidth\":0,\"ticks\":\"\"}}}],\"scatter3d\":[{\"type\":\"scatter3d\",\"line\":{\"colorbar\":{\"outlinewidth\":0,\"ticks\":\"\"}},\"marker\":{\"colorbar\":{\"outlinewidth\":0,\"ticks\":\"\"}}}],\"scattermapbox\":[{\"type\":\"scattermapbox\",\"marker\":{\"colorbar\":{\"outlinewidth\":0,\"ticks\":\"\"}}}],\"scatterternary\":[{\"type\":\"scatterternary\",\"marker\":{\"colorbar\":{\"outlinewidth\":0,\"ticks\":\"\"}}}],\"scattercarpet\":[{\"type\":\"scattercarpet\",\"marker\":{\"colorbar\":{\"outlinewidth\":0,\"ticks\":\"\"}}}],\"carpet\":[{\"aaxis\":{\"endlinecolor\":\"#2a3f5f\",\"gridcolor\":\"white\",\"linecolor\":\"white\",\"minorgridcolor\":\"white\",\"startlinecolor\":\"#2a3f5f\"},\"baxis\":{\"endlinecolor\":\"#2a3f5f\",\"gridcolor\":\"white\",\"linecolor\":\"white\",\"minorgridcolor\":\"white\",\"startlinecolor\":\"#2a3f5f\"},\"type\":\"carpet\"}],\"table\":[{\"cells\":{\"fill\":{\"color\":\"#EBF0F8\"},\"line\":{\"color\":\"white\"}},\"header\":{\"fill\":{\"color\":\"#C8D4E3\"},\"line\":{\"color\":\"white\"}},\"type\":\"table\"}],\"barpolar\":[{\"marker\":{\"line\":{\"color\":\"#E5ECF6\",\"width\":0.5},\"pattern\":{\"fillmode\":\"overlay\",\"size\":10,\"solidity\":0.2}},\"type\":\"barpolar\"}],\"pie\":[{\"automargin\":true,\"type\":\"pie\"}]},\"layout\":{\"autotypenumbers\":\"strict\",\"colorway\":[\"#636efa\",\"#EF553B\",\"#00cc96\",\"#ab63fa\",\"#FFA15A\",\"#19d3f3\",\"#FF6692\",\"#B6E880\",\"#FF97FF\",\"#FECB52\"],\"font\":{\"color\":\"#2a3f5f\"},\"hovermode\":\"closest\",\"hoverlabel\":{\"align\":\"left\"},\"paper_bgcolor\":\"white\",\"plot_bgcolor\":\"#E5ECF6\",\"polar\":{\"bgcolor\":\"#E5ECF6\",\"angularaxis\":{\"gridcolor\":\"white\",\"linecolor\":\"white\",\"ticks\":\"\"},\"radialaxis\":{\"gridcolor\":\"white\",\"linecolor\":\"white\",\"ticks\":\"\"}},\"ternary\":{\"bgcolor\":\"#E5ECF6\",\"aaxis\":{\"gridcolor\":\"white\",\"linecolor\":\"white\",\"ticks\":\"\"},\"baxis\":{\"gridcolor\":\"white\",\"linecolor\":\"white\",\"ticks\":\"\"},\"caxis\":{\"gridcolor\":\"white\",\"linecolor\":\"white\",\"ticks\":\"\"}},\"coloraxis\":{\"colorbar\":{\"outlinewidth\":0,\"ticks\":\"\"}},\"colorscale\":{\"sequential\":[[0.0,\"#0d0887\"],[0.1111111111111111,\"#46039f\"],[0.2222222222222222,\"#7201a8\"],[0.3333333333333333,\"#9c179e\"],[0.4444444444444444,\"#bd3786\"],[0.5555555555555556,\"#d8576b\"],[0.6666666666666666,\"#ed7953\"],[0.7777777777777778,\"#fb9f3a\"],[0.8888888888888888,\"#fdca26\"],[1.0,\"#f0f921\"]],\"sequentialminus\":[[0.0,\"#0d0887\"],[0.1111111111111111,\"#46039f\"],[0.2222222222222222,\"#7201a8\"],[0.3333333333333333,\"#9c179e\"],[0.4444444444444444,\"#bd3786\"],[0.5555555555555556,\"#d8576b\"],[0.6666666666666666,\"#ed7953\"],[0.7777777777777778,\"#fb9f3a\"],[0.8888888888888888,\"#fdca26\"],[1.0,\"#f0f921\"]],\"diverging\":[[0,\"#8e0152\"],[0.1,\"#c51b7d\"],[0.2,\"#de77ae\"],[0.3,\"#f1b6da\"],[0.4,\"#fde0ef\"],[0.5,\"#f7f7f7\"],[0.6,\"#e6f5d0\"],[0.7,\"#b8e186\"],[0.8,\"#7fbc41\"],[0.9,\"#4d9221\"],[1,\"#276419\"]]},\"xaxis\":{\"gridcolor\":\"white\",\"linecolor\":\"white\",\"ticks\":\"\",\"title\":{\"standoff\":15},\"zerolinecolor\":\"white\",\"automargin\":true,\"zerolinewidth\":2},\"yaxis\":{\"gridcolor\":\"white\",\"linecolor\":\"white\",\"ticks\":\"\",\"title\":{\"standoff\":15},\"zerolinecolor\":\"white\",\"automargin\":true,\"zerolinewidth\":2},\"scene\":{\"xaxis\":{\"backgroundcolor\":\"#E5ECF6\",\"gridcolor\":\"white\",\"linecolor\":\"white\",\"showbackground\":true,\"ticks\":\"\",\"zerolinecolor\":\"white\",\"gridwidth\":2},\"yaxis\":{\"backgroundcolor\":\"#E5ECF6\",\"gridcolor\":\"white\",\"linecolor\":\"white\",\"showbackground\":true,\"ticks\":\"\",\"zerolinecolor\":\"white\",\"gridwidth\":2},\"zaxis\":{\"backgroundcolor\":\"#E5ECF6\",\"gridcolor\":\"white\",\"linecolor\":\"white\",\"showbackground\":true,\"ticks\":\"\",\"zerolinecolor\":\"white\",\"gridwidth\":2}},\"shapedefaults\":{\"line\":{\"color\":\"#2a3f5f\"}},\"annotationdefaults\":{\"arrowcolor\":\"#2a3f5f\",\"arrowhead\":0,\"arrowwidth\":1},\"geo\":{\"bgcolor\":\"white\",\"landcolor\":\"#E5ECF6\",\"subunitcolor\":\"white\",\"showland\":true,\"showlakes\":true,\"lakecolor\":\"white\"},\"title\":{\"x\":0.05},\"mapbox\":{\"style\":\"light\"}}},\"xaxis\":{\"title\":{\"text\":\"Epoki\"}},\"yaxis\":{\"title\":{\"text\":\"binary_crossentropy\"}}},                        {\"responsive\": true}                    ).then(function(){\n",
              "                            \n",
              "var gd = document.getElementById('745579b0-bcef-4088-a4a5-e328713ac051');\n",
              "var x = new MutationObserver(function (mutations, observer) {{\n",
              "        var display = window.getComputedStyle(gd).display;\n",
              "        if (!display || display === 'none') {{\n",
              "            console.log([gd, 'removed!']);\n",
              "            Plotly.purge(gd);\n",
              "            observer.disconnect();\n",
              "        }}\n",
              "}});\n",
              "\n",
              "// Listen for the removal of the full notebook cells\n",
              "var notebookContainer = gd.closest('#notebook-container');\n",
              "if (notebookContainer) {{\n",
              "    x.observe(notebookContainer, {childList: true});\n",
              "}}\n",
              "\n",
              "// Listen for the clearing of the current output cell\n",
              "var outputEl = gd.closest('.output');\n",
              "if (outputEl) {{\n",
              "    x.observe(outputEl, {childList: true});\n",
              "}}\n",
              "\n",
              "                        })                };                            </script>        </div>\n",
              "</body>\n",
              "</html>"
            ]
          },
          "metadata": {}
        }
      ]
    },
    {
      "cell_type": "markdown",
      "source": [
        "## val_binary_crossentropy - najważniejszy - trzeba znaleśc minimum\n",
        "Najlepszy jest model najmniejszy i należy go ograniczyć do tylko 5 epok !!!!"
      ],
      "metadata": {
        "id": "lq3WL_psO1GQ"
      }
    },
    {
      "cell_type": "code",
      "source": [],
      "metadata": {
        "id": "ZmiLfuvtPRQv"
      },
      "execution_count": null,
      "outputs": []
    }
  ]
}