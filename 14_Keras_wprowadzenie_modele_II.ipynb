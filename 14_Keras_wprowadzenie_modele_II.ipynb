{
  "nbformat": 4,
  "nbformat_minor": 0,
  "metadata": {
    "colab": {
      "provenance": [],
      "authorship_tag": "ABX9TyOd6OHZh780WFolM69OZpd0",
      "include_colab_link": true
    },
    "kernelspec": {
      "name": "python3",
      "display_name": "Python 3"
    },
    "language_info": {
      "name": "python"
    }
  },
  "cells": [
    {
      "cell_type": "markdown",
      "metadata": {
        "id": "view-in-github",
        "colab_type": "text"
      },
      "source": [
        "<a href=\"https://colab.research.google.com/github/kjedrzejczak/Wprowadzenie_do_sieci_neuronowych-Tensorflow_2.0-Keras/blob/main/14_Keras_wprowadzenie_modele_II.ipynb\" target=\"_parent\"><img src=\"https://colab.research.google.com/assets/colab-badge.svg\" alt=\"Open In Colab\"/></a>"
      ]
    },
    {
      "cell_type": "code",
      "execution_count": null,
      "metadata": {
        "id": "RzXinKbGRuPg"
      },
      "outputs": [],
      "source": [
        "import numpy as np\n",
        "import pandas as pd\n",
        "import plotly.express as px\n",
        "import tensorflow as tf\n",
        "from tensorflow.keras.datasets.mnist import load_data\n",
        "from tensorflow.keras.models import Sequential\n",
        "from tensorflow.keras.layers import Flatten, Dense, Dropout"
      ]
    },
    {
      "cell_type": "code",
      "source": [
        "(X_train, y_train), (X_test, y_test) = load_data()"
      ],
      "metadata": {
        "id": "wgWepqMnSnxf"
      },
      "execution_count": null,
      "outputs": []
    },
    {
      "cell_type": "code",
      "source": [
        "print(X_train.shape)\n",
        "print(y_train.shape)\n",
        "print(X_test.shape)\n",
        "print(y_test.shape)"
      ],
      "metadata": {
        "colab": {
          "base_uri": "https://localhost:8080/"
        },
        "id": "R9AnkXC9SzIn",
        "outputId": "f33a47ef-8f5e-469c-f4fa-b68f556544cd"
      },
      "execution_count": null,
      "outputs": [
        {
          "output_type": "stream",
          "name": "stdout",
          "text": [
            "(60000, 28, 28)\n",
            "(60000,)\n",
            "(10000, 28, 28)\n",
            "(10000,)\n"
          ]
        }
      ]
    },
    {
      "cell_type": "markdown",
      "source": [
        "Standaryzacja do zakres 0 / 1"
      ],
      "metadata": {
        "id": "J-IKDKbGTFSX"
      }
    },
    {
      "cell_type": "code",
      "source": [
        "X_train = X_train / 255.\n",
        "X_test = X_test / 255."
      ],
      "metadata": {
        "id": "MG7Jy5y5TKg3"
      },
      "execution_count": null,
      "outputs": []
    },
    {
      "cell_type": "markdown",
      "source": [
        "Model"
      ],
      "metadata": {
        "id": "8SQP4CSATj-c"
      }
    },
    {
      "cell_type": "code",
      "source": [
        "model = Sequential()\n",
        "model.add(Flatten(input_shape=(28, 28)))  # reshape to 1D array 784 = 28 * 28\n",
        "model.add(Dense(units=128, activation='relu'))\n",
        "model.add(Dropout(0.2))                   # regularyzacja modelu Dropout zapobiega przeuczeniu modelu 20% neuronów w warstwie pomijamy w obliczeniach\n",
        "model.add(Dense(units=10, activation='softmax'))   # 10 klas na wyjściu\n",
        "model.compile(optimizer='adam',\n",
        "              loss='categorical_crossentropy',\n",
        "              metrics=['accuracy'])\n",
        "\n",
        "model.summary()"
      ],
      "metadata": {
        "colab": {
          "base_uri": "https://localhost:8080/"
        },
        "id": "ZDEOosmXTlbG",
        "outputId": "5301d565-4f2b-4775-e9ac-a95403982300"
      },
      "execution_count": null,
      "outputs": [
        {
          "output_type": "stream",
          "name": "stdout",
          "text": [
            "Model: \"sequential\"\n",
            "_________________________________________________________________\n",
            " Layer (type)                Output Shape              Param #   \n",
            "=================================================================\n",
            " flatten (Flatten)           (None, 784)               0         \n",
            "                                                                 \n",
            " dense (Dense)               (None, 128)               100480    \n",
            "                                                                 \n",
            " dropout (Dropout)           (None, 128)               0         \n",
            "                                                                 \n",
            " dense_1 (Dense)             (None, 10)                1290      \n",
            "                                                                 \n",
            "=================================================================\n",
            "Total params: 101770 (397.54 KB)\n",
            "Trainable params: 101770 (397.54 KB)\n",
            "Non-trainable params: 0 (0.00 Byte)\n",
            "_________________________________________________________________\n"
          ]
        }
      ]
    },
    {
      "cell_type": "code",
      "source": [
        "from tensorflow.keras.utils import to_categorical  # categornie w fromie macierzy\n",
        "\n",
        "y_train = to_categorical(y_train, num_classes=10) # 👈 uwaga na wielokrotne wywołanie !!!!!!!\n",
        "y_train[:3]"
      ],
      "metadata": {
        "colab": {
          "base_uri": "https://localhost:8080/"
        },
        "id": "zhT6YWrIV6SI",
        "outputId": "a3710b65-a097-4f56-e091-8dd5fcf81150"
      },
      "execution_count": null,
      "outputs": [
        {
          "output_type": "execute_result",
          "data": {
            "text/plain": [
              "array([[0., 0., 0., 0., 0., 1., 0., 0., 0., 0.],\n",
              "       [1., 0., 0., 0., 0., 0., 0., 0., 0., 0.],\n",
              "       [0., 0., 0., 0., 1., 0., 0., 0., 0., 0.]], dtype=float32)"
            ]
          },
          "metadata": {},
          "execution_count": 6
        }
      ]
    },
    {
      "cell_type": "code",
      "source": [
        "model.fit(X_train, y_train, epochs=10, validation_split=0.2, batch_size=32)"
      ],
      "metadata": {
        "colab": {
          "base_uri": "https://localhost:8080/"
        },
        "id": "s3s3qLehW7P3",
        "outputId": "6b0061c3-a0c6-4b92-c9fa-ea258f843abe"
      },
      "execution_count": null,
      "outputs": [
        {
          "output_type": "stream",
          "name": "stdout",
          "text": [
            "Epoch 1/10\n",
            "1500/1500 [==============================] - 6s 4ms/step - loss: 0.0640 - accuracy: 0.9796 - val_loss: 0.0423 - val_accuracy: 0.9858\n",
            "Epoch 2/10\n",
            "1500/1500 [==============================] - 7s 5ms/step - loss: 0.0602 - accuracy: 0.9809 - val_loss: 0.0433 - val_accuracy: 0.9859\n",
            "Epoch 3/10\n",
            "1500/1500 [==============================] - 5s 4ms/step - loss: 0.0522 - accuracy: 0.9831 - val_loss: 0.0543 - val_accuracy: 0.9830\n",
            "Epoch 4/10\n",
            "1500/1500 [==============================] - 6s 4ms/step - loss: 0.0478 - accuracy: 0.9849 - val_loss: 0.0476 - val_accuracy: 0.9843\n",
            "Epoch 5/10\n",
            "1500/1500 [==============================] - 6s 4ms/step - loss: 0.0436 - accuracy: 0.9865 - val_loss: 0.0478 - val_accuracy: 0.9847\n",
            "Epoch 6/10\n",
            "1500/1500 [==============================] - 5s 4ms/step - loss: 0.0405 - accuracy: 0.9863 - val_loss: 0.0502 - val_accuracy: 0.9844\n",
            "Epoch 7/10\n",
            "1500/1500 [==============================] - 7s 5ms/step - loss: 0.0358 - accuracy: 0.9886 - val_loss: 0.0516 - val_accuracy: 0.9849\n",
            "Epoch 8/10\n",
            "1500/1500 [==============================] - 5s 4ms/step - loss: 0.0351 - accuracy: 0.9887 - val_loss: 0.0520 - val_accuracy: 0.9837\n",
            "Epoch 9/10\n",
            "1500/1500 [==============================] - 7s 5ms/step - loss: 0.0331 - accuracy: 0.9892 - val_loss: 0.0580 - val_accuracy: 0.9835\n",
            "Epoch 10/10\n",
            "1500/1500 [==============================] - 5s 4ms/step - loss: 0.0293 - accuracy: 0.9899 - val_loss: 0.0558 - val_accuracy: 0.9833\n"
          ]
        },
        {
          "output_type": "execute_result",
          "data": {
            "text/plain": [
              "<keras.src.callbacks.History at 0x7e2e5275fbe0>"
            ]
          },
          "metadata": {},
          "execution_count": 8
        }
      ]
    },
    {
      "cell_type": "markdown",
      "source": [
        "# Model - praca z modelem"
      ],
      "metadata": {
        "id": "EIbwSqfHZQBu"
      }
    },
    {
      "cell_type": "code",
      "source": [
        "# lista warst w modleu\n",
        "model.layers"
      ],
      "metadata": {
        "colab": {
          "base_uri": "https://localhost:8080/"
        },
        "id": "HxEi-bOuZsgt",
        "outputId": "50e0f7e5-76fb-41c9-fe2d-bc2fd6d62e3a"
      },
      "execution_count": null,
      "outputs": [
        {
          "output_type": "execute_result",
          "data": {
            "text/plain": [
              "[<keras.src.layers.reshaping.flatten.Flatten at 0x7e2e5350bbb0>,\n",
              " <keras.src.layers.core.dense.Dense at 0x7e2e5350a6e0>,\n",
              " <keras.src.layers.regularization.dropout.Dropout at 0x7e2e531e65c0>,\n",
              " <keras.src.layers.core.dense.Dense at 0x7e2e531e74f0>]"
            ]
          },
          "metadata": {},
          "execution_count": 11
        }
      ]
    },
    {
      "cell_type": "code",
      "source": [
        "# lista tensorów wejściowych do modelu\n",
        "model.inputs"
      ],
      "metadata": {
        "colab": {
          "base_uri": "https://localhost:8080/"
        },
        "id": "x24aO4zaZUI2",
        "outputId": "c852595e-3353-452e-9908-46225489babf"
      },
      "execution_count": null,
      "outputs": [
        {
          "output_type": "execute_result",
          "data": {
            "text/plain": [
              "[<KerasTensor: shape=(None, 28, 28) dtype=float32 (created by layer 'flatten_input')>]"
            ]
          },
          "metadata": {},
          "execution_count": 9
        }
      ]
    },
    {
      "cell_type": "code",
      "source": [
        "# słownik zawierający konfigurację modelu\n",
        "model.get_config()"
      ],
      "metadata": {
        "colab": {
          "base_uri": "https://localhost:8080/"
        },
        "id": "l2UdXMYBZeNF",
        "outputId": "bc03b3a5-f8a3-49bc-de30-b67b0679ac7c"
      },
      "execution_count": null,
      "outputs": [
        {
          "output_type": "execute_result",
          "data": {
            "text/plain": [
              "{'name': 'sequential',\n",
              " 'layers': [{'module': 'keras.layers',\n",
              "   'class_name': 'InputLayer',\n",
              "   'config': {'batch_input_shape': (None, 28, 28),\n",
              "    'dtype': 'float32',\n",
              "    'sparse': False,\n",
              "    'ragged': False,\n",
              "    'name': 'flatten_input'},\n",
              "   'registered_name': None},\n",
              "  {'module': 'keras.layers',\n",
              "   'class_name': 'Flatten',\n",
              "   'config': {'name': 'flatten',\n",
              "    'trainable': True,\n",
              "    'dtype': 'float32',\n",
              "    'batch_input_shape': (None, 28, 28),\n",
              "    'data_format': 'channels_last'},\n",
              "   'registered_name': None,\n",
              "   'build_config': {'input_shape': (None, 28, 28)}},\n",
              "  {'module': 'keras.layers',\n",
              "   'class_name': 'Dense',\n",
              "   'config': {'name': 'dense',\n",
              "    'trainable': True,\n",
              "    'dtype': 'float32',\n",
              "    'units': 128,\n",
              "    'activation': 'relu',\n",
              "    'use_bias': True,\n",
              "    'kernel_initializer': {'module': 'keras.initializers',\n",
              "     'class_name': 'GlorotUniform',\n",
              "     'config': {'seed': None},\n",
              "     'registered_name': None},\n",
              "    'bias_initializer': {'module': 'keras.initializers',\n",
              "     'class_name': 'Zeros',\n",
              "     'config': {},\n",
              "     'registered_name': None},\n",
              "    'kernel_regularizer': None,\n",
              "    'bias_regularizer': None,\n",
              "    'activity_regularizer': None,\n",
              "    'kernel_constraint': None,\n",
              "    'bias_constraint': None},\n",
              "   'registered_name': None,\n",
              "   'build_config': {'input_shape': (None, 784)}},\n",
              "  {'module': 'keras.layers',\n",
              "   'class_name': 'Dropout',\n",
              "   'config': {'name': 'dropout',\n",
              "    'trainable': True,\n",
              "    'dtype': 'float32',\n",
              "    'rate': 0.2,\n",
              "    'noise_shape': None,\n",
              "    'seed': None},\n",
              "   'registered_name': None,\n",
              "   'build_config': {'input_shape': (None, 128)}},\n",
              "  {'module': 'keras.layers',\n",
              "   'class_name': 'Dense',\n",
              "   'config': {'name': 'dense_1',\n",
              "    'trainable': True,\n",
              "    'dtype': 'float32',\n",
              "    'units': 10,\n",
              "    'activation': 'softmax',\n",
              "    'use_bias': True,\n",
              "    'kernel_initializer': {'module': 'keras.initializers',\n",
              "     'class_name': 'GlorotUniform',\n",
              "     'config': {'seed': None},\n",
              "     'registered_name': None},\n",
              "    'bias_initializer': {'module': 'keras.initializers',\n",
              "     'class_name': 'Zeros',\n",
              "     'config': {},\n",
              "     'registered_name': None},\n",
              "    'kernel_regularizer': None,\n",
              "    'bias_regularizer': None,\n",
              "    'activity_regularizer': None,\n",
              "    'kernel_constraint': None,\n",
              "    'bias_constraint': None},\n",
              "   'registered_name': None,\n",
              "   'build_config': {'input_shape': (None, 128)}}]}"
            ]
          },
          "metadata": {},
          "execution_count": 10
        }
      ]
    },
    {
      "cell_type": "code",
      "source": [
        "# lista wszystkich tensorów wag\n",
        "model.get_weights()"
      ],
      "metadata": {
        "colab": {
          "base_uri": "https://localhost:8080/"
        },
        "id": "tVn7j_dlZ4VI",
        "outputId": "bb85baa2-b142-4ce5-ba21-2fc7a0c7ce93"
      },
      "execution_count": null,
      "outputs": [
        {
          "output_type": "execute_result",
          "data": {
            "text/plain": [
              "[array([[ 0.02838165,  0.05795073, -0.04364494, ..., -0.06806158,\n",
              "          0.07630452, -0.07896455],\n",
              "        [-0.02996854, -0.06040314,  0.07475127, ...,  0.0485146 ,\n",
              "          0.05525055, -0.07820109],\n",
              "        [ 0.04878389,  0.00939803,  0.07734177, ..., -0.04053561,\n",
              "          0.08077873, -0.0022843 ],\n",
              "        ...,\n",
              "        [-0.06086272, -0.01717359, -0.08091588, ..., -0.05296205,\n",
              "          0.02816013,  0.07773968],\n",
              "        [ 0.0465856 ,  0.02436479,  0.06559481, ...,  0.02281428,\n",
              "         -0.03122783, -0.01865309],\n",
              "        [-0.06483291, -0.07991985,  0.05760152, ...,  0.02309215,\n",
              "         -0.01738689, -0.02199368]], dtype=float32),\n",
              " array([ 7.01632872e-02,  1.48916155e-01,  1.75960526e-01,  6.78573176e-02,\n",
              "        -1.20609991e-01, -1.41567424e-01, -4.22217250e-02,  1.43372402e-01,\n",
              "         4.54540551e-02,  1.24730781e-01,  1.54373953e-02,  2.17486382e-01,\n",
              "        -9.37682912e-02,  2.04011738e-01, -8.51939097e-02, -1.15554452e-01,\n",
              "         6.24685585e-02, -2.57614627e-02,  5.50372154e-02,  1.45129308e-01,\n",
              "        -1.03996761e-01,  3.17677110e-01,  5.02176620e-02, -3.51906896e-01,\n",
              "         5.41955382e-02, -3.33905220e-04,  9.38324332e-02,  2.02864036e-01,\n",
              "         9.29184109e-02, -1.77878097e-01, -1.00722931e-01,  2.84480546e-02,\n",
              "         1.06713241e-02,  1.01199253e-02, -2.24186108e-01,  1.23968706e-01,\n",
              "         4.62213866e-02, -2.26873495e-02,  4.50289100e-02,  7.76682496e-02,\n",
              "        -2.25735437e-02, -4.20600027e-02,  6.87059388e-02, -4.60553691e-02,\n",
              "        -5.74991554e-02,  9.64541882e-02, -1.16188452e-01, -3.08273047e-01,\n",
              "         9.28701088e-02,  9.24980938e-02,  5.15939519e-02, -1.96570270e-02,\n",
              "        -6.42792210e-02,  1.92692414e-01, -7.56024420e-02, -3.60298663e-01,\n",
              "        -2.73749381e-01,  3.80041264e-02,  9.52280611e-02, -1.82680115e-01,\n",
              "        -3.36388722e-02, -1.55119020e-02, -2.35223874e-01,  1.72755361e-01,\n",
              "        -1.60533756e-01, -1.23571709e-01,  5.95998466e-02,  3.59643474e-02,\n",
              "         2.04025343e-01,  6.41747937e-02, -1.82927981e-01, -1.84164241e-01,\n",
              "         2.42887154e-01,  2.76359260e-01,  2.83002019e-01,  1.42461225e-01,\n",
              "         6.94607645e-02,  1.40467649e-02, -2.03608960e-01,  1.33139893e-01,\n",
              "        -2.75377035e-01, -1.46486163e-01, -6.32532267e-03,  2.77403831e-01,\n",
              "         3.29823755e-02, -1.90974861e-01, -1.41599253e-01, -4.16418631e-03,\n",
              "        -2.02927396e-01, -1.00646093e-01, -3.47846061e-01, -1.88024249e-02,\n",
              "         7.97797441e-02, -2.54583895e-01,  4.08596545e-02, -2.63666451e-01,\n",
              "         1.38144746e-01, -1.43800691e-01, -2.70703211e-02, -1.80865228e-01,\n",
              "         1.92981601e-01,  8.80069137e-02, -1.49895325e-01,  8.37237686e-02,\n",
              "        -1.25796810e-01,  6.55895770e-02, -9.30066556e-02,  3.04926429e-02,\n",
              "        -1.17456116e-01, -1.37301954e-02, -9.08904709e-03, -5.13812453e-02,\n",
              "         1.07542925e-01,  7.98774697e-03, -1.59766003e-02, -6.44376948e-02,\n",
              "        -4.06859778e-02,  1.19535057e-02, -2.03021541e-01,  1.42879918e-01,\n",
              "        -1.39123481e-02,  1.28145531e-01,  9.40059125e-02,  1.99900642e-01,\n",
              "         5.64184785e-02,  9.34259892e-02, -2.62394905e-01,  1.01588972e-01],\n",
              "       dtype=float32),\n",
              " array([[-0.35916343, -0.79994196, -0.1021814 , ...,  0.23147905,\n",
              "          0.06873616,  0.10027979],\n",
              "        [-0.3860691 , -0.6191246 ,  0.3323182 , ...,  0.2545447 ,\n",
              "         -0.2707432 ,  0.0285556 ],\n",
              "        [ 0.07124197,  0.3244634 , -0.2999591 , ..., -0.10603043,\n",
              "         -0.01484241, -0.839865  ],\n",
              "        ...,\n",
              "        [-0.0425909 ,  0.5091553 , -0.40349576, ..., -0.63407534,\n",
              "         -0.5623337 , -0.05439432],\n",
              "        [-0.035808  , -0.64649117,  0.02869948, ..., -0.5091085 ,\n",
              "          0.2724059 ,  0.17106573],\n",
              "        [-0.64194626, -1.2098511 ,  0.2112033 , ...,  0.09399874,\n",
              "          0.25403556,  0.17406474]], dtype=float32),\n",
              " array([ 0.01355978, -0.12244168, -0.300734  , -0.23880215,  0.16909587,\n",
              "        -0.10120394, -0.04255024, -0.2091567 ,  0.56441087,  0.14181836],\n",
              "       dtype=float32)]"
            ]
          },
          "metadata": {},
          "execution_count": 12
        }
      ]
    },
    {
      "cell_type": "code",
      "source": [
        "model.get_weights()[0].shape  # 784 neuronów wejsciowych dalej 128 neuronów dense"
      ],
      "metadata": {
        "colab": {
          "base_uri": "https://localhost:8080/"
        },
        "id": "vW-_q3qXaPoS",
        "outputId": "8f946cc7-f818-4c22-cfc3-c1dacd0c04c7"
      },
      "execution_count": null,
      "outputs": [
        {
          "output_type": "execute_result",
          "data": {
            "text/plain": [
              "(784, 128)"
            ]
          },
          "metadata": {},
          "execution_count": 13
        }
      ]
    },
    {
      "cell_type": "code",
      "source": [
        "model.get_weights()[1].shape"
      ],
      "metadata": {
        "colab": {
          "base_uri": "https://localhost:8080/"
        },
        "id": "wOdzdQ4zaeBY",
        "outputId": "f99f6ceb-eb81-4425-88c7-3babd21623e5"
      },
      "execution_count": null,
      "outputs": [
        {
          "output_type": "execute_result",
          "data": {
            "text/plain": [
              "(128,)"
            ]
          },
          "metadata": {},
          "execution_count": 14
        }
      ]
    },
    {
      "cell_type": "code",
      "source": [
        "model.get_weights()[2].shape"
      ],
      "metadata": {
        "colab": {
          "base_uri": "https://localhost:8080/"
        },
        "id": "2n9NQBdCang7",
        "outputId": "a3b3d36e-f428-4d97-db47-8bdca6db8aa6"
      },
      "execution_count": null,
      "outputs": [
        {
          "output_type": "execute_result",
          "data": {
            "text/plain": [
              "(128, 10)"
            ]
          },
          "metadata": {},
          "execution_count": 15
        }
      ]
    },
    {
      "cell_type": "code",
      "source": [
        "model.get_weights()[3].shape   # warstwa wyjściowa"
      ],
      "metadata": {
        "colab": {
          "base_uri": "https://localhost:8080/"
        },
        "id": "5UWd_hmVaqaZ",
        "outputId": "6bba756e-5af4-4341-fdac-d9db18906a77"
      },
      "execution_count": null,
      "outputs": [
        {
          "output_type": "execute_result",
          "data": {
            "text/plain": [
              "(10,)"
            ]
          },
          "metadata": {},
          "execution_count": 16
        }
      ]
    },
    {
      "cell_type": "markdown",
      "source": [
        "# model to json"
      ],
      "metadata": {
        "id": "pCAbzq-ubqrc"
      }
    },
    {
      "cell_type": "code",
      "source": [
        "model_json = model.to_json()  # zapisywanie modelu w formacie json\n",
        "\n",
        "import json\n",
        "parsed = json.loads(model_json)  # ładowanie modelu w formacie json\n",
        "print(json.dumps(parsed, indent=4))"
      ],
      "metadata": {
        "colab": {
          "base_uri": "https://localhost:8080/"
        },
        "id": "3EIOK-uoav42",
        "outputId": "9f63e18c-2a05-48cd-fc30-3372902a0594"
      },
      "execution_count": null,
      "outputs": [
        {
          "output_type": "stream",
          "name": "stdout",
          "text": [
            "{\n",
            "    \"class_name\": \"Sequential\",\n",
            "    \"config\": {\n",
            "        \"name\": \"sequential\",\n",
            "        \"layers\": [\n",
            "            {\n",
            "                \"module\": \"keras.layers\",\n",
            "                \"class_name\": \"InputLayer\",\n",
            "                \"config\": {\n",
            "                    \"batch_input_shape\": [\n",
            "                        null,\n",
            "                        28,\n",
            "                        28\n",
            "                    ],\n",
            "                    \"dtype\": \"float32\",\n",
            "                    \"sparse\": false,\n",
            "                    \"ragged\": false,\n",
            "                    \"name\": \"flatten_input\"\n",
            "                },\n",
            "                \"registered_name\": null\n",
            "            },\n",
            "            {\n",
            "                \"module\": \"keras.layers\",\n",
            "                \"class_name\": \"Flatten\",\n",
            "                \"config\": {\n",
            "                    \"name\": \"flatten\",\n",
            "                    \"trainable\": true,\n",
            "                    \"dtype\": \"float32\",\n",
            "                    \"batch_input_shape\": [\n",
            "                        null,\n",
            "                        28,\n",
            "                        28\n",
            "                    ],\n",
            "                    \"data_format\": \"channels_last\"\n",
            "                },\n",
            "                \"registered_name\": null,\n",
            "                \"build_config\": {\n",
            "                    \"input_shape\": [\n",
            "                        null,\n",
            "                        28,\n",
            "                        28\n",
            "                    ]\n",
            "                }\n",
            "            },\n",
            "            {\n",
            "                \"module\": \"keras.layers\",\n",
            "                \"class_name\": \"Dense\",\n",
            "                \"config\": {\n",
            "                    \"name\": \"dense\",\n",
            "                    \"trainable\": true,\n",
            "                    \"dtype\": \"float32\",\n",
            "                    \"units\": 128,\n",
            "                    \"activation\": \"relu\",\n",
            "                    \"use_bias\": true,\n",
            "                    \"kernel_initializer\": {\n",
            "                        \"module\": \"keras.initializers\",\n",
            "                        \"class_name\": \"GlorotUniform\",\n",
            "                        \"config\": {\n",
            "                            \"seed\": null\n",
            "                        },\n",
            "                        \"registered_name\": null\n",
            "                    },\n",
            "                    \"bias_initializer\": {\n",
            "                        \"module\": \"keras.initializers\",\n",
            "                        \"class_name\": \"Zeros\",\n",
            "                        \"config\": {},\n",
            "                        \"registered_name\": null\n",
            "                    },\n",
            "                    \"kernel_regularizer\": null,\n",
            "                    \"bias_regularizer\": null,\n",
            "                    \"activity_regularizer\": null,\n",
            "                    \"kernel_constraint\": null,\n",
            "                    \"bias_constraint\": null\n",
            "                },\n",
            "                \"registered_name\": null,\n",
            "                \"build_config\": {\n",
            "                    \"input_shape\": [\n",
            "                        null,\n",
            "                        784\n",
            "                    ]\n",
            "                }\n",
            "            },\n",
            "            {\n",
            "                \"module\": \"keras.layers\",\n",
            "                \"class_name\": \"Dropout\",\n",
            "                \"config\": {\n",
            "                    \"name\": \"dropout\",\n",
            "                    \"trainable\": true,\n",
            "                    \"dtype\": \"float32\",\n",
            "                    \"rate\": 0.2,\n",
            "                    \"noise_shape\": null,\n",
            "                    \"seed\": null\n",
            "                },\n",
            "                \"registered_name\": null,\n",
            "                \"build_config\": {\n",
            "                    \"input_shape\": [\n",
            "                        null,\n",
            "                        128\n",
            "                    ]\n",
            "                }\n",
            "            },\n",
            "            {\n",
            "                \"module\": \"keras.layers\",\n",
            "                \"class_name\": \"Dense\",\n",
            "                \"config\": {\n",
            "                    \"name\": \"dense_1\",\n",
            "                    \"trainable\": true,\n",
            "                    \"dtype\": \"float32\",\n",
            "                    \"units\": 10,\n",
            "                    \"activation\": \"softmax\",\n",
            "                    \"use_bias\": true,\n",
            "                    \"kernel_initializer\": {\n",
            "                        \"module\": \"keras.initializers\",\n",
            "                        \"class_name\": \"GlorotUniform\",\n",
            "                        \"config\": {\n",
            "                            \"seed\": null\n",
            "                        },\n",
            "                        \"registered_name\": null\n",
            "                    },\n",
            "                    \"bias_initializer\": {\n",
            "                        \"module\": \"keras.initializers\",\n",
            "                        \"class_name\": \"Zeros\",\n",
            "                        \"config\": {},\n",
            "                        \"registered_name\": null\n",
            "                    },\n",
            "                    \"kernel_regularizer\": null,\n",
            "                    \"bias_regularizer\": null,\n",
            "                    \"activity_regularizer\": null,\n",
            "                    \"kernel_constraint\": null,\n",
            "                    \"bias_constraint\": null\n",
            "                },\n",
            "                \"registered_name\": null,\n",
            "                \"build_config\": {\n",
            "                    \"input_shape\": [\n",
            "                        null,\n",
            "                        128\n",
            "                    ]\n",
            "                }\n",
            "            }\n",
            "        ]\n",
            "    },\n",
            "    \"keras_version\": \"2.15.0\",\n",
            "    \"backend\": \"tensorflow\"\n",
            "}\n"
          ]
        }
      ]
    },
    {
      "cell_type": "code",
      "source": [
        "from tensorflow.keras.models import model_from_json\n",
        "\n",
        "\n",
        "model2 = model_from_json(model_json)\n",
        "model2.summary()"
      ],
      "metadata": {
        "colab": {
          "base_uri": "https://localhost:8080/"
        },
        "id": "ydhAA2bMbP_4",
        "outputId": "a6fbd51e-6cfb-4464-a263-d5fa34de1099"
      },
      "execution_count": null,
      "outputs": [
        {
          "output_type": "stream",
          "name": "stdout",
          "text": [
            "Model: \"sequential\"\n",
            "_________________________________________________________________\n",
            " Layer (type)                Output Shape              Param #   \n",
            "=================================================================\n",
            " flatten (Flatten)           (None, 784)               0         \n",
            "                                                                 \n",
            " dense (Dense)               (None, 128)               100480    \n",
            "                                                                 \n",
            " dropout (Dropout)           (None, 128)               0         \n",
            "                                                                 \n",
            " dense_1 (Dense)             (None, 10)                1290      \n",
            "                                                                 \n",
            "=================================================================\n",
            "Total params: 101770 (397.54 KB)\n",
            "Trainable params: 101770 (397.54 KB)\n",
            "Non-trainable params: 0 (0.00 Byte)\n",
            "_________________________________________________________________\n"
          ]
        }
      ]
    },
    {
      "cell_type": "markdown",
      "source": [
        "# model to yaml"
      ],
      "metadata": {
        "id": "0hJqJY-TbuIm"
      }
    },
    {
      "cell_type": "code",
      "source": [
        "# model_yaml = model.to_yaml()    👉 RuntimeError: Method `model.to_yaml()` has been removed due to security risk of arbitrary code execution. Please use `model.to_json()` instead.\n",
        "# print(model_yaml)"
      ],
      "metadata": {
        "id": "t8167TGLceew"
      },
      "execution_count": null,
      "outputs": []
    },
    {
      "cell_type": "code",
      "source": [
        "from tensorflow.keras.models import model_from_yaml\n",
        "\n",
        "# model3 = model_from_yaml(model)\n",
        "# print(model_yaml)"
      ],
      "metadata": {
        "id": "5yxRPphnbzYf"
      },
      "execution_count": null,
      "outputs": []
    },
    {
      "cell_type": "markdown",
      "source": [
        "# Warstwy"
      ],
      "metadata": {
        "id": "z9pf-2DydP9p"
      }
    },
    {
      "cell_type": "code",
      "source": [
        "dense_layer = model.layers[1]  # druga warstwa Dense z modelu\n",
        "dense_layer"
      ],
      "metadata": {
        "colab": {
          "base_uri": "https://localhost:8080/"
        },
        "id": "9pL3kiVSdSNo",
        "outputId": "38ce7d6c-0ce9-4c48-fba4-7a76342aefbf"
      },
      "execution_count": null,
      "outputs": [
        {
          "output_type": "execute_result",
          "data": {
            "text/plain": [
              "<keras.src.layers.core.dense.Dense at 0x7e2e5350a6e0>"
            ]
          },
          "metadata": {},
          "execution_count": 28
        }
      ]
    },
    {
      "cell_type": "code",
      "source": [
        "dense_layer.input  # tensor wchodzący do tej warstwy"
      ],
      "metadata": {
        "colab": {
          "base_uri": "https://localhost:8080/"
        },
        "id": "xb4S2qd2pjRb",
        "outputId": "5a476011-43dd-471a-c500-2254121f2c51"
      },
      "execution_count": null,
      "outputs": [
        {
          "output_type": "execute_result",
          "data": {
            "text/plain": [
              "<KerasTensor: shape=(None, 784) dtype=float32 (created by layer 'flatten')>"
            ]
          },
          "metadata": {},
          "execution_count": 29
        }
      ]
    },
    {
      "cell_type": "code",
      "source": [
        "dense_layer.input_shape  # rozmiar danych wejsciowych"
      ],
      "metadata": {
        "colab": {
          "base_uri": "https://localhost:8080/"
        },
        "id": "fCpnwGUWpz5S",
        "outputId": "4b906aa1-1c15-48b9-83ec-9ab9924fdd78"
      },
      "execution_count": null,
      "outputs": [
        {
          "output_type": "execute_result",
          "data": {
            "text/plain": [
              "(None, 784)"
            ]
          },
          "metadata": {},
          "execution_count": 30
        }
      ]
    },
    {
      "cell_type": "code",
      "source": [
        "dense_layer.output  # tensor wychodzący z tej warstwy"
      ],
      "metadata": {
        "colab": {
          "base_uri": "https://localhost:8080/"
        },
        "id": "aHayZriSp_Ym",
        "outputId": "4bbc4b5c-db92-47ad-c941-01e52e696fbc"
      },
      "execution_count": null,
      "outputs": [
        {
          "output_type": "execute_result",
          "data": {
            "text/plain": [
              "<KerasTensor: shape=(None, 128) dtype=float32 (created by layer 'dense')>"
            ]
          },
          "metadata": {},
          "execution_count": 31
        }
      ]
    },
    {
      "cell_type": "code",
      "source": [
        "dense_layer.output_shape # rozmiar danych wychodzących"
      ],
      "metadata": {
        "colab": {
          "base_uri": "https://localhost:8080/"
        },
        "id": "Hje1CIjwqLd7",
        "outputId": "1b270637-7b09-4aa2-9c61-30f346ca064d"
      },
      "execution_count": null,
      "outputs": [
        {
          "output_type": "execute_result",
          "data": {
            "text/plain": [
              "(None, 128)"
            ]
          },
          "metadata": {},
          "execution_count": 32
        }
      ]
    },
    {
      "cell_type": "code",
      "source": [
        "dense_layer.trainable # jezeli warstwa jest wskazana do uczenia to True jak nie to False"
      ],
      "metadata": {
        "colab": {
          "base_uri": "https://localhost:8080/"
        },
        "id": "YLsYraxBqTUi",
        "outputId": "576a2628-bec6-4957-b64b-0d3a38aa1614"
      },
      "execution_count": null,
      "outputs": [
        {
          "output_type": "execute_result",
          "data": {
            "text/plain": [
              "True"
            ]
          },
          "metadata": {},
          "execution_count": 33
        }
      ]
    },
    {
      "cell_type": "markdown",
      "source": [
        "Podstawowe rodzaje warstw\n",
        "Dense - warstwa gęsto połączona, wynik operacji\n",
        "Activation - stosuje funkcję aktywacji\n",
        "Dropout - porzuca wskazaną część neuronów w warstwie\n",
        "Flatten - wypłaszcza dane wejściowe\n",
        "Input - warstwa wejściowa, parametr shape określa rozmiar danych wejściowych"
      ],
      "metadata": {
        "id": "VKAh1IbsrHLb"
      }
    },
    {
      "cell_type": "code",
      "source": [
        "from tensorflow.keras.layers import Dense\n",
        "\n",
        "dense = Dense(units=1, activation='relu')"
      ],
      "metadata": {
        "id": "8rqh8WisrIOn"
      },
      "execution_count": null,
      "outputs": []
    },
    {
      "cell_type": "code",
      "source": [
        "from tensorflow.keras.layers import Activation\n",
        "\n",
        "activation = Activation(activation='relu')\n",
        "activation"
      ],
      "metadata": {
        "colab": {
          "base_uri": "https://localhost:8080/"
        },
        "id": "iaN3YQZQr4iJ",
        "outputId": "084f119e-a6d5-4571-9de9-a8eac877f049"
      },
      "execution_count": null,
      "outputs": [
        {
          "output_type": "execute_result",
          "data": {
            "text/plain": [
              "<keras.src.layers.core.activation.Activation at 0x7e2e5275c280>"
            ]
          },
          "metadata": {},
          "execution_count": 36
        }
      ]
    },
    {
      "cell_type": "code",
      "source": [
        "from tensorflow.keras.layers import Flatten\n",
        "\n",
        "flatten = Flatten()\n",
        "flatten"
      ],
      "metadata": {
        "colab": {
          "base_uri": "https://localhost:8080/"
        },
        "id": "TVWHqHVSsL6A",
        "outputId": "46a01c77-8279-461a-c953-6990e8ff9521"
      },
      "execution_count": null,
      "outputs": [
        {
          "output_type": "execute_result",
          "data": {
            "text/plain": [
              "<keras.src.layers.reshaping.flatten.Flatten at 0x7e2e531e62f0>"
            ]
          },
          "metadata": {},
          "execution_count": 37
        }
      ]
    },
    {
      "cell_type": "code",
      "source": [
        "from tensorflow.keras.layers import Input\n",
        "\n",
        "input = Input(shape=(150,))\n",
        "input"
      ],
      "metadata": {
        "colab": {
          "base_uri": "https://localhost:8080/"
        },
        "id": "cEHVD1ASsXsl",
        "outputId": "2b877d6d-5448-41bd-f9a7-67ca9a4bbcfc"
      },
      "execution_count": null,
      "outputs": [
        {
          "output_type": "execute_result",
          "data": {
            "text/plain": [
              "<KerasTensor: shape=(None, 150) dtype=float32 (created by layer 'input_1')>"
            ]
          },
          "metadata": {},
          "execution_count": 39
        }
      ]
    }
  ]
}