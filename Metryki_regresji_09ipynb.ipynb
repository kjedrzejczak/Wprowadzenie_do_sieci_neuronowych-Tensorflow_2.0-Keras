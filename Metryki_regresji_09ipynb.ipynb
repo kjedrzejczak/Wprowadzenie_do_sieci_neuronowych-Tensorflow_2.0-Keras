{
  "nbformat": 4,
  "nbformat_minor": 0,
  "metadata": {
    "colab": {
      "provenance": [],
      "authorship_tag": "ABX9TyOKeabw+as25ypxoCr0Rky4",
      "include_colab_link": true
    },
    "kernelspec": {
      "name": "python3",
      "display_name": "Python 3"
    },
    "language_info": {
      "name": "python"
    }
  },
  "cells": [
    {
      "cell_type": "markdown",
      "metadata": {
        "id": "view-in-github",
        "colab_type": "text"
      },
      "source": [
        "<a href=\"https://colab.research.google.com/github/kjedrzejczak/Wprowadzenie_do_sieci_neuronowych-Tensorflow_2.0-Keras/blob/main/Metryki_regresji_09ipynb.ipynb\" target=\"_parent\"><img src=\"https://colab.research.google.com/assets/colab-badge.svg\" alt=\"Open In Colab\"/></a>"
      ]
    },
    {
      "cell_type": "code",
      "execution_count": 1,
      "metadata": {
        "id": "G2ixbqpwpbgX"
      },
      "outputs": [],
      "source": [
        "import numpy as np\n",
        "import pandas as pd\n",
        "import plotly.express as px\n",
        "import plotly.graph_objects as go"
      ]
    },
    {
      "cell_type": "code",
      "source": [
        "y_true = 100 + 20 * np.random.randn(50)\n",
        "y_true"
      ],
      "metadata": {
        "colab": {
          "base_uri": "https://localhost:8080/"
        },
        "id": "kDyZpC-xpyfD",
        "outputId": "0d72de91-4212-4649-9b25-c22decd1b144"
      },
      "execution_count": 2,
      "outputs": [
        {
          "output_type": "execute_result",
          "data": {
            "text/plain": [
              "array([119.71362321, 100.00549596, 106.8141078 ,  80.3063041 ,\n",
              "        80.31350169, 101.01476071, 101.54136144,  88.82222297,\n",
              "       101.4036758 ,  73.12933471,  95.80238199,  87.29191962,\n",
              "        71.77787534,  85.97213028, 116.14948812,  97.8364535 ,\n",
              "       101.06774794, 110.06289787,  73.31659599, 117.4863958 ,\n",
              "        89.9533419 ,  79.91974863, 131.54545098,  77.09104155,\n",
              "       126.79285556,  97.51687826,  93.62770158,  85.16446844,\n",
              "        89.15341859,  71.9705611 ,  81.12572585, 101.39593319,\n",
              "       111.17022235, 121.93757821, 101.23283718,  95.7081548 ,\n",
              "       101.4443692 , 130.19343421,  73.11533547, 122.93108627,\n",
              "       131.30671868, 105.54236231,  55.01551033, 133.91324541,\n",
              "       124.00666547, 107.6059134 ,  77.24126979, 127.01457925,\n",
              "       104.56198073,  95.29339168])"
            ]
          },
          "metadata": {},
          "execution_count": 2
        }
      ]
    },
    {
      "cell_type": "code",
      "source": [
        "y_pred = y_true + 10 * np.random.randn(50)\n",
        "y_pred"
      ],
      "metadata": {
        "colab": {
          "base_uri": "https://localhost:8080/"
        },
        "id": "a6p0S_2vqCM5",
        "outputId": "cecd2a36-1414-4b2b-c3f5-13382281c21a"
      },
      "execution_count": 3,
      "outputs": [
        {
          "output_type": "execute_result",
          "data": {
            "text/plain": [
              "array([117.77127633,  96.5127642 ,  95.98067859,  81.02260836,\n",
              "        89.74630419,  89.8282087 , 106.42572766,  99.52200424,\n",
              "        94.1104238 ,  78.0779985 ,  99.71898959,  89.20962587,\n",
              "        53.51606042,  81.29774729, 103.66863756, 100.78864839,\n",
              "       102.36450752, 109.26914955,  67.61060037, 113.86094372,\n",
              "        76.65995487,  84.32059854, 128.00056184,  83.08353697,\n",
              "       138.58417383,  99.79470123, 102.60060165,  69.89853739,\n",
              "        77.74869127,  68.8918978 ,  78.28790607, 107.27703004,\n",
              "       106.68767136, 108.4898205 ,  95.79091778,  90.29225283,\n",
              "       114.55023408, 130.55649662,  76.04455864, 135.90117467,\n",
              "       130.2900955 , 116.14061924,  43.67869092, 118.27656684,\n",
              "       107.9173354 ,  97.19080845,  82.02231323, 126.99830728,\n",
              "        92.24962974,  98.31540128])"
            ]
          },
          "metadata": {},
          "execution_count": 3
        }
      ]
    },
    {
      "cell_type": "code",
      "source": [
        "results = pd.DataFrame({'y_true':y_true, 'y_pred':y_pred})\n",
        "results['error'] = results['y_true'] - results['y_pred']\n",
        "results.head()"
      ],
      "metadata": {
        "colab": {
          "base_uri": "https://localhost:8080/",
          "height": 206
        },
        "id": "a6b6gLs4qHn2",
        "outputId": "4df5b5bc-7b07-4190-e766-12f76dd18158"
      },
      "execution_count": 4,
      "outputs": [
        {
          "output_type": "execute_result",
          "data": {
            "text/plain": [
              "       y_true      y_pred      error\n",
              "0  119.713623  117.771276   1.942347\n",
              "1  100.005496   96.512764   3.492732\n",
              "2  106.814108   95.980679  10.833429\n",
              "3   80.306304   81.022608  -0.716304\n",
              "4   80.313502   89.746304  -9.432803"
            ],
            "text/html": [
              "\n",
              "  <div id=\"df-9607384b-23dc-4c75-8628-1a908d43adfb\" class=\"colab-df-container\">\n",
              "    <div>\n",
              "<style scoped>\n",
              "    .dataframe tbody tr th:only-of-type {\n",
              "        vertical-align: middle;\n",
              "    }\n",
              "\n",
              "    .dataframe tbody tr th {\n",
              "        vertical-align: top;\n",
              "    }\n",
              "\n",
              "    .dataframe thead th {\n",
              "        text-align: right;\n",
              "    }\n",
              "</style>\n",
              "<table border=\"1\" class=\"dataframe\">\n",
              "  <thead>\n",
              "    <tr style=\"text-align: right;\">\n",
              "      <th></th>\n",
              "      <th>y_true</th>\n",
              "      <th>y_pred</th>\n",
              "      <th>error</th>\n",
              "    </tr>\n",
              "  </thead>\n",
              "  <tbody>\n",
              "    <tr>\n",
              "      <th>0</th>\n",
              "      <td>119.713623</td>\n",
              "      <td>117.771276</td>\n",
              "      <td>1.942347</td>\n",
              "    </tr>\n",
              "    <tr>\n",
              "      <th>1</th>\n",
              "      <td>100.005496</td>\n",
              "      <td>96.512764</td>\n",
              "      <td>3.492732</td>\n",
              "    </tr>\n",
              "    <tr>\n",
              "      <th>2</th>\n",
              "      <td>106.814108</td>\n",
              "      <td>95.980679</td>\n",
              "      <td>10.833429</td>\n",
              "    </tr>\n",
              "    <tr>\n",
              "      <th>3</th>\n",
              "      <td>80.306304</td>\n",
              "      <td>81.022608</td>\n",
              "      <td>-0.716304</td>\n",
              "    </tr>\n",
              "    <tr>\n",
              "      <th>4</th>\n",
              "      <td>80.313502</td>\n",
              "      <td>89.746304</td>\n",
              "      <td>-9.432803</td>\n",
              "    </tr>\n",
              "  </tbody>\n",
              "</table>\n",
              "</div>\n",
              "    <div class=\"colab-df-buttons\">\n",
              "\n",
              "  <div class=\"colab-df-container\">\n",
              "    <button class=\"colab-df-convert\" onclick=\"convertToInteractive('df-9607384b-23dc-4c75-8628-1a908d43adfb')\"\n",
              "            title=\"Convert this dataframe to an interactive table.\"\n",
              "            style=\"display:none;\">\n",
              "\n",
              "  <svg xmlns=\"http://www.w3.org/2000/svg\" height=\"24px\" viewBox=\"0 -960 960 960\">\n",
              "    <path d=\"M120-120v-720h720v720H120Zm60-500h600v-160H180v160Zm220 220h160v-160H400v160Zm0 220h160v-160H400v160ZM180-400h160v-160H180v160Zm440 0h160v-160H620v160ZM180-180h160v-160H180v160Zm440 0h160v-160H620v160Z\"/>\n",
              "  </svg>\n",
              "    </button>\n",
              "\n",
              "  <style>\n",
              "    .colab-df-container {\n",
              "      display:flex;\n",
              "      gap: 12px;\n",
              "    }\n",
              "\n",
              "    .colab-df-convert {\n",
              "      background-color: #E8F0FE;\n",
              "      border: none;\n",
              "      border-radius: 50%;\n",
              "      cursor: pointer;\n",
              "      display: none;\n",
              "      fill: #1967D2;\n",
              "      height: 32px;\n",
              "      padding: 0 0 0 0;\n",
              "      width: 32px;\n",
              "    }\n",
              "\n",
              "    .colab-df-convert:hover {\n",
              "      background-color: #E2EBFA;\n",
              "      box-shadow: 0px 1px 2px rgba(60, 64, 67, 0.3), 0px 1px 3px 1px rgba(60, 64, 67, 0.15);\n",
              "      fill: #174EA6;\n",
              "    }\n",
              "\n",
              "    .colab-df-buttons div {\n",
              "      margin-bottom: 4px;\n",
              "    }\n",
              "\n",
              "    [theme=dark] .colab-df-convert {\n",
              "      background-color: #3B4455;\n",
              "      fill: #D2E3FC;\n",
              "    }\n",
              "\n",
              "    [theme=dark] .colab-df-convert:hover {\n",
              "      background-color: #434B5C;\n",
              "      box-shadow: 0px 1px 3px 1px rgba(0, 0, 0, 0.15);\n",
              "      filter: drop-shadow(0px 1px 2px rgba(0, 0, 0, 0.3));\n",
              "      fill: #FFFFFF;\n",
              "    }\n",
              "  </style>\n",
              "\n",
              "    <script>\n",
              "      const buttonEl =\n",
              "        document.querySelector('#df-9607384b-23dc-4c75-8628-1a908d43adfb button.colab-df-convert');\n",
              "      buttonEl.style.display =\n",
              "        google.colab.kernel.accessAllowed ? 'block' : 'none';\n",
              "\n",
              "      async function convertToInteractive(key) {\n",
              "        const element = document.querySelector('#df-9607384b-23dc-4c75-8628-1a908d43adfb');\n",
              "        const dataTable =\n",
              "          await google.colab.kernel.invokeFunction('convertToInteractive',\n",
              "                                                    [key], {});\n",
              "        if (!dataTable) return;\n",
              "\n",
              "        const docLinkHtml = 'Like what you see? Visit the ' +\n",
              "          '<a target=\"_blank\" href=https://colab.research.google.com/notebooks/data_table.ipynb>data table notebook</a>'\n",
              "          + ' to learn more about interactive tables.';\n",
              "        element.innerHTML = '';\n",
              "        dataTable['output_type'] = 'display_data';\n",
              "        await google.colab.output.renderOutput(dataTable, element);\n",
              "        const docLink = document.createElement('div');\n",
              "        docLink.innerHTML = docLinkHtml;\n",
              "        element.appendChild(docLink);\n",
              "      }\n",
              "    </script>\n",
              "  </div>\n",
              "\n",
              "\n",
              "<div id=\"df-75355946-a099-47d8-8f90-7bae82a4126c\">\n",
              "  <button class=\"colab-df-quickchart\" onclick=\"quickchart('df-75355946-a099-47d8-8f90-7bae82a4126c')\"\n",
              "            title=\"Suggest charts\"\n",
              "            style=\"display:none;\">\n",
              "\n",
              "<svg xmlns=\"http://www.w3.org/2000/svg\" height=\"24px\"viewBox=\"0 0 24 24\"\n",
              "     width=\"24px\">\n",
              "    <g>\n",
              "        <path d=\"M19 3H5c-1.1 0-2 .9-2 2v14c0 1.1.9 2 2 2h14c1.1 0 2-.9 2-2V5c0-1.1-.9-2-2-2zM9 17H7v-7h2v7zm4 0h-2V7h2v10zm4 0h-2v-4h2v4z\"/>\n",
              "    </g>\n",
              "</svg>\n",
              "  </button>\n",
              "\n",
              "<style>\n",
              "  .colab-df-quickchart {\n",
              "      --bg-color: #E8F0FE;\n",
              "      --fill-color: #1967D2;\n",
              "      --hover-bg-color: #E2EBFA;\n",
              "      --hover-fill-color: #174EA6;\n",
              "      --disabled-fill-color: #AAA;\n",
              "      --disabled-bg-color: #DDD;\n",
              "  }\n",
              "\n",
              "  [theme=dark] .colab-df-quickchart {\n",
              "      --bg-color: #3B4455;\n",
              "      --fill-color: #D2E3FC;\n",
              "      --hover-bg-color: #434B5C;\n",
              "      --hover-fill-color: #FFFFFF;\n",
              "      --disabled-bg-color: #3B4455;\n",
              "      --disabled-fill-color: #666;\n",
              "  }\n",
              "\n",
              "  .colab-df-quickchart {\n",
              "    background-color: var(--bg-color);\n",
              "    border: none;\n",
              "    border-radius: 50%;\n",
              "    cursor: pointer;\n",
              "    display: none;\n",
              "    fill: var(--fill-color);\n",
              "    height: 32px;\n",
              "    padding: 0;\n",
              "    width: 32px;\n",
              "  }\n",
              "\n",
              "  .colab-df-quickchart:hover {\n",
              "    background-color: var(--hover-bg-color);\n",
              "    box-shadow: 0 1px 2px rgba(60, 64, 67, 0.3), 0 1px 3px 1px rgba(60, 64, 67, 0.15);\n",
              "    fill: var(--button-hover-fill-color);\n",
              "  }\n",
              "\n",
              "  .colab-df-quickchart-complete:disabled,\n",
              "  .colab-df-quickchart-complete:disabled:hover {\n",
              "    background-color: var(--disabled-bg-color);\n",
              "    fill: var(--disabled-fill-color);\n",
              "    box-shadow: none;\n",
              "  }\n",
              "\n",
              "  .colab-df-spinner {\n",
              "    border: 2px solid var(--fill-color);\n",
              "    border-color: transparent;\n",
              "    border-bottom-color: var(--fill-color);\n",
              "    animation:\n",
              "      spin 1s steps(1) infinite;\n",
              "  }\n",
              "\n",
              "  @keyframes spin {\n",
              "    0% {\n",
              "      border-color: transparent;\n",
              "      border-bottom-color: var(--fill-color);\n",
              "      border-left-color: var(--fill-color);\n",
              "    }\n",
              "    20% {\n",
              "      border-color: transparent;\n",
              "      border-left-color: var(--fill-color);\n",
              "      border-top-color: var(--fill-color);\n",
              "    }\n",
              "    30% {\n",
              "      border-color: transparent;\n",
              "      border-left-color: var(--fill-color);\n",
              "      border-top-color: var(--fill-color);\n",
              "      border-right-color: var(--fill-color);\n",
              "    }\n",
              "    40% {\n",
              "      border-color: transparent;\n",
              "      border-right-color: var(--fill-color);\n",
              "      border-top-color: var(--fill-color);\n",
              "    }\n",
              "    60% {\n",
              "      border-color: transparent;\n",
              "      border-right-color: var(--fill-color);\n",
              "    }\n",
              "    80% {\n",
              "      border-color: transparent;\n",
              "      border-right-color: var(--fill-color);\n",
              "      border-bottom-color: var(--fill-color);\n",
              "    }\n",
              "    90% {\n",
              "      border-color: transparent;\n",
              "      border-bottom-color: var(--fill-color);\n",
              "    }\n",
              "  }\n",
              "</style>\n",
              "\n",
              "  <script>\n",
              "    async function quickchart(key) {\n",
              "      const quickchartButtonEl =\n",
              "        document.querySelector('#' + key + ' button');\n",
              "      quickchartButtonEl.disabled = true;  // To prevent multiple clicks.\n",
              "      quickchartButtonEl.classList.add('colab-df-spinner');\n",
              "      try {\n",
              "        const charts = await google.colab.kernel.invokeFunction(\n",
              "            'suggestCharts', [key], {});\n",
              "      } catch (error) {\n",
              "        console.error('Error during call to suggestCharts:', error);\n",
              "      }\n",
              "      quickchartButtonEl.classList.remove('colab-df-spinner');\n",
              "      quickchartButtonEl.classList.add('colab-df-quickchart-complete');\n",
              "    }\n",
              "    (() => {\n",
              "      let quickchartButtonEl =\n",
              "        document.querySelector('#df-75355946-a099-47d8-8f90-7bae82a4126c button');\n",
              "      quickchartButtonEl.style.display =\n",
              "        google.colab.kernel.accessAllowed ? 'block' : 'none';\n",
              "    })();\n",
              "  </script>\n",
              "</div>\n",
              "    </div>\n",
              "  </div>\n"
            ],
            "application/vnd.google.colaboratory.intrinsic+json": {
              "type": "dataframe",
              "variable_name": "results",
              "summary": "{\n  \"name\": \"results\",\n  \"rows\": 50,\n  \"fields\": [\n    {\n      \"column\": \"y_true\",\n      \"properties\": {\n        \"dtype\": \"number\",\n        \"std\": 19.031212692237062,\n        \"min\": 55.0155103344931,\n        \"max\": 133.9132454143536,\n        \"num_unique_values\": 50,\n        \"samples\": [\n          85.97213027872873,\n          122.9310862713451,\n          81.12572585366368\n        ],\n        \"semantic_type\": \"\",\n        \"description\": \"\"\n      }\n    },\n    {\n      \"column\": \"y_pred\",\n      \"properties\": {\n        \"dtype\": \"number\",\n        \"std\": 20.39903309517757,\n        \"min\": 43.67869091677992,\n        \"max\": 138.58417382500272,\n        \"num_unique_values\": 50,\n        \"samples\": [\n          81.29774728980345,\n          135.9011746650123,\n          78.2879060679006\n        ],\n        \"semantic_type\": \"\",\n        \"description\": \"\"\n      }\n    },\n    {\n      \"column\": \"error\",\n      \"properties\": {\n        \"dtype\": \"number\",\n        \"std\": 8.440960608706549,\n        \"min\": -13.105864876445878,\n        \"max\": 18.261814913400627,\n        \"num_unique_values\": 50,\n        \"samples\": [\n          4.674382988925274,\n          -12.970088393667197,\n          2.837819785763088\n        ],\n        \"semantic_type\": \"\",\n        \"description\": \"\"\n      }\n    }\n  ]\n}"
            }
          },
          "metadata": {},
          "execution_count": 4
        }
      ]
    },
    {
      "cell_type": "markdown",
      "source": [
        "Metryki"
      ],
      "metadata": {
        "id": "RDaMP7LYqrF3"
      }
    },
    {
      "cell_type": "code",
      "source": [
        "def plot_regression_results(y_true, y_pred):\n",
        "  results = pd.DataFrame({'y_true':y_true, 'y_pred':y_pred})\n",
        "  min = results[['y_true', 'y_pred']].min().min()\n",
        "  max = results[['y_true', 'y_pred']].max().max()\n",
        "\n",
        "  fig = go.Figure(data=[go.Scatter(x=results['y_true'], y=results['y_pred'], mode='markers'),\n",
        "                         go.Scatter(x=[min, max], y=[min, max])],\n",
        "                   layout=go.Layout(showlegend=False, width=800,\n",
        "                                    xaxis_title='y_true',\n",
        "                                    yaxis_title='y_pred',\n",
        "                                    title='Regression results'))\n",
        "  fig.show()\n",
        "\n",
        "plot_regression_results(y_true, y_pred)"
      ],
      "metadata": {
        "colab": {
          "base_uri": "https://localhost:8080/",
          "height": 542
        },
        "id": "mRjpQsM-qsVf",
        "outputId": "028a06d5-8b7a-4682-bca1-c897d3874c28"
      },
      "execution_count": 5,
      "outputs": [
        {
          "output_type": "display_data",
          "data": {
            "text/html": [
              "<html>\n",
              "<head><meta charset=\"utf-8\" /></head>\n",
              "<body>\n",
              "    <div>            <script src=\"https://cdnjs.cloudflare.com/ajax/libs/mathjax/2.7.5/MathJax.js?config=TeX-AMS-MML_SVG\"></script><script type=\"text/javascript\">if (window.MathJax && window.MathJax.Hub && window.MathJax.Hub.Config) {window.MathJax.Hub.Config({SVG: {font: \"STIX-Web\"}});}</script>                <script type=\"text/javascript\">window.PlotlyConfig = {MathJaxConfig: 'local'};</script>\n",
              "        <script charset=\"utf-8\" src=\"https://cdn.plot.ly/plotly-2.24.1.min.js\"></script>                <div id=\"e50309fe-cf58-4a2b-85f0-23211d0fbc5f\" class=\"plotly-graph-div\" style=\"height:525px; width:800px;\"></div>            <script type=\"text/javascript\">                                    window.PLOTLYENV=window.PLOTLYENV || {};                                    if (document.getElementById(\"e50309fe-cf58-4a2b-85f0-23211d0fbc5f\")) {                    Plotly.newPlot(                        \"e50309fe-cf58-4a2b-85f0-23211d0fbc5f\",                        [{\"mode\":\"markers\",\"x\":[119.7136232053184,100.00549595588096,106.81410780452978,80.30630410396984,80.31350168587929,101.01476070638353,101.54136143990495,88.8222229720201,101.4036757952433,73.12933470677382,95.80238198627055,87.29191961702765,71.7778753353972,85.97213027872873,116.14948811837647,97.83645349834259,101.06774794208398,110.06289787197682,73.31659599199179,117.48639580463927,89.95334189645702,79.91974862888394,131.5454509816335,77.091041553353,126.79285555970705,97.51687826245012,93.62770158212248,85.16446844228462,89.15341858643333,71.97056109818725,81.12572585366368,101.39593318891801,111.17022235409655,121.93757820614725,101.2328371842846,95.70815480149521,101.44436920042091,130.19343421495168,73.1153354729998,122.9310862713451,131.30671867960044,105.54236231366212,55.0155103344931,133.9132454143536,124.00666547483135,107.60591339755133,77.24126979010751,127.01457925014245,104.56198073351848,95.29339168359088],\"y\":[117.77127633225096,96.5127641980823,95.98067859015633,81.02260835581531,89.74630419151525,89.82820869918446,106.42572765880918,99.52200423988347,94.11042380121744,78.07799849714692,99.71898959065372,89.2096258661413,53.51606042199657,81.29774728980345,103.66863756256295,100.7886483885007,102.36450751943235,109.26914954569322,67.61060036848767,113.86094372286615,76.65995487372047,84.32059853821443,128.00056183678876,83.0835369727308,138.58417382500272,99.79470122617303,102.60060165243317,69.89853738775909,77.74869127261769,68.89189779667154,78.2879060679006,107.27703004219912,106.68767136398743,108.48982049503454,95.79091778187556,90.29225282903245,114.55023407686679,130.5564966153048,76.04455863989311,135.9011746650123,130.29009549792713,116.14061924279977,43.67869091677992,118.27656684421343,107.91733540135363,97.19080844925126,82.02231322710836,126.99830728248968,92.24962974219666,98.31540127647534],\"type\":\"scatter\"},{\"x\":[43.67869091677992,138.58417382500272],\"y\":[43.67869091677992,138.58417382500272],\"type\":\"scatter\"}],                        {\"showlegend\":false,\"title\":{\"text\":\"Regression results\"},\"width\":800,\"xaxis\":{\"title\":{\"text\":\"y_true\"}},\"yaxis\":{\"title\":{\"text\":\"y_pred\"}},\"template\":{\"data\":{\"histogram2dcontour\":[{\"type\":\"histogram2dcontour\",\"colorbar\":{\"outlinewidth\":0,\"ticks\":\"\"},\"colorscale\":[[0.0,\"#0d0887\"],[0.1111111111111111,\"#46039f\"],[0.2222222222222222,\"#7201a8\"],[0.3333333333333333,\"#9c179e\"],[0.4444444444444444,\"#bd3786\"],[0.5555555555555556,\"#d8576b\"],[0.6666666666666666,\"#ed7953\"],[0.7777777777777778,\"#fb9f3a\"],[0.8888888888888888,\"#fdca26\"],[1.0,\"#f0f921\"]]}],\"choropleth\":[{\"type\":\"choropleth\",\"colorbar\":{\"outlinewidth\":0,\"ticks\":\"\"}}],\"histogram2d\":[{\"type\":\"histogram2d\",\"colorbar\":{\"outlinewidth\":0,\"ticks\":\"\"},\"colorscale\":[[0.0,\"#0d0887\"],[0.1111111111111111,\"#46039f\"],[0.2222222222222222,\"#7201a8\"],[0.3333333333333333,\"#9c179e\"],[0.4444444444444444,\"#bd3786\"],[0.5555555555555556,\"#d8576b\"],[0.6666666666666666,\"#ed7953\"],[0.7777777777777778,\"#fb9f3a\"],[0.8888888888888888,\"#fdca26\"],[1.0,\"#f0f921\"]]}],\"heatmap\":[{\"type\":\"heatmap\",\"colorbar\":{\"outlinewidth\":0,\"ticks\":\"\"},\"colorscale\":[[0.0,\"#0d0887\"],[0.1111111111111111,\"#46039f\"],[0.2222222222222222,\"#7201a8\"],[0.3333333333333333,\"#9c179e\"],[0.4444444444444444,\"#bd3786\"],[0.5555555555555556,\"#d8576b\"],[0.6666666666666666,\"#ed7953\"],[0.7777777777777778,\"#fb9f3a\"],[0.8888888888888888,\"#fdca26\"],[1.0,\"#f0f921\"]]}],\"heatmapgl\":[{\"type\":\"heatmapgl\",\"colorbar\":{\"outlinewidth\":0,\"ticks\":\"\"},\"colorscale\":[[0.0,\"#0d0887\"],[0.1111111111111111,\"#46039f\"],[0.2222222222222222,\"#7201a8\"],[0.3333333333333333,\"#9c179e\"],[0.4444444444444444,\"#bd3786\"],[0.5555555555555556,\"#d8576b\"],[0.6666666666666666,\"#ed7953\"],[0.7777777777777778,\"#fb9f3a\"],[0.8888888888888888,\"#fdca26\"],[1.0,\"#f0f921\"]]}],\"contourcarpet\":[{\"type\":\"contourcarpet\",\"colorbar\":{\"outlinewidth\":0,\"ticks\":\"\"}}],\"contour\":[{\"type\":\"contour\",\"colorbar\":{\"outlinewidth\":0,\"ticks\":\"\"},\"colorscale\":[[0.0,\"#0d0887\"],[0.1111111111111111,\"#46039f\"],[0.2222222222222222,\"#7201a8\"],[0.3333333333333333,\"#9c179e\"],[0.4444444444444444,\"#bd3786\"],[0.5555555555555556,\"#d8576b\"],[0.6666666666666666,\"#ed7953\"],[0.7777777777777778,\"#fb9f3a\"],[0.8888888888888888,\"#fdca26\"],[1.0,\"#f0f921\"]]}],\"surface\":[{\"type\":\"surface\",\"colorbar\":{\"outlinewidth\":0,\"ticks\":\"\"},\"colorscale\":[[0.0,\"#0d0887\"],[0.1111111111111111,\"#46039f\"],[0.2222222222222222,\"#7201a8\"],[0.3333333333333333,\"#9c179e\"],[0.4444444444444444,\"#bd3786\"],[0.5555555555555556,\"#d8576b\"],[0.6666666666666666,\"#ed7953\"],[0.7777777777777778,\"#fb9f3a\"],[0.8888888888888888,\"#fdca26\"],[1.0,\"#f0f921\"]]}],\"mesh3d\":[{\"type\":\"mesh3d\",\"colorbar\":{\"outlinewidth\":0,\"ticks\":\"\"}}],\"scatter\":[{\"fillpattern\":{\"fillmode\":\"overlay\",\"size\":10,\"solidity\":0.2},\"type\":\"scatter\"}],\"parcoords\":[{\"type\":\"parcoords\",\"line\":{\"colorbar\":{\"outlinewidth\":0,\"ticks\":\"\"}}}],\"scatterpolargl\":[{\"type\":\"scatterpolargl\",\"marker\":{\"colorbar\":{\"outlinewidth\":0,\"ticks\":\"\"}}}],\"bar\":[{\"error_x\":{\"color\":\"#2a3f5f\"},\"error_y\":{\"color\":\"#2a3f5f\"},\"marker\":{\"line\":{\"color\":\"#E5ECF6\",\"width\":0.5},\"pattern\":{\"fillmode\":\"overlay\",\"size\":10,\"solidity\":0.2}},\"type\":\"bar\"}],\"scattergeo\":[{\"type\":\"scattergeo\",\"marker\":{\"colorbar\":{\"outlinewidth\":0,\"ticks\":\"\"}}}],\"scatterpolar\":[{\"type\":\"scatterpolar\",\"marker\":{\"colorbar\":{\"outlinewidth\":0,\"ticks\":\"\"}}}],\"histogram\":[{\"marker\":{\"pattern\":{\"fillmode\":\"overlay\",\"size\":10,\"solidity\":0.2}},\"type\":\"histogram\"}],\"scattergl\":[{\"type\":\"scattergl\",\"marker\":{\"colorbar\":{\"outlinewidth\":0,\"ticks\":\"\"}}}],\"scatter3d\":[{\"type\":\"scatter3d\",\"line\":{\"colorbar\":{\"outlinewidth\":0,\"ticks\":\"\"}},\"marker\":{\"colorbar\":{\"outlinewidth\":0,\"ticks\":\"\"}}}],\"scattermapbox\":[{\"type\":\"scattermapbox\",\"marker\":{\"colorbar\":{\"outlinewidth\":0,\"ticks\":\"\"}}}],\"scatterternary\":[{\"type\":\"scatterternary\",\"marker\":{\"colorbar\":{\"outlinewidth\":0,\"ticks\":\"\"}}}],\"scattercarpet\":[{\"type\":\"scattercarpet\",\"marker\":{\"colorbar\":{\"outlinewidth\":0,\"ticks\":\"\"}}}],\"carpet\":[{\"aaxis\":{\"endlinecolor\":\"#2a3f5f\",\"gridcolor\":\"white\",\"linecolor\":\"white\",\"minorgridcolor\":\"white\",\"startlinecolor\":\"#2a3f5f\"},\"baxis\":{\"endlinecolor\":\"#2a3f5f\",\"gridcolor\":\"white\",\"linecolor\":\"white\",\"minorgridcolor\":\"white\",\"startlinecolor\":\"#2a3f5f\"},\"type\":\"carpet\"}],\"table\":[{\"cells\":{\"fill\":{\"color\":\"#EBF0F8\"},\"line\":{\"color\":\"white\"}},\"header\":{\"fill\":{\"color\":\"#C8D4E3\"},\"line\":{\"color\":\"white\"}},\"type\":\"table\"}],\"barpolar\":[{\"marker\":{\"line\":{\"color\":\"#E5ECF6\",\"width\":0.5},\"pattern\":{\"fillmode\":\"overlay\",\"size\":10,\"solidity\":0.2}},\"type\":\"barpolar\"}],\"pie\":[{\"automargin\":true,\"type\":\"pie\"}]},\"layout\":{\"autotypenumbers\":\"strict\",\"colorway\":[\"#636efa\",\"#EF553B\",\"#00cc96\",\"#ab63fa\",\"#FFA15A\",\"#19d3f3\",\"#FF6692\",\"#B6E880\",\"#FF97FF\",\"#FECB52\"],\"font\":{\"color\":\"#2a3f5f\"},\"hovermode\":\"closest\",\"hoverlabel\":{\"align\":\"left\"},\"paper_bgcolor\":\"white\",\"plot_bgcolor\":\"#E5ECF6\",\"polar\":{\"bgcolor\":\"#E5ECF6\",\"angularaxis\":{\"gridcolor\":\"white\",\"linecolor\":\"white\",\"ticks\":\"\"},\"radialaxis\":{\"gridcolor\":\"white\",\"linecolor\":\"white\",\"ticks\":\"\"}},\"ternary\":{\"bgcolor\":\"#E5ECF6\",\"aaxis\":{\"gridcolor\":\"white\",\"linecolor\":\"white\",\"ticks\":\"\"},\"baxis\":{\"gridcolor\":\"white\",\"linecolor\":\"white\",\"ticks\":\"\"},\"caxis\":{\"gridcolor\":\"white\",\"linecolor\":\"white\",\"ticks\":\"\"}},\"coloraxis\":{\"colorbar\":{\"outlinewidth\":0,\"ticks\":\"\"}},\"colorscale\":{\"sequential\":[[0.0,\"#0d0887\"],[0.1111111111111111,\"#46039f\"],[0.2222222222222222,\"#7201a8\"],[0.3333333333333333,\"#9c179e\"],[0.4444444444444444,\"#bd3786\"],[0.5555555555555556,\"#d8576b\"],[0.6666666666666666,\"#ed7953\"],[0.7777777777777778,\"#fb9f3a\"],[0.8888888888888888,\"#fdca26\"],[1.0,\"#f0f921\"]],\"sequentialminus\":[[0.0,\"#0d0887\"],[0.1111111111111111,\"#46039f\"],[0.2222222222222222,\"#7201a8\"],[0.3333333333333333,\"#9c179e\"],[0.4444444444444444,\"#bd3786\"],[0.5555555555555556,\"#d8576b\"],[0.6666666666666666,\"#ed7953\"],[0.7777777777777778,\"#fb9f3a\"],[0.8888888888888888,\"#fdca26\"],[1.0,\"#f0f921\"]],\"diverging\":[[0,\"#8e0152\"],[0.1,\"#c51b7d\"],[0.2,\"#de77ae\"],[0.3,\"#f1b6da\"],[0.4,\"#fde0ef\"],[0.5,\"#f7f7f7\"],[0.6,\"#e6f5d0\"],[0.7,\"#b8e186\"],[0.8,\"#7fbc41\"],[0.9,\"#4d9221\"],[1,\"#276419\"]]},\"xaxis\":{\"gridcolor\":\"white\",\"linecolor\":\"white\",\"ticks\":\"\",\"title\":{\"standoff\":15},\"zerolinecolor\":\"white\",\"automargin\":true,\"zerolinewidth\":2},\"yaxis\":{\"gridcolor\":\"white\",\"linecolor\":\"white\",\"ticks\":\"\",\"title\":{\"standoff\":15},\"zerolinecolor\":\"white\",\"automargin\":true,\"zerolinewidth\":2},\"scene\":{\"xaxis\":{\"backgroundcolor\":\"#E5ECF6\",\"gridcolor\":\"white\",\"linecolor\":\"white\",\"showbackground\":true,\"ticks\":\"\",\"zerolinecolor\":\"white\",\"gridwidth\":2},\"yaxis\":{\"backgroundcolor\":\"#E5ECF6\",\"gridcolor\":\"white\",\"linecolor\":\"white\",\"showbackground\":true,\"ticks\":\"\",\"zerolinecolor\":\"white\",\"gridwidth\":2},\"zaxis\":{\"backgroundcolor\":\"#E5ECF6\",\"gridcolor\":\"white\",\"linecolor\":\"white\",\"showbackground\":true,\"ticks\":\"\",\"zerolinecolor\":\"white\",\"gridwidth\":2}},\"shapedefaults\":{\"line\":{\"color\":\"#2a3f5f\"}},\"annotationdefaults\":{\"arrowcolor\":\"#2a3f5f\",\"arrowhead\":0,\"arrowwidth\":1},\"geo\":{\"bgcolor\":\"white\",\"landcolor\":\"#E5ECF6\",\"subunitcolor\":\"white\",\"showland\":true,\"showlakes\":true,\"lakecolor\":\"white\"},\"title\":{\"x\":0.05},\"mapbox\":{\"style\":\"light\"}}}},                        {\"responsive\": true}                    ).then(function(){\n",
              "                            \n",
              "var gd = document.getElementById('e50309fe-cf58-4a2b-85f0-23211d0fbc5f');\n",
              "var x = new MutationObserver(function (mutations, observer) {{\n",
              "        var display = window.getComputedStyle(gd).display;\n",
              "        if (!display || display === 'none') {{\n",
              "            console.log([gd, 'removed!']);\n",
              "            Plotly.purge(gd);\n",
              "            observer.disconnect();\n",
              "        }}\n",
              "}});\n",
              "\n",
              "// Listen for the removal of the full notebook cells\n",
              "var notebookContainer = gd.closest('#notebook-container');\n",
              "if (notebookContainer) {{\n",
              "    x.observe(notebookContainer, {childList: true});\n",
              "}}\n",
              "\n",
              "// Listen for the clearing of the current output cell\n",
              "var outputEl = gd.closest('.output');\n",
              "if (outputEl) {{\n",
              "    x.observe(outputEl, {childList: true});\n",
              "}}\n",
              "\n",
              "                        })                };                            </script>        </div>\n",
              "</body>\n",
              "</html>"
            ]
          },
          "metadata": {}
        }
      ]
    },
    {
      "cell_type": "markdown",
      "source": [
        "Rozkład błędu"
      ],
      "metadata": {
        "id": "ObpOm74RuISK"
      }
    },
    {
      "cell_type": "code",
      "source": [
        "y_true = 100 + 20 * np.random.randn(1000)\n",
        "y_pred = y_true + 10 * np.random.randn(1000)\n",
        "results = pd.DataFrame({'y_true':y_true, 'y_pred':y_pred})\n",
        "results['error'] = results['y_true'] - results['y_pred']\n",
        "\n",
        "px.histogram(results, x='error', nbins=50, width=800)"
      ],
      "metadata": {
        "colab": {
          "base_uri": "https://localhost:8080/",
          "height": 542
        },
        "id": "i-KNbaGWuJ3q",
        "outputId": "4bcb1337-3d09-4c74-f58c-20005a558c68"
      },
      "execution_count": 6,
      "outputs": [
        {
          "output_type": "display_data",
          "data": {
            "text/html": [
              "<html>\n",
              "<head><meta charset=\"utf-8\" /></head>\n",
              "<body>\n",
              "    <div>            <script src=\"https://cdnjs.cloudflare.com/ajax/libs/mathjax/2.7.5/MathJax.js?config=TeX-AMS-MML_SVG\"></script><script type=\"text/javascript\">if (window.MathJax && window.MathJax.Hub && window.MathJax.Hub.Config) {window.MathJax.Hub.Config({SVG: {font: \"STIX-Web\"}});}</script>                <script type=\"text/javascript\">window.PlotlyConfig = {MathJaxConfig: 'local'};</script>\n",
              "        <script charset=\"utf-8\" src=\"https://cdn.plot.ly/plotly-2.24.1.min.js\"></script>                <div id=\"405cc480-36f7-4513-a67a-8090bcbe8fd4\" class=\"plotly-graph-div\" style=\"height:525px; width:800px;\"></div>            <script type=\"text/javascript\">                                    window.PLOTLYENV=window.PLOTLYENV || {};                                    if (document.getElementById(\"405cc480-36f7-4513-a67a-8090bcbe8fd4\")) {                    Plotly.newPlot(                        \"405cc480-36f7-4513-a67a-8090bcbe8fd4\",                        [{\"alignmentgroup\":\"True\",\"bingroup\":\"x\",\"hovertemplate\":\"error=%{x}\\u003cbr\\u003ecount=%{y}\\u003cextra\\u003e\\u003c\\u002fextra\\u003e\",\"legendgroup\":\"\",\"marker\":{\"color\":\"#636efa\",\"pattern\":{\"shape\":\"\"}},\"name\":\"\",\"nbinsx\":50,\"offsetgroup\":\"\",\"orientation\":\"v\",\"showlegend\":false,\"x\":[3.772596526539175,-4.030766981009123,-3.344797806544804,0.8138275935192496,21.33253985469753,7.135879638775009,-0.5551471934577705,3.7260498757765816,-4.143975316120205,-0.21191220052276094,14.250728418306934,17.50849580213732,3.467249628024078,-6.6343334077233465,-5.98664613539799,-10.996879531265606,4.345291626569278,-10.162442800869627,-10.630431888819615,-0.8644541321468182,1.9035680740320942,4.734454626934351,-6.898751004389425,-10.643766438790664,-10.750677181552817,-16.239153489312372,4.2825419340912845,-18.285577002109918,6.25457024459331,-16.828978783787832,5.733978564793631,-3.8585086514028006,-4.789672720085704,-1.930679758716522,-11.141883567532119,15.753506937029876,-19.915540420611464,1.6600325917678447,23.31401091747837,18.981284160412457,10.64332412349512,7.950325811613553,-12.343122796881161,17.50055738537496,5.8103864812204336,-2.102683769890703,-2.526516000532183,13.223363928043668,-3.3627560505790797,-2.7178841417761674,18.247334798285365,7.613428162443867,3.085922019713564,-24.55712265130107,21.418161800923578,14.880697871215503,15.942899462133113,4.50335289351284,10.885903989675498,-4.416504074330959,-2.124590372019341,-4.19569558188617,-1.728261991339437,-2.9368608472802578,-23.64373752897251,-8.037417775996587,3.3809739434981907,-1.9394351227406759,2.7125322357462665,10.537033183803047,-0.045024527921967206,-2.8510732052095733,-9.355463417393736,-4.305307911056687,6.327404824008028,-3.024496133761758,-0.28617823174937485,-13.486226922215096,1.3526015690706714,-9.764871755116857,9.339963458181984,10.644802287512675,-6.176846029200931,-0.8791427909944787,-26.161106746737218,0.8591331971317402,-12.223218334239078,-6.024475846602115,9.146166547140396,16.622540375895625,1.0668260073920237,12.306255232866107,13.247045173442146,3.8806161236329046,2.736318413253514,13.61276220737642,-7.892922985856551,-9.188329008635094,1.7341501887999442,-4.063659124743168,5.114871566839938,-8.174515828888147,0.02922614576577587,19.063242857177755,1.9866927763127649,2.963873424601857,-17.670553212730198,4.000924173096664,3.7321824429894264,-0.9353328373073282,10.974573703077866,-8.542629211368293,-3.924363312425328,13.257266961317455,7.263405606417919,-10.48666683248672,1.760211523003818,9.473249748664358,2.108285519342786,-2.5585760459174196,-22.268064160151056,27.175065010970243,3.71448405040087,11.032796537740225,3.0869880052749252,4.500795300454314,7.3847294730936,11.75043916193546,4.151554792685573,-8.171266453717166,0.9632359958801402,12.67881473826894,22.28801333235664,-15.46328763035443,-8.380982692370992,3.656408511185731,-6.163352312884797,3.5140013521872646,5.179171966702398,3.1846597519046327,25.211781001322322,6.8282776553385816,-9.440773247707526,11.50105764301371,-14.16008962092856,-9.916018464007237,2.1952488833167365,17.413629779902593,-16.893997626872746,-0.48590187294246334,6.248823688616525,-6.027984178884495,10.678266966327612,10.671298030706339,-2.6891279611135985,-0.314333390337481,3.9758883205991538,-6.632220071828968,11.51463574521577,-1.934234880086379,-10.522627275304899,8.774054976895926,20.80365083400865,10.057240422112997,12.996868508207086,-4.326588408644753,-9.55097371178104,-2.5485585597678124,-17.720061587977526,13.8468748514872,-10.396088660418997,-13.326294447236677,-3.869943980787909,9.99827760168732,15.23552743099512,-15.531165636563117,13.329594463413173,5.486003632767222,-3.2790491700116178,2.534509972824779,0.24835722214814382,-4.524790844797607,-0.8823744513637735,-5.499473876989299,14.095731431296755,6.0169083911532795,10.660412660743361,-20.00543178739447,-7.387672452622297,-11.014599104058533,1.8314067648837096,5.107773590528126,4.2187371372220355,8.152854513777854,-12.939993431130844,-0.8321811642904464,4.7630133849825285,-11.83014221329745,-0.6297873004583892,1.4010440499414472,-12.234309410775026,-8.247310108160775,9.753795864622987,9.492039749204636,-1.4740540570239773,-11.156791934252297,1.7944099681285053,-1.6639106302456526,-5.532030604777134,9.140598730115677,2.4808348125596353,0.9402423640353987,7.706668214863043,9.440867646639703,-7.609654869374381,-9.449472271223172,2.0515463064089943,-5.34927050877981,-18.71666307178033,8.292586680035654,32.24620642661853,9.935666147299429,-3.682333404174173,20.92718709854887,19.72795264484587,-3.756582217153266,3.1863639263510493,-24.17623491841084,10.014010520092768,11.382018753572169,8.99745034065117,-22.691829089562795,-10.588745612737384,9.439844676693127,-1.1074523468424076,-0.7145944217328122,1.9205979591247342,-7.237827921754715,6.830866155448788,0.3769122593865859,25.198954671027757,9.823009305442639,-3.757682132548098,-2.789492200795415,-8.973220443335066,-18.5444878151053,7.081436971858139,-12.479781209432474,-7.652897119270733,-4.00103951000402,-3.3185632731602226,4.632845626450063,-7.75864384243134,11.81357389505439,-8.496029639212594,-10.961377076960503,-11.093783835159542,-6.803356554644779,3.199530085591803,3.3849422187366542,-1.5049498117317341,17.647402810654782,-10.281146537557362,5.53761755757273,-3.7044908891784445,-6.452924658750476,2.24721116347375,-0.03990354814855834,20.913200273001323,2.8268944862898167,-8.113556886250365,3.306970444100898,-9.849872791582214,6.327980232064263,-5.382890381481843,-6.0767552704330825,12.107156214112152,22.73795587453236,-9.69582252578617,-2.788836499107532,-29.914530668337676,4.956017451644257,-2.0612403725165507,-21.36149729237144,2.961120421829591,11.44760440331828,-0.19216110255054275,-7.406493574548293,1.7005452580606857,-15.828521302560546,-13.684523527767254,-2.758716807109323,-10.418157614465287,3.209430773033503,2.1475573709843445,3.4176410335964817,-16.010277973672075,8.583821117574558,-12.132720742537998,-9.556924126908882,-11.500374270385947,-0.5704737366904027,-1.4754504405938036,2.457377858967547,2.529126786293375,-9.979064279294661,7.682149769928323,-9.375064947613623,13.153981444621976,-7.637060641941844,6.541053643426004,6.685950255982377,-5.6732981138232645,1.2309568493430163,2.2486599694144047,-2.1857651150364035,-13.026657930864133,-4.504817856011144,15.17569624886734,-16.384486676997952,6.194363594107216,13.309862312637804,0.8354495229908139,-30.83997383052167,-9.046976748998574,4.470585213545164,0.9548772323796726,1.6347894151464715,-7.32207796741767,3.870456839688174,1.8611535629406006,-5.438900430433819,7.9741530251934165,-5.669457267275163,0.34893318403253204,12.762619886856854,11.486507085156788,-9.245338305456215,-8.18627056841548,-4.753184456254729,4.4989113719666705,-6.778924603284679,6.777997657721372,7.890765758720718,-7.62549624097052,-4.971946920863886,-2.333031694859585,-2.789798144219617,-10.223920955024028,4.020695325866498,-5.118787486711042,4.139748707678834,5.382082750343443,13.852517086601438,13.955121476990868,19.176109800965975,6.194940699881954,2.8534579901188977,0.9297342396758381,-8.439405722553616,12.339974756999837,-5.231098159295385,7.447490627435194,3.2351624550278757,-12.346189678381137,-2.226861597915047,5.839558723961545,-8.63176989236662,3.6512989311192996,7.632800943691123,9.471160842201172,14.648204750075564,-17.64317945088071,-3.989978429480786,-4.347456109165137,-0.06420209140514999,4.258585693847621,6.304864230548233,-4.191259276795549,-1.4431207797643992,-14.77883525053393,2.6032818175825128,0.6473726208676709,8.007496383723847,1.8294655683208703,8.439429261307211,-8.536882665632575,2.477157957507117,4.924124267142588,7.228158555878153,-10.728678601878713,9.72296306359209,7.339957320005439,1.7237894699806873,-4.803222506484225,16.02012611160538,8.4456799666185,8.055026402833064,1.220784192770438,-11.740769022433028,-4.946291539138429,-11.141496390633947,-1.8359043524074536,-0.7257780686728807,3.0876851308735525,-4.520448575931383,-4.964699286409129,-9.48800725390295,4.415645411950578,-7.5222465584314335,0.03163658773100053,11.574824607398874,-4.796931604237841,3.6802282163562268,3.612573226348701,-7.017660352920373,6.808679322734633,-20.741940449829443,-16.709943318856034,-1.109408713868504,-3.973089305079583,29.370019871792678,-4.961819187075221,-5.278106386109357,6.694905957520518,4.251783161838802,9.84752976234438,13.48271568053822,-1.9042102741497047,8.45300715289713,-19.8827041003656,-30.47033869931971,-2.8678008817663425,4.45653103553299,7.437471478358319,-9.278784989762258,1.323166156655617,6.563808394139869,-3.3066423391508977,-18.071058243314297,10.938083840427367,1.6074242590204761,10.293479925459408,-4.539171672996218,-6.435194189952199,-3.715263609305495,1.3851500860271244,-4.177539484560512,8.72409603491002,3.2007906224608718,6.166474662162003,21.982744582988488,-12.756160116629573,12.12837865757021,-8.332237127054512,-18.922823484490564,-7.7038492568447055,3.2803370469786444,1.7112072334997208,2.6606458702414955,9.181496967302635,-29.25955136066718,0.7143770808729641,4.028089210525977,-10.9732888503612,-6.081576593035209,1.6853176224839785,-1.0840004943633943,-1.5595726516080788,-6.064681671536064,4.471304538191319,-5.574008544875298,-6.862780140825265,-4.734985102537266,12.18307012785381,2.939988016217356,2.2721901947045353,-16.602722143340046,-9.881537097110368,21.27971591110824,-4.755459935957603,16.35827640926867,-19.305886529596833,-3.879614994991698,-28.08763100291489,-4.4197202235731226,4.283249158167209,8.292219649155513,-4.5961724217943924,13.704980068795521,12.592794214903577,6.821945092627146,18.001739674960675,5.439808153823961,-2.333915801209187,5.941028687190439,11.39909724865619,-17.265832447983684,-9.545101138075452,19.635721334445975,0.133028675990559,-21.717091147812823,19.705376290772335,-21.33398082686321,17.849070895297288,-23.292923993833853,-8.780346698929208,-0.45439067089579055,6.863610877363826,6.254267695423707,-8.259097562885103,5.504381602449854,5.547698664260963,9.370330005242465,0.15353365790222995,-10.229846548414528,14.375475974617089,0.7096257337843781,7.548480710991996,-5.425752507894757,0.28917017702718795,0.6666938958459667,1.8029792009078562,-6.978599541751862,-3.0480760249582772,-11.932755703326976,-4.688069232799094,8.475180656733954,0.9781191416581407,-14.49037235793304,5.164986113343517,-12.2773713722964,-2.594914738010658,0.25511922719755376,3.3309509150194856,-9.691390950661571,-6.902798371123325,17.946075428741352,-13.163684820974467,-1.1375111583706854,2.0992128345077674,-15.307610809369706,4.0684487818381285,-7.224238212901142,-9.94621339401894,-7.872423255115422,12.078536846441054,-10.399723605943237,7.595219265667197,2.0877919012701227,-15.071936601883763,-7.3394740745714415,-2.310064430428838,-5.048717873866465,-6.488939102253127,0.46919518322938814,-16.60179511000743,9.100440020258304,4.832421089511044,-17.619895598431654,4.754727815068037,11.501399012520466,-13.546143392360023,-0.6058965920496036,-14.321842556774016,9.121178983452438,-4.735669468449771,-3.7850105677685804,-2.6998983998832102,-27.44027766037358,-20.030428752880923,-13.495065932734533,8.88421738748626,-3.368099393001316,13.312055276404763,5.769292458729936,-4.360557080422382,15.553560937864788,6.737225303338448,6.4341550196587605,-10.308048042613308,6.50375300585349,-1.8784991046532156,7.679146103284069,10.606787543253489,1.2106066091880479,-4.521732494877867,12.230149840850302,-11.658907370533427,-8.2540600326207,-5.6085981149346225,-3.3896937559929796,-15.169438236020326,10.573282529053941,-17.22892389148477,20.030891416376846,5.006194850579831,-9.673204576631292,3.378442901416932,-0.26016439378581424,4.523207305569841,-2.1887691174088957,6.304382690646847,6.612969389530534,12.928787863775995,-17.084754990151026,-13.060474850178949,2.749102117707281,0.742936956328677,-3.2260724213871583,8.363267802368739,2.1854820362210603,-4.94358323117612,-6.075724007791607,8.132079845529006,-4.071655046352518,10.124530911338468,-16.091200923961082,2.8622845436294995,-4.933688360597571,-1.9946462307181747,22.61385702686377,-10.248912894799687,-8.244049462829196,9.060209807542051,-4.498285262168125,4.027726400489939,12.628835570332924,-0.25271315221249324,11.949371157452106,-7.843001427643927,0.7295620681070716,0.7169310729764078,-1.2451747396819997,3.9440375393993463,-16.271826382974268,4.634327995818396,-8.242623136908065,-4.6580098424836365,1.8789287796287653,-7.693438997573409,-6.126173328365127,-0.8418887900020735,10.310751730151594,17.245702768659825,-15.501877939703121,-14.833464341572295,-1.1704154307556394,1.6445244410854798,-3.945504310256709,-2.6773702252129823,-6.312736012465294,-5.424004419393782,-3.649800710835251,7.72565505315994,1.1581848429045465,1.1920144722041357,4.01217171200139,12.600673710558041,5.107094576956953,13.281023896563127,-14.698704082519143,-13.333294487109768,-13.18876764072131,20.27671880578046,-1.4027017253389857,10.390189472064492,-14.782137176119406,-10.000248808354613,2.808757936755839,-7.980983652913565,0.8533434332327374,8.688324792941998,6.556648719430399,0.9090411212575873,-0.8131796878428474,-5.560900753152723,5.671300708706454,2.1563090307412836,-6.687580648041347,-13.38492527901576,7.295812115211135,2.500824000574397,0.8385564119251256,4.214057573523277,10.733977551020374,0.6376065425702677,8.771114363458437,-13.424302067345309,17.944151531576324,8.96041587807116,-5.392633862467548,13.203788946427565,0.06618558998296464,-8.54698130114474,-8.47602804708626,25.27787195970714,-0.3143485028958395,-12.56263862355651,-3.625754060632758,5.418496141497258,-10.807280956885535,-6.868761438562302,-26.210318166868902,5.742928768065752,-2.524141499128902,10.836090404829207,-1.1539764333110583,1.8801802592546295,1.6478538303804129,7.836540040002404,5.718053043547826,-6.228882054978101,8.884807666614947,8.705784939990068,1.7306339336923031,-14.537606119687709,1.9758881720186423,-13.2540470994075,-6.381905001828358,-0.2018031041682633,-4.489032549565849,-2.972039075074818,15.314509885403098,-10.1316501260752,10.878718915333152,11.177008989964392,1.323071030475063,-1.6187782921608829,-7.709423036845678,6.682571502969324,-7.397267299550094,9.372732260029068,5.764510961923136,1.0711473986312825,10.326253566937112,4.060678161250493,15.7452234206487,7.050328155450316,-4.602343293888175,5.1991645406859135,-8.66541577974796,-1.3608180333995676,-12.242040396220517,7.584723004529465,-0.8920004115764328,10.299368198559804,-20.285530406476312,3.0923100517685214,-6.11071330549278,-13.089672339348141,6.290148377322964,-8.774253642973932,-0.19667099667587706,5.720103130079423,-6.027976146289873,2.8168507071476796,-19.028465149879935,20.025149013082483,12.022015089500613,4.547121721642284,14.798217217764801,1.7135523828916774,4.552211022605391,4.917575299435427,-5.9948491478976536,-8.34072928278178,6.325927770857604,-8.758338406329415,1.0746926442016758,1.2452961039732173,5.226088903108931,-16.386618672959884,13.493581825409308,-8.30913921283711,8.327690627466254,2.1147811423105054,-8.345607134591319,10.2441439809934,-13.600504013100263,9.221062458233149,0.7792358580353493,10.028166470268928,-20.637152609291704,-11.73362506395074,10.063960818541148,-2.4202204909070986,0.6127105959058525,-15.606670051037554,-7.481475547834606,-2.1817171189616005,-11.048791338331029,4.303018042114644,6.944280255090689,-1.0283007888274938,13.411290538700342,2.1051769530821645,16.951780449181953,-4.208270279368662,0.6737368766551555,7.436428966337559,-18.988972070873444,3.655397397937506,2.218606485161459,-0.6228717359464184,0.959526844568444,-4.624368080145075,-2.8713884915697463,-5.433870064120711,-7.879468274270735,-0.08570275457586263,29.841978377487706,6.504481800786948,2.3071138855326296,-1.2041554548166147,-0.634413982159387,12.865784086337499,3.6770293628729434,-8.722803564786751,-0.574281577913581,-0.6694569484176256,1.996767756070554,10.199973330515775,-8.82110709241735,6.832421240996254,-4.472799514714069,-9.648359065562673,-8.998711536055211,11.798308308584112,-0.6813542342568866,-8.699181267481663,7.917271294588673,2.1455527503097755,13.487144834767804,-10.74015031537273,-9.652748327125707,-9.694940444392358,-15.097662823390735,-9.74687174148815,24.365232220641502,11.752683960944154,-12.271901355014904,12.267772703854249,-25.412279555008595,17.76647437287805,-4.426984166458517,7.5736685880932555,7.099665453184272,2.3804884444391945,12.346970119989287,-7.933012096323779,-0.727217157221645,9.446355308670164,-12.716181840854546,19.741200321246723,17.688847182725013,8.150275716203467,-20.17122630895672,19.62405779324271,0.0035699749488884436,4.055546755886539,3.2809868831364923,-2.3589234507923322,4.378131923653811,-6.0183649562386705,3.3894339289616653,-7.7916884631079455,-21.052096307694796,-0.6042115506635355,-6.165582633864204,-2.541116430881644,-6.9944137023321105,-16.253201782198815,-13.410518239239806,-11.923362166786063,12.90159606568345,9.748159770950735,17.529145866069555,-4.217614231843072,4.1411402616730015,-3.477757048231055,0.8086517603415757,-13.688655001602967,-8.638133053071641,-12.078913084504862,0.5840122759812516,22.340396678205437,-4.333144986187705,15.250266915719322,5.5552150312456945,11.095230935667786,5.227164487912361,10.29237940025618,-1.7314791778686782,7.743339851770145,18.13375363215161,-2.6583498236256276,18.68082292691909,-4.332449581833515,6.315841867322785,13.60416348322947,0.0438224986928617,-9.887176069374078,20.27528419075898,-16.368590487617823,26.509976992201928,-17.01155419891215,2.0516893053489014,-7.08836174263935,1.3720342368134624,10.882114149604675,3.6996757217540335,-16.411967497057915,-6.725660001129313,12.394634493016738,-1.216267189098346,7.526998120534003,-14.438396479188057,1.8918539961706244,-1.1979623232596168,19.34350915488001,-16.09118205173739,16.44448376757954,-6.719875220612792,-13.180648311156517,5.277575713415587,1.5417660564469315,-7.839270156998111,-21.099908163042002,7.579901320624799,-16.806403783069314,-13.332187738341744,5.971710838591548,12.022933918220545,2.2478896090128444,-2.807324106565318,18.061635288731082,2.2025918862618568,9.968152790103119,-13.436347571236666,-23.596008526842027,-12.34251537054854,-7.291609191829579,1.8208010099622811,-0.2879150012656595,3.1161297545098705,-1.6295715905396975,5.325308523793993,4.763982445083187,7.888150796868047,27.252571067615705,-16.26212997540989,4.8747486154109225,12.152149911849548,2.7701585221383596,-0.5060094425037676,7.971679028383804,1.2492372385968906,-5.557497407320881,13.737678913728026,-3.28821294010541,-12.895945149904279,-20.496998105076173,2.1938631442289704,14.749208992905352,-7.935093876182094,4.842084586743169,-3.1546702890518645,2.0584162361969334,5.132055804711243,1.1710521102779836,7.315673030432933,-21.897332167700398,-2.0987405075249796,3.1165300931951094,-7.224745199363454,22.6565952398402,-1.645960855693403,2.3562250038742363,-3.8663796835529354,13.636090676728301,-0.7157284336377927,13.327591064718902,-3.48486498683026,-19.82165267036035,-6.780275105149272,-11.59281367648812,-0.6784852843196774,-12.681884207574825,-12.700583053214118,14.545161931387838,-3.4251006311007046,2.7290452800348817,18.73896540259534,6.608907214215492,-3.7250755790787764,-13.471572963445112,-8.1457629971829,13.280920900956488,10.889373783595175],\"xaxis\":\"x\",\"yaxis\":\"y\",\"type\":\"histogram\"}],                        {\"template\":{\"data\":{\"histogram2dcontour\":[{\"type\":\"histogram2dcontour\",\"colorbar\":{\"outlinewidth\":0,\"ticks\":\"\"},\"colorscale\":[[0.0,\"#0d0887\"],[0.1111111111111111,\"#46039f\"],[0.2222222222222222,\"#7201a8\"],[0.3333333333333333,\"#9c179e\"],[0.4444444444444444,\"#bd3786\"],[0.5555555555555556,\"#d8576b\"],[0.6666666666666666,\"#ed7953\"],[0.7777777777777778,\"#fb9f3a\"],[0.8888888888888888,\"#fdca26\"],[1.0,\"#f0f921\"]]}],\"choropleth\":[{\"type\":\"choropleth\",\"colorbar\":{\"outlinewidth\":0,\"ticks\":\"\"}}],\"histogram2d\":[{\"type\":\"histogram2d\",\"colorbar\":{\"outlinewidth\":0,\"ticks\":\"\"},\"colorscale\":[[0.0,\"#0d0887\"],[0.1111111111111111,\"#46039f\"],[0.2222222222222222,\"#7201a8\"],[0.3333333333333333,\"#9c179e\"],[0.4444444444444444,\"#bd3786\"],[0.5555555555555556,\"#d8576b\"],[0.6666666666666666,\"#ed7953\"],[0.7777777777777778,\"#fb9f3a\"],[0.8888888888888888,\"#fdca26\"],[1.0,\"#f0f921\"]]}],\"heatmap\":[{\"type\":\"heatmap\",\"colorbar\":{\"outlinewidth\":0,\"ticks\":\"\"},\"colorscale\":[[0.0,\"#0d0887\"],[0.1111111111111111,\"#46039f\"],[0.2222222222222222,\"#7201a8\"],[0.3333333333333333,\"#9c179e\"],[0.4444444444444444,\"#bd3786\"],[0.5555555555555556,\"#d8576b\"],[0.6666666666666666,\"#ed7953\"],[0.7777777777777778,\"#fb9f3a\"],[0.8888888888888888,\"#fdca26\"],[1.0,\"#f0f921\"]]}],\"heatmapgl\":[{\"type\":\"heatmapgl\",\"colorbar\":{\"outlinewidth\":0,\"ticks\":\"\"},\"colorscale\":[[0.0,\"#0d0887\"],[0.1111111111111111,\"#46039f\"],[0.2222222222222222,\"#7201a8\"],[0.3333333333333333,\"#9c179e\"],[0.4444444444444444,\"#bd3786\"],[0.5555555555555556,\"#d8576b\"],[0.6666666666666666,\"#ed7953\"],[0.7777777777777778,\"#fb9f3a\"],[0.8888888888888888,\"#fdca26\"],[1.0,\"#f0f921\"]]}],\"contourcarpet\":[{\"type\":\"contourcarpet\",\"colorbar\":{\"outlinewidth\":0,\"ticks\":\"\"}}],\"contour\":[{\"type\":\"contour\",\"colorbar\":{\"outlinewidth\":0,\"ticks\":\"\"},\"colorscale\":[[0.0,\"#0d0887\"],[0.1111111111111111,\"#46039f\"],[0.2222222222222222,\"#7201a8\"],[0.3333333333333333,\"#9c179e\"],[0.4444444444444444,\"#bd3786\"],[0.5555555555555556,\"#d8576b\"],[0.6666666666666666,\"#ed7953\"],[0.7777777777777778,\"#fb9f3a\"],[0.8888888888888888,\"#fdca26\"],[1.0,\"#f0f921\"]]}],\"surface\":[{\"type\":\"surface\",\"colorbar\":{\"outlinewidth\":0,\"ticks\":\"\"},\"colorscale\":[[0.0,\"#0d0887\"],[0.1111111111111111,\"#46039f\"],[0.2222222222222222,\"#7201a8\"],[0.3333333333333333,\"#9c179e\"],[0.4444444444444444,\"#bd3786\"],[0.5555555555555556,\"#d8576b\"],[0.6666666666666666,\"#ed7953\"],[0.7777777777777778,\"#fb9f3a\"],[0.8888888888888888,\"#fdca26\"],[1.0,\"#f0f921\"]]}],\"mesh3d\":[{\"type\":\"mesh3d\",\"colorbar\":{\"outlinewidth\":0,\"ticks\":\"\"}}],\"scatter\":[{\"fillpattern\":{\"fillmode\":\"overlay\",\"size\":10,\"solidity\":0.2},\"type\":\"scatter\"}],\"parcoords\":[{\"type\":\"parcoords\",\"line\":{\"colorbar\":{\"outlinewidth\":0,\"ticks\":\"\"}}}],\"scatterpolargl\":[{\"type\":\"scatterpolargl\",\"marker\":{\"colorbar\":{\"outlinewidth\":0,\"ticks\":\"\"}}}],\"bar\":[{\"error_x\":{\"color\":\"#2a3f5f\"},\"error_y\":{\"color\":\"#2a3f5f\"},\"marker\":{\"line\":{\"color\":\"#E5ECF6\",\"width\":0.5},\"pattern\":{\"fillmode\":\"overlay\",\"size\":10,\"solidity\":0.2}},\"type\":\"bar\"}],\"scattergeo\":[{\"type\":\"scattergeo\",\"marker\":{\"colorbar\":{\"outlinewidth\":0,\"ticks\":\"\"}}}],\"scatterpolar\":[{\"type\":\"scatterpolar\",\"marker\":{\"colorbar\":{\"outlinewidth\":0,\"ticks\":\"\"}}}],\"histogram\":[{\"marker\":{\"pattern\":{\"fillmode\":\"overlay\",\"size\":10,\"solidity\":0.2}},\"type\":\"histogram\"}],\"scattergl\":[{\"type\":\"scattergl\",\"marker\":{\"colorbar\":{\"outlinewidth\":0,\"ticks\":\"\"}}}],\"scatter3d\":[{\"type\":\"scatter3d\",\"line\":{\"colorbar\":{\"outlinewidth\":0,\"ticks\":\"\"}},\"marker\":{\"colorbar\":{\"outlinewidth\":0,\"ticks\":\"\"}}}],\"scattermapbox\":[{\"type\":\"scattermapbox\",\"marker\":{\"colorbar\":{\"outlinewidth\":0,\"ticks\":\"\"}}}],\"scatterternary\":[{\"type\":\"scatterternary\",\"marker\":{\"colorbar\":{\"outlinewidth\":0,\"ticks\":\"\"}}}],\"scattercarpet\":[{\"type\":\"scattercarpet\",\"marker\":{\"colorbar\":{\"outlinewidth\":0,\"ticks\":\"\"}}}],\"carpet\":[{\"aaxis\":{\"endlinecolor\":\"#2a3f5f\",\"gridcolor\":\"white\",\"linecolor\":\"white\",\"minorgridcolor\":\"white\",\"startlinecolor\":\"#2a3f5f\"},\"baxis\":{\"endlinecolor\":\"#2a3f5f\",\"gridcolor\":\"white\",\"linecolor\":\"white\",\"minorgridcolor\":\"white\",\"startlinecolor\":\"#2a3f5f\"},\"type\":\"carpet\"}],\"table\":[{\"cells\":{\"fill\":{\"color\":\"#EBF0F8\"},\"line\":{\"color\":\"white\"}},\"header\":{\"fill\":{\"color\":\"#C8D4E3\"},\"line\":{\"color\":\"white\"}},\"type\":\"table\"}],\"barpolar\":[{\"marker\":{\"line\":{\"color\":\"#E5ECF6\",\"width\":0.5},\"pattern\":{\"fillmode\":\"overlay\",\"size\":10,\"solidity\":0.2}},\"type\":\"barpolar\"}],\"pie\":[{\"automargin\":true,\"type\":\"pie\"}]},\"layout\":{\"autotypenumbers\":\"strict\",\"colorway\":[\"#636efa\",\"#EF553B\",\"#00cc96\",\"#ab63fa\",\"#FFA15A\",\"#19d3f3\",\"#FF6692\",\"#B6E880\",\"#FF97FF\",\"#FECB52\"],\"font\":{\"color\":\"#2a3f5f\"},\"hovermode\":\"closest\",\"hoverlabel\":{\"align\":\"left\"},\"paper_bgcolor\":\"white\",\"plot_bgcolor\":\"#E5ECF6\",\"polar\":{\"bgcolor\":\"#E5ECF6\",\"angularaxis\":{\"gridcolor\":\"white\",\"linecolor\":\"white\",\"ticks\":\"\"},\"radialaxis\":{\"gridcolor\":\"white\",\"linecolor\":\"white\",\"ticks\":\"\"}},\"ternary\":{\"bgcolor\":\"#E5ECF6\",\"aaxis\":{\"gridcolor\":\"white\",\"linecolor\":\"white\",\"ticks\":\"\"},\"baxis\":{\"gridcolor\":\"white\",\"linecolor\":\"white\",\"ticks\":\"\"},\"caxis\":{\"gridcolor\":\"white\",\"linecolor\":\"white\",\"ticks\":\"\"}},\"coloraxis\":{\"colorbar\":{\"outlinewidth\":0,\"ticks\":\"\"}},\"colorscale\":{\"sequential\":[[0.0,\"#0d0887\"],[0.1111111111111111,\"#46039f\"],[0.2222222222222222,\"#7201a8\"],[0.3333333333333333,\"#9c179e\"],[0.4444444444444444,\"#bd3786\"],[0.5555555555555556,\"#d8576b\"],[0.6666666666666666,\"#ed7953\"],[0.7777777777777778,\"#fb9f3a\"],[0.8888888888888888,\"#fdca26\"],[1.0,\"#f0f921\"]],\"sequentialminus\":[[0.0,\"#0d0887\"],[0.1111111111111111,\"#46039f\"],[0.2222222222222222,\"#7201a8\"],[0.3333333333333333,\"#9c179e\"],[0.4444444444444444,\"#bd3786\"],[0.5555555555555556,\"#d8576b\"],[0.6666666666666666,\"#ed7953\"],[0.7777777777777778,\"#fb9f3a\"],[0.8888888888888888,\"#fdca26\"],[1.0,\"#f0f921\"]],\"diverging\":[[0,\"#8e0152\"],[0.1,\"#c51b7d\"],[0.2,\"#de77ae\"],[0.3,\"#f1b6da\"],[0.4,\"#fde0ef\"],[0.5,\"#f7f7f7\"],[0.6,\"#e6f5d0\"],[0.7,\"#b8e186\"],[0.8,\"#7fbc41\"],[0.9,\"#4d9221\"],[1,\"#276419\"]]},\"xaxis\":{\"gridcolor\":\"white\",\"linecolor\":\"white\",\"ticks\":\"\",\"title\":{\"standoff\":15},\"zerolinecolor\":\"white\",\"automargin\":true,\"zerolinewidth\":2},\"yaxis\":{\"gridcolor\":\"white\",\"linecolor\":\"white\",\"ticks\":\"\",\"title\":{\"standoff\":15},\"zerolinecolor\":\"white\",\"automargin\":true,\"zerolinewidth\":2},\"scene\":{\"xaxis\":{\"backgroundcolor\":\"#E5ECF6\",\"gridcolor\":\"white\",\"linecolor\":\"white\",\"showbackground\":true,\"ticks\":\"\",\"zerolinecolor\":\"white\",\"gridwidth\":2},\"yaxis\":{\"backgroundcolor\":\"#E5ECF6\",\"gridcolor\":\"white\",\"linecolor\":\"white\",\"showbackground\":true,\"ticks\":\"\",\"zerolinecolor\":\"white\",\"gridwidth\":2},\"zaxis\":{\"backgroundcolor\":\"#E5ECF6\",\"gridcolor\":\"white\",\"linecolor\":\"white\",\"showbackground\":true,\"ticks\":\"\",\"zerolinecolor\":\"white\",\"gridwidth\":2}},\"shapedefaults\":{\"line\":{\"color\":\"#2a3f5f\"}},\"annotationdefaults\":{\"arrowcolor\":\"#2a3f5f\",\"arrowhead\":0,\"arrowwidth\":1},\"geo\":{\"bgcolor\":\"white\",\"landcolor\":\"#E5ECF6\",\"subunitcolor\":\"white\",\"showland\":true,\"showlakes\":true,\"lakecolor\":\"white\"},\"title\":{\"x\":0.05},\"mapbox\":{\"style\":\"light\"}}},\"xaxis\":{\"anchor\":\"y\",\"domain\":[0.0,1.0],\"title\":{\"text\":\"error\"}},\"yaxis\":{\"anchor\":\"x\",\"domain\":[0.0,1.0],\"title\":{\"text\":\"count\"}},\"legend\":{\"tracegroupgap\":0},\"margin\":{\"t\":60},\"barmode\":\"relative\",\"width\":800},                        {\"responsive\": true}                    ).then(function(){\n",
              "                            \n",
              "var gd = document.getElementById('405cc480-36f7-4513-a67a-8090bcbe8fd4');\n",
              "var x = new MutationObserver(function (mutations, observer) {{\n",
              "        var display = window.getComputedStyle(gd).display;\n",
              "        if (!display || display === 'none') {{\n",
              "            console.log([gd, 'removed!']);\n",
              "            Plotly.purge(gd);\n",
              "            observer.disconnect();\n",
              "        }}\n",
              "}});\n",
              "\n",
              "// Listen for the removal of the full notebook cells\n",
              "var notebookContainer = gd.closest('#notebook-container');\n",
              "if (notebookContainer) {{\n",
              "    x.observe(notebookContainer, {childList: true});\n",
              "}}\n",
              "\n",
              "// Listen for the clearing of the current output cell\n",
              "var outputEl = gd.closest('.output');\n",
              "if (outputEl) {{\n",
              "    x.observe(outputEl, {childList: true});\n",
              "}}\n",
              "\n",
              "                        })                };                            </script>        </div>\n",
              "</body>\n",
              "</html>"
            ]
          },
          "metadata": {}
        }
      ]
    },
    {
      "cell_type": "markdown",
      "source": [
        "Mean Absolut Error MAE"
      ],
      "metadata": {
        "id": "s4ixSKcfvThj"
      }
    },
    {
      "cell_type": "code",
      "source": [
        "def mean_absolute_error(y_true, y_pred):\n",
        "  return abs(y_true - y_pred).sum() / len(y_true)\n",
        "\n",
        "\n",
        "mean_absolute_error(y_true, y_pred)"
      ],
      "metadata": {
        "colab": {
          "base_uri": "https://localhost:8080/"
        },
        "id": "C9QwVRUPvWAl",
        "outputId": "76792f47-86cc-4e06-a348-e79921cc896d"
      },
      "execution_count": 7,
      "outputs": [
        {
          "output_type": "execute_result",
          "data": {
            "text/plain": [
              "8.139852777003442"
            ]
          },
          "metadata": {},
          "execution_count": 7
        }
      ]
    },
    {
      "cell_type": "code",
      "source": [
        "from tensorflow.keras.losses import mean_absolute_error\n",
        "\n",
        "mean_absolute_error(y_true, y_pred)"
      ],
      "metadata": {
        "colab": {
          "base_uri": "https://localhost:8080/"
        },
        "id": "2DIf0dOUvisX",
        "outputId": "0ff826b4-a698-4630-9ab5-e58b05077d43"
      },
      "execution_count": 8,
      "outputs": [
        {
          "output_type": "execute_result",
          "data": {
            "text/plain": [
              "<tf.Tensor: shape=(), dtype=float64, numpy=8.139852777003442>"
            ]
          },
          "metadata": {},
          "execution_count": 8
        }
      ]
    },
    {
      "cell_type": "code",
      "source": [
        "from sklearn.metrics import mean_absolute_error\n",
        "\n",
        "mean_absolute_error(y_true, y_pred)"
      ],
      "metadata": {
        "colab": {
          "base_uri": "https://localhost:8080/"
        },
        "id": "EFs2nx5Zv_ju",
        "outputId": "be856a1f-34c8-471d-9443-605d3248e8a8"
      },
      "execution_count": 9,
      "outputs": [
        {
          "output_type": "execute_result",
          "data": {
            "text/plain": [
              "8.139852777003442"
            ]
          },
          "metadata": {},
          "execution_count": 9
        }
      ]
    },
    {
      "cell_type": "markdown",
      "source": [
        "Mean Squared Error"
      ],
      "metadata": {
        "id": "1rFIOxulwGE3"
      }
    },
    {
      "cell_type": "code",
      "source": [
        "def mean_squared_error(y_true, y_pred):\n",
        "  return ((y_true - y_pred) ** 2).sum() / len(y_true)\n",
        "\n",
        "mean_squared_error(y_true, y_pred)"
      ],
      "metadata": {
        "colab": {
          "base_uri": "https://localhost:8080/"
        },
        "id": "ivZFXpq6wJ0D",
        "outputId": "f57c831b-8cb9-421c-f848-1e757af6dc9f"
      },
      "execution_count": 10,
      "outputs": [
        {
          "output_type": "execute_result",
          "data": {
            "text/plain": [
              "104.61336867050908"
            ]
          },
          "metadata": {},
          "execution_count": 10
        }
      ]
    },
    {
      "cell_type": "code",
      "source": [
        "from tensorflow.keras.losses import mean_squared_error\n",
        "\n",
        "mean_squared_error(y_true, y_pred)"
      ],
      "metadata": {
        "colab": {
          "base_uri": "https://localhost:8080/"
        },
        "id": "Q8NDbipYxDzr",
        "outputId": "b43d8b51-c713-4684-e07d-ba0041eb3474"
      },
      "execution_count": 11,
      "outputs": [
        {
          "output_type": "execute_result",
          "data": {
            "text/plain": [
              "<tf.Tensor: shape=(), dtype=float64, numpy=104.61336867050908>"
            ]
          },
          "metadata": {},
          "execution_count": 11
        }
      ]
    },
    {
      "cell_type": "code",
      "source": [
        "from sklearn.metrics import mean_squared_error\n",
        "\n",
        "mean_squared_error(y_true, y_pred)"
      ],
      "metadata": {
        "colab": {
          "base_uri": "https://localhost:8080/"
        },
        "id": "6HrviDOrwj5L",
        "outputId": "12f03fc5-da7c-460e-90bd-3a3596e73500"
      },
      "execution_count": 12,
      "outputs": [
        {
          "output_type": "execute_result",
          "data": {
            "text/plain": [
              "104.61336867050908"
            ]
          },
          "metadata": {},
          "execution_count": 12
        }
      ]
    },
    {
      "cell_type": "markdown",
      "source": [
        "Root Mean Squared Error  - wartość +/-"
      ],
      "metadata": {
        "id": "-rsulwBUxV9S"
      }
    },
    {
      "cell_type": "code",
      "source": [
        "def root_mean_squared_error(y_true, y_pred):\n",
        "  return np.sqrt(((y_true - y_pred) **2)).sum() / len(y_true)\n",
        "\n",
        "root_mean_squared_error(y_true, y_pred)"
      ],
      "metadata": {
        "colab": {
          "base_uri": "https://localhost:8080/"
        },
        "id": "7U3lpMlSxZMz",
        "outputId": "0669033e-70db-490f-99df-c64773521f3f"
      },
      "execution_count": 13,
      "outputs": [
        {
          "output_type": "execute_result",
          "data": {
            "text/plain": [
              "8.139852777003442"
            ]
          },
          "metadata": {},
          "execution_count": 13
        }
      ]
    },
    {
      "cell_type": "code",
      "source": [
        "np.sqrt(mean_squared_error(y_true, y_pred))"
      ],
      "metadata": {
        "colab": {
          "base_uri": "https://localhost:8080/"
        },
        "id": "68s9NcFpyUj3",
        "outputId": "8043e4c8-806a-441e-fcf0-20c30f9b82e9"
      },
      "execution_count": 14,
      "outputs": [
        {
          "output_type": "execute_result",
          "data": {
            "text/plain": [
              "10.228067689965151"
            ]
          },
          "metadata": {},
          "execution_count": 14
        }
      ]
    },
    {
      "cell_type": "markdown",
      "source": [
        "Max error"
      ],
      "metadata": {
        "id": "WvPeCEAwy9pp"
      }
    },
    {
      "cell_type": "code",
      "source": [
        "def max_error(y_true, y_pred):\n",
        "  return abs(y_true - y_pred).max()\n",
        "\n",
        "max_error(y_true, y_pred)"
      ],
      "metadata": {
        "colab": {
          "base_uri": "https://localhost:8080/"
        },
        "id": "UmRDUMjyypYt",
        "outputId": "fec2ae26-3831-411e-b8b2-ffdf5919bbb6"
      },
      "execution_count": 15,
      "outputs": [
        {
          "output_type": "execute_result",
          "data": {
            "text/plain": [
              "32.24620642661853"
            ]
          },
          "metadata": {},
          "execution_count": 15
        }
      ]
    },
    {
      "cell_type": "markdown",
      "source": [
        "R2_score   - najlepiej jak wartość jak najbliżej wartości 1"
      ],
      "metadata": {
        "id": "kfdKMVKOzPea"
      }
    },
    {
      "cell_type": "code",
      "source": [
        "def r2_score(y_true, y_pred):\n",
        "  numerator = ((y_true - y_pred) ** 2).sum()\n",
        "  denominator = ((y_true - y_true.mean()) ** 2).sum()\n",
        "  try:\n",
        "    r2 = 1 - numerator / denominator\n",
        "  except ZeroDivisionError:\n",
        "    print('Dzielenie przez 0')\n",
        "  return r2\n",
        "\n",
        "\n",
        "r2_score(y_true, y_pred)"
      ],
      "metadata": {
        "colab": {
          "base_uri": "https://localhost:8080/"
        },
        "id": "IgNXQmkkzR_k",
        "outputId": "1e91b31a-894d-4b4f-c834-ad5d40477dab"
      },
      "execution_count": 16,
      "outputs": [
        {
          "output_type": "execute_result",
          "data": {
            "text/plain": [
              "0.734345736716179"
            ]
          },
          "metadata": {},
          "execution_count": 16
        }
      ]
    }
  ]
}