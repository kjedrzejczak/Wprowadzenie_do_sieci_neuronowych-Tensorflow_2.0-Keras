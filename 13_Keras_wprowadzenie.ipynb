{
  "nbformat": 4,
  "nbformat_minor": 0,
  "metadata": {
    "colab": {
      "provenance": [],
      "authorship_tag": "ABX9TyNCcyzIFGRN8SsbEihG405e",
      "include_colab_link": true
    },
    "kernelspec": {
      "name": "python3",
      "display_name": "Python 3"
    },
    "language_info": {
      "name": "python"
    }
  },
  "cells": [
    {
      "cell_type": "markdown",
      "metadata": {
        "id": "view-in-github",
        "colab_type": "text"
      },
      "source": [
        "<a href=\"https://colab.research.google.com/github/kjedrzejczak/Wprowadzenie_do_sieci_neuronowych-Tensorflow_2.0-Keras/blob/main/13_Keras_wprowadzenie.ipynb\" target=\"_parent\"><img src=\"https://colab.research.google.com/assets/colab-badge.svg\" alt=\"Open In Colab\"/></a>"
      ]
    },
    {
      "cell_type": "code",
      "execution_count": null,
      "metadata": {
        "id": "69SzDkRUl7Tg"
      },
      "outputs": [],
      "source": [
        "import tensorflow as tf\n",
        "import numpy as np\n",
        "import pandas as pd\n",
        "import plotly.express as px\n",
        "tf.__version__\n",
        "\n",
        "from tensorflow.keras.models import Sequential\n",
        "from tensorflow.keras.layers import Dense\n",
        "from tensorflow.keras.activations import linear, sigmoid, relu, tanh"
      ]
    },
    {
      "cell_type": "markdown",
      "source": [
        "# Przykład klasyfikacji binarnej"
      ],
      "metadata": {
        "id": "KVGSauJjmK1_"
      }
    },
    {
      "cell_type": "code",
      "source": [
        "data = np.random.randn(1000, 150)\n",
        "labels = np.random.randint(2, size=(1000, 1))\n",
        "\n",
        "print(data.shape)\n",
        "print(labels.shape)"
      ],
      "metadata": {
        "colab": {
          "base_uri": "https://localhost:8080/"
        },
        "id": "wWYA501LmN4w",
        "outputId": "f8992429-76a3-4ee3-da0d-187820f20fc1"
      },
      "execution_count": null,
      "outputs": [
        {
          "output_type": "stream",
          "name": "stdout",
          "text": [
            "(1000, 150)\n",
            "(1000, 1)\n"
          ]
        }
      ]
    },
    {
      "cell_type": "code",
      "source": [
        "print(data[0])"
      ],
      "metadata": {
        "colab": {
          "base_uri": "https://localhost:8080/"
        },
        "id": "gFSj9SYemlRW",
        "outputId": "12ee59cd-b1ea-4517-9608-3656883ab519"
      },
      "execution_count": null,
      "outputs": [
        {
          "output_type": "stream",
          "name": "stdout",
          "text": [
            "[ 1.9636225  -2.19347182 -0.39446512 -0.9505714  -0.98524416 -0.5859358\n",
            " -1.72587605  0.08481841  0.07266367 -0.54544138  0.85153737 -1.13868836\n",
            " -0.23919026  1.81593287  0.36245511  0.07143538  0.94759371  0.69837341\n",
            "  1.90956404  1.34014724 -1.22622708  2.12605648  0.19721451 -1.53770403\n",
            " -0.58327021  1.69841043 -0.06313284  0.17200019 -1.09239766  1.02710454\n",
            "  0.04455847 -1.56803586 -0.67104489 -1.58502252  2.30134683  0.07210816\n",
            "  0.91001202  0.55612318  0.03215989 -1.40743207  0.52235048 -0.74389425\n",
            "  2.59726815  0.14852598 -0.2072088  -0.80209226 -1.20998694 -0.08384379\n",
            "  1.129429    1.14718179 -0.11268252  0.43596946 -0.61809135  0.00485441\n",
            "  0.95103874  0.28993866  0.54413968  2.30388882 -0.54798488  1.29459183\n",
            " -0.12365762  2.25414879 -1.18526242 -0.20583753 -0.42708878 -0.66792491\n",
            " -0.54472904  0.28801985 -0.42752228 -0.26416763  0.08153265  0.28318597\n",
            "  0.72219774 -0.50460499 -1.23746043 -2.97085326 -0.36750582 -0.11667138\n",
            "  0.86336576  0.04163821  0.21013388  0.87029435 -2.445728   -1.11662359\n",
            "  1.49816626  0.37085059 -1.29575232  0.13010098 -0.17642189 -0.45957643\n",
            " -1.22690798  0.42693189  1.39126306  1.13525349  0.62872841 -0.33767352\n",
            "  0.47280944  1.25209384 -1.12658598 -0.1192028   0.12734669  0.53642645\n",
            " -0.79840741 -0.16566375 -1.2636321  -1.44847758 -0.27094483 -1.60464382\n",
            " -0.80205396  0.61991664 -1.32201223  1.30708845  0.40447491 -1.15980084\n",
            "  0.27164287 -0.8149545  -1.68021401  0.74263385 -0.43422691  0.30924954\n",
            "  2.37461881  0.66532571 -0.19960322 -0.49170817  1.02490133  0.26863166\n",
            " -0.56283386  0.38005756  1.26034898  1.75890653  0.11157636  1.41395855\n",
            "  1.19439361  0.62234214 -2.74555111 -1.384595   -1.76728067  1.48657055\n",
            " -0.94116687 -0.94893514 -1.02346766  0.1285089   1.74571567 -0.04408343\n",
            " -1.68495267 -2.22590082  0.32307252 -0.27068252 -0.38784688  0.69811334]\n"
          ]
        }
      ]
    },
    {
      "cell_type": "code",
      "source": [
        "print(labels[0])"
      ],
      "metadata": {
        "colab": {
          "base_uri": "https://localhost:8080/"
        },
        "id": "DNSJhDAFmpN1",
        "outputId": "7f984417-58a7-4364-b753-c069dc8f7e2a"
      },
      "execution_count": null,
      "outputs": [
        {
          "output_type": "stream",
          "name": "stdout",
          "text": [
            "[0]\n"
          ]
        }
      ]
    },
    {
      "cell_type": "code",
      "source": [
        "np.unique(labels)"
      ],
      "metadata": {
        "colab": {
          "base_uri": "https://localhost:8080/"
        },
        "id": "B4HBmDCDmtN-",
        "outputId": "fd9ceb24-cb44-46a4-d84b-e82bf074951f"
      },
      "execution_count": null,
      "outputs": [
        {
          "output_type": "execute_result",
          "data": {
            "text/plain": [
              "array([0, 1])"
            ]
          },
          "metadata": {},
          "execution_count": 5
        }
      ]
    },
    {
      "cell_type": "code",
      "source": [
        "model = Sequential()\n",
        "model.add(Dense(units=32, activation='relu', input_shape=(150, )))\n",
        "model.add(Dense(units=1, activation='sigmoid'))\n",
        "\n",
        "model.compile(optimizer='rmsprop',\n",
        "              loss='binary_crossentropy',\n",
        "              metrics=['accuracy'])\n",
        "\n",
        "model.fit(data, labels, epochs=20)"
      ],
      "metadata": {
        "colab": {
          "base_uri": "https://localhost:8080/"
        },
        "id": "UASc6GG4nPgt",
        "outputId": "4aa358ea-7735-44d8-b15b-26a677971a7f"
      },
      "execution_count": null,
      "outputs": [
        {
          "output_type": "stream",
          "name": "stdout",
          "text": [
            "Epoch 1/20\n",
            "32/32 [==============================] - 1s 2ms/step - loss: 0.7841 - accuracy: 0.5280\n",
            "Epoch 2/20\n",
            "32/32 [==============================] - 0s 2ms/step - loss: 0.6937 - accuracy: 0.5770\n",
            "Epoch 3/20\n",
            "32/32 [==============================] - 0s 2ms/step - loss: 0.6482 - accuracy: 0.6040\n",
            "Epoch 4/20\n",
            "32/32 [==============================] - 0s 2ms/step - loss: 0.6123 - accuracy: 0.6500\n",
            "Epoch 5/20\n",
            "32/32 [==============================] - 0s 2ms/step - loss: 0.5816 - accuracy: 0.7010\n",
            "Epoch 6/20\n",
            "32/32 [==============================] - 0s 2ms/step - loss: 0.5558 - accuracy: 0.7220\n",
            "Epoch 7/20\n",
            "32/32 [==============================] - 0s 2ms/step - loss: 0.5302 - accuracy: 0.7490\n",
            "Epoch 8/20\n",
            "32/32 [==============================] - 0s 2ms/step - loss: 0.5075 - accuracy: 0.7660\n",
            "Epoch 9/20\n",
            "32/32 [==============================] - 0s 2ms/step - loss: 0.4857 - accuracy: 0.7890\n",
            "Epoch 10/20\n",
            "32/32 [==============================] - 0s 3ms/step - loss: 0.4640 - accuracy: 0.8150\n",
            "Epoch 11/20\n",
            "32/32 [==============================] - 0s 2ms/step - loss: 0.4419 - accuracy: 0.8310\n",
            "Epoch 12/20\n",
            "32/32 [==============================] - 0s 2ms/step - loss: 0.4201 - accuracy: 0.8530\n",
            "Epoch 13/20\n",
            "32/32 [==============================] - 0s 2ms/step - loss: 0.3997 - accuracy: 0.8830\n",
            "Epoch 14/20\n",
            "32/32 [==============================] - 0s 2ms/step - loss: 0.3781 - accuracy: 0.8970\n",
            "Epoch 15/20\n",
            "32/32 [==============================] - 0s 2ms/step - loss: 0.3571 - accuracy: 0.9250\n",
            "Epoch 16/20\n",
            "32/32 [==============================] - 0s 2ms/step - loss: 0.3366 - accuracy: 0.9340\n",
            "Epoch 17/20\n",
            "32/32 [==============================] - 0s 2ms/step - loss: 0.3150 - accuracy: 0.9490\n",
            "Epoch 18/20\n",
            "32/32 [==============================] - 0s 2ms/step - loss: 0.2948 - accuracy: 0.9580\n",
            "Epoch 19/20\n",
            "32/32 [==============================] - 0s 2ms/step - loss: 0.2756 - accuracy: 0.9690\n",
            "Epoch 20/20\n",
            "32/32 [==============================] - 0s 3ms/step - loss: 0.2556 - accuracy: 0.9740\n"
          ]
        },
        {
          "output_type": "execute_result",
          "data": {
            "text/plain": [
              "<keras.src.callbacks.History at 0x791bb7746800>"
            ]
          },
          "metadata": {},
          "execution_count": 6
        }
      ]
    },
    {
      "cell_type": "code",
      "source": [
        "model = Sequential()\n",
        "model.add(Dense(units=32, activation='relu', input_shape=(150, )))\n",
        "model.add(Dense(units=1, activation='sigmoid'))\n",
        "\n",
        "model.compile(optimizer='rmsprop',\n",
        "              loss='binary_crossentropy',\n",
        "              metrics=['accuracy'])\n",
        "\n",
        "model.fit(data, labels, epochs=20, batch_size=30)  # batch size == ilość próbek"
      ],
      "metadata": {
        "colab": {
          "base_uri": "https://localhost:8080/"
        },
        "id": "qnMmFqOMpZgW",
        "outputId": "b3f0e32e-5ac7-4487-e8fc-c439837c6eeb"
      },
      "execution_count": null,
      "outputs": [
        {
          "output_type": "stream",
          "name": "stdout",
          "text": [
            "Epoch 1/20\n",
            "34/34 [==============================] - 1s 2ms/step - loss: 0.8185 - accuracy: 0.4950\n",
            "Epoch 2/20\n",
            "34/34 [==============================] - 0s 2ms/step - loss: 0.7227 - accuracy: 0.5610\n",
            "Epoch 3/20\n",
            "34/34 [==============================] - 0s 3ms/step - loss: 0.6695 - accuracy: 0.5960\n",
            "Epoch 4/20\n",
            "34/34 [==============================] - 0s 3ms/step - loss: 0.6263 - accuracy: 0.6470\n",
            "Epoch 5/20\n",
            "34/34 [==============================] - 0s 3ms/step - loss: 0.5924 - accuracy: 0.6870\n",
            "Epoch 6/20\n",
            "34/34 [==============================] - 0s 3ms/step - loss: 0.5613 - accuracy: 0.7340\n",
            "Epoch 7/20\n",
            "34/34 [==============================] - 0s 3ms/step - loss: 0.5330 - accuracy: 0.7570\n",
            "Epoch 8/20\n",
            "34/34 [==============================] - 0s 3ms/step - loss: 0.5065 - accuracy: 0.7840\n",
            "Epoch 9/20\n",
            "34/34 [==============================] - 0s 2ms/step - loss: 0.4817 - accuracy: 0.8170\n",
            "Epoch 10/20\n",
            "34/34 [==============================] - 0s 2ms/step - loss: 0.4583 - accuracy: 0.8250\n",
            "Epoch 11/20\n",
            "34/34 [==============================] - 0s 2ms/step - loss: 0.4346 - accuracy: 0.8530\n",
            "Epoch 12/20\n",
            "34/34 [==============================] - 0s 2ms/step - loss: 0.4109 - accuracy: 0.8640\n",
            "Epoch 13/20\n",
            "34/34 [==============================] - 0s 3ms/step - loss: 0.3887 - accuracy: 0.8760\n",
            "Epoch 14/20\n",
            "34/34 [==============================] - 0s 4ms/step - loss: 0.3654 - accuracy: 0.8930\n",
            "Epoch 15/20\n",
            "34/34 [==============================] - 0s 4ms/step - loss: 0.3439 - accuracy: 0.9210\n",
            "Epoch 16/20\n",
            "34/34 [==============================] - 0s 3ms/step - loss: 0.3220 - accuracy: 0.9340\n",
            "Epoch 17/20\n",
            "34/34 [==============================] - 0s 3ms/step - loss: 0.3008 - accuracy: 0.9500\n",
            "Epoch 18/20\n",
            "34/34 [==============================] - 0s 3ms/step - loss: 0.2788 - accuracy: 0.9590\n",
            "Epoch 19/20\n",
            "34/34 [==============================] - 0s 3ms/step - loss: 0.2594 - accuracy: 0.9710\n",
            "Epoch 20/20\n",
            "34/34 [==============================] - 0s 2ms/step - loss: 0.2403 - accuracy: 0.9750\n"
          ]
        },
        {
          "output_type": "execute_result",
          "data": {
            "text/plain": [
              "<keras.src.callbacks.History at 0x791bb6dbacb0>"
            ]
          },
          "metadata": {},
          "execution_count": 7
        }
      ]
    },
    {
      "cell_type": "code",
      "source": [
        "model = Sequential()\n",
        "model.add(Dense(units=32, activation='relu', input_shape=(150, )))\n",
        "model.add(Dense(units=1, activation='sigmoid'))\n",
        "\n",
        "model.compile(optimizer='rmsprop',\n",
        "              loss='binary_crossentropy',\n",
        "              metrics=['accuracy'])\n",
        "\n",
        "model.fit(data, labels, epochs=20, batch_size=30, validation_split=0.2)  # 20% danych do procesu walidacji ----- val_accuracy jest ważny !!"
      ],
      "metadata": {
        "colab": {
          "base_uri": "https://localhost:8080/"
        },
        "id": "4-zStN6Bp43K",
        "outputId": "b9588f60-a141-4fb1-9291-d45459b71d14"
      },
      "execution_count": null,
      "outputs": [
        {
          "output_type": "stream",
          "name": "stdout",
          "text": [
            "Epoch 1/20\n",
            "27/27 [==============================] - 1s 12ms/step - loss: 1.1230 - accuracy: 0.5125 - val_loss: 1.0875 - val_accuracy: 0.4650\n",
            "Epoch 2/20\n",
            "27/27 [==============================] - 0s 3ms/step - loss: 0.8694 - accuracy: 0.5288 - val_loss: 0.9586 - val_accuracy: 0.4300\n",
            "Epoch 3/20\n",
            "27/27 [==============================] - 0s 3ms/step - loss: 0.7327 - accuracy: 0.5663 - val_loss: 0.8826 - val_accuracy: 0.4550\n",
            "Epoch 4/20\n",
            "27/27 [==============================] - 0s 4ms/step - loss: 0.6553 - accuracy: 0.6275 - val_loss: 0.8497 - val_accuracy: 0.4550\n",
            "Epoch 5/20\n",
            "27/27 [==============================] - 0s 5ms/step - loss: 0.6074 - accuracy: 0.6737 - val_loss: 0.8329 - val_accuracy: 0.4800\n",
            "Epoch 6/20\n",
            "27/27 [==============================] - 0s 4ms/step - loss: 0.5703 - accuracy: 0.7175 - val_loss: 0.8252 - val_accuracy: 0.4800\n",
            "Epoch 7/20\n",
            "27/27 [==============================] - 0s 4ms/step - loss: 0.5376 - accuracy: 0.7513 - val_loss: 0.8231 - val_accuracy: 0.4900\n",
            "Epoch 8/20\n",
            "27/27 [==============================] - 0s 4ms/step - loss: 0.5078 - accuracy: 0.7713 - val_loss: 0.8248 - val_accuracy: 0.4850\n",
            "Epoch 9/20\n",
            "27/27 [==============================] - 0s 5ms/step - loss: 0.4810 - accuracy: 0.8012 - val_loss: 0.8278 - val_accuracy: 0.4800\n",
            "Epoch 10/20\n",
            "27/27 [==============================] - 0s 5ms/step - loss: 0.4546 - accuracy: 0.8388 - val_loss: 0.8340 - val_accuracy: 0.4900\n",
            "Epoch 11/20\n",
            "27/27 [==============================] - 0s 5ms/step - loss: 0.4292 - accuracy: 0.8612 - val_loss: 0.8417 - val_accuracy: 0.4750\n",
            "Epoch 12/20\n",
            "27/27 [==============================] - 0s 4ms/step - loss: 0.4060 - accuracy: 0.8750 - val_loss: 0.8500 - val_accuracy: 0.4950\n",
            "Epoch 13/20\n",
            "27/27 [==============================] - 0s 4ms/step - loss: 0.3811 - accuracy: 0.9013 - val_loss: 0.8570 - val_accuracy: 0.5000\n",
            "Epoch 14/20\n",
            "27/27 [==============================] - 0s 5ms/step - loss: 0.3585 - accuracy: 0.9150 - val_loss: 0.8689 - val_accuracy: 0.4950\n",
            "Epoch 15/20\n",
            "27/27 [==============================] - 0s 3ms/step - loss: 0.3355 - accuracy: 0.9325 - val_loss: 0.8836 - val_accuracy: 0.5000\n",
            "Epoch 16/20\n",
            "27/27 [==============================] - 0s 3ms/step - loss: 0.3145 - accuracy: 0.9388 - val_loss: 0.8970 - val_accuracy: 0.4950\n",
            "Epoch 17/20\n",
            "27/27 [==============================] - 0s 3ms/step - loss: 0.2921 - accuracy: 0.9550 - val_loss: 0.9086 - val_accuracy: 0.4850\n",
            "Epoch 18/20\n",
            "27/27 [==============================] - 0s 4ms/step - loss: 0.2715 - accuracy: 0.9725 - val_loss: 0.9303 - val_accuracy: 0.5000\n",
            "Epoch 19/20\n",
            "27/27 [==============================] - 0s 3ms/step - loss: 0.2517 - accuracy: 0.9775 - val_loss: 0.9402 - val_accuracy: 0.5050\n",
            "Epoch 20/20\n",
            "27/27 [==============================] - 0s 3ms/step - loss: 0.2323 - accuracy: 0.9862 - val_loss: 0.9561 - val_accuracy: 0.5000\n"
          ]
        },
        {
          "output_type": "execute_result",
          "data": {
            "text/plain": [
              "<keras.src.callbacks.History at 0x791bb7dd7fa0>"
            ]
          },
          "metadata": {},
          "execution_count": 8
        }
      ]
    },
    {
      "cell_type": "code",
      "source": [
        "model = Sequential()\n",
        "model.add(Dense(units=32, activation='relu', input_shape=(150, )))\n",
        "model.add(Dense(units=1, activation='sigmoid'))\n",
        "\n",
        "model.compile(optimizer='rmsprop',\n",
        "              loss='binary_crossentropy',\n",
        "              metrics=['accuracy'])\n",
        "\n",
        "model.fit(data, labels, epochs=20, batch_size=30, validation_split=0.2, verbose=0)  # 0 - tylko końcowy wynik bez kolejnych kroków"
      ],
      "metadata": {
        "colab": {
          "base_uri": "https://localhost:8080/"
        },
        "id": "V9lU7QfEqc69",
        "outputId": "c28df552-ae24-4695-b16f-5a384a70b1fb"
      },
      "execution_count": null,
      "outputs": [
        {
          "output_type": "execute_result",
          "data": {
            "text/plain": [
              "<keras.src.callbacks.History at 0x791bb7d00f40>"
            ]
          },
          "metadata": {},
          "execution_count": 9
        }
      ]
    },
    {
      "cell_type": "code",
      "source": [
        "model = Sequential()\n",
        "model.add(Dense(units=32, activation='relu', input_shape=(150, )))\n",
        "model.add(Dense(units=1, activation='sigmoid'))\n",
        "\n",
        "model.compile(optimizer='rmsprop',\n",
        "              loss='binary_crossentropy',\n",
        "              metrics=['accuracy'])\n",
        "\n",
        "history = model.fit(data, labels, epochs=20, batch_size=30, validation_split=0.2, verbose=0)\n",
        "\n",
        "\n",
        "metrics = history.history\n",
        "metrics.keys()"
      ],
      "metadata": {
        "colab": {
          "base_uri": "https://localhost:8080/"
        },
        "id": "m51bQGXiqsoF",
        "outputId": "90257bac-c168-4349-8bba-4615a32de3f7"
      },
      "execution_count": null,
      "outputs": [
        {
          "output_type": "execute_result",
          "data": {
            "text/plain": [
              "dict_keys(['loss', 'accuracy', 'val_loss', 'val_accuracy'])"
            ]
          },
          "metadata": {},
          "execution_count": 10
        }
      ]
    },
    {
      "cell_type": "code",
      "source": [
        "metrics['accuracy']"
      ],
      "metadata": {
        "colab": {
          "base_uri": "https://localhost:8080/"
        },
        "id": "eW0DzS_5rHbh",
        "outputId": "00b8c241-2ab1-44ac-db5e-ac9f6cfcb016"
      },
      "execution_count": null,
      "outputs": [
        {
          "output_type": "execute_result",
          "data": {
            "text/plain": [
              "[0.4937500059604645,\n",
              " 0.5475000143051147,\n",
              " 0.5849999785423279,\n",
              " 0.6237499713897705,\n",
              " 0.6675000190734863,\n",
              " 0.6912500262260437,\n",
              " 0.7337499856948853,\n",
              " 0.7587500214576721,\n",
              " 0.7787500023841858,\n",
              " 0.8125,\n",
              " 0.8274999856948853,\n",
              " 0.8475000262260437,\n",
              " 0.8600000143051147,\n",
              " 0.8774999976158142,\n",
              " 0.8962500095367432,\n",
              " 0.9037500023841858,\n",
              " 0.9162499904632568,\n",
              " 0.9262499809265137,\n",
              " 0.9487500190734863,\n",
              " 0.9587500095367432]"
            ]
          },
          "metadata": {},
          "execution_count": 11
        }
      ]
    },
    {
      "cell_type": "code",
      "source": [
        "model = Sequential()\n",
        "model.add(Dense(units=32, activation='relu', input_shape=(150, )))\n",
        "model.add(Dense(units=1, activation='sigmoid'))\n",
        "\n",
        "model.compile(optimizer='rmsprop',\n",
        "              loss='binary_crossentropy',\n",
        "              metrics=['accuracy'])\n",
        "\n",
        "history = model.fit(data, labels, epochs=20, batch_size=30, validation_split=0.2, verbose=1)"
      ],
      "metadata": {
        "colab": {
          "base_uri": "https://localhost:8080/"
        },
        "id": "XtRD_6zCrP1x",
        "outputId": "1f85d884-1a7c-4d2e-e876-983d584c15ef"
      },
      "execution_count": null,
      "outputs": [
        {
          "output_type": "stream",
          "name": "stdout",
          "text": [
            "Epoch 1/20\n",
            "27/27 [==============================] - 1s 9ms/step - loss: 0.8209 - accuracy: 0.4750 - val_loss: 0.8720 - val_accuracy: 0.4600\n",
            "Epoch 2/20\n",
            "27/27 [==============================] - 0s 4ms/step - loss: 0.7305 - accuracy: 0.5337 - val_loss: 0.8493 - val_accuracy: 0.4550\n",
            "Epoch 3/20\n",
            "27/27 [==============================] - 0s 4ms/step - loss: 0.6789 - accuracy: 0.5825 - val_loss: 0.8315 - val_accuracy: 0.4650\n",
            "Epoch 4/20\n",
            "27/27 [==============================] - 0s 3ms/step - loss: 0.6363 - accuracy: 0.6338 - val_loss: 0.8202 - val_accuracy: 0.4800\n",
            "Epoch 5/20\n",
            "27/27 [==============================] - 0s 3ms/step - loss: 0.6016 - accuracy: 0.6725 - val_loss: 0.8155 - val_accuracy: 0.4850\n",
            "Epoch 6/20\n",
            "27/27 [==============================] - 0s 3ms/step - loss: 0.5704 - accuracy: 0.7088 - val_loss: 0.8150 - val_accuracy: 0.4850\n",
            "Epoch 7/20\n",
            "27/27 [==============================] - 0s 4ms/step - loss: 0.5411 - accuracy: 0.7437 - val_loss: 0.8135 - val_accuracy: 0.4850\n",
            "Epoch 8/20\n",
            "27/27 [==============================] - 0s 3ms/step - loss: 0.5140 - accuracy: 0.7825 - val_loss: 0.8164 - val_accuracy: 0.4950\n",
            "Epoch 9/20\n",
            "27/27 [==============================] - 0s 3ms/step - loss: 0.4887 - accuracy: 0.8062 - val_loss: 0.8219 - val_accuracy: 0.4900\n",
            "Epoch 10/20\n",
            "27/27 [==============================] - 0s 3ms/step - loss: 0.4646 - accuracy: 0.8188 - val_loss: 0.8277 - val_accuracy: 0.4900\n",
            "Epoch 11/20\n",
            "27/27 [==============================] - 0s 3ms/step - loss: 0.4400 - accuracy: 0.8375 - val_loss: 0.8354 - val_accuracy: 0.5000\n",
            "Epoch 12/20\n",
            "27/27 [==============================] - 0s 3ms/step - loss: 0.4179 - accuracy: 0.8587 - val_loss: 0.8429 - val_accuracy: 0.5150\n",
            "Epoch 13/20\n",
            "27/27 [==============================] - 0s 3ms/step - loss: 0.3945 - accuracy: 0.8838 - val_loss: 0.8524 - val_accuracy: 0.5100\n",
            "Epoch 14/20\n",
            "27/27 [==============================] - 0s 4ms/step - loss: 0.3728 - accuracy: 0.9062 - val_loss: 0.8636 - val_accuracy: 0.5100\n",
            "Epoch 15/20\n",
            "27/27 [==============================] - 0s 3ms/step - loss: 0.3501 - accuracy: 0.9150 - val_loss: 0.8743 - val_accuracy: 0.5200\n",
            "Epoch 16/20\n",
            "27/27 [==============================] - 0s 3ms/step - loss: 0.3293 - accuracy: 0.9337 - val_loss: 0.8864 - val_accuracy: 0.5250\n",
            "Epoch 17/20\n",
            "27/27 [==============================] - 0s 4ms/step - loss: 0.3082 - accuracy: 0.9563 - val_loss: 0.8999 - val_accuracy: 0.5200\n",
            "Epoch 18/20\n",
            "27/27 [==============================] - 0s 4ms/step - loss: 0.2873 - accuracy: 0.9663 - val_loss: 0.9137 - val_accuracy: 0.5250\n",
            "Epoch 19/20\n",
            "27/27 [==============================] - 0s 3ms/step - loss: 0.2685 - accuracy: 0.9700 - val_loss: 0.9302 - val_accuracy: 0.5200\n",
            "Epoch 20/20\n",
            "27/27 [==============================] - 0s 3ms/step - loss: 0.2471 - accuracy: 0.9812 - val_loss: 0.9477 - val_accuracy: 0.5150\n"
          ]
        }
      ]
    },
    {
      "cell_type": "code",
      "source": [
        "test_data = np.random.randn(5, 150)\n",
        "test_labels = np.random.randint(2, size=(5, 1))"
      ],
      "metadata": {
        "id": "QUw_jIVMrYyM"
      },
      "execution_count": null,
      "outputs": []
    },
    {
      "cell_type": "code",
      "source": [
        "model.predict(test_data)  # zwraca prawdopodobieństwo do przynalezności do danej grupy"
      ],
      "metadata": {
        "colab": {
          "base_uri": "https://localhost:8080/"
        },
        "id": "rdgvgFgurszD",
        "outputId": "15963ed5-6fa3-4ca0-fcc6-557939fbd813"
      },
      "execution_count": null,
      "outputs": [
        {
          "output_type": "stream",
          "name": "stdout",
          "text": [
            "1/1 [==============================] - 0s 120ms/step\n"
          ]
        },
        {
          "output_type": "execute_result",
          "data": {
            "text/plain": [
              "array([[0.44635308],\n",
              "       [0.31332767],\n",
              "       [0.59464186],\n",
              "       [0.7315648 ],\n",
              "       [0.7678118 ]], dtype=float32)"
            ]
          },
          "metadata": {},
          "execution_count": 14
        }
      ]
    },
    {
      "cell_type": "code",
      "source": [
        "# model.predict_proba(test_data)  nie działa 😶‍🌫️"
      ],
      "metadata": {
        "id": "S1Axwy_bsAXV"
      },
      "execution_count": null,
      "outputs": []
    },
    {
      "cell_type": "code",
      "source": [
        "# model.predict_classes(test_data) nie działa 😶‍🌫️"
      ],
      "metadata": {
        "id": "0VAeU6CNsSRd"
      },
      "execution_count": null,
      "outputs": []
    },
    {
      "cell_type": "code",
      "source": [
        "predictions = (model.predict(test_data) > 0.5).astype(\"int32\") # 👈👈👈👈👈👈👈👈👈👈👈👈👈 !!!!!!!!!!!!!!!!!!1\n",
        "predictions"
      ],
      "metadata": {
        "colab": {
          "base_uri": "https://localhost:8080/"
        },
        "id": "B0uTy9nusqnS",
        "outputId": "b6738596-60a3-4847-c5fa-f15acf3cfedc"
      },
      "execution_count": null,
      "outputs": [
        {
          "output_type": "stream",
          "name": "stdout",
          "text": [
            "1/1 [==============================] - 0s 34ms/step\n"
          ]
        },
        {
          "output_type": "execute_result",
          "data": {
            "text/plain": [
              "array([[0],\n",
              "       [0],\n",
              "       [1],\n",
              "       [1],\n",
              "       [1]], dtype=int32)"
            ]
          },
          "metadata": {},
          "execution_count": 17
        }
      ]
    },
    {
      "cell_type": "markdown",
      "source": [
        "# Przykład klasyfikacji wieloklasowej"
      ],
      "metadata": {
        "id": "Ng46WlZpwHHM"
      }
    },
    {
      "cell_type": "code",
      "source": [
        "data = np.random.random((1000, 150))\n",
        "labels = np.random.randint(10, size=(1000, 1))"
      ],
      "metadata": {
        "id": "w_wAM03WwDWV"
      },
      "execution_count": null,
      "outputs": []
    },
    {
      "cell_type": "code",
      "source": [
        "np.unique(labels)"
      ],
      "metadata": {
        "colab": {
          "base_uri": "https://localhost:8080/"
        },
        "id": "t5BVqsp3DeQO",
        "outputId": "e21b7047-42d7-487c-cd8d-d697ae60af34"
      },
      "execution_count": null,
      "outputs": [
        {
          "output_type": "execute_result",
          "data": {
            "text/plain": [
              "array([0, 1, 2, 3, 4, 5, 6, 7, 8, 9])"
            ]
          },
          "metadata": {},
          "execution_count": 19
        }
      ]
    },
    {
      "cell_type": "code",
      "source": [
        "print(data.shape)\n",
        "print(labels.shape)"
      ],
      "metadata": {
        "colab": {
          "base_uri": "https://localhost:8080/"
        },
        "id": "4Mow8AOZDm2u",
        "outputId": "9ddc5fed-edd8-4db9-de67-051c02d3c948"
      },
      "execution_count": null,
      "outputs": [
        {
          "output_type": "stream",
          "name": "stdout",
          "text": [
            "(1000, 150)\n",
            "(1000, 1)\n"
          ]
        }
      ]
    },
    {
      "cell_type": "code",
      "source": [
        "from tensorflow.keras.utils import to_categorical  # kodowanie 0 1\n",
        "\n",
        "labels = to_categorical(labels, num_classes=10)\n",
        "labels[1]"
      ],
      "metadata": {
        "colab": {
          "base_uri": "https://localhost:8080/"
        },
        "id": "RDltnFnsDwwe",
        "outputId": "a380f5ec-3e0a-4f1e-9083-b7956de59bd7"
      },
      "execution_count": null,
      "outputs": [
        {
          "output_type": "execute_result",
          "data": {
            "text/plain": [
              "array([0., 1., 0., 0., 0., 0., 0., 0., 0., 0.], dtype=float32)"
            ]
          },
          "metadata": {},
          "execution_count": 21
        }
      ]
    },
    {
      "cell_type": "code",
      "source": [
        "model = Sequential()\n",
        "model.add(Dense(units=32, activation='relu', input_shape=(150, )))\n",
        "model.add(Dense(units=10, activation='softmax'))  # 10 kategorji więc 10 neuronów na wyjściu\n",
        "\n",
        "model.compile(optimizer='rmsprop',\n",
        "              loss='categorical_crossentropy',     # categorical 😶‍🌫️👈\n",
        "              metrics=['accuracy'])\n",
        "\n",
        "history = model.fit(data, labels, epochs=30, batch_size=32, validation_split=0.2, verbose=1)"
      ],
      "metadata": {
        "colab": {
          "base_uri": "https://localhost:8080/"
        },
        "id": "l2adDcwtFgGt",
        "outputId": "729af0cf-f073-4673-b435-bf0edcf1b9fa"
      },
      "execution_count": null,
      "outputs": [
        {
          "output_type": "stream",
          "name": "stdout",
          "text": [
            "Epoch 1/30\n",
            "25/25 [==============================] - 1s 15ms/step - loss: 2.3840 - accuracy: 0.0900 - val_loss: 2.3550 - val_accuracy: 0.0900\n",
            "Epoch 2/30\n",
            "25/25 [==============================] - 0s 5ms/step - loss: 2.3124 - accuracy: 0.1175 - val_loss: 2.3476 - val_accuracy: 0.1150\n",
            "Epoch 3/30\n",
            "25/25 [==============================] - 0s 5ms/step - loss: 2.2937 - accuracy: 0.1262 - val_loss: 2.3371 - val_accuracy: 0.1250\n",
            "Epoch 4/30\n",
            "25/25 [==============================] - 0s 5ms/step - loss: 2.2772 - accuracy: 0.1375 - val_loss: 2.3457 - val_accuracy: 0.1100\n",
            "Epoch 5/30\n",
            "25/25 [==============================] - 0s 5ms/step - loss: 2.2684 - accuracy: 0.1587 - val_loss: 2.3438 - val_accuracy: 0.1050\n",
            "Epoch 6/30\n",
            "25/25 [==============================] - 0s 5ms/step - loss: 2.2519 - accuracy: 0.1538 - val_loss: 2.3562 - val_accuracy: 0.0900\n",
            "Epoch 7/30\n",
            "25/25 [==============================] - 0s 5ms/step - loss: 2.2366 - accuracy: 0.1700 - val_loss: 2.3623 - val_accuracy: 0.0850\n",
            "Epoch 8/30\n",
            "25/25 [==============================] - 0s 5ms/step - loss: 2.2271 - accuracy: 0.1775 - val_loss: 2.3643 - val_accuracy: 0.0750\n",
            "Epoch 9/30\n",
            "25/25 [==============================] - 0s 5ms/step - loss: 2.2107 - accuracy: 0.1838 - val_loss: 2.3657 - val_accuracy: 0.1150\n",
            "Epoch 10/30\n",
            "25/25 [==============================] - 0s 6ms/step - loss: 2.2005 - accuracy: 0.2062 - val_loss: 2.3794 - val_accuracy: 0.0700\n",
            "Epoch 11/30\n",
            "25/25 [==============================] - 0s 5ms/step - loss: 2.1867 - accuracy: 0.2237 - val_loss: 2.3831 - val_accuracy: 0.0900\n",
            "Epoch 12/30\n",
            "25/25 [==============================] - 0s 4ms/step - loss: 2.1757 - accuracy: 0.2362 - val_loss: 2.3728 - val_accuracy: 0.0950\n",
            "Epoch 13/30\n",
            "25/25 [==============================] - 0s 3ms/step - loss: 2.1608 - accuracy: 0.2338 - val_loss: 2.3776 - val_accuracy: 0.0950\n",
            "Epoch 14/30\n",
            "25/25 [==============================] - 0s 3ms/step - loss: 2.1469 - accuracy: 0.2488 - val_loss: 2.3703 - val_accuracy: 0.1000\n",
            "Epoch 15/30\n",
            "25/25 [==============================] - 0s 4ms/step - loss: 2.1296 - accuracy: 0.2512 - val_loss: 2.3959 - val_accuracy: 0.1100\n",
            "Epoch 16/30\n",
            "25/25 [==============================] - 0s 4ms/step - loss: 2.1168 - accuracy: 0.2600 - val_loss: 2.3772 - val_accuracy: 0.1100\n",
            "Epoch 17/30\n",
            "25/25 [==============================] - 0s 3ms/step - loss: 2.1041 - accuracy: 0.2637 - val_loss: 2.4054 - val_accuracy: 0.0600\n",
            "Epoch 18/30\n",
            "25/25 [==============================] - 0s 3ms/step - loss: 2.0863 - accuracy: 0.2738 - val_loss: 2.3780 - val_accuracy: 0.1000\n",
            "Epoch 19/30\n",
            "25/25 [==============================] - 0s 3ms/step - loss: 2.0771 - accuracy: 0.2962 - val_loss: 2.3936 - val_accuracy: 0.0850\n",
            "Epoch 20/30\n",
            "25/25 [==============================] - 0s 4ms/step - loss: 2.0579 - accuracy: 0.2975 - val_loss: 2.4249 - val_accuracy: 0.0750\n",
            "Epoch 21/30\n",
            "25/25 [==============================] - 0s 4ms/step - loss: 2.0463 - accuracy: 0.2862 - val_loss: 2.4054 - val_accuracy: 0.1050\n",
            "Epoch 22/30\n",
            "25/25 [==============================] - 0s 3ms/step - loss: 2.0299 - accuracy: 0.3225 - val_loss: 2.4188 - val_accuracy: 0.0700\n",
            "Epoch 23/30\n",
            "25/25 [==============================] - 0s 3ms/step - loss: 2.0162 - accuracy: 0.3162 - val_loss: 2.4206 - val_accuracy: 0.0950\n",
            "Epoch 24/30\n",
            "25/25 [==============================] - 0s 4ms/step - loss: 1.9994 - accuracy: 0.3288 - val_loss: 2.4400 - val_accuracy: 0.0800\n",
            "Epoch 25/30\n",
            "25/25 [==============================] - 0s 4ms/step - loss: 1.9826 - accuracy: 0.3363 - val_loss: 2.4576 - val_accuracy: 0.0800\n",
            "Epoch 26/30\n",
            "25/25 [==============================] - 0s 5ms/step - loss: 1.9701 - accuracy: 0.3475 - val_loss: 2.4489 - val_accuracy: 0.0800\n",
            "Epoch 27/30\n",
            "25/25 [==============================] - 0s 4ms/step - loss: 1.9529 - accuracy: 0.3675 - val_loss: 2.4324 - val_accuracy: 0.1000\n",
            "Epoch 28/30\n",
            "25/25 [==============================] - 0s 3ms/step - loss: 1.9380 - accuracy: 0.3550 - val_loss: 2.4631 - val_accuracy: 0.0850\n",
            "Epoch 29/30\n",
            "25/25 [==============================] - 0s 3ms/step - loss: 1.9219 - accuracy: 0.3825 - val_loss: 2.4538 - val_accuracy: 0.1050\n",
            "Epoch 30/30\n",
            "25/25 [==============================] - 0s 4ms/step - loss: 1.9087 - accuracy: 0.3862 - val_loss: 2.4663 - val_accuracy: 0.0800\n"
          ]
        }
      ]
    },
    {
      "cell_type": "code",
      "source": [
        "test_data = np.random.random((10, 150))\n",
        "\n",
        "model.predict(test_data)"
      ],
      "metadata": {
        "colab": {
          "base_uri": "https://localhost:8080/"
        },
        "id": "-AN8osknGKI2",
        "outputId": "b117d2d1-2b11-4064-9744-ba6ae62f968e"
      },
      "execution_count": null,
      "outputs": [
        {
          "output_type": "stream",
          "name": "stdout",
          "text": [
            "1/1 [==============================] - 0s 51ms/step\n"
          ]
        },
        {
          "output_type": "execute_result",
          "data": {
            "text/plain": [
              "array([[0.04190328, 0.06830245, 0.07003916, 0.19241476, 0.22956866,\n",
              "        0.08644944, 0.0661509 , 0.05390946, 0.14237788, 0.04888397],\n",
              "       [0.11018077, 0.08433562, 0.05531304, 0.09673166, 0.1324608 ,\n",
              "        0.08855868, 0.06751665, 0.10089213, 0.17452073, 0.08948997],\n",
              "       [0.05246257, 0.0678734 , 0.10145671, 0.21533747, 0.06926765,\n",
              "        0.11272381, 0.1192733 , 0.04338669, 0.08621297, 0.13200541],\n",
              "       [0.0297448 , 0.14515248, 0.1248142 , 0.21235442, 0.05585111,\n",
              "        0.10406794, 0.05859556, 0.03107493, 0.12154969, 0.11679477],\n",
              "       [0.06094715, 0.01596935, 0.07473637, 0.17162777, 0.20626488,\n",
              "        0.07143413, 0.04784877, 0.07739826, 0.06861252, 0.20516074],\n",
              "       [0.06970242, 0.03527624, 0.06914102, 0.13180165, 0.03633995,\n",
              "        0.12766188, 0.1093304 , 0.06813633, 0.06510087, 0.28750923],\n",
              "       [0.16920121, 0.13380283, 0.09203794, 0.09740812, 0.02825983,\n",
              "        0.08696984, 0.09684772, 0.06912096, 0.13633694, 0.09001464],\n",
              "       [0.10057423, 0.05692308, 0.07790076, 0.05422455, 0.05716234,\n",
              "        0.13544859, 0.08799706, 0.08100134, 0.09429812, 0.25446993],\n",
              "       [0.05949953, 0.10528597, 0.03651556, 0.04830394, 0.10957648,\n",
              "        0.20358731, 0.15905389, 0.11302063, 0.07503371, 0.09012295],\n",
              "       [0.10345829, 0.07830866, 0.1859681 , 0.18856382, 0.06789225,\n",
              "        0.02357121, 0.09622   , 0.088152  , 0.07440805, 0.09345759]],\n",
              "      dtype=float32)"
            ]
          },
          "metadata": {},
          "execution_count": 23
        }
      ]
    },
    {
      "cell_type": "code",
      "source": [
        "f = model.predict(test_data)\n",
        "np.where(f[1] == max(f[1]))   # 👈👈👈👈👈👈👈 dla pierwszej próbki"
      ],
      "metadata": {
        "colab": {
          "base_uri": "https://localhost:8080/"
        },
        "id": "MMvIZDBPGXyB",
        "outputId": "6a594dec-99a9-4669-f187-e2db1c131cfd"
      },
      "execution_count": null,
      "outputs": [
        {
          "output_type": "stream",
          "name": "stdout",
          "text": [
            "1/1 [==============================] - 0s 21ms/step\n"
          ]
        },
        {
          "output_type": "execute_result",
          "data": {
            "text/plain": [
              "(array([8]),)"
            ]
          },
          "metadata": {},
          "execution_count": 24
        }
      ]
    },
    {
      "cell_type": "markdown",
      "source": [
        "# Przykład regresji"
      ],
      "metadata": {
        "id": "4zE2uTQAKKXb"
      }
    },
    {
      "cell_type": "code",
      "source": [
        "data = np.random.random((1000, 150))\n",
        "labels = 50 * np.random.random(1000)"
      ],
      "metadata": {
        "id": "kdDKPKLWP-mF"
      },
      "execution_count": null,
      "outputs": []
    },
    {
      "cell_type": "code",
      "source": [
        "model = Sequential()\n",
        "model.add(Dense(units=32, activation='relu', input_shape=(150, )))\n",
        "model.add(Dense(units=1))  # jedna wartość\n",
        "\n",
        "model.compile(optimizer='rmsprop',\n",
        "              loss='mse')\n",
        "\n",
        "model.fit(data, labels, epochs=30, batch_size=32, validation_split=0.2, verbose=1)"
      ],
      "metadata": {
        "colab": {
          "base_uri": "https://localhost:8080/"
        },
        "id": "5mN4tPzMKNfk",
        "outputId": "7d35fb63-ec9b-44ed-9a9c-55dd2a1ccb77"
      },
      "execution_count": null,
      "outputs": [
        {
          "output_type": "stream",
          "name": "stdout",
          "text": [
            "Epoch 1/30\n",
            "25/25 [==============================] - 1s 8ms/step - loss: 588.9349 - val_loss: 331.7937\n",
            "Epoch 2/30\n",
            "25/25 [==============================] - 0s 3ms/step - loss: 313.2241 - val_loss: 210.7455\n",
            "Epoch 3/30\n",
            "25/25 [==============================] - 0s 3ms/step - loss: 228.1360 - val_loss: 204.2363\n",
            "Epoch 4/30\n",
            "25/25 [==============================] - 0s 3ms/step - loss: 221.8185 - val_loss: 206.8299\n",
            "Epoch 5/30\n",
            "25/25 [==============================] - 0s 3ms/step - loss: 221.3848 - val_loss: 206.9506\n",
            "Epoch 6/30\n",
            "25/25 [==============================] - 0s 3ms/step - loss: 219.9021 - val_loss: 200.4776\n",
            "Epoch 7/30\n",
            "25/25 [==============================] - 0s 3ms/step - loss: 220.6288 - val_loss: 202.9617\n",
            "Epoch 8/30\n",
            "25/25 [==============================] - 0s 4ms/step - loss: 219.5566 - val_loss: 201.5306\n",
            "Epoch 9/30\n",
            "25/25 [==============================] - 0s 4ms/step - loss: 218.9528 - val_loss: 201.0887\n",
            "Epoch 10/30\n",
            "25/25 [==============================] - 0s 3ms/step - loss: 218.0329 - val_loss: 203.9265\n",
            "Epoch 11/30\n",
            "25/25 [==============================] - 0s 3ms/step - loss: 218.1034 - val_loss: 205.8894\n",
            "Epoch 12/30\n",
            "25/25 [==============================] - 0s 3ms/step - loss: 217.4659 - val_loss: 203.8590\n",
            "Epoch 13/30\n",
            "25/25 [==============================] - 0s 3ms/step - loss: 216.3683 - val_loss: 203.2833\n",
            "Epoch 14/30\n",
            "25/25 [==============================] - 0s 3ms/step - loss: 215.8196 - val_loss: 204.9238\n",
            "Epoch 15/30\n",
            "25/25 [==============================] - 0s 3ms/step - loss: 214.5499 - val_loss: 200.5218\n",
            "Epoch 16/30\n",
            "25/25 [==============================] - 0s 3ms/step - loss: 214.7463 - val_loss: 202.1155\n",
            "Epoch 17/30\n",
            "25/25 [==============================] - 0s 3ms/step - loss: 214.2165 - val_loss: 204.7804\n",
            "Epoch 18/30\n",
            "25/25 [==============================] - 0s 3ms/step - loss: 212.9159 - val_loss: 203.3517\n",
            "Epoch 19/30\n",
            "25/25 [==============================] - 0s 3ms/step - loss: 212.9090 - val_loss: 204.9404\n",
            "Epoch 20/30\n",
            "25/25 [==============================] - 0s 4ms/step - loss: 212.6068 - val_loss: 203.0773\n",
            "Epoch 21/30\n",
            "25/25 [==============================] - 0s 4ms/step - loss: 211.4091 - val_loss: 204.4803\n",
            "Epoch 22/30\n",
            "25/25 [==============================] - 0s 3ms/step - loss: 211.5026 - val_loss: 205.3980\n",
            "Epoch 23/30\n",
            "25/25 [==============================] - 0s 3ms/step - loss: 210.6153 - val_loss: 205.9214\n",
            "Epoch 24/30\n",
            "25/25 [==============================] - 0s 3ms/step - loss: 209.4173 - val_loss: 201.2199\n",
            "Epoch 25/30\n",
            "25/25 [==============================] - 0s 3ms/step - loss: 209.9819 - val_loss: 204.3939\n",
            "Epoch 26/30\n",
            "25/25 [==============================] - 0s 3ms/step - loss: 208.7825 - val_loss: 205.2354\n",
            "Epoch 27/30\n",
            "25/25 [==============================] - 0s 3ms/step - loss: 207.1722 - val_loss: 202.3767\n",
            "Epoch 28/30\n",
            "25/25 [==============================] - 0s 3ms/step - loss: 207.4816 - val_loss: 207.5480\n",
            "Epoch 29/30\n",
            "25/25 [==============================] - 0s 3ms/step - loss: 206.9017 - val_loss: 204.6957\n",
            "Epoch 30/30\n",
            "25/25 [==============================] - 0s 3ms/step - loss: 205.5349 - val_loss: 206.5645\n"
          ]
        },
        {
          "output_type": "execute_result",
          "data": {
            "text/plain": [
              "<keras.src.callbacks.History at 0x791bb77469b0>"
            ]
          },
          "metadata": {},
          "execution_count": 26
        }
      ]
    },
    {
      "cell_type": "code",
      "source": [
        "model = Sequential()\n",
        "model.add(Dense(units=32, activation='relu', input_shape=(150, )))\n",
        "model.add(Dense(units=1))  # jedna wartość\n",
        "\n",
        "model.compile(optimizer='rmsprop',\n",
        "              loss='mae',\n",
        "              metrics=['mse'])\n",
        "\n",
        "model.fit(data, labels, epochs=30, batch_size=32, validation_split=0.2, verbose=1)"
      ],
      "metadata": {
        "colab": {
          "base_uri": "https://localhost:8080/"
        },
        "id": "T8wsddrXQ-jU",
        "outputId": "aebd8b06-0835-44fa-cd20-eb5300d97881"
      },
      "execution_count": null,
      "outputs": [
        {
          "output_type": "stream",
          "name": "stdout",
          "text": [
            "Epoch 1/30\n",
            "25/25 [==============================] - 1s 9ms/step - loss: 20.9261 - mse: 623.9875 - val_loss: 16.1240 - val_mse: 388.7077\n",
            "Epoch 2/30\n",
            "25/25 [==============================] - 0s 3ms/step - loss: 15.9512 - mse: 369.2285 - val_loss: 12.8985 - val_mse: 238.2591\n",
            "Epoch 3/30\n",
            "25/25 [==============================] - 0s 3ms/step - loss: 13.5443 - mse: 249.0342 - val_loss: 12.0451 - val_mse: 201.2206\n",
            "Epoch 4/30\n",
            "25/25 [==============================] - 0s 3ms/step - loss: 12.9689 - mse: 222.7068 - val_loss: 12.1690 - val_mse: 206.4014\n",
            "Epoch 5/30\n",
            "25/25 [==============================] - 0s 4ms/step - loss: 12.8657 - mse: 221.5311 - val_loss: 12.3367 - val_mse: 213.5543\n",
            "Epoch 6/30\n",
            "25/25 [==============================] - 0s 3ms/step - loss: 12.8560 - mse: 223.7590 - val_loss: 12.2804 - val_mse: 211.2800\n",
            "Epoch 7/30\n",
            "25/25 [==============================] - 0s 3ms/step - loss: 12.8302 - mse: 221.8669 - val_loss: 12.2976 - val_mse: 211.9522\n",
            "Epoch 8/30\n",
            "25/25 [==============================] - 0s 3ms/step - loss: 12.8101 - mse: 220.7903 - val_loss: 12.3712 - val_mse: 215.2289\n",
            "Epoch 9/30\n",
            "25/25 [==============================] - 0s 3ms/step - loss: 12.8058 - mse: 220.8604 - val_loss: 12.2652 - val_mse: 210.7300\n",
            "Epoch 10/30\n",
            "25/25 [==============================] - 0s 3ms/step - loss: 12.7759 - mse: 221.0550 - val_loss: 12.3201 - val_mse: 212.9668\n",
            "Epoch 11/30\n",
            "25/25 [==============================] - 0s 3ms/step - loss: 12.7544 - mse: 220.8563 - val_loss: 12.1917 - val_mse: 207.4362\n",
            "Epoch 12/30\n",
            "25/25 [==============================] - 0s 4ms/step - loss: 12.7470 - mse: 219.3154 - val_loss: 12.3177 - val_mse: 212.8486\n",
            "Epoch 13/30\n",
            "25/25 [==============================] - 0s 4ms/step - loss: 12.7336 - mse: 219.4441 - val_loss: 12.3282 - val_mse: 213.3080\n",
            "Epoch 14/30\n",
            "25/25 [==============================] - 0s 3ms/step - loss: 12.7050 - mse: 219.8942 - val_loss: 12.2658 - val_mse: 210.7392\n",
            "Epoch 15/30\n",
            "25/25 [==============================] - 0s 4ms/step - loss: 12.7107 - mse: 219.2507 - val_loss: 12.2499 - val_mse: 210.0286\n",
            "Epoch 16/30\n",
            "25/25 [==============================] - 0s 4ms/step - loss: 12.6558 - mse: 217.6830 - val_loss: 12.1324 - val_mse: 204.4462\n",
            "Epoch 17/30\n",
            "25/25 [==============================] - 0s 4ms/step - loss: 12.6811 - mse: 216.7536 - val_loss: 12.2404 - val_mse: 209.5016\n",
            "Epoch 18/30\n",
            "25/25 [==============================] - 0s 3ms/step - loss: 12.6320 - mse: 217.3373 - val_loss: 12.2412 - val_mse: 209.5059\n",
            "Epoch 19/30\n",
            "25/25 [==============================] - 0s 3ms/step - loss: 12.6172 - mse: 215.6322 - val_loss: 12.3764 - val_mse: 215.4347\n",
            "Epoch 20/30\n",
            "25/25 [==============================] - 0s 3ms/step - loss: 12.6082 - mse: 215.9353 - val_loss: 12.3999 - val_mse: 216.4783\n",
            "Epoch 21/30\n",
            "25/25 [==============================] - 0s 3ms/step - loss: 12.5913 - mse: 215.7004 - val_loss: 12.3889 - val_mse: 216.0181\n",
            "Epoch 22/30\n",
            "25/25 [==============================] - 0s 3ms/step - loss: 12.5391 - mse: 214.8964 - val_loss: 12.1897 - val_mse: 207.2899\n",
            "Epoch 23/30\n",
            "25/25 [==============================] - 0s 3ms/step - loss: 12.5531 - mse: 215.1250 - val_loss: 12.2912 - val_mse: 211.8100\n",
            "Epoch 24/30\n",
            "25/25 [==============================] - 0s 3ms/step - loss: 12.5211 - mse: 213.0927 - val_loss: 12.2085 - val_mse: 208.0325\n",
            "Epoch 25/30\n",
            "25/25 [==============================] - 0s 3ms/step - loss: 12.4802 - mse: 212.0467 - val_loss: 12.4086 - val_mse: 217.0802\n",
            "Epoch 26/30\n",
            "25/25 [==============================] - 0s 3ms/step - loss: 12.4741 - mse: 213.2713 - val_loss: 12.3559 - val_mse: 214.7587\n",
            "Epoch 27/30\n",
            "25/25 [==============================] - 0s 4ms/step - loss: 12.4734 - mse: 212.2132 - val_loss: 12.3177 - val_mse: 212.9412\n",
            "Epoch 28/30\n",
            "25/25 [==============================] - 0s 4ms/step - loss: 12.4316 - mse: 211.7622 - val_loss: 12.2567 - val_mse: 210.1053\n",
            "Epoch 29/30\n",
            "25/25 [==============================] - 0s 3ms/step - loss: 12.4035 - mse: 209.5590 - val_loss: 12.4523 - val_mse: 218.9819\n",
            "Epoch 30/30\n",
            "25/25 [==============================] - 0s 3ms/step - loss: 12.4145 - mse: 211.7096 - val_loss: 12.3477 - val_mse: 214.3054\n"
          ]
        },
        {
          "output_type": "execute_result",
          "data": {
            "text/plain": [
              "<keras.src.callbacks.History at 0x791bb77f8df0>"
            ]
          },
          "metadata": {},
          "execution_count": 27
        }
      ]
    },
    {
      "cell_type": "code",
      "source": [
        "test_data = np.random.random((10, 150))\n",
        "\n",
        "model.predict(test_data)"
      ],
      "metadata": {
        "colab": {
          "base_uri": "https://localhost:8080/"
        },
        "id": "ZpkMTP02RLMC",
        "outputId": "0adf1271-066c-4e6d-9908-67ef98d86051"
      },
      "execution_count": null,
      "outputs": [
        {
          "output_type": "stream",
          "name": "stdout",
          "text": [
            "1/1 [==============================] - 0s 79ms/step\n"
          ]
        },
        {
          "output_type": "execute_result",
          "data": {
            "text/plain": [
              "array([[27.838123],\n",
              "       [24.232353],\n",
              "       [26.290127],\n",
              "       [26.64579 ],\n",
              "       [26.871582],\n",
              "       [25.927542],\n",
              "       [24.661886],\n",
              "       [24.799732],\n",
              "       [26.35321 ],\n",
              "       [26.408588]], dtype=float32)"
            ]
          },
          "metadata": {},
          "execution_count": 28
        }
      ]
    }
  ]
}